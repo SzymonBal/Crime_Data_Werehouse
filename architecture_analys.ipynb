{
 "cells": [
  {
   "cell_type": "markdown",
   "metadata": {},
   "source": [
    "# Analiza danych przestępst popełnianych w Lost Angeles w latach 2020 - 2023\n",
    "W projekcie zdecydowaliśmy się wykorzystać dwa kontenery: jeden zawiera bazę danych **MSSQL**, a drugi - Sparka z zainstalowanym **Pythonem**, umożliwiającym komunikację za pomocą biblioteki **Pyspark**. Spark w kontenerze efektywnie współpracuje z bazą MSSQL, umożliwiając przetwarzanie danych bezpośrednio na bazie, co różni się od podejścia popularnego pakietu **Pandas**. To rozwiązanie pozwala na wydajne przetwarzanie dużych zbiorów danych bez potrzeby instalowania dodatkowych zależności na lokalnej maszynie."
   ]
  },
  {
   "cell_type": "markdown",
   "metadata": {},
   "source": [
    "### Utwoprzenie nowej bazy danych"
   ]
  },
  {
   "cell_type": "markdown",
   "metadata": {},
   "source": [
    "Poniższy kod automatyzuje proces tworzenia nowej bazy danych w systemie zarządzania bazami danych **MSSQL**. Wykorzystuje do tego bibliotekę **pyodbc**, aby ułatwić nawiązanie połączenia z bazą danych za pomocą określonych danych uwierzytelniających i sterownika **ODBC**. Następnie, po ustanowieniu połączenia, kod wykonuje polecenie SQL `CREATE DATABASE`, aby utworzyć nową bazę danych o nazwie \"AFTER_ETL_CRIME_LA\". Po zakończeniu tego procesu, zamyka połączenie z bazą danych. Na koniec, wyświetla komunikat potwierdzający poprawne utworzenie nowej bazy danych."
   ]
  },
  {
   "cell_type": "markdown",
   "metadata": {},
   "source": [
    "<img src=\"Tworzenie_bazy.png\">\n",
    "<br>\n",
    "<p style=\"text-align:center\"><i>Schemat przedstawiający sposób tworzenia bazy za pomocą biblioteki pyodbc</i></p>"
   ]
  },
  {
   "cell_type": "markdown",
   "metadata": {},
   "source": [
    "```python\n",
    "import pyodbc\n",
    "\n",
    "# Parametry połączenia\n",
    "server = 'localhost'\n",
    "database = 'master'  # Połącz się z bazą master, aby móc utworzyć nową bazę danych\n",
    "username = 'sa'\n",
    "password = 'YourStrongPassword123'\n",
    "driver = '{ODBC Driver 17 for SQL Server}'\n",
    "\n",
    "# Tworzenie ciągu połączenia\n",
    "conn_str = f'DRIVER={driver};SERVER={server};DATABASE={database};UID={username};PWD={password}'\n",
    "\n",
    "# Nawiązanie połączenia\n",
    "conn = pyodbc.connect(conn_str)\n",
    "conn.autocommit = True\n",
    "# Utworzenie kursora\n",
    "cursor = conn.cursor()\n",
    "# Polecenie SQL CREATE DATABASE\n",
    "create_db_query = \"CREATE DATABASE AFTER_ETL_CRIME_LA\"\n",
    "\n",
    "# Wykonanie polecenia\n",
    "cursor.execute(create_db_query)\n",
    "\n",
    "# Zatwierdzenie zmian\n",
    "conn.commit()\n",
    "\n",
    "# Zamykanie kursora i połączenia\n",
    "cursor.close()\n",
    "conn.close()\n",
    "\n",
    "print(\"Baza danych Clean_Database_1 została utworzona.\")"
   ]
  },
  {
   "cell_type": "markdown",
   "metadata": {},
   "source": [
    "### Tworzenie nowej ramki danych"
   ]
  },
  {
   "cell_type": "markdown",
   "metadata": {},
   "source": [
    "Ten skrypt Pythona używa biblioteki Pandas do wczytania danych z pliku CSV i następnie przesyła te dane do bazy danych SQL Server. Najpierw określa parametry połączenia, takie jak nazwa serwera, nazwa bazy danych, użytkownik i hasło. Następnie tworzy silnik SQLAlchemy, który ułatwia komunikację z bazą danych. Dane są wczytywane z pliku CSV i przetwarzane, aby wybrać co dziesiąty wiersz. Na koniec dane są dodawane do tabeli 'Pracownicy15' w bazie danych. Po zakończeniu procesu, wyświetlany jest komunikat potwierdzający sukces operacji."
   ]
  },
  {
   "cell_type": "markdown",
   "metadata": {},
   "source": [
    "<img src=\"Tabela.png\" width=\"800\" height=\"400\">\n",
    "<br>\n",
    "<p style=\"text-align:center\"><i>Schemat tworzenia nowej tabeli oraz</i></p>"
   ]
  },
  {
   "cell_type": "markdown",
   "metadata": {},
   "source": [
    "```python\n",
    "import pandas as pd\n",
    "from sqlalchemy import create_engine\n",
    "\n",
    "# Parametry połączenia\n",
    "server = 'localhost'\n",
    "database = 'NowaBazaDanych2'\n",
    "username = 'SA'\n",
    "password = 'YourStrongPassword123'\n",
    "driver = 'ODBC Driver 17 for SQL Server'\n",
    "\n",
    "# Tworzenie silnika SQLAlchemy\n",
    "engine = create_engine(f'mssql+pyodbc://{username}:{password}@{server}/{database}?driver={driver}')\n",
    "\n",
    "# Ładowanie danych z pliku CSV\n",
    "df = pd.read_csv('dane.csv', encoding='utf-8')\n",
    "\n",
    "# Wybierz tylko co 1000 wiersz\n",
    "df = df.iloc[::10]\n",
    "\n",
    "# Mapowanie DataFrame na istniejącą tabelę w bazie danych\n",
    "df.to_sql('Pracownicy15', engine, if_exists='append', index=False)\n",
    "\n",
    "print(\"Wybrane dane zostały dodane do tabeli w bazie danych.\")"
   ]
  }
 ],
 "metadata": {
  "language_info": {
   "name": "python"
  }
 },
 "nbformat": 4,
 "nbformat_minor": 2
}
