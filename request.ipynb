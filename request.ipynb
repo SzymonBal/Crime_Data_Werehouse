{
 "cells": [
  {
   "cell_type": "markdown",
   "metadata": {},
   "source": [
    "### Połączenie"
   ]
  },
  {
   "cell_type": "code",
   "execution_count": 135,
   "metadata": {},
   "outputs": [
    {
     "name": "stdout",
     "output_type": "stream",
     "text": [
      "Dane zostały pomyślnie wczytane z MSSQL.\n",
      "+------------+------------+------------+----------+---------+--------------------+--------------------+--------+----+----------+-----------+--------+------+--------------------+--------------------+--------+--------+------------+---------+--------------------+--------------+--------------------+------+-----------+--------+--------+--------+--------+--------------------+------------+-------+---------+------------------+-------------------+----------+---------------------------+---------------+-------------------+----------------+--------------------+-------------------+\n",
      "|Unnamed: 0.3|Unnamed: 0.2|Unnamed: 0.1|Unnamed: 0|    DR_NO|           Date Rptd|            DATE OCC|TIME OCC|AREA| AREA NAME|Rpt Dist No|Part 1-2|Crm Cd|         Crm Cd Desc|             Mocodes|Vict Age|Vict Sex|Vict Descent|Premis Cd|         Premis Desc|Weapon Used Cd|         Weapon Desc|Status|Status Desc|Crm Cd 1|Crm Cd 2|Crm Cd 3|Crm Cd 4|            LOCATION|Cross Street|    LAT|      LON|gender of criminal|country of criminal|kill count|marital status of criminal |age of criminal|previously punished|education_levels|     drug_substances|country_of_criminal|\n",
      "+------------+------------+------------+----------+---------+--------------------+--------------------+--------+----+----------+-----------+--------+------+--------------------+--------------------+--------+--------+------------+---------+--------------------+--------------+--------------------+------+-----------+--------+--------+--------+--------+--------------------+------------+-------+---------+------------------+-------------------+----------+---------------------------+---------------+-------------------+----------------+--------------------+-------------------+\n",
      "|           0|           0|           0|         0| 10304468|01/08/2020 12:00:...|01/08/2020 12:00:...|    2230|   3| Southwest|        377|       2|   624|BATTERY - SIMPLE ...|           0444 0913|      36|       F|           B|    501.0|SINGLE FAMILY DWE...|         400.0|STRONG-ARM (HANDS...|    AO|Adult Other|   624.0|    NULL|    NULL|    NULL|1100 W  39TH     ...|        NULL|34.0141|-118.2978|                 f|                  K|         0|                    primary|          26-35|                  T|       secondary|             Alcohol|                  K|\n",
      "|          10|          10|          10|        10|200100509|01/04/2020 12:00:...|01/04/2020 12:00:...|    2200|   1|   Central|        192|       1|   330|BURGLARY FROM VEH...| 1822 1414 0344 1307|      29|       M|           A|    101.0|              STREET|         306.0|  ROCK/THROWN OBJECT|    IC|Invest Cont|   330.0|    NULL|    NULL|    NULL|                15TH|       OLIVE|34.0359|-118.2648|                 m|                  D|         1|                    primary|          36-45|                  F|         primary|MDMA (Ecstasy/Molly)|                  D|\n",
      "|          20|          20|          20|        20|200914517|09/10/2020 12:00:...|09/09/2020 12:00:...|    1735|   9|  Van Nuys|        909|       2|   354|   THEFT OF IDENTITY|      0377 1822 0928|      40|       M|           O|    507.0|CONDOMINIUM/TOWNH...|          NULL|                NULL|    IC|Invest Cont|   354.0|    NULL|    NULL|    NULL|13600    LEADWELL...|        NULL|34.2039|-118.4312|                 m|                  P|         0|           Higher education|          18-25|                  F|         primary|             Alcohol|                  P|\n",
      "|          30|          30|          30|        30|200100559|01/23/2020 12:00:...|01/23/2020 12:00:...|     600|   1|   Central|        111|       1|   310|            BURGLARY| 1402 1822 1414 0344|      51|       M|           W|    503.0|               HOTEL|          NULL|                NULL|    AO|Adult Other|   310.0|    NULL|    NULL|    NULL|700 N  MAIN      ...|        NULL|34.0583|-118.2378|                 m|                  C|         6|           Higher education|          36-45|                  T|         primary|             Cocaine|                  C|\n",
      "|          40|          40|          40|        40|200100574|01/30/2020 12:00:...|01/29/2020 12:00:...|    1930|   1|   Central|        162|       1|   442|SHOPLIFTING - PET...|           0344 1414|       0|       M|           W|    404.0|    DEPARTMENT STORE|          NULL|                NULL|    IC|Invest Cont|   442.0|    NULL|    NULL|    NULL|700 W  7TH       ...|        NULL| 34.048|-118.2577|                 m|                  W|         0|                     middle|          18-25|                  F|         primary|Cannabis (Marijuana)|                  W|\n",
      "|          50|          50|          50|        50|200407318|03/27/2020 12:00:...|03/27/2020 12:00:...|     315|   4|Hollenbeck|        422|       2|   740|VANDALISM - FELON...|                0329|      40|       M|           O|    203.0|      OTHER BUSINESS|          NULL|                NULL|    IC|Invest Cont|   740.0|    NULL|    NULL|    NULL|    2600 N  BROADWAY|        NULL|34.0736|-118.2156|                 f|                  G|         0|                  secondary|          18-25|                  F|Higher education|             Alcohol|                  G|\n",
      "|          60|          60|          60|        60|200104036|01/01/2020 12:00:...|01/01/2020 12:00:...|     500|   1|   Central|        119|       2|   860|BATTERY WITH SEXU...|1218 1822 0910 05...|      18|       F|           B|    900.0|MTA - RED LINE - ...|         400.0|STRONG-ARM (HANDS...|    IC|Invest Cont|   860.0|    NULL|    NULL|    NULL|800 N  ALAMEDA   ...|        NULL|34.0563|-118.2374|                 m|                  S|         5|                     middle|          36-45|                  F|          middle|Cannabis (Marijuana)|                  S|\n",
      "|          70|          70|          70|        70|200812213|07/23/2020 12:00:...|06/22/2020 12:00:...|    2005|   8|   West LA|        898|       2|   956|LETTERS, LEWD  - ...|                0913|      42|       F|           W|    501.0|SINGLE FAMILY DWE...|          NULL|                NULL|    AO|Adult Other|   956.0|    NULL|    NULL|    NULL|2800 S  BEDFORD  ...|        NULL|34.0346|-118.3857|                 h|                  A|         5|                     middle|          36-45|                  F|         primary|Prescription opioids|                  A|\n",
      "|          80|          80|          80|        80|200104076|01/01/2020 12:00:...|01/01/2020 12:00:...|     300|   1|   Central|        153|       1|   341|THEFT-GRAND ($950...|      0344 2034 1822|      57|       M|           B|    502.0|MULTI-UNIT DWELLI...|          NULL|                NULL|    IC|Invest Cont|   341.0|    NULL|    NULL|    NULL|300 W  5TH       ...|        NULL|34.0481|-118.2507|                 m|                  I|         3|                    primary|          26-35|                  F|         primary|Cannabis (Marijuana)|                  I|\n",
      "|          90|          90|          90|        90|200104120|01/02/2020 12:00:...|01/02/2020 12:00:...|    1450|   1|   Central|        158|       1|   310|            BURGLARY|1822 1218 0344 12...|      59|       M|           H|    516.0|SINGLE RESIDENCE ...|          NULL|                NULL|    IC|Invest Cont|   310.0|    NULL|    NULL|    NULL|1200 E  7TH      ...|        NULL|34.0395|-118.2405|                 f|                  C|         0|                    primary|          26-35|                  T|          middle|Prescription opioids|                  C|\n",
      "|         100|         100|         100|       100|200104139|01/02/2020 12:00:...|01/02/2020 12:00:...|    2210|   1|   Central|        162|       2|   888|         TRESPASSING|           1501 2004|      34|       M|           O|    210.0|RESTAURANT/FAST FOOD|          NULL|                NULL|    IC|Invest Cont|   888.0|    NULL|    NULL|    NULL|800 W  7TH       ...|        NULL|34.0487|-118.2588|                 m|                  I|         1|                     middle|          46-55|                  F|       secondary|              Heroin|                  I|\n",
      "|         110|         110|         110|       110|200104201|01/03/2020 12:00:...|01/01/2020 12:00:...|     130|   1|   Central|        132|       1|   330|BURGLARY FROM VEH...| 1822 1307 0344 0329|      51|       M|           H|    101.0|              STREET|          NULL|                NULL|    IC|Invest Cont|   330.0|    NULL|    NULL|    NULL|                 3RD|       GRAND| 34.053|-118.2513|                 m|                  I|         0|                    primary|          26-35|                  T|       secondary|Prescription opioids|                  I|\n",
      "|         120|         120|         120|       120|200104228|01/04/2020 12:00:...|01/03/2020 12:00:...|    1850|   1|   Central|        159|       1|   210|             ROBBERY|0305 1309 0355 03...|      28|       M|           H|    101.0|              STREET|         102.0|            HAND GUN|    IC|Invest Cont|   210.0|    NULL|    NULL|    NULL|                 4TH|      SEATON|34.0433|-118.2377|                 m|                  X|         0|                    primary|            56+|                  T|          middle|Cannabis (Marijuana)|                  X|\n",
      "|         130|         130|         130|       130|200706211|02/17/2020 12:00:...|02/16/2020 12:00:...|    2350|   7|  Wilshire|        734|       2|   624|BATTERY - SIMPLE ...|                0444|      29|       F|           H|    502.0|MULTI-UNIT DWELLI...|         400.0|STRONG-ARM (HANDS...|    AO|Adult Other|   624.0|    NULL|    NULL|    NULL|6000 W  6TH      ...|        NULL|34.0677|-118.3548|                 m|                  G|         3|                     middle|          26-35|                  F|          middle|Synthetic cannabi...|                  G|\n",
      "|         140|         140|         140|       140|200104270|01/04/2020 12:00:...|01/04/2020 12:00:...|    1630|   1|   Central|        195|       1|   330|BURGLARY FROM VEH...| 1822 0344 1307 1609|      32|       M|           H|    108.0|         PARKING LOT|          NULL|                NULL|    IC|Invest Cont|   330.0|    NULL|    NULL|    NULL|1300 S  LOS ANGEL...|        NULL|34.0357|-118.2593|                 f|                  D|         0|                     middle|          36-45|                  T|         primary|          Stimulants|                  D|\n",
      "|         150|         150|         150|       150|200104284|01/04/2020 12:00:...|01/04/2020 12:00:...|      15|   1|   Central|        145|       2|   888|         TRESPASSING|                1501|      67|       M|           O|    502.0|MULTI-UNIT DWELLI...|          NULL|                NULL|    IC|Invest Cont|   888.0|    NULL|    NULL|    NULL|100 E  4TH       ...|        NULL|34.0482|-118.2472|                 f|               NULL|         1|                    primary|          36-45|                  F|         primary|Cannabis (Marijuana)|               NULL|\n",
      "|         160|         160|         160|       160|200104302|01/01/2020 12:00:...|01/01/2020 12:00:...|       1|   1|   Central|        153|       1|   440|THEFT PLAIN - PET...|           0344 2032|      25|       F|           F|    207.0|BAR/COCKTAIL/NIGH...|          NULL|                NULL|    IC|Invest Cont|   440.0|    NULL|    NULL|    NULL|500 S  SPRING    ...|        NULL|34.0467| -118.252|                 m|                  G|         0|                     middle|          36-45|                  F|Higher education|             Alcohol|                  G|\n",
      "|         170|         170|         170|       170|200812231|07/23/2020 12:00:...|05/15/2020 12:00:...|     800|   8|   West LA|        886|       2|   956|LETTERS, LEWD  - ...|                1906|      44|       M|           W|    502.0|MULTI-UNIT DWELLI...|          NULL|                NULL|    AO|Adult Other|   956.0|    NULL|    NULL|    NULL|1100    ROXBURY  ...|        NULL|34.0567|-118.4055|                 m|                  F|         2|                     middle|          36-45|                  F|          middle|          Stimulants|                  F|\n",
      "|         180|         180|         180|       180|200405489|02/07/2020 12:00:...|02/06/2020 12:00:...|    2115|   4|Hollenbeck|        464|       2|   946|OTHER MISCELLANEO...|      0432 0913 1258|      12|       F|           H|    501.0|SINGLE FAMILY DWE...|         500.0|UNKNOWN WEAPON/OT...|    AO|Adult Other|   946.0|    NULL|    NULL|    NULL|200 N  SOTO      ...|        NULL|34.0445|-118.2116|                 m|                  G|         6|                     middle|          26-35|                  T|Higher education|Cannabis (Marijuana)|                  G|\n",
      "|         190|         190|         190|       190|200104369|01/06/2020 12:00:...|01/06/2020 12:00:...|     930|   1|   Central|        127|       1|   230|ASSAULT WITH DEAD...|1268 1822 0305 04...|      22|       M|           H|    101.0|              STREET|         207.0|         OTHER KNIFE|    IC|Invest Cont|   230.0|    NULL|    NULL|    NULL|COMMERCIAL       ...| LOS ANGELES|34.0527|-118.2398|                 m|                  C|         0|                    primary|          26-35|                  T|          middle|     Benzodiazepines|                  C|\n",
      "+------------+------------+------------+----------+---------+--------------------+--------------------+--------+----+----------+-----------+--------+------+--------------------+--------------------+--------+--------+------------+---------+--------------------+--------------+--------------------+------+-----------+--------+--------+--------+--------+--------------------+------------+-------+---------+------------------+-------------------+----------+---------------------------+---------------+-------------------+----------------+--------------------+-------------------+\n",
      "only showing top 20 rows\n",
      "\n"
     ]
    }
   ],
   "source": [
    "from pyspark.sql import SparkSession, Row\n",
    "from pyspark.sql import SparkSession\n",
    "from pyspark.sql.functions import *\n",
    "import pyspark.pandas as ps\n",
    "\n",
    "try:\n",
    "    # Tworzenie sesji Spark\n",
    "    spark = SparkSession.builder \\\n",
    "        .appName(\"PySpark SQL Server Connection\") \\\n",
    "        .config(\"spark.jars\", \"mssql-jdbc-12.6.1.jre8.jar\") \\\n",
    "        .getOrCreate()\n",
    "\n",
    "    # Parametry połączenia z bazą danych MSSQL\n",
    "    server_name = \"localhost\"\n",
    "    port = \"1433\"\n",
    "    database_name = \"AFTER_ETL_LA_CRIME\"\n",
    "    url = f\"jdbc:sqlserver://{server_name}:{port};databaseName={database_name}\"\n",
    "\n",
    "    table_name = \"Crime\"\n",
    "    username = \"sa\"\n",
    "    password = \"YourStrongPassword123\"\n",
    "\n",
    "    # Wczytanie danych z bazy danych MSSQL\n",
    "    df = spark.read \\\n",
    "        .format(\"jdbc\") \\\n",
    "        .option(\"url\", url) \\\n",
    "        .option(\"dbtable\", table_name) \\\n",
    "        .option(\"user\", username) \\\n",
    "        .option(\"password\", password) \\\n",
    "        .option(\"encrypt\", \"false\") \\\n",
    "        .option(\"driver\", \"com.microsoft.sqlserver.jdbc.SQLServerDriver\") \\\n",
    "        .load()\n",
    "\n",
    "    print(\"Dane zostały pomyślnie wczytane z MSSQL.\")\n",
    "    # Wyświetlenie pierwszych kilku wierszy DataFrame\n",
    "    df.show()\n",
    "\n",
    "except Exception as e:\n",
    "    print(\"Wystąpił błąd podczas łączenia z bazą danych:\", str(e))"
   ]
  },
  {
   "cell_type": "markdown",
   "metadata": {},
   "source": [
    "### ETL 1 - Przygotowanie dat do późniejszej analizy"
   ]
  },
  {
   "cell_type": "code",
   "execution_count": 136,
   "metadata": {},
   "outputs": [
    {
     "name": "stdout",
     "output_type": "stream",
     "text": [
      "+----+\n",
      "|Time|\n",
      "+----+\n",
      "|  22|\n",
      "|  22|\n",
      "|  17|\n",
      "|   6|\n",
      "|  19|\n",
      "|   3|\n",
      "|   5|\n",
      "|  20|\n",
      "|   3|\n",
      "|  15|\n",
      "|  22|\n",
      "|   1|\n",
      "|  19|\n",
      "|  24|\n",
      "|  16|\n",
      "|   0|\n",
      "|   0|\n",
      "|   8|\n",
      "|  21|\n",
      "|   9|\n",
      "+----+\n",
      "only showing top 20 rows\n",
      "\n"
     ]
    }
   ],
   "source": [
    "df = df.withColumn(\"value_divided\", col(\"Time OCC\") / 100)\n",
    "\n",
    "# Zamiana kropki na dwukropek w kolumnie \"value_divided\" i tworzenie nowej kolumny \"time_fixed\"\n",
    "df = df.withColumn(\"Time\", round(col(\"value_divided\"), 0))\n",
    "\n",
    "df = df.withColumn(\"Time\", col(\"Time\").cast(\"integer\"))\n",
    "\n",
    "# Wyświetlenie wyniku\n",
    "df.select('Time').show()"
   ]
  },
  {
   "cell_type": "code",
   "execution_count": 137,
   "metadata": {},
   "outputs": [],
   "source": [
    "from pyspark.sql.functions import split, col\n",
    "\n",
    "df = df.withColumn(\"Date Rptd\", split(col(\"Date Rptd\"), \" \").getItem(0))\n",
    "df = df.withColumn(\"DATE OCC\", split(col(\"DATE OCC\"), \" \").getItem(0))"
   ]
  },
  {
   "cell_type": "code",
   "execution_count": 138,
   "metadata": {},
   "outputs": [
    {
     "name": "stdout",
     "output_type": "stream",
     "text": [
      "+----------+\n",
      "| Date Rptd|\n",
      "+----------+\n",
      "|01/08/2020|\n",
      "|01/04/2020|\n",
      "|09/10/2020|\n",
      "|01/23/2020|\n",
      "|01/30/2020|\n",
      "|03/27/2020|\n",
      "|01/01/2020|\n",
      "|07/23/2020|\n",
      "|01/01/2020|\n",
      "|01/02/2020|\n",
      "|01/02/2020|\n",
      "|01/03/2020|\n",
      "|01/04/2020|\n",
      "|02/17/2020|\n",
      "|01/04/2020|\n",
      "|01/04/2020|\n",
      "|01/01/2020|\n",
      "|07/23/2020|\n",
      "|02/07/2020|\n",
      "|01/06/2020|\n",
      "+----------+\n",
      "only showing top 20 rows\n",
      "\n"
     ]
    }
   ],
   "source": [
    "df.select('Date Rptd').show()"
   ]
  },
  {
   "cell_type": "code",
   "execution_count": 139,
   "metadata": {},
   "outputs": [
    {
     "name": "stdout",
     "output_type": "stream",
     "text": [
      "+------------+------------+------------+----------+---------+----------+----------+--------+----+----------+-----------+--------+------+--------------------+--------------------+--------+--------+------------+---------+--------------------+--------------+--------------------+------+-----------+--------+--------+--------+--------+--------------------+------------+-------+---------+------------------+-------------------+----------+---------------------------+---------------+-------------------+----------------+--------------------+-------------------+-------------+----+-----------+\n",
      "|Unnamed: 0.3|Unnamed: 0.2|Unnamed: 0.1|Unnamed: 0|    DR_NO| Date Rptd|  DATE OCC|TIME OCC|AREA| AREA NAME|Rpt Dist No|Part 1-2|Crm Cd|         Crm Cd Desc|             Mocodes|Vict Age|Vict Sex|Vict Descent|Premis Cd|         Premis Desc|Weapon Used Cd|         Weapon Desc|Status|Status Desc|Crm Cd 1|Crm Cd 2|Crm Cd 3|Crm Cd 4|            LOCATION|Cross Street|    LAT|      LON|gender of criminal|country of criminal|kill count|marital status of criminal |age of criminal|previously punished|education_levels|     drug_substances|country_of_criminal|value_divided|Time|Day of Week|\n",
      "+------------+------------+------------+----------+---------+----------+----------+--------+----+----------+-----------+--------+------+--------------------+--------------------+--------+--------+------------+---------+--------------------+--------------+--------------------+------+-----------+--------+--------+--------+--------+--------------------+------------+-------+---------+------------------+-------------------+----------+---------------------------+---------------+-------------------+----------------+--------------------+-------------------+-------------+----+-----------+\n",
      "|           0|           0|           0|         0| 10304468|2020-01-08|01/08/2020|    2230|   3| Southwest|        377|       2|   624|BATTERY - SIMPLE ...|           0444 0913|      36|       F|           B|    501.0|SINGLE FAMILY DWE...|         400.0|STRONG-ARM (HANDS...|    AO|Adult Other|   624.0|    NULL|    NULL|    NULL|1100 W  39TH     ...|        NULL|34.0141|-118.2978|                 f|                  K|         0|                    primary|          26-35|                  T|       secondary|             Alcohol|                  K|         22.3|  22|  Wednesday|\n",
      "|          10|          10|          10|        10|200100509|2020-01-04|01/04/2020|    2200|   1|   Central|        192|       1|   330|BURGLARY FROM VEH...| 1822 1414 0344 1307|      29|       M|           A|    101.0|              STREET|         306.0|  ROCK/THROWN OBJECT|    IC|Invest Cont|   330.0|    NULL|    NULL|    NULL|                15TH|       OLIVE|34.0359|-118.2648|                 m|                  D|         1|                    primary|          36-45|                  F|         primary|MDMA (Ecstasy/Molly)|                  D|         22.0|  22|   Saturday|\n",
      "|          20|          20|          20|        20|200914517|2020-09-10|09/09/2020|    1735|   9|  Van Nuys|        909|       2|   354|   THEFT OF IDENTITY|      0377 1822 0928|      40|       M|           O|    507.0|CONDOMINIUM/TOWNH...|          NULL|                NULL|    IC|Invest Cont|   354.0|    NULL|    NULL|    NULL|13600    LEADWELL...|        NULL|34.2039|-118.4312|                 m|                  P|         0|           Higher education|          18-25|                  F|         primary|             Alcohol|                  P|        17.35|  17|   Thursday|\n",
      "|          30|          30|          30|        30|200100559|2020-01-23|01/23/2020|     600|   1|   Central|        111|       1|   310|            BURGLARY| 1402 1822 1414 0344|      51|       M|           W|    503.0|               HOTEL|          NULL|                NULL|    AO|Adult Other|   310.0|    NULL|    NULL|    NULL|700 N  MAIN      ...|        NULL|34.0583|-118.2378|                 m|                  C|         6|           Higher education|          36-45|                  T|         primary|             Cocaine|                  C|          6.0|   6|   Thursday|\n",
      "|          40|          40|          40|        40|200100574|2020-01-30|01/29/2020|    1930|   1|   Central|        162|       1|   442|SHOPLIFTING - PET...|           0344 1414|       0|       M|           W|    404.0|    DEPARTMENT STORE|          NULL|                NULL|    IC|Invest Cont|   442.0|    NULL|    NULL|    NULL|700 W  7TH       ...|        NULL| 34.048|-118.2577|                 m|                  W|         0|                     middle|          18-25|                  F|         primary|Cannabis (Marijuana)|                  W|         19.3|  19|   Thursday|\n",
      "|          50|          50|          50|        50|200407318|2020-03-27|03/27/2020|     315|   4|Hollenbeck|        422|       2|   740|VANDALISM - FELON...|                0329|      40|       M|           O|    203.0|      OTHER BUSINESS|          NULL|                NULL|    IC|Invest Cont|   740.0|    NULL|    NULL|    NULL|    2600 N  BROADWAY|        NULL|34.0736|-118.2156|                 f|                  G|         0|                  secondary|          18-25|                  F|Higher education|             Alcohol|                  G|         3.15|   3|     Friday|\n",
      "|          60|          60|          60|        60|200104036|2020-01-01|01/01/2020|     500|   1|   Central|        119|       2|   860|BATTERY WITH SEXU...|1218 1822 0910 05...|      18|       F|           B|    900.0|MTA - RED LINE - ...|         400.0|STRONG-ARM (HANDS...|    IC|Invest Cont|   860.0|    NULL|    NULL|    NULL|800 N  ALAMEDA   ...|        NULL|34.0563|-118.2374|                 m|                  S|         5|                     middle|          36-45|                  F|          middle|Cannabis (Marijuana)|                  S|          5.0|   5|  Wednesday|\n",
      "|          70|          70|          70|        70|200812213|2020-07-23|06/22/2020|    2005|   8|   West LA|        898|       2|   956|LETTERS, LEWD  - ...|                0913|      42|       F|           W|    501.0|SINGLE FAMILY DWE...|          NULL|                NULL|    AO|Adult Other|   956.0|    NULL|    NULL|    NULL|2800 S  BEDFORD  ...|        NULL|34.0346|-118.3857|                 h|                  A|         5|                     middle|          36-45|                  F|         primary|Prescription opioids|                  A|        20.05|  20|   Thursday|\n",
      "|          80|          80|          80|        80|200104076|2020-01-01|01/01/2020|     300|   1|   Central|        153|       1|   341|THEFT-GRAND ($950...|      0344 2034 1822|      57|       M|           B|    502.0|MULTI-UNIT DWELLI...|          NULL|                NULL|    IC|Invest Cont|   341.0|    NULL|    NULL|    NULL|300 W  5TH       ...|        NULL|34.0481|-118.2507|                 m|                  I|         3|                    primary|          26-35|                  F|         primary|Cannabis (Marijuana)|                  I|          3.0|   3|  Wednesday|\n",
      "|          90|          90|          90|        90|200104120|2020-01-02|01/02/2020|    1450|   1|   Central|        158|       1|   310|            BURGLARY|1822 1218 0344 12...|      59|       M|           H|    516.0|SINGLE RESIDENCE ...|          NULL|                NULL|    IC|Invest Cont|   310.0|    NULL|    NULL|    NULL|1200 E  7TH      ...|        NULL|34.0395|-118.2405|                 f|                  C|         0|                    primary|          26-35|                  T|          middle|Prescription opioids|                  C|         14.5|  15|   Thursday|\n",
      "|         100|         100|         100|       100|200104139|2020-01-02|01/02/2020|    2210|   1|   Central|        162|       2|   888|         TRESPASSING|           1501 2004|      34|       M|           O|    210.0|RESTAURANT/FAST FOOD|          NULL|                NULL|    IC|Invest Cont|   888.0|    NULL|    NULL|    NULL|800 W  7TH       ...|        NULL|34.0487|-118.2588|                 m|                  I|         1|                     middle|          46-55|                  F|       secondary|              Heroin|                  I|         22.1|  22|   Thursday|\n",
      "|         110|         110|         110|       110|200104201|2020-01-03|01/01/2020|     130|   1|   Central|        132|       1|   330|BURGLARY FROM VEH...| 1822 1307 0344 0329|      51|       M|           H|    101.0|              STREET|          NULL|                NULL|    IC|Invest Cont|   330.0|    NULL|    NULL|    NULL|                 3RD|       GRAND| 34.053|-118.2513|                 m|                  I|         0|                    primary|          26-35|                  T|       secondary|Prescription opioids|                  I|          1.3|   1|     Friday|\n",
      "|         120|         120|         120|       120|200104228|2020-01-04|01/03/2020|    1850|   1|   Central|        159|       1|   210|             ROBBERY|0305 1309 0355 03...|      28|       M|           H|    101.0|              STREET|         102.0|            HAND GUN|    IC|Invest Cont|   210.0|    NULL|    NULL|    NULL|                 4TH|      SEATON|34.0433|-118.2377|                 m|                  X|         0|                    primary|            56+|                  T|          middle|Cannabis (Marijuana)|                  X|         18.5|  19|   Saturday|\n",
      "|         130|         130|         130|       130|200706211|2020-02-17|02/16/2020|    2350|   7|  Wilshire|        734|       2|   624|BATTERY - SIMPLE ...|                0444|      29|       F|           H|    502.0|MULTI-UNIT DWELLI...|         400.0|STRONG-ARM (HANDS...|    AO|Adult Other|   624.0|    NULL|    NULL|    NULL|6000 W  6TH      ...|        NULL|34.0677|-118.3548|                 m|                  G|         3|                     middle|          26-35|                  F|          middle|Synthetic cannabi...|                  G|         23.5|  24|     Monday|\n",
      "|         140|         140|         140|       140|200104270|2020-01-04|01/04/2020|    1630|   1|   Central|        195|       1|   330|BURGLARY FROM VEH...| 1822 0344 1307 1609|      32|       M|           H|    108.0|         PARKING LOT|          NULL|                NULL|    IC|Invest Cont|   330.0|    NULL|    NULL|    NULL|1300 S  LOS ANGEL...|        NULL|34.0357|-118.2593|                 f|                  D|         0|                     middle|          36-45|                  T|         primary|          Stimulants|                  D|         16.3|  16|   Saturday|\n",
      "|         150|         150|         150|       150|200104284|2020-01-04|01/04/2020|      15|   1|   Central|        145|       2|   888|         TRESPASSING|                1501|      67|       M|           O|    502.0|MULTI-UNIT DWELLI...|          NULL|                NULL|    IC|Invest Cont|   888.0|    NULL|    NULL|    NULL|100 E  4TH       ...|        NULL|34.0482|-118.2472|                 f|               NULL|         1|                    primary|          36-45|                  F|         primary|Cannabis (Marijuana)|               NULL|         0.15|   0|   Saturday|\n",
      "|         160|         160|         160|       160|200104302|2020-01-01|01/01/2020|       1|   1|   Central|        153|       1|   440|THEFT PLAIN - PET...|           0344 2032|      25|       F|           F|    207.0|BAR/COCKTAIL/NIGH...|          NULL|                NULL|    IC|Invest Cont|   440.0|    NULL|    NULL|    NULL|500 S  SPRING    ...|        NULL|34.0467| -118.252|                 m|                  G|         0|                     middle|          36-45|                  F|Higher education|             Alcohol|                  G|         0.01|   0|  Wednesday|\n",
      "|         170|         170|         170|       170|200812231|2020-07-23|05/15/2020|     800|   8|   West LA|        886|       2|   956|LETTERS, LEWD  - ...|                1906|      44|       M|           W|    502.0|MULTI-UNIT DWELLI...|          NULL|                NULL|    AO|Adult Other|   956.0|    NULL|    NULL|    NULL|1100    ROXBURY  ...|        NULL|34.0567|-118.4055|                 m|                  F|         2|                     middle|          36-45|                  F|          middle|          Stimulants|                  F|          8.0|   8|   Thursday|\n",
      "|         180|         180|         180|       180|200405489|2020-02-07|02/06/2020|    2115|   4|Hollenbeck|        464|       2|   946|OTHER MISCELLANEO...|      0432 0913 1258|      12|       F|           H|    501.0|SINGLE FAMILY DWE...|         500.0|UNKNOWN WEAPON/OT...|    AO|Adult Other|   946.0|    NULL|    NULL|    NULL|200 N  SOTO      ...|        NULL|34.0445|-118.2116|                 m|                  G|         6|                     middle|          26-35|                  T|Higher education|Cannabis (Marijuana)|                  G|        21.15|  21|     Friday|\n",
      "|         190|         190|         190|       190|200104369|2020-01-06|01/06/2020|     930|   1|   Central|        127|       1|   230|ASSAULT WITH DEAD...|1268 1822 0305 04...|      22|       M|           H|    101.0|              STREET|         207.0|         OTHER KNIFE|    IC|Invest Cont|   230.0|    NULL|    NULL|    NULL|COMMERCIAL       ...| LOS ANGELES|34.0527|-118.2398|                 m|                  C|         0|                    primary|          26-35|                  T|          middle|     Benzodiazepines|                  C|          9.3|   9|     Monday|\n",
      "+------------+------------+------------+----------+---------+----------+----------+--------+----+----------+-----------+--------+------+--------------------+--------------------+--------+--------+------------+---------+--------------------+--------------+--------------------+------+-----------+--------+--------+--------+--------+--------------------+------------+-------+---------+------------------+-------------------+----------+---------------------------+---------------+-------------------+----------------+--------------------+-------------------+-------------+----+-----------+\n",
      "only showing top 20 rows\n",
      "\n"
     ]
    }
   ],
   "source": [
    "df = df.withColumn(\"Date Rptd\", to_date(df[\"Date Rptd\"], \"MM/dd/yyyy\"))\n",
    "\n",
    "# Wybierz dzień tygodnia z daty\n",
    "df= df.withColumn(\"Day of Week\", dayofweek(df[\"Date Rptd\"]))\n",
    "\n",
    "\n",
    "df = df.withColumn(\"Day of Week\", \n",
    "                   when(df[\"Day of Week\"] == lit(1), lit(\"Sunday\"))\n",
    "                   .when(df[\"Day of Week\"] == lit(2), lit(\"Monday\"))\n",
    "                   .when(df[\"Day of Week\"] == lit(3), lit(\"Tuesday\"))\n",
    "                   .when(df[\"Day of Week\"] == lit(4), lit(\"Wednesday\"))\n",
    "                   .when(df[\"Day of Week\"] == lit(5), lit(\"Thursday\"))\n",
    "                   .when(df[\"Day of Week\"] == lit(6), lit(\"Friday\"))\n",
    "                   .when(df[\"Day of Week\"] == lit(7), lit(\"Saturday\"))\n",
    "                   .otherwise(None))\n",
    "\n",
    "\n",
    "# Wyświetl DataFrame z nową kolumną 'Day of Week'\n",
    "df.show()"
   ]
  },
  {
   "cell_type": "code",
   "execution_count": 140,
   "metadata": {},
   "outputs": [
    {
     "name": "stdout",
     "output_type": "stream",
     "text": [
      "+------------+------------+------------+----------+---------+---------+----------+--------+----+----------+-----------+--------+------+--------------------+--------------------+--------+--------+------------+---------+--------------------+--------------+--------------------+------+-----------+--------+--------+--------+--------+--------------------+------------+-------+---------+------------------+-------------------+----------+---------------------------+---------------+-------------------+----------------+--------------------+-------------------+-------------+----+-----------+\n",
      "|Unnamed: 0.3|Unnamed: 0.2|Unnamed: 0.1|Unnamed: 0|    DR_NO|Date Rptd|  DATE OCC|TIME OCC|AREA| AREA NAME|Rpt Dist No|Part 1-2|Crm Cd|         Crm Cd Desc|             Mocodes|Vict Age|Vict Sex|Vict Descent|Premis Cd|         Premis Desc|Weapon Used Cd|         Weapon Desc|Status|Status Desc|Crm Cd 1|Crm Cd 2|Crm Cd 3|Crm Cd 4|            LOCATION|Cross Street|    LAT|      LON|gender of criminal|country of criminal|kill count|marital status of criminal |age of criminal|previously punished|education_levels|     drug_substances|country_of_criminal|value_divided|Time|Day of Week|\n",
      "+------------+------------+------------+----------+---------+---------+----------+--------+----+----------+-----------+--------+------+--------------------+--------------------+--------+--------+------------+---------+--------------------+--------------+--------------------+------+-----------+--------+--------+--------+--------+--------------------+------------+-------+---------+------------------+-------------------+----------+---------------------------+---------------+-------------------+----------------+--------------------+-------------------+-------------+----+-----------+\n",
      "|           0|           0|           0|         0| 10304468|        4|01/08/2020|    2230|   3| Southwest|        377|       2|   624|BATTERY - SIMPLE ...|           0444 0913|      36|       F|           B|    501.0|SINGLE FAMILY DWE...|         400.0|STRONG-ARM (HANDS...|    AO|Adult Other|   624.0|    NULL|    NULL|    NULL|1100 W  39TH     ...|        NULL|34.0141|-118.2978|                 f|                  K|         0|                    primary|          26-35|                  T|       secondary|             Alcohol|                  K|         22.3|  22|  Wednesday|\n",
      "|          10|          10|          10|        10|200100509|        7|01/04/2020|    2200|   1|   Central|        192|       1|   330|BURGLARY FROM VEH...| 1822 1414 0344 1307|      29|       M|           A|    101.0|              STREET|         306.0|  ROCK/THROWN OBJECT|    IC|Invest Cont|   330.0|    NULL|    NULL|    NULL|                15TH|       OLIVE|34.0359|-118.2648|                 m|                  D|         1|                    primary|          36-45|                  F|         primary|MDMA (Ecstasy/Molly)|                  D|         22.0|  22|   Saturday|\n",
      "|          20|          20|          20|        20|200914517|        5|09/09/2020|    1735|   9|  Van Nuys|        909|       2|   354|   THEFT OF IDENTITY|      0377 1822 0928|      40|       M|           O|    507.0|CONDOMINIUM/TOWNH...|          NULL|                NULL|    IC|Invest Cont|   354.0|    NULL|    NULL|    NULL|13600    LEADWELL...|        NULL|34.2039|-118.4312|                 m|                  P|         0|           Higher education|          18-25|                  F|         primary|             Alcohol|                  P|        17.35|  17|   Thursday|\n",
      "|          30|          30|          30|        30|200100559|        5|01/23/2020|     600|   1|   Central|        111|       1|   310|            BURGLARY| 1402 1822 1414 0344|      51|       M|           W|    503.0|               HOTEL|          NULL|                NULL|    AO|Adult Other|   310.0|    NULL|    NULL|    NULL|700 N  MAIN      ...|        NULL|34.0583|-118.2378|                 m|                  C|         6|           Higher education|          36-45|                  T|         primary|             Cocaine|                  C|          6.0|   6|   Thursday|\n",
      "|          40|          40|          40|        40|200100574|        5|01/29/2020|    1930|   1|   Central|        162|       1|   442|SHOPLIFTING - PET...|           0344 1414|       0|       M|           W|    404.0|    DEPARTMENT STORE|          NULL|                NULL|    IC|Invest Cont|   442.0|    NULL|    NULL|    NULL|700 W  7TH       ...|        NULL| 34.048|-118.2577|                 m|                  W|         0|                     middle|          18-25|                  F|         primary|Cannabis (Marijuana)|                  W|         19.3|  19|   Thursday|\n",
      "|          50|          50|          50|        50|200407318|        6|03/27/2020|     315|   4|Hollenbeck|        422|       2|   740|VANDALISM - FELON...|                0329|      40|       M|           O|    203.0|      OTHER BUSINESS|          NULL|                NULL|    IC|Invest Cont|   740.0|    NULL|    NULL|    NULL|    2600 N  BROADWAY|        NULL|34.0736|-118.2156|                 f|                  G|         0|                  secondary|          18-25|                  F|Higher education|             Alcohol|                  G|         3.15|   3|     Friday|\n",
      "|          60|          60|          60|        60|200104036|        4|01/01/2020|     500|   1|   Central|        119|       2|   860|BATTERY WITH SEXU...|1218 1822 0910 05...|      18|       F|           B|    900.0|MTA - RED LINE - ...|         400.0|STRONG-ARM (HANDS...|    IC|Invest Cont|   860.0|    NULL|    NULL|    NULL|800 N  ALAMEDA   ...|        NULL|34.0563|-118.2374|                 m|                  S|         5|                     middle|          36-45|                  F|          middle|Cannabis (Marijuana)|                  S|          5.0|   5|  Wednesday|\n",
      "|          70|          70|          70|        70|200812213|        5|06/22/2020|    2005|   8|   West LA|        898|       2|   956|LETTERS, LEWD  - ...|                0913|      42|       F|           W|    501.0|SINGLE FAMILY DWE...|          NULL|                NULL|    AO|Adult Other|   956.0|    NULL|    NULL|    NULL|2800 S  BEDFORD  ...|        NULL|34.0346|-118.3857|                 h|                  A|         5|                     middle|          36-45|                  F|         primary|Prescription opioids|                  A|        20.05|  20|   Thursday|\n",
      "|          80|          80|          80|        80|200104076|        4|01/01/2020|     300|   1|   Central|        153|       1|   341|THEFT-GRAND ($950...|      0344 2034 1822|      57|       M|           B|    502.0|MULTI-UNIT DWELLI...|          NULL|                NULL|    IC|Invest Cont|   341.0|    NULL|    NULL|    NULL|300 W  5TH       ...|        NULL|34.0481|-118.2507|                 m|                  I|         3|                    primary|          26-35|                  F|         primary|Cannabis (Marijuana)|                  I|          3.0|   3|  Wednesday|\n",
      "|          90|          90|          90|        90|200104120|        5|01/02/2020|    1450|   1|   Central|        158|       1|   310|            BURGLARY|1822 1218 0344 12...|      59|       M|           H|    516.0|SINGLE RESIDENCE ...|          NULL|                NULL|    IC|Invest Cont|   310.0|    NULL|    NULL|    NULL|1200 E  7TH      ...|        NULL|34.0395|-118.2405|                 f|                  C|         0|                    primary|          26-35|                  T|          middle|Prescription opioids|                  C|         14.5|  15|   Thursday|\n",
      "|         100|         100|         100|       100|200104139|        5|01/02/2020|    2210|   1|   Central|        162|       2|   888|         TRESPASSING|           1501 2004|      34|       M|           O|    210.0|RESTAURANT/FAST FOOD|          NULL|                NULL|    IC|Invest Cont|   888.0|    NULL|    NULL|    NULL|800 W  7TH       ...|        NULL|34.0487|-118.2588|                 m|                  I|         1|                     middle|          46-55|                  F|       secondary|              Heroin|                  I|         22.1|  22|   Thursday|\n",
      "|         110|         110|         110|       110|200104201|        6|01/01/2020|     130|   1|   Central|        132|       1|   330|BURGLARY FROM VEH...| 1822 1307 0344 0329|      51|       M|           H|    101.0|              STREET|          NULL|                NULL|    IC|Invest Cont|   330.0|    NULL|    NULL|    NULL|                 3RD|       GRAND| 34.053|-118.2513|                 m|                  I|         0|                    primary|          26-35|                  T|       secondary|Prescription opioids|                  I|          1.3|   1|     Friday|\n",
      "|         120|         120|         120|       120|200104228|        7|01/03/2020|    1850|   1|   Central|        159|       1|   210|             ROBBERY|0305 1309 0355 03...|      28|       M|           H|    101.0|              STREET|         102.0|            HAND GUN|    IC|Invest Cont|   210.0|    NULL|    NULL|    NULL|                 4TH|      SEATON|34.0433|-118.2377|                 m|                  X|         0|                    primary|            56+|                  T|          middle|Cannabis (Marijuana)|                  X|         18.5|  19|   Saturday|\n",
      "|         130|         130|         130|       130|200706211|        2|02/16/2020|    2350|   7|  Wilshire|        734|       2|   624|BATTERY - SIMPLE ...|                0444|      29|       F|           H|    502.0|MULTI-UNIT DWELLI...|         400.0|STRONG-ARM (HANDS...|    AO|Adult Other|   624.0|    NULL|    NULL|    NULL|6000 W  6TH      ...|        NULL|34.0677|-118.3548|                 m|                  G|         3|                     middle|          26-35|                  F|          middle|Synthetic cannabi...|                  G|         23.5|  24|     Monday|\n",
      "|         140|         140|         140|       140|200104270|        7|01/04/2020|    1630|   1|   Central|        195|       1|   330|BURGLARY FROM VEH...| 1822 0344 1307 1609|      32|       M|           H|    108.0|         PARKING LOT|          NULL|                NULL|    IC|Invest Cont|   330.0|    NULL|    NULL|    NULL|1300 S  LOS ANGEL...|        NULL|34.0357|-118.2593|                 f|                  D|         0|                     middle|          36-45|                  T|         primary|          Stimulants|                  D|         16.3|  16|   Saturday|\n",
      "|         150|         150|         150|       150|200104284|        7|01/04/2020|      15|   1|   Central|        145|       2|   888|         TRESPASSING|                1501|      67|       M|           O|    502.0|MULTI-UNIT DWELLI...|          NULL|                NULL|    IC|Invest Cont|   888.0|    NULL|    NULL|    NULL|100 E  4TH       ...|        NULL|34.0482|-118.2472|                 f|               NULL|         1|                    primary|          36-45|                  F|         primary|Cannabis (Marijuana)|               NULL|         0.15|   0|   Saturday|\n",
      "|         160|         160|         160|       160|200104302|        4|01/01/2020|       1|   1|   Central|        153|       1|   440|THEFT PLAIN - PET...|           0344 2032|      25|       F|           F|    207.0|BAR/COCKTAIL/NIGH...|          NULL|                NULL|    IC|Invest Cont|   440.0|    NULL|    NULL|    NULL|500 S  SPRING    ...|        NULL|34.0467| -118.252|                 m|                  G|         0|                     middle|          36-45|                  F|Higher education|             Alcohol|                  G|         0.01|   0|  Wednesday|\n",
      "|         170|         170|         170|       170|200812231|        5|05/15/2020|     800|   8|   West LA|        886|       2|   956|LETTERS, LEWD  - ...|                1906|      44|       M|           W|    502.0|MULTI-UNIT DWELLI...|          NULL|                NULL|    AO|Adult Other|   956.0|    NULL|    NULL|    NULL|1100    ROXBURY  ...|        NULL|34.0567|-118.4055|                 m|                  F|         2|                     middle|          36-45|                  F|          middle|          Stimulants|                  F|          8.0|   8|   Thursday|\n",
      "|         180|         180|         180|       180|200405489|        6|02/06/2020|    2115|   4|Hollenbeck|        464|       2|   946|OTHER MISCELLANEO...|      0432 0913 1258|      12|       F|           H|    501.0|SINGLE FAMILY DWE...|         500.0|UNKNOWN WEAPON/OT...|    AO|Adult Other|   946.0|    NULL|    NULL|    NULL|200 N  SOTO      ...|        NULL|34.0445|-118.2116|                 m|                  G|         6|                     middle|          26-35|                  T|Higher education|Cannabis (Marijuana)|                  G|        21.15|  21|     Friday|\n",
      "|         190|         190|         190|       190|200104369|        2|01/06/2020|     930|   1|   Central|        127|       1|   230|ASSAULT WITH DEAD...|1268 1822 0305 04...|      22|       M|           H|    101.0|              STREET|         207.0|         OTHER KNIFE|    IC|Invest Cont|   230.0|    NULL|    NULL|    NULL|COMMERCIAL       ...| LOS ANGELES|34.0527|-118.2398|                 m|                  C|         0|                    primary|          26-35|                  T|          middle|     Benzodiazepines|                  C|          9.3|   9|     Monday|\n",
      "+------------+------------+------------+----------+---------+---------+----------+--------+----+----------+-----------+--------+------+--------------------+--------------------+--------+--------+------------+---------+--------------------+--------------+--------------------+------+-----------+--------+--------+--------+--------+--------------------+------------+-------+---------+------------------+-------------------+----------+---------------------------+---------------+-------------------+----------------+--------------------+-------------------+-------------+----+-----------+\n",
      "only showing top 20 rows\n",
      "\n"
     ]
    }
   ],
   "source": [
    "from pyspark.sql.functions import dayofweek, to_date\n",
    "df_with_day_of_week = df.withColumn(\"Date Rptd\", dayofweek(df[\"Date Rptd\"]))\n",
    "df_with_day_of_week.show()"
   ]
  },
  {
   "cell_type": "code",
   "execution_count": 141,
   "metadata": {},
   "outputs": [
    {
     "name": "stdout",
     "output_type": "stream",
     "text": [
      "+------------+------------+------------+----------+---------+----------+----------+--------+----+----------+-----------+--------+------+--------------------+--------------------+--------+--------+------------+---------+--------------------+--------------+--------------------+------+-----------+--------+--------+--------+--------+--------------------+------------+-------+---------+------------------+-------------------+----------+---------------------------+---------------+-------------------+----------------+--------------------+-------------------+-------------+----+-----------+\n",
      "|Unnamed: 0.3|Unnamed: 0.2|Unnamed: 0.1|Unnamed: 0|    DR_NO| Date Rptd|  DATE OCC|TIME OCC|AREA| AREA NAME|Rpt Dist No|Part 1-2|Crm Cd|         Crm Cd Desc|             Mocodes|Vict Age|Vict Sex|Vict Descent|Premis Cd|         Premis Desc|Weapon Used Cd|         Weapon Desc|Status|Status Desc|Crm Cd 1|Crm Cd 2|Crm Cd 3|Crm Cd 4|            LOCATION|Cross Street|    LAT|      LON|gender of criminal|country of criminal|kill count|marital status of criminal |age of criminal|previously punished|education_levels|     drug_substances|country_of_criminal|value_divided|Time|Day of Week|\n",
      "+------------+------------+------------+----------+---------+----------+----------+--------+----+----------+-----------+--------+------+--------------------+--------------------+--------+--------+------------+---------+--------------------+--------------+--------------------+------+-----------+--------+--------+--------+--------+--------------------+------------+-------+---------+------------------+-------------------+----------+---------------------------+---------------+-------------------+----------------+--------------------+-------------------+-------------+----+-----------+\n",
      "|           0|           0|           0|         0| 10304468|2020-01-08|01/08/2020|    2230|   3| Southwest|        377|       2|   624|BATTERY - SIMPLE ...|           0444 0913|      36|       F|           B|    501.0|SINGLE FAMILY DWE...|         400.0|STRONG-ARM (HANDS...|    AO|Adult Other|   624.0|    NULL|    NULL|    NULL|1100 W  39TH     ...|        NULL|34.0141|-118.2978|                 f|                  K|         0|                    primary|          26-35|                  T|       secondary|             Alcohol|                  K|         22.3|  22|  Wednesday|\n",
      "|          10|          10|          10|        10|200100509|2020-01-04|01/04/2020|    2200|   1|   Central|        192|       1|   330|BURGLARY FROM VEH...| 1822 1414 0344 1307|      29|       M|           A|    101.0|              STREET|         306.0|  ROCK/THROWN OBJECT|    IC|Invest Cont|   330.0|    NULL|    NULL|    NULL|                15TH|       OLIVE|34.0359|-118.2648|                 m|                  D|         1|                    primary|          36-45|                  F|         primary|MDMA (Ecstasy/Molly)|                  D|         22.0|  22|   Saturday|\n",
      "|          20|          20|          20|        20|200914517|2020-09-10|09/09/2020|    1735|   9|  Van Nuys|        909|       2|   354|   THEFT OF IDENTITY|      0377 1822 0928|      40|       M|           O|    507.0|CONDOMINIUM/TOWNH...|          NULL|                NULL|    IC|Invest Cont|   354.0|    NULL|    NULL|    NULL|13600    LEADWELL...|        NULL|34.2039|-118.4312|                 m|                  P|         0|           Higher education|          18-25|                  F|         primary|             Alcohol|                  P|        17.35|  17|   Thursday|\n",
      "|          30|          30|          30|        30|200100559|2020-01-23|01/23/2020|     600|   1|   Central|        111|       1|   310|            BURGLARY| 1402 1822 1414 0344|      51|       M|           W|    503.0|               HOTEL|          NULL|                NULL|    AO|Adult Other|   310.0|    NULL|    NULL|    NULL|700 N  MAIN      ...|        NULL|34.0583|-118.2378|                 m|                  C|         6|           Higher education|          36-45|                  T|         primary|             Cocaine|                  C|          6.0|   6|   Thursday|\n",
      "|          40|          40|          40|        40|200100574|2020-01-30|01/29/2020|    1930|   1|   Central|        162|       1|   442|SHOPLIFTING - PET...|           0344 1414|       0|       M|           W|    404.0|    DEPARTMENT STORE|          NULL|                NULL|    IC|Invest Cont|   442.0|    NULL|    NULL|    NULL|700 W  7TH       ...|        NULL| 34.048|-118.2577|                 m|                  W|         0|                     middle|          18-25|                  F|         primary|Cannabis (Marijuana)|                  W|         19.3|  19|   Thursday|\n",
      "|          50|          50|          50|        50|200407318|2020-03-27|03/27/2020|     315|   4|Hollenbeck|        422|       2|   740|VANDALISM - FELON...|                0329|      40|       M|           O|    203.0|      OTHER BUSINESS|          NULL|                NULL|    IC|Invest Cont|   740.0|    NULL|    NULL|    NULL|    2600 N  BROADWAY|        NULL|34.0736|-118.2156|                 f|                  G|         0|                  secondary|          18-25|                  F|Higher education|             Alcohol|                  G|         3.15|   3|     Friday|\n",
      "|          60|          60|          60|        60|200104036|2020-01-01|01/01/2020|     500|   1|   Central|        119|       2|   860|BATTERY WITH SEXU...|1218 1822 0910 05...|      18|       F|           B|    900.0|MTA - RED LINE - ...|         400.0|STRONG-ARM (HANDS...|    IC|Invest Cont|   860.0|    NULL|    NULL|    NULL|800 N  ALAMEDA   ...|        NULL|34.0563|-118.2374|                 m|                  S|         5|                     middle|          36-45|                  F|          middle|Cannabis (Marijuana)|                  S|          5.0|   5|  Wednesday|\n",
      "|          70|          70|          70|        70|200812213|2020-07-23|06/22/2020|    2005|   8|   West LA|        898|       2|   956|LETTERS, LEWD  - ...|                0913|      42|       F|           W|    501.0|SINGLE FAMILY DWE...|          NULL|                NULL|    AO|Adult Other|   956.0|    NULL|    NULL|    NULL|2800 S  BEDFORD  ...|        NULL|34.0346|-118.3857|                 h|                  A|         5|                     middle|          36-45|                  F|         primary|Prescription opioids|                  A|        20.05|  20|   Thursday|\n",
      "|          80|          80|          80|        80|200104076|2020-01-01|01/01/2020|     300|   1|   Central|        153|       1|   341|THEFT-GRAND ($950...|      0344 2034 1822|      57|       M|           B|    502.0|MULTI-UNIT DWELLI...|          NULL|                NULL|    IC|Invest Cont|   341.0|    NULL|    NULL|    NULL|300 W  5TH       ...|        NULL|34.0481|-118.2507|                 m|                  I|         3|                    primary|          26-35|                  F|         primary|Cannabis (Marijuana)|                  I|          3.0|   3|  Wednesday|\n",
      "|          90|          90|          90|        90|200104120|2020-01-02|01/02/2020|    1450|   1|   Central|        158|       1|   310|            BURGLARY|1822 1218 0344 12...|      59|       M|           H|    516.0|SINGLE RESIDENCE ...|          NULL|                NULL|    IC|Invest Cont|   310.0|    NULL|    NULL|    NULL|1200 E  7TH      ...|        NULL|34.0395|-118.2405|                 f|                  C|         0|                    primary|          26-35|                  T|          middle|Prescription opioids|                  C|         14.5|  15|   Thursday|\n",
      "+------------+------------+------------+----------+---------+----------+----------+--------+----+----------+-----------+--------+------+--------------------+--------------------+--------+--------+------------+---------+--------------------+--------------+--------------------+------+-----------+--------+--------+--------+--------+--------------------+------------+-------+---------+------------------+-------------------+----------+---------------------------+---------------+-------------------+----------------+--------------------+-------------------+-------------+----+-----------+\n",
      "only showing top 10 rows\n",
      "\n"
     ]
    }
   ],
   "source": [
    "df.show(10)"
   ]
  },
  {
   "cell_type": "code",
   "execution_count": 142,
   "metadata": {},
   "outputs": [
    {
     "name": "stdout",
     "output_type": "stream",
     "text": [
      "Przed zastąpieniem:\n",
      "+--------+\n",
      "|Vict Sex|\n",
      "+--------+\n",
      "|       F|\n",
      "|       M|\n",
      "|       X|\n",
      "|       H|\n",
      "|    NULL|\n",
      "+--------+\n",
      "\n"
     ]
    }
   ],
   "source": [
    "# Wyświetlenie początkowych danych\n",
    "print(\"Przed zastąpieniem:\")\n",
    "df.select('Vict Sex').distinct().show()"
   ]
  },
  {
   "cell_type": "code",
   "execution_count": 143,
   "metadata": {},
   "outputs": [
    {
     "name": "stdout",
     "output_type": "stream",
     "text": [
      "65787\n",
      "9\n"
     ]
    }
   ],
   "source": [
    "count_H = df.filter(df['Vict Sex'].isNotNull()).count()\n",
    "print(count_H)\n",
    "count_H = df.filter(df['Vict Sex'] == 'H').count()\n",
    "print(count_H)"
   ]
  },
  {
   "cell_type": "code",
   "execution_count": 144,
   "metadata": {},
   "outputs": [
    {
     "name": "stdout",
     "output_type": "stream",
     "text": [
      "root\n",
      " |-- Unnamed: 0.3: long (nullable = true)\n",
      " |-- Unnamed: 0.2: long (nullable = true)\n",
      " |-- Unnamed: 0.1: long (nullable = true)\n",
      " |-- Unnamed: 0: long (nullable = true)\n",
      " |-- DR_NO: long (nullable = true)\n",
      " |-- Date Rptd: date (nullable = true)\n",
      " |-- DATE OCC: string (nullable = true)\n",
      " |-- TIME OCC: long (nullable = true)\n",
      " |-- AREA: long (nullable = true)\n",
      " |-- AREA NAME: string (nullable = true)\n",
      " |-- Rpt Dist No: long (nullable = true)\n",
      " |-- Part 1-2: long (nullable = true)\n",
      " |-- Crm Cd: long (nullable = true)\n",
      " |-- Crm Cd Desc: string (nullable = true)\n",
      " |-- Mocodes: string (nullable = true)\n",
      " |-- Vict Age: long (nullable = true)\n",
      " |-- Vict Sex: string (nullable = true)\n",
      " |-- Vict Descent: string (nullable = true)\n",
      " |-- Premis Cd: double (nullable = true)\n",
      " |-- Premis Desc: string (nullable = true)\n",
      " |-- Weapon Used Cd: double (nullable = true)\n",
      " |-- Weapon Desc: string (nullable = true)\n",
      " |-- Status: string (nullable = true)\n",
      " |-- Status Desc: string (nullable = true)\n",
      " |-- Crm Cd 1: double (nullable = true)\n",
      " |-- Crm Cd 2: double (nullable = true)\n",
      " |-- Crm Cd 3: double (nullable = true)\n",
      " |-- Crm Cd 4: double (nullable = true)\n",
      " |-- LOCATION: string (nullable = true)\n",
      " |-- Cross Street: string (nullable = true)\n",
      " |-- LAT: double (nullable = true)\n",
      " |-- LON: double (nullable = true)\n",
      " |-- gender of criminal: string (nullable = true)\n",
      " |-- country of criminal: string (nullable = true)\n",
      " |-- kill count: long (nullable = true)\n",
      " |-- marital status of criminal : string (nullable = true)\n",
      " |-- age of criminal: string (nullable = true)\n",
      " |-- previously punished: string (nullable = true)\n",
      " |-- education_levels: string (nullable = true)\n",
      " |-- drug_substances: string (nullable = true)\n",
      " |-- country_of_criminal: string (nullable = true)\n",
      " |-- value_divided: double (nullable = true)\n",
      " |-- Time: integer (nullable = true)\n",
      " |-- Day of Week: string (nullable = true)\n",
      "\n"
     ]
    }
   ],
   "source": [
    "outed_data = (df.filter((df['Vict Sex'] == 'H')))\n",
    "df = df.filter((df['Vict Sex'] != 'H'))\n",
    "\n",
    "# Aktualizacja wartości w kolumnie 'Vict Sex'\n",
    "df = df.withColumn(\"Vict Sex\", \n",
    "                   when(df[\"Vict Sex\"] == \"F\", \"Female\")\n",
    "                   .when(df[\"Vict Sex\"] == \"M\", \"Male\")\n",
    "                   .when(df[\"Vict Sex\"] == \"X\", \"X-gender\")\n",
    "                   .when(df[\"Vict Sex\"].isNull(), \"no data\")\n",
    "                   .otherwise(df[\"Vict Sex\"]))\n",
    "\n",
    "df.printSchema()"
   ]
  },
  {
   "cell_type": "code",
   "execution_count": 145,
   "metadata": {},
   "outputs": [
    {
     "data": {
      "text/plain": [
       "DataFrame[Vict Age: bigint]"
      ]
     },
     "execution_count": 145,
     "metadata": {},
     "output_type": "execute_result"
    }
   ],
   "source": [
    "df.select('Vict Age')"
   ]
  },
  {
   "cell_type": "code",
   "execution_count": 146,
   "metadata": {},
   "outputs": [
    {
     "name": "stdout",
     "output_type": "stream",
     "text": [
      "+------------+\n",
      "|Vict Descent|\n",
      "+------------+\n",
      "|           K|\n",
      "|           F|\n",
      "|           B|\n",
      "|           L|\n",
      "|           V|\n",
      "|           U|\n",
      "|           O|\n",
      "|           C|\n",
      "|           J|\n",
      "|           Z|\n",
      "|           A|\n",
      "|           X|\n",
      "|           W|\n",
      "|           S|\n",
      "|           G|\n",
      "|           I|\n",
      "|           P|\n",
      "|           H|\n",
      "|        NULL|\n",
      "+------------+\n",
      "\n"
     ]
    }
   ],
   "source": [
    "df.select('Vict Descent').distinct().show()"
   ]
  },
  {
   "cell_type": "code",
   "execution_count": 147,
   "metadata": {},
   "outputs": [
    {
     "name": "stdout",
     "output_type": "stream",
     "text": [
      "+------------+-----+\n",
      "|Vict Descent|count|\n",
      "+------------+-----+\n",
      "|           K|  377|\n",
      "|           F|  316|\n",
      "|        NULL|    2|\n",
      "|           B|10788|\n",
      "|           L|    2|\n",
      "|           V|   74|\n",
      "|           U|   13|\n",
      "|           O| 5995|\n",
      "|           C|  292|\n",
      "|           J|  119|\n",
      "|           Z|   41|\n",
      "|           A| 1662|\n",
      "|           X| 7198|\n",
      "|           W|15553|\n",
      "|           S|    3|\n",
      "|           G|    9|\n",
      "|           I|   90|\n",
      "|           P|   14|\n",
      "|           H|23230|\n",
      "+------------+-----+\n",
      "\n"
     ]
    }
   ],
   "source": [
    "counts_df = df.groupBy(\"Vict Descent\").count()\n",
    "counts_df.show()"
   ]
  },
  {
   "cell_type": "code",
   "execution_count": 148,
   "metadata": {},
   "outputs": [],
   "source": [
    "df_gb = df.groupBy(\"Vict Descent\").count()\n",
    "\n",
    "df_gb = df_gb.orderBy('count', ascending=False)\n",
    "\n",
    "start_row = 6\n",
    "\n",
    "df_gb = df_gb.withColumn(\"row_index\", monotonically_increasing_id())\n",
    "\n",
    "# Przypisanie elementów od 6. wiersza\n",
    "others = df_gb.filter(df_gb[\"row_index\"] >= start_row)\n",
    "\n",
    "top_five = df_gb.filter(df_gb['row_index'] < start_row)"
   ]
  },
  {
   "cell_type": "code",
   "execution_count": 149,
   "metadata": {},
   "outputs": [
    {
     "name": "stdout",
     "output_type": "stream",
     "text": [
      "+------------+-----+---------+\n",
      "|Vict Descent|count|row_index|\n",
      "+------------+-----+---------+\n",
      "|           H|23230|        0|\n",
      "|           W|15553|        1|\n",
      "|           B|10788|        2|\n",
      "|           X| 7198|        3|\n",
      "|           O| 5995|        4|\n",
      "|           A| 1662|        5|\n",
      "+------------+-----+---------+\n",
      "\n"
     ]
    }
   ],
   "source": [
    "top_five.show()"
   ]
  },
  {
   "cell_type": "code",
   "execution_count": 150,
   "metadata": {},
   "outputs": [
    {
     "name": "stdout",
     "output_type": "stream",
     "text": [
      "+------------+-----+---------+\n",
      "|Vict Descent|count|row_index|\n",
      "+------------+-----+---------+\n",
      "|       Other| 1352|        6|\n",
      "+------------+-----+---------+\n",
      "\n"
     ]
    }
   ],
   "source": [
    "suma = others.agg(sum(\"count\")).collect()[0][0]\n",
    "suma\n",
    "\n",
    "data = [('Other', suma, 6)]\n",
    "\n",
    "# Tworzenie ramki danych\n",
    "df_sum = spark.createDataFrame(data, [\"Vict Descent\", \"count\", 'row_index'])\n",
    "\n",
    "df_sum.show()"
   ]
  },
  {
   "cell_type": "code",
   "execution_count": 151,
   "metadata": {},
   "outputs": [
    {
     "name": "stdout",
     "output_type": "stream",
     "text": [
      "+------------+-----+---------+\n",
      "|Vict Descent|count|row_index|\n",
      "+------------+-----+---------+\n",
      "|       Other| 1352|        6|\n",
      "|           H|23230|        0|\n",
      "|           W|15553|        1|\n",
      "|           B|10788|        2|\n",
      "|           X| 7198|        3|\n",
      "|           O| 5995|        4|\n",
      "|           A| 1662|        5|\n",
      "+------------+-----+---------+\n",
      "\n"
     ]
    }
   ],
   "source": [
    "combined_df = df_sum.union(top_five)\n",
    "combined_df.show()"
   ]
  },
  {
   "cell_type": "code",
   "execution_count": 152,
   "metadata": {},
   "outputs": [
    {
     "name": "stdout",
     "output_type": "stream",
     "text": [
      "+------------+-----+---------+\n",
      "|Vict Descent|count|row_index|\n",
      "+------------+-----+---------+\n",
      "|           H|23230|        0|\n",
      "|           W|15553|        1|\n",
      "|           B|10788|        2|\n",
      "|           X| 7198|        3|\n",
      "|           A| 1662|        5|\n",
      "+------------+-----+---------+\n",
      "\n"
     ]
    }
   ],
   "source": [
    "top_five = top_five.filter(top_five[\"Vict Descent\"] != 'O')\n",
    "top_five.show()"
   ]
  },
  {
   "cell_type": "code",
   "execution_count": 153,
   "metadata": {},
   "outputs": [
    {
     "name": "stdout",
     "output_type": "stream",
     "text": [
      "+------------+\n",
      "|Vict Descent|\n",
      "+------------+\n",
      "|           H|\n",
      "|           W|\n",
      "|           B|\n",
      "|           X|\n",
      "|           A|\n",
      "+------------+\n",
      "\n"
     ]
    }
   ],
   "source": [
    "tfv = top_five.select('Vict Descent')\n",
    "tfv.show()"
   ]
  },
  {
   "cell_type": "code",
   "execution_count": 154,
   "metadata": {},
   "outputs": [
    {
     "name": "stdout",
     "output_type": "stream",
     "text": [
      "['H', 'W', 'B', 'X', 'A']\n"
     ]
    }
   ],
   "source": [
    "from pyspark.sql.functions import when\n",
    "\n",
    "# Utworzenie warunku\n",
    "top_five_values = top_five.select('Vict Descent').distinct().collect()\n",
    "top_five_values = [row['Vict Descent'] for row in top_five_values]\n",
    "condition = ~df['Vict Descent'].isin(top_five_values)\n",
    "\n",
    "# Tworzenie nowej kolumny na podstawie warunku\n",
    "df = df.withColumn('Vict Descent', when(condition, 'Other').otherwise(df['Vict Descent']))\n",
    "\n",
    "print(top_five_values)"
   ]
  },
  {
   "cell_type": "code",
   "execution_count": 155,
   "metadata": {},
   "outputs": [],
   "source": [
    "df = df.withColumn(\"Vict Descent\", \n",
    "                   when(df[\"Vict Descent\"] == \"H\", \"Hispanic or Latino\")\n",
    "                   .when(df[\"Vict Descent\"] == \"W\", \"White\")\n",
    "                   .when(df[\"Vict Descent\"] == \"B\", \"Black\")\n",
    "                   .when(df[\"Vict Descent\"] == \"X\", \"Unknown\")\n",
    "                   .when(df[\"Vict Descent\"] == \"O\", \"Other\")\n",
    "                   .when(df[\"Vict Descent\"] == \"A\", \"Asian\")\n",
    "                   .otherwise(df[\"Vict Descent\"]))"
   ]
  },
  {
   "cell_type": "code",
   "execution_count": 156,
   "metadata": {},
   "outputs": [
    {
     "name": "stdout",
     "output_type": "stream",
     "text": [
      "+--------+\n",
      "|Vict Age|\n",
      "+--------+\n",
      "|      29|\n",
      "|      26|\n",
      "|      65|\n",
      "|      19|\n",
      "|      54|\n",
      "|       0|\n",
      "|      22|\n",
      "|      77|\n",
      "|       7|\n",
      "|      34|\n",
      "|      50|\n",
      "|      94|\n",
      "|      57|\n",
      "|      32|\n",
      "|      43|\n",
      "|      84|\n",
      "|      31|\n",
      "|      39|\n",
      "|      98|\n",
      "|      25|\n",
      "|      95|\n",
      "|      71|\n",
      "|      68|\n",
      "|       6|\n",
      "|      72|\n",
      "|      87|\n",
      "|      58|\n",
      "|       9|\n",
      "|      27|\n",
      "|      63|\n",
      "|      51|\n",
      "|      56|\n",
      "|      52|\n",
      "|      79|\n",
      "|      17|\n",
      "|      41|\n",
      "|      28|\n",
      "|      33|\n",
      "|      88|\n",
      "|       5|\n",
      "|      96|\n",
      "|      -2|\n",
      "|      10|\n",
      "|      89|\n",
      "|      85|\n",
      "|      67|\n",
      "|      48|\n",
      "|      44|\n",
      "|      61|\n",
      "|       3|\n",
      "|      37|\n",
      "|      83|\n",
      "|      12|\n",
      "|      55|\n",
      "|      74|\n",
      "|      62|\n",
      "|       8|\n",
      "|      49|\n",
      "|      11|\n",
      "|      35|\n",
      "|      80|\n",
      "|       2|\n",
      "|      66|\n",
      "|      76|\n",
      "|      92|\n",
      "|       4|\n",
      "|      13|\n",
      "|      36|\n",
      "|      75|\n",
      "|      78|\n",
      "|      18|\n",
      "|      69|\n",
      "|      14|\n",
      "|      21|\n",
      "|      59|\n",
      "|      15|\n",
      "|      81|\n",
      "|      38|\n",
      "|      82|\n",
      "|      97|\n",
      "|      42|\n",
      "|      30|\n",
      "|      73|\n",
      "|      90|\n",
      "|      23|\n",
      "|      46|\n",
      "|      20|\n",
      "|      70|\n",
      "|      99|\n",
      "|      86|\n",
      "|      60|\n",
      "|      93|\n",
      "|      40|\n",
      "|      64|\n",
      "|      16|\n",
      "|      91|\n",
      "|      -1|\n",
      "|      53|\n",
      "|      45|\n",
      "|      47|\n",
      "|      24|\n",
      "+--------+\n",
      "\n"
     ]
    }
   ],
   "source": [
    "df.select('Vict Age').distinct().show(200)"
   ]
  },
  {
   "cell_type": "code",
   "execution_count": 157,
   "metadata": {},
   "outputs": [
    {
     "name": "stdout",
     "output_type": "stream",
     "text": [
      "+---------------+\n",
      "|Vict Age bucket|\n",
      "+---------------+\n",
      "|          35-60|\n",
      "|          18-35|\n",
      "|          35-60|\n",
      "|          35-60|\n",
      "|           0-18|\n",
      "|          35-60|\n",
      "|          18-35|\n",
      "|          35-60|\n",
      "|          35-60|\n",
      "|          35-60|\n",
      "|          18-35|\n",
      "|          35-60|\n",
      "|          18-35|\n",
      "|          18-35|\n",
      "|          18-35|\n",
      "|         60-100|\n",
      "|          18-35|\n",
      "|          35-60|\n",
      "|           0-18|\n",
      "|          18-35|\n",
      "+---------------+\n",
      "only showing top 20 rows\n",
      "\n"
     ]
    }
   ],
   "source": [
    "from pyspark.ml.feature import Bucketizer\n",
    "\n",
    "df = df.filter(df['Vict Age'] >= 0)\n",
    "bucketizer = Bucketizer(splits=[0, 18, 35, 60,120, float('Inf') ],inputCol=\"Vict Age\", outputCol=\"Vict Age bucket\")\n",
    "df = bucketizer.setHandleInvalid(\"keep\").transform(df)\n",
    "\n",
    "# Aktualizacja wartości w kolumnie 'Vict Age bucket'\n",
    "df = df.withColumn(\"Vict Age bucket\", \n",
    "                   when(df[\"Vict Age bucket\"] == 0.0, \"0-18\")\n",
    "                   .when(df[\"Vict Age bucket\"] == 1.0, \"18-35\")\n",
    "                   .when(df[\"Vict Age bucket\"] == 2.0, \"35-60\")\n",
    "                   .when(df[\"Vict Age bucket\"] == 3.0, \"60-100\")\n",
    "                   .otherwise(\"Unknown\"))\n",
    "\n",
    "df.select('Vict Age bucket').show()"
   ]
  },
  {
   "cell_type": "code",
   "execution_count": 158,
   "metadata": {},
   "outputs": [],
   "source": [
    "server_name = \"localhost\"\n",
    "port = \"1433\"\n",
    "database_name = \"After_ETL\"\n",
    "url = f\"jdbc:sqlserver://{server_name}:{port};databaseName={database_name}\"\n",
    "\n",
    "table_name = \"Clean_table1\"\n",
    "username = \"sa\"\n",
    "password = \"YourStrongPassword123\"\n",
    "\n",
    "df.write \\\n",
    "    .format(\"jdbc\") \\\n",
    "    .option(\"url\", url) \\\n",
    "    .option(\"dbtable\", table_name) \\\n",
    "    .option(\"user\", username) \\\n",
    "    .option(\"password\", password) \\\n",
    "    .option(\"encrypt\", \"false\") \\\n",
    "    .option(\"driver\", \"com.microsoft.sqlserver.jdbc.SQLServerDriver\") \\\n",
    "    .mode(\"overwrite\") \\\n",
    "    .save()"
   ]
  },
  {
   "cell_type": "code",
   "execution_count": 159,
   "metadata": {},
   "outputs": [],
   "source": [
    "spark.stop()"
   ]
  }
 ],
 "metadata": {
  "kernelspec": {
   "display_name": "Python 3",
   "language": "python",
   "name": "python3"
  },
  "language_info": {
   "codemirror_mode": {
    "name": "ipython",
    "version": 3
   },
   "file_extension": ".py",
   "mimetype": "text/x-python",
   "name": "python",
   "nbconvert_exporter": "python",
   "pygments_lexer": "ipython3",
   "version": "3.11.9"
  }
 },
 "nbformat": 4,
 "nbformat_minor": 4
}
