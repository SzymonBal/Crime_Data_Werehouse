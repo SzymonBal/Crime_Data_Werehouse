{
 "cells": [
  {
   "cell_type": "code",
   "execution_count": 81,
   "metadata": {},
   "outputs": [
    {
     "data": {
      "text/html": [
       "<div>\n",
       "<style scoped>\n",
       "    .dataframe tbody tr th:only-of-type {\n",
       "        vertical-align: middle;\n",
       "    }\n",
       "\n",
       "    .dataframe tbody tr th {\n",
       "        vertical-align: top;\n",
       "    }\n",
       "\n",
       "    .dataframe thead th {\n",
       "        text-align: right;\n",
       "    }\n",
       "</style>\n",
       "<table border=\"1\" class=\"dataframe\">\n",
       "  <thead>\n",
       "    <tr style=\"text-align: right;\">\n",
       "      <th></th>\n",
       "      <th>Unnamed: 0</th>\n",
       "      <th>DR_NO</th>\n",
       "      <th>Date Rptd</th>\n",
       "      <th>DATE OCC</th>\n",
       "      <th>TIME OCC</th>\n",
       "      <th>AREA</th>\n",
       "      <th>AREA NAME</th>\n",
       "      <th>Rpt Dist No</th>\n",
       "      <th>Part 1-2</th>\n",
       "      <th>Crm Cd</th>\n",
       "      <th>...</th>\n",
       "      <th>drug substances</th>\n",
       "      <th>annual earnings</th>\n",
       "      <th>value_divided</th>\n",
       "      <th>Time</th>\n",
       "      <th>Month</th>\n",
       "      <th>Day</th>\n",
       "      <th>Year</th>\n",
       "      <th>Quarter</th>\n",
       "      <th>Day of Week</th>\n",
       "      <th>Vict Age bucket</th>\n",
       "    </tr>\n",
       "  </thead>\n",
       "  <tbody>\n",
       "    <tr>\n",
       "      <th>0</th>\n",
       "      <td>0</td>\n",
       "      <td>10304468</td>\n",
       "      <td>2020-01-08</td>\n",
       "      <td>01/08/2020</td>\n",
       "      <td>2230</td>\n",
       "      <td>3</td>\n",
       "      <td>Southwest</td>\n",
       "      <td>377</td>\n",
       "      <td>2</td>\n",
       "      <td>624</td>\n",
       "      <td>...</td>\n",
       "      <td>Alcohol</td>\n",
       "      <td>118908</td>\n",
       "      <td>22.3</td>\n",
       "      <td>22</td>\n",
       "      <td>1</td>\n",
       "      <td>8</td>\n",
       "      <td>2020</td>\n",
       "      <td>1</td>\n",
       "      <td>Wednesday</td>\n",
       "      <td>35-60</td>\n",
       "    </tr>\n",
       "    <tr>\n",
       "      <th>1</th>\n",
       "      <td>1000</td>\n",
       "      <td>200105946</td>\n",
       "      <td>2020-01-29</td>\n",
       "      <td>01/29/2020</td>\n",
       "      <td>720</td>\n",
       "      <td>1</td>\n",
       "      <td>Central</td>\n",
       "      <td>157</td>\n",
       "      <td>2</td>\n",
       "      <td>624</td>\n",
       "      <td>...</td>\n",
       "      <td>Prescription opioids</td>\n",
       "      <td>27044</td>\n",
       "      <td>7.2</td>\n",
       "      <td>7</td>\n",
       "      <td>1</td>\n",
       "      <td>29</td>\n",
       "      <td>2020</td>\n",
       "      <td>1</td>\n",
       "      <td>Wednesday</td>\n",
       "      <td>35-60</td>\n",
       "    </tr>\n",
       "    <tr>\n",
       "      <th>2</th>\n",
       "      <td>2000</td>\n",
       "      <td>200205282</td>\n",
       "      <td>2020-01-27</td>\n",
       "      <td>01/27/2020</td>\n",
       "      <td>810</td>\n",
       "      <td>2</td>\n",
       "      <td>Rampart</td>\n",
       "      <td>249</td>\n",
       "      <td>2</td>\n",
       "      <td>956</td>\n",
       "      <td>...</td>\n",
       "      <td>Heroin</td>\n",
       "      <td>127062</td>\n",
       "      <td>8.1</td>\n",
       "      <td>8</td>\n",
       "      <td>1</td>\n",
       "      <td>27</td>\n",
       "      <td>2020</td>\n",
       "      <td>1</td>\n",
       "      <td>Monday</td>\n",
       "      <td>35-60</td>\n",
       "    </tr>\n",
       "    <tr>\n",
       "      <th>3</th>\n",
       "      <td>3000</td>\n",
       "      <td>200110265</td>\n",
       "      <td>2020-04-09</td>\n",
       "      <td>03/31/2020</td>\n",
       "      <td>1930</td>\n",
       "      <td>1</td>\n",
       "      <td>Central</td>\n",
       "      <td>163</td>\n",
       "      <td>1</td>\n",
       "      <td>350</td>\n",
       "      <td>...</td>\n",
       "      <td>Cannabis (Marijuana)</td>\n",
       "      <td>144944</td>\n",
       "      <td>19.3</td>\n",
       "      <td>19</td>\n",
       "      <td>3</td>\n",
       "      <td>31</td>\n",
       "      <td>2020</td>\n",
       "      <td>1</td>\n",
       "      <td>Thursday</td>\n",
       "      <td>35-60</td>\n",
       "    </tr>\n",
       "    <tr>\n",
       "      <th>4</th>\n",
       "      <td>4000</td>\n",
       "      <td>200404736</td>\n",
       "      <td>2020-01-20</td>\n",
       "      <td>01/19/2020</td>\n",
       "      <td>2030</td>\n",
       "      <td>4</td>\n",
       "      <td>Hollenbeck</td>\n",
       "      <td>437</td>\n",
       "      <td>2</td>\n",
       "      <td>627</td>\n",
       "      <td>...</td>\n",
       "      <td>Alcohol</td>\n",
       "      <td>101813</td>\n",
       "      <td>20.3</td>\n",
       "      <td>20</td>\n",
       "      <td>1</td>\n",
       "      <td>19</td>\n",
       "      <td>2020</td>\n",
       "      <td>1</td>\n",
       "      <td>Monday</td>\n",
       "      <td>0-18</td>\n",
       "    </tr>\n",
       "  </tbody>\n",
       "</table>\n",
       "<p>5 rows × 46 columns</p>\n",
       "</div>"
      ],
      "text/plain": [
       "   Unnamed: 0      DR_NO   Date Rptd    DATE OCC  TIME OCC  AREA   AREA NAME  \\\n",
       "0           0   10304468  2020-01-08  01/08/2020      2230     3   Southwest   \n",
       "1        1000  200105946  2020-01-29  01/29/2020       720     1     Central   \n",
       "2        2000  200205282  2020-01-27  01/27/2020       810     2     Rampart   \n",
       "3        3000  200110265  2020-04-09  03/31/2020      1930     1     Central   \n",
       "4        4000  200404736  2020-01-20  01/19/2020      2030     4  Hollenbeck   \n",
       "\n",
       "   Rpt Dist No  Part 1-2  Crm Cd  ...       drug substances annual earnings  \\\n",
       "0          377         2     624  ...               Alcohol          118908   \n",
       "1          157         2     624  ...  Prescription opioids           27044   \n",
       "2          249         2     956  ...                Heroin          127062   \n",
       "3          163         1     350  ...  Cannabis (Marijuana)          144944   \n",
       "4          437         2     627  ...               Alcohol          101813   \n",
       "\n",
       "   value_divided Time Month  Day  Year  Quarter Day of Week Vict Age bucket  \n",
       "0           22.3   22     1    8  2020        1   Wednesday           35-60  \n",
       "1            7.2    7     1   29  2020        1   Wednesday           35-60  \n",
       "2            8.1    8     1   27  2020        1      Monday           35-60  \n",
       "3           19.3   19     3   31  2020        1    Thursday           35-60  \n",
       "4           20.3   20     1   19  2020        1      Monday            0-18  \n",
       "\n",
       "[5 rows x 46 columns]"
      ]
     },
     "execution_count": 81,
     "metadata": {},
     "output_type": "execute_result"
    }
   ],
   "source": [
    "# %%\n",
    "import pandas as pd\n",
    "\n",
    "# Wczytanie danych z pliku CSV\n",
    "df = pd.read_csv(r'afteretl.csv')\n",
    "\n",
    "# %%\n",
    "df.head()"
   ]
  },
  {
   "cell_type": "code",
   "execution_count": 82,
   "metadata": {},
   "outputs": [
    {
     "data": {
      "text/plain": [
       "Index(['Unnamed: 0', 'DR_NO', 'Date Rptd', 'DATE OCC', 'TIME OCC', 'AREA',\n",
       "       'AREA NAME', 'Rpt Dist No', 'Part 1-2', 'Crm Cd', 'Crm Cd Desc',\n",
       "       'Mocodes', 'Vict Age', 'Vict Sex', 'Vict Descent', 'Premis Cd',\n",
       "       'Premis Desc', 'Weapon Used Cd', 'Weapon Desc', 'Status', 'Status Desc',\n",
       "       'Crm Cd 1', 'Crm Cd 2', 'Crm Cd 3', 'Crm Cd 4', 'LOCATION',\n",
       "       'Cross Street', 'LAT', 'LON', 'gender of criminal',\n",
       "       'country of criminal', 'kill count', 'marital status of criminal ',\n",
       "       'age of criminal', 'previously punished', 'education levels',\n",
       "       'drug substances', 'annual earnings', 'value_divided', 'Time', 'Month',\n",
       "       'Day', 'Year', 'Quarter', 'Day of Week', 'Vict Age bucket'],\n",
       "      dtype='object')"
      ]
     },
     "execution_count": 82,
     "metadata": {},
     "output_type": "execute_result"
    }
   ],
   "source": [
    "df.columns"
   ]
  },
  {
   "cell_type": "code",
   "execution_count": 83,
   "metadata": {},
   "outputs": [],
   "source": [
    "\n",
    "  # for reproducibility\n",
    "df['count'] = 1 \n",
    "\n",
    "df = df[(df['Vict Sex'] == 'X-gender' ) ]\n",
    "df = df.groupby(\n",
    "    ['Year', 'Quarter','Month',\n",
    "       'Day','Time','Day of Week','Vict Sex','Vict Age','annual earnings', 'Vict Descent',]\n",
    ").agg({'count': 'sum'}).reset_index()\n",
    "import numpy as np\n",
    "# Zmieniamy nazwę kolumny 'kill count' na 'KillCount'\n",
    "random_values = np.random.uniform(0.001, 0.999, len(df))\n",
    "\n",
    "df['count'] = df['count'] + random_values"
   ]
  },
  {
   "cell_type": "code",
   "execution_count": 84,
   "metadata": {},
   "outputs": [
    {
     "data": {
      "text/html": [
       "<div>\n",
       "<style scoped>\n",
       "    .dataframe tbody tr th:only-of-type {\n",
       "        vertical-align: middle;\n",
       "    }\n",
       "\n",
       "    .dataframe tbody tr th {\n",
       "        vertical-align: top;\n",
       "    }\n",
       "\n",
       "    .dataframe thead th {\n",
       "        text-align: right;\n",
       "    }\n",
       "</style>\n",
       "<table border=\"1\" class=\"dataframe\">\n",
       "  <thead>\n",
       "    <tr style=\"text-align: right;\">\n",
       "      <th></th>\n",
       "      <th>Year</th>\n",
       "      <th>Quarter</th>\n",
       "      <th>Month</th>\n",
       "      <th>Day</th>\n",
       "      <th>Time</th>\n",
       "      <th>Day of Week</th>\n",
       "      <th>Vict Sex</th>\n",
       "      <th>Vict Age</th>\n",
       "      <th>annual earnings</th>\n",
       "      <th>Vict Descent</th>\n",
       "      <th>count</th>\n",
       "    </tr>\n",
       "  </thead>\n",
       "  <tbody>\n",
       "    <tr>\n",
       "      <th>0</th>\n",
       "      <td>2020</td>\n",
       "      <td>1</td>\n",
       "      <td>2</td>\n",
       "      <td>15</td>\n",
       "      <td>20</td>\n",
       "      <td>Friday</td>\n",
       "      <td>X-gender</td>\n",
       "      <td>0</td>\n",
       "      <td>50213</td>\n",
       "      <td>Unknown</td>\n",
       "      <td>2.836594</td>\n",
       "    </tr>\n",
       "    <tr>\n",
       "      <th>1</th>\n",
       "      <td>2020</td>\n",
       "      <td>1</td>\n",
       "      <td>3</td>\n",
       "      <td>22</td>\n",
       "      <td>17</td>\n",
       "      <td>Sunday</td>\n",
       "      <td>X-gender</td>\n",
       "      <td>0</td>\n",
       "      <td>117444</td>\n",
       "      <td>Unknown</td>\n",
       "      <td>2.912332</td>\n",
       "    </tr>\n",
       "    <tr>\n",
       "      <th>2</th>\n",
       "      <td>2020</td>\n",
       "      <td>2</td>\n",
       "      <td>5</td>\n",
       "      <td>1</td>\n",
       "      <td>19</td>\n",
       "      <td>Friday</td>\n",
       "      <td>X-gender</td>\n",
       "      <td>0</td>\n",
       "      <td>39666</td>\n",
       "      <td>Unknown</td>\n",
       "      <td>2.251668</td>\n",
       "    </tr>\n",
       "    <tr>\n",
       "      <th>3</th>\n",
       "      <td>2020</td>\n",
       "      <td>2</td>\n",
       "      <td>5</td>\n",
       "      <td>16</td>\n",
       "      <td>19</td>\n",
       "      <td>Saturday</td>\n",
       "      <td>X-gender</td>\n",
       "      <td>0</td>\n",
       "      <td>72186</td>\n",
       "      <td>Unknown</td>\n",
       "      <td>2.173644</td>\n",
       "    </tr>\n",
       "    <tr>\n",
       "      <th>4</th>\n",
       "      <td>2020</td>\n",
       "      <td>2</td>\n",
       "      <td>5</td>\n",
       "      <td>30</td>\n",
       "      <td>15</td>\n",
       "      <td>Wednesday</td>\n",
       "      <td>X-gender</td>\n",
       "      <td>0</td>\n",
       "      <td>125661</td>\n",
       "      <td>Unknown</td>\n",
       "      <td>2.104155</td>\n",
       "    </tr>\n",
       "    <tr>\n",
       "      <th>5</th>\n",
       "      <td>2020</td>\n",
       "      <td>2</td>\n",
       "      <td>6</td>\n",
       "      <td>1</td>\n",
       "      <td>19</td>\n",
       "      <td>Tuesday</td>\n",
       "      <td>X-gender</td>\n",
       "      <td>0</td>\n",
       "      <td>99764</td>\n",
       "      <td>Unknown</td>\n",
       "      <td>2.087186</td>\n",
       "    </tr>\n",
       "    <tr>\n",
       "      <th>6</th>\n",
       "      <td>2020</td>\n",
       "      <td>2</td>\n",
       "      <td>6</td>\n",
       "      <td>7</td>\n",
       "      <td>19</td>\n",
       "      <td>Sunday</td>\n",
       "      <td>X-gender</td>\n",
       "      <td>0</td>\n",
       "      <td>149843</td>\n",
       "      <td>Unknown</td>\n",
       "      <td>2.525745</td>\n",
       "    </tr>\n",
       "    <tr>\n",
       "      <th>7</th>\n",
       "      <td>2020</td>\n",
       "      <td>2</td>\n",
       "      <td>6</td>\n",
       "      <td>12</td>\n",
       "      <td>13</td>\n",
       "      <td>Friday</td>\n",
       "      <td>X-gender</td>\n",
       "      <td>0</td>\n",
       "      <td>142037</td>\n",
       "      <td>Unknown</td>\n",
       "      <td>2.222496</td>\n",
       "    </tr>\n",
       "    <tr>\n",
       "      <th>8</th>\n",
       "      <td>2020</td>\n",
       "      <td>3</td>\n",
       "      <td>7</td>\n",
       "      <td>1</td>\n",
       "      <td>18</td>\n",
       "      <td>Thursday</td>\n",
       "      <td>X-gender</td>\n",
       "      <td>0</td>\n",
       "      <td>40809</td>\n",
       "      <td>Unknown</td>\n",
       "      <td>2.358922</td>\n",
       "    </tr>\n",
       "    <tr>\n",
       "      <th>9</th>\n",
       "      <td>2020</td>\n",
       "      <td>3</td>\n",
       "      <td>7</td>\n",
       "      <td>4</td>\n",
       "      <td>15</td>\n",
       "      <td>Sunday</td>\n",
       "      <td>X-gender</td>\n",
       "      <td>0</td>\n",
       "      <td>116604</td>\n",
       "      <td>Unknown</td>\n",
       "      <td>2.495428</td>\n",
       "    </tr>\n",
       "    <tr>\n",
       "      <th>10</th>\n",
       "      <td>2020</td>\n",
       "      <td>3</td>\n",
       "      <td>7</td>\n",
       "      <td>15</td>\n",
       "      <td>17</td>\n",
       "      <td>Wednesday</td>\n",
       "      <td>X-gender</td>\n",
       "      <td>19</td>\n",
       "      <td>103368</td>\n",
       "      <td>Unknown</td>\n",
       "      <td>2.257556</td>\n",
       "    </tr>\n",
       "    <tr>\n",
       "      <th>11</th>\n",
       "      <td>2020</td>\n",
       "      <td>3</td>\n",
       "      <td>8</td>\n",
       "      <td>16</td>\n",
       "      <td>12</td>\n",
       "      <td>Friday</td>\n",
       "      <td>X-gender</td>\n",
       "      <td>19</td>\n",
       "      <td>90146</td>\n",
       "      <td>Unknown</td>\n",
       "      <td>2.047383</td>\n",
       "    </tr>\n",
       "    <tr>\n",
       "      <th>12</th>\n",
       "      <td>2020</td>\n",
       "      <td>4</td>\n",
       "      <td>10</td>\n",
       "      <td>12</td>\n",
       "      <td>0</td>\n",
       "      <td>Wednesday</td>\n",
       "      <td>X-gender</td>\n",
       "      <td>0</td>\n",
       "      <td>136176</td>\n",
       "      <td>Unknown</td>\n",
       "      <td>2.952638</td>\n",
       "    </tr>\n",
       "    <tr>\n",
       "      <th>13</th>\n",
       "      <td>2020</td>\n",
       "      <td>4</td>\n",
       "      <td>11</td>\n",
       "      <td>3</td>\n",
       "      <td>16</td>\n",
       "      <td>Tuesday</td>\n",
       "      <td>X-gender</td>\n",
       "      <td>0</td>\n",
       "      <td>76232</td>\n",
       "      <td>Unknown</td>\n",
       "      <td>2.891129</td>\n",
       "    </tr>\n",
       "    <tr>\n",
       "      <th>14</th>\n",
       "      <td>2021</td>\n",
       "      <td>1</td>\n",
       "      <td>1</td>\n",
       "      <td>22</td>\n",
       "      <td>4</td>\n",
       "      <td>Friday</td>\n",
       "      <td>X-gender</td>\n",
       "      <td>0</td>\n",
       "      <td>129722</td>\n",
       "      <td>Unknown</td>\n",
       "      <td>2.946590</td>\n",
       "    </tr>\n",
       "    <tr>\n",
       "      <th>15</th>\n",
       "      <td>2021</td>\n",
       "      <td>1</td>\n",
       "      <td>1</td>\n",
       "      <td>31</td>\n",
       "      <td>21</td>\n",
       "      <td>Monday</td>\n",
       "      <td>X-gender</td>\n",
       "      <td>20</td>\n",
       "      <td>34142</td>\n",
       "      <td>Unknown</td>\n",
       "      <td>2.209515</td>\n",
       "    </tr>\n",
       "    <tr>\n",
       "      <th>16</th>\n",
       "      <td>2021</td>\n",
       "      <td>1</td>\n",
       "      <td>2</td>\n",
       "      <td>4</td>\n",
       "      <td>22</td>\n",
       "      <td>Friday</td>\n",
       "      <td>X-gender</td>\n",
       "      <td>0</td>\n",
       "      <td>132444</td>\n",
       "      <td>Unknown</td>\n",
       "      <td>2.562675</td>\n",
       "    </tr>\n",
       "    <tr>\n",
       "      <th>17</th>\n",
       "      <td>2021</td>\n",
       "      <td>1</td>\n",
       "      <td>2</td>\n",
       "      <td>20</td>\n",
       "      <td>18</td>\n",
       "      <td>Saturday</td>\n",
       "      <td>X-gender</td>\n",
       "      <td>0</td>\n",
       "      <td>132405</td>\n",
       "      <td>Unknown</td>\n",
       "      <td>2.677828</td>\n",
       "    </tr>\n",
       "    <tr>\n",
       "      <th>18</th>\n",
       "      <td>2021</td>\n",
       "      <td>2</td>\n",
       "      <td>4</td>\n",
       "      <td>13</td>\n",
       "      <td>19</td>\n",
       "      <td>Thursday</td>\n",
       "      <td>X-gender</td>\n",
       "      <td>0</td>\n",
       "      <td>147507</td>\n",
       "      <td>Unknown</td>\n",
       "      <td>2.825608</td>\n",
       "    </tr>\n",
       "    <tr>\n",
       "      <th>19</th>\n",
       "      <td>2021</td>\n",
       "      <td>2</td>\n",
       "      <td>4</td>\n",
       "      <td>29</td>\n",
       "      <td>12</td>\n",
       "      <td>Thursday</td>\n",
       "      <td>X-gender</td>\n",
       "      <td>0</td>\n",
       "      <td>30842</td>\n",
       "      <td>Unknown</td>\n",
       "      <td>2.767033</td>\n",
       "    </tr>\n",
       "    <tr>\n",
       "      <th>20</th>\n",
       "      <td>2021</td>\n",
       "      <td>2</td>\n",
       "      <td>6</td>\n",
       "      <td>25</td>\n",
       "      <td>18</td>\n",
       "      <td>Friday</td>\n",
       "      <td>X-gender</td>\n",
       "      <td>0</td>\n",
       "      <td>91946</td>\n",
       "      <td>Unknown</td>\n",
       "      <td>2.859921</td>\n",
       "    </tr>\n",
       "    <tr>\n",
       "      <th>21</th>\n",
       "      <td>2021</td>\n",
       "      <td>2</td>\n",
       "      <td>6</td>\n",
       "      <td>26</td>\n",
       "      <td>12</td>\n",
       "      <td>Sunday</td>\n",
       "      <td>X-gender</td>\n",
       "      <td>0</td>\n",
       "      <td>49791</td>\n",
       "      <td>Unknown</td>\n",
       "      <td>2.589628</td>\n",
       "    </tr>\n",
       "    <tr>\n",
       "      <th>22</th>\n",
       "      <td>2021</td>\n",
       "      <td>3</td>\n",
       "      <td>8</td>\n",
       "      <td>12</td>\n",
       "      <td>3</td>\n",
       "      <td>Thursday</td>\n",
       "      <td>X-gender</td>\n",
       "      <td>0</td>\n",
       "      <td>60303</td>\n",
       "      <td>Unknown</td>\n",
       "      <td>2.071292</td>\n",
       "    </tr>\n",
       "    <tr>\n",
       "      <th>23</th>\n",
       "      <td>2021</td>\n",
       "      <td>3</td>\n",
       "      <td>9</td>\n",
       "      <td>6</td>\n",
       "      <td>10</td>\n",
       "      <td>Monday</td>\n",
       "      <td>X-gender</td>\n",
       "      <td>0</td>\n",
       "      <td>137171</td>\n",
       "      <td>Unknown</td>\n",
       "      <td>2.168343</td>\n",
       "    </tr>\n",
       "    <tr>\n",
       "      <th>24</th>\n",
       "      <td>2021</td>\n",
       "      <td>4</td>\n",
       "      <td>10</td>\n",
       "      <td>4</td>\n",
       "      <td>3</td>\n",
       "      <td>Monday</td>\n",
       "      <td>X-gender</td>\n",
       "      <td>0</td>\n",
       "      <td>92749</td>\n",
       "      <td>Unknown</td>\n",
       "      <td>2.635308</td>\n",
       "    </tr>\n",
       "    <tr>\n",
       "      <th>25</th>\n",
       "      <td>2021</td>\n",
       "      <td>4</td>\n",
       "      <td>10</td>\n",
       "      <td>25</td>\n",
       "      <td>21</td>\n",
       "      <td>Monday</td>\n",
       "      <td>X-gender</td>\n",
       "      <td>0</td>\n",
       "      <td>116915</td>\n",
       "      <td>Unknown</td>\n",
       "      <td>2.350896</td>\n",
       "    </tr>\n",
       "    <tr>\n",
       "      <th>26</th>\n",
       "      <td>2021</td>\n",
       "      <td>4</td>\n",
       "      <td>11</td>\n",
       "      <td>3</td>\n",
       "      <td>2</td>\n",
       "      <td>Wednesday</td>\n",
       "      <td>X-gender</td>\n",
       "      <td>0</td>\n",
       "      <td>21407</td>\n",
       "      <td>Unknown</td>\n",
       "      <td>2.483446</td>\n",
       "    </tr>\n",
       "    <tr>\n",
       "      <th>27</th>\n",
       "      <td>2022</td>\n",
       "      <td>1</td>\n",
       "      <td>1</td>\n",
       "      <td>16</td>\n",
       "      <td>15</td>\n",
       "      <td>Tuesday</td>\n",
       "      <td>X-gender</td>\n",
       "      <td>27</td>\n",
       "      <td>53285</td>\n",
       "      <td>Unknown</td>\n",
       "      <td>2.452738</td>\n",
       "    </tr>\n",
       "    <tr>\n",
       "      <th>28</th>\n",
       "      <td>2022</td>\n",
       "      <td>1</td>\n",
       "      <td>1</td>\n",
       "      <td>20</td>\n",
       "      <td>16</td>\n",
       "      <td>Tuesday</td>\n",
       "      <td>X-gender</td>\n",
       "      <td>0</td>\n",
       "      <td>48887</td>\n",
       "      <td>Unknown</td>\n",
       "      <td>2.843126</td>\n",
       "    </tr>\n",
       "    <tr>\n",
       "      <th>29</th>\n",
       "      <td>2022</td>\n",
       "      <td>1</td>\n",
       "      <td>2</td>\n",
       "      <td>14</td>\n",
       "      <td>15</td>\n",
       "      <td>Thursday</td>\n",
       "      <td>X-gender</td>\n",
       "      <td>0</td>\n",
       "      <td>98398</td>\n",
       "      <td>Unknown</td>\n",
       "      <td>2.982470</td>\n",
       "    </tr>\n",
       "    <tr>\n",
       "      <th>30</th>\n",
       "      <td>2022</td>\n",
       "      <td>1</td>\n",
       "      <td>2</td>\n",
       "      <td>18</td>\n",
       "      <td>16</td>\n",
       "      <td>Friday</td>\n",
       "      <td>X-gender</td>\n",
       "      <td>0</td>\n",
       "      <td>48890</td>\n",
       "      <td>Unknown</td>\n",
       "      <td>2.029320</td>\n",
       "    </tr>\n",
       "    <tr>\n",
       "      <th>31</th>\n",
       "      <td>2022</td>\n",
       "      <td>1</td>\n",
       "      <td>3</td>\n",
       "      <td>1</td>\n",
       "      <td>10</td>\n",
       "      <td>Tuesday</td>\n",
       "      <td>X-gender</td>\n",
       "      <td>21</td>\n",
       "      <td>149712</td>\n",
       "      <td>Unknown</td>\n",
       "      <td>2.746922</td>\n",
       "    </tr>\n",
       "    <tr>\n",
       "      <th>32</th>\n",
       "      <td>2022</td>\n",
       "      <td>1</td>\n",
       "      <td>3</td>\n",
       "      <td>10</td>\n",
       "      <td>3</td>\n",
       "      <td>Sunday</td>\n",
       "      <td>X-gender</td>\n",
       "      <td>0</td>\n",
       "      <td>131466</td>\n",
       "      <td>Unknown</td>\n",
       "      <td>2.331497</td>\n",
       "    </tr>\n",
       "    <tr>\n",
       "      <th>33</th>\n",
       "      <td>2022</td>\n",
       "      <td>1</td>\n",
       "      <td>3</td>\n",
       "      <td>10</td>\n",
       "      <td>5</td>\n",
       "      <td>Thursday</td>\n",
       "      <td>X-gender</td>\n",
       "      <td>0</td>\n",
       "      <td>27471</td>\n",
       "      <td>Unknown</td>\n",
       "      <td>2.876459</td>\n",
       "    </tr>\n",
       "    <tr>\n",
       "      <th>34</th>\n",
       "      <td>2022</td>\n",
       "      <td>1</td>\n",
       "      <td>3</td>\n",
       "      <td>21</td>\n",
       "      <td>24</td>\n",
       "      <td>Thursday</td>\n",
       "      <td>X-gender</td>\n",
       "      <td>0</td>\n",
       "      <td>95746</td>\n",
       "      <td>Unknown</td>\n",
       "      <td>2.460934</td>\n",
       "    </tr>\n",
       "    <tr>\n",
       "      <th>35</th>\n",
       "      <td>2022</td>\n",
       "      <td>2</td>\n",
       "      <td>4</td>\n",
       "      <td>1</td>\n",
       "      <td>15</td>\n",
       "      <td>Saturday</td>\n",
       "      <td>X-gender</td>\n",
       "      <td>0</td>\n",
       "      <td>101227</td>\n",
       "      <td>Unknown</td>\n",
       "      <td>2.781839</td>\n",
       "    </tr>\n",
       "    <tr>\n",
       "      <th>36</th>\n",
       "      <td>2022</td>\n",
       "      <td>2</td>\n",
       "      <td>5</td>\n",
       "      <td>21</td>\n",
       "      <td>21</td>\n",
       "      <td>Tuesday</td>\n",
       "      <td>X-gender</td>\n",
       "      <td>0</td>\n",
       "      <td>23658</td>\n",
       "      <td>Unknown</td>\n",
       "      <td>2.130374</td>\n",
       "    </tr>\n",
       "    <tr>\n",
       "      <th>37</th>\n",
       "      <td>2022</td>\n",
       "      <td>2</td>\n",
       "      <td>6</td>\n",
       "      <td>10</td>\n",
       "      <td>16</td>\n",
       "      <td>Friday</td>\n",
       "      <td>X-gender</td>\n",
       "      <td>0</td>\n",
       "      <td>125047</td>\n",
       "      <td>Unknown</td>\n",
       "      <td>2.987670</td>\n",
       "    </tr>\n",
       "    <tr>\n",
       "      <th>38</th>\n",
       "      <td>2022</td>\n",
       "      <td>2</td>\n",
       "      <td>6</td>\n",
       "      <td>13</td>\n",
       "      <td>15</td>\n",
       "      <td>Monday</td>\n",
       "      <td>X-gender</td>\n",
       "      <td>0</td>\n",
       "      <td>25774</td>\n",
       "      <td>Unknown</td>\n",
       "      <td>2.412352</td>\n",
       "    </tr>\n",
       "    <tr>\n",
       "      <th>39</th>\n",
       "      <td>2022</td>\n",
       "      <td>2</td>\n",
       "      <td>6</td>\n",
       "      <td>26</td>\n",
       "      <td>20</td>\n",
       "      <td>Monday</td>\n",
       "      <td>X-gender</td>\n",
       "      <td>0</td>\n",
       "      <td>133208</td>\n",
       "      <td>Unknown</td>\n",
       "      <td>2.366411</td>\n",
       "    </tr>\n",
       "    <tr>\n",
       "      <th>40</th>\n",
       "      <td>2022</td>\n",
       "      <td>3</td>\n",
       "      <td>7</td>\n",
       "      <td>3</td>\n",
       "      <td>12</td>\n",
       "      <td>Monday</td>\n",
       "      <td>X-gender</td>\n",
       "      <td>0</td>\n",
       "      <td>93048</td>\n",
       "      <td>Unknown</td>\n",
       "      <td>2.079903</td>\n",
       "    </tr>\n",
       "    <tr>\n",
       "      <th>41</th>\n",
       "      <td>2022</td>\n",
       "      <td>3</td>\n",
       "      <td>7</td>\n",
       "      <td>14</td>\n",
       "      <td>21</td>\n",
       "      <td>Friday</td>\n",
       "      <td>X-gender</td>\n",
       "      <td>0</td>\n",
       "      <td>136143</td>\n",
       "      <td>Unknown</td>\n",
       "      <td>2.983012</td>\n",
       "    </tr>\n",
       "    <tr>\n",
       "      <th>42</th>\n",
       "      <td>2022</td>\n",
       "      <td>3</td>\n",
       "      <td>9</td>\n",
       "      <td>6</td>\n",
       "      <td>3</td>\n",
       "      <td>Tuesday</td>\n",
       "      <td>X-gender</td>\n",
       "      <td>0</td>\n",
       "      <td>83958</td>\n",
       "      <td>Unknown</td>\n",
       "      <td>2.649665</td>\n",
       "    </tr>\n",
       "    <tr>\n",
       "      <th>43</th>\n",
       "      <td>2022</td>\n",
       "      <td>3</td>\n",
       "      <td>9</td>\n",
       "      <td>29</td>\n",
       "      <td>13</td>\n",
       "      <td>Thursday</td>\n",
       "      <td>X-gender</td>\n",
       "      <td>0</td>\n",
       "      <td>109108</td>\n",
       "      <td>Unknown</td>\n",
       "      <td>2.252764</td>\n",
       "    </tr>\n",
       "    <tr>\n",
       "      <th>44</th>\n",
       "      <td>2022</td>\n",
       "      <td>4</td>\n",
       "      <td>10</td>\n",
       "      <td>12</td>\n",
       "      <td>16</td>\n",
       "      <td>Thursday</td>\n",
       "      <td>X-gender</td>\n",
       "      <td>16</td>\n",
       "      <td>69312</td>\n",
       "      <td>Unknown</td>\n",
       "      <td>2.557603</td>\n",
       "    </tr>\n",
       "    <tr>\n",
       "      <th>45</th>\n",
       "      <td>2022</td>\n",
       "      <td>4</td>\n",
       "      <td>10</td>\n",
       "      <td>14</td>\n",
       "      <td>0</td>\n",
       "      <td>Friday</td>\n",
       "      <td>X-gender</td>\n",
       "      <td>0</td>\n",
       "      <td>118527</td>\n",
       "      <td>Unknown</td>\n",
       "      <td>2.862434</td>\n",
       "    </tr>\n",
       "    <tr>\n",
       "      <th>46</th>\n",
       "      <td>2022</td>\n",
       "      <td>4</td>\n",
       "      <td>10</td>\n",
       "      <td>15</td>\n",
       "      <td>21</td>\n",
       "      <td>Monday</td>\n",
       "      <td>X-gender</td>\n",
       "      <td>0</td>\n",
       "      <td>21847</td>\n",
       "      <td>Unknown</td>\n",
       "      <td>2.755629</td>\n",
       "    </tr>\n",
       "    <tr>\n",
       "      <th>47</th>\n",
       "      <td>2022</td>\n",
       "      <td>4</td>\n",
       "      <td>10</td>\n",
       "      <td>22</td>\n",
       "      <td>17</td>\n",
       "      <td>Sunday</td>\n",
       "      <td>X-gender</td>\n",
       "      <td>0</td>\n",
       "      <td>83955</td>\n",
       "      <td>Unknown</td>\n",
       "      <td>2.255275</td>\n",
       "    </tr>\n",
       "    <tr>\n",
       "      <th>48</th>\n",
       "      <td>2022</td>\n",
       "      <td>4</td>\n",
       "      <td>11</td>\n",
       "      <td>3</td>\n",
       "      <td>20</td>\n",
       "      <td>Thursday</td>\n",
       "      <td>X-gender</td>\n",
       "      <td>0</td>\n",
       "      <td>105079</td>\n",
       "      <td>Unknown</td>\n",
       "      <td>2.540114</td>\n",
       "    </tr>\n",
       "    <tr>\n",
       "      <th>49</th>\n",
       "      <td>2022</td>\n",
       "      <td>4</td>\n",
       "      <td>11</td>\n",
       "      <td>5</td>\n",
       "      <td>22</td>\n",
       "      <td>Sunday</td>\n",
       "      <td>X-gender</td>\n",
       "      <td>0</td>\n",
       "      <td>102944</td>\n",
       "      <td>Unknown</td>\n",
       "      <td>2.398342</td>\n",
       "    </tr>\n",
       "    <tr>\n",
       "      <th>50</th>\n",
       "      <td>2022</td>\n",
       "      <td>4</td>\n",
       "      <td>11</td>\n",
       "      <td>29</td>\n",
       "      <td>15</td>\n",
       "      <td>Tuesday</td>\n",
       "      <td>X-gender</td>\n",
       "      <td>0</td>\n",
       "      <td>46793</td>\n",
       "      <td>Unknown</td>\n",
       "      <td>2.662315</td>\n",
       "    </tr>\n",
       "    <tr>\n",
       "      <th>51</th>\n",
       "      <td>2022</td>\n",
       "      <td>4</td>\n",
       "      <td>12</td>\n",
       "      <td>27</td>\n",
       "      <td>3</td>\n",
       "      <td>Tuesday</td>\n",
       "      <td>X-gender</td>\n",
       "      <td>0</td>\n",
       "      <td>22388</td>\n",
       "      <td>Unknown</td>\n",
       "      <td>2.895766</td>\n",
       "    </tr>\n",
       "    <tr>\n",
       "      <th>52</th>\n",
       "      <td>2023</td>\n",
       "      <td>1</td>\n",
       "      <td>1</td>\n",
       "      <td>21</td>\n",
       "      <td>18</td>\n",
       "      <td>Saturday</td>\n",
       "      <td>X-gender</td>\n",
       "      <td>0</td>\n",
       "      <td>96934</td>\n",
       "      <td>Unknown</td>\n",
       "      <td>2.634835</td>\n",
       "    </tr>\n",
       "    <tr>\n",
       "      <th>53</th>\n",
       "      <td>2023</td>\n",
       "      <td>1</td>\n",
       "      <td>1</td>\n",
       "      <td>22</td>\n",
       "      <td>0</td>\n",
       "      <td>Monday</td>\n",
       "      <td>X-gender</td>\n",
       "      <td>0</td>\n",
       "      <td>129153</td>\n",
       "      <td>Unknown</td>\n",
       "      <td>2.230090</td>\n",
       "    </tr>\n",
       "    <tr>\n",
       "      <th>54</th>\n",
       "      <td>2023</td>\n",
       "      <td>1</td>\n",
       "      <td>3</td>\n",
       "      <td>20</td>\n",
       "      <td>18</td>\n",
       "      <td>Tuesday</td>\n",
       "      <td>X-gender</td>\n",
       "      <td>22</td>\n",
       "      <td>29023</td>\n",
       "      <td>Unknown</td>\n",
       "      <td>2.132635</td>\n",
       "    </tr>\n",
       "    <tr>\n",
       "      <th>55</th>\n",
       "      <td>2023</td>\n",
       "      <td>1</td>\n",
       "      <td>3</td>\n",
       "      <td>26</td>\n",
       "      <td>15</td>\n",
       "      <td>Monday</td>\n",
       "      <td>X-gender</td>\n",
       "      <td>0</td>\n",
       "      <td>116476</td>\n",
       "      <td>Unknown</td>\n",
       "      <td>2.560739</td>\n",
       "    </tr>\n",
       "    <tr>\n",
       "      <th>56</th>\n",
       "      <td>2023</td>\n",
       "      <td>2</td>\n",
       "      <td>4</td>\n",
       "      <td>28</td>\n",
       "      <td>21</td>\n",
       "      <td>Saturday</td>\n",
       "      <td>X-gender</td>\n",
       "      <td>22</td>\n",
       "      <td>131927</td>\n",
       "      <td>Unknown</td>\n",
       "      <td>2.592215</td>\n",
       "    </tr>\n",
       "    <tr>\n",
       "      <th>57</th>\n",
       "      <td>2023</td>\n",
       "      <td>2</td>\n",
       "      <td>6</td>\n",
       "      <td>5</td>\n",
       "      <td>19</td>\n",
       "      <td>Tuesday</td>\n",
       "      <td>X-gender</td>\n",
       "      <td>0</td>\n",
       "      <td>73146</td>\n",
       "      <td>Unknown</td>\n",
       "      <td>2.527526</td>\n",
       "    </tr>\n",
       "    <tr>\n",
       "      <th>58</th>\n",
       "      <td>2023</td>\n",
       "      <td>2</td>\n",
       "      <td>6</td>\n",
       "      <td>29</td>\n",
       "      <td>12</td>\n",
       "      <td>Thursday</td>\n",
       "      <td>X-gender</td>\n",
       "      <td>0</td>\n",
       "      <td>107258</td>\n",
       "      <td>Unknown</td>\n",
       "      <td>2.806865</td>\n",
       "    </tr>\n",
       "    <tr>\n",
       "      <th>59</th>\n",
       "      <td>2023</td>\n",
       "      <td>2</td>\n",
       "      <td>6</td>\n",
       "      <td>30</td>\n",
       "      <td>14</td>\n",
       "      <td>Friday</td>\n",
       "      <td>X-gender</td>\n",
       "      <td>0</td>\n",
       "      <td>29521</td>\n",
       "      <td>Unknown</td>\n",
       "      <td>2.342605</td>\n",
       "    </tr>\n",
       "  </tbody>\n",
       "</table>\n",
       "</div>"
      ],
      "text/plain": [
       "    Year  Quarter  Month  Day  Time Day of Week  Vict Sex  Vict Age  \\\n",
       "0   2020        1      2   15    20      Friday  X-gender         0   \n",
       "1   2020        1      3   22    17      Sunday  X-gender         0   \n",
       "2   2020        2      5    1    19      Friday  X-gender         0   \n",
       "3   2020        2      5   16    19    Saturday  X-gender         0   \n",
       "4   2020        2      5   30    15   Wednesday  X-gender         0   \n",
       "5   2020        2      6    1    19     Tuesday  X-gender         0   \n",
       "6   2020        2      6    7    19      Sunday  X-gender         0   \n",
       "7   2020        2      6   12    13      Friday  X-gender         0   \n",
       "8   2020        3      7    1    18    Thursday  X-gender         0   \n",
       "9   2020        3      7    4    15      Sunday  X-gender         0   \n",
       "10  2020        3      7   15    17   Wednesday  X-gender        19   \n",
       "11  2020        3      8   16    12      Friday  X-gender        19   \n",
       "12  2020        4     10   12     0   Wednesday  X-gender         0   \n",
       "13  2020        4     11    3    16     Tuesday  X-gender         0   \n",
       "14  2021        1      1   22     4      Friday  X-gender         0   \n",
       "15  2021        1      1   31    21      Monday  X-gender        20   \n",
       "16  2021        1      2    4    22      Friday  X-gender         0   \n",
       "17  2021        1      2   20    18    Saturday  X-gender         0   \n",
       "18  2021        2      4   13    19    Thursday  X-gender         0   \n",
       "19  2021        2      4   29    12    Thursday  X-gender         0   \n",
       "20  2021        2      6   25    18      Friday  X-gender         0   \n",
       "21  2021        2      6   26    12      Sunday  X-gender         0   \n",
       "22  2021        3      8   12     3    Thursday  X-gender         0   \n",
       "23  2021        3      9    6    10      Monday  X-gender         0   \n",
       "24  2021        4     10    4     3      Monday  X-gender         0   \n",
       "25  2021        4     10   25    21      Monday  X-gender         0   \n",
       "26  2021        4     11    3     2   Wednesday  X-gender         0   \n",
       "27  2022        1      1   16    15     Tuesday  X-gender        27   \n",
       "28  2022        1      1   20    16     Tuesday  X-gender         0   \n",
       "29  2022        1      2   14    15    Thursday  X-gender         0   \n",
       "30  2022        1      2   18    16      Friday  X-gender         0   \n",
       "31  2022        1      3    1    10     Tuesday  X-gender        21   \n",
       "32  2022        1      3   10     3      Sunday  X-gender         0   \n",
       "33  2022        1      3   10     5    Thursday  X-gender         0   \n",
       "34  2022        1      3   21    24    Thursday  X-gender         0   \n",
       "35  2022        2      4    1    15    Saturday  X-gender         0   \n",
       "36  2022        2      5   21    21     Tuesday  X-gender         0   \n",
       "37  2022        2      6   10    16      Friday  X-gender         0   \n",
       "38  2022        2      6   13    15      Monday  X-gender         0   \n",
       "39  2022        2      6   26    20      Monday  X-gender         0   \n",
       "40  2022        3      7    3    12      Monday  X-gender         0   \n",
       "41  2022        3      7   14    21      Friday  X-gender         0   \n",
       "42  2022        3      9    6     3     Tuesday  X-gender         0   \n",
       "43  2022        3      9   29    13    Thursday  X-gender         0   \n",
       "44  2022        4     10   12    16    Thursday  X-gender        16   \n",
       "45  2022        4     10   14     0      Friday  X-gender         0   \n",
       "46  2022        4     10   15    21      Monday  X-gender         0   \n",
       "47  2022        4     10   22    17      Sunday  X-gender         0   \n",
       "48  2022        4     11    3    20    Thursday  X-gender         0   \n",
       "49  2022        4     11    5    22      Sunday  X-gender         0   \n",
       "50  2022        4     11   29    15     Tuesday  X-gender         0   \n",
       "51  2022        4     12   27     3     Tuesday  X-gender         0   \n",
       "52  2023        1      1   21    18    Saturday  X-gender         0   \n",
       "53  2023        1      1   22     0      Monday  X-gender         0   \n",
       "54  2023        1      3   20    18     Tuesday  X-gender        22   \n",
       "55  2023        1      3   26    15      Monday  X-gender         0   \n",
       "56  2023        2      4   28    21    Saturday  X-gender        22   \n",
       "57  2023        2      6    5    19     Tuesday  X-gender         0   \n",
       "58  2023        2      6   29    12    Thursday  X-gender         0   \n",
       "59  2023        2      6   30    14      Friday  X-gender         0   \n",
       "\n",
       "    annual earnings Vict Descent     count  \n",
       "0             50213      Unknown  2.836594  \n",
       "1            117444      Unknown  2.912332  \n",
       "2             39666      Unknown  2.251668  \n",
       "3             72186      Unknown  2.173644  \n",
       "4            125661      Unknown  2.104155  \n",
       "5             99764      Unknown  2.087186  \n",
       "6            149843      Unknown  2.525745  \n",
       "7            142037      Unknown  2.222496  \n",
       "8             40809      Unknown  2.358922  \n",
       "9            116604      Unknown  2.495428  \n",
       "10           103368      Unknown  2.257556  \n",
       "11            90146      Unknown  2.047383  \n",
       "12           136176      Unknown  2.952638  \n",
       "13            76232      Unknown  2.891129  \n",
       "14           129722      Unknown  2.946590  \n",
       "15            34142      Unknown  2.209515  \n",
       "16           132444      Unknown  2.562675  \n",
       "17           132405      Unknown  2.677828  \n",
       "18           147507      Unknown  2.825608  \n",
       "19            30842      Unknown  2.767033  \n",
       "20            91946      Unknown  2.859921  \n",
       "21            49791      Unknown  2.589628  \n",
       "22            60303      Unknown  2.071292  \n",
       "23           137171      Unknown  2.168343  \n",
       "24            92749      Unknown  2.635308  \n",
       "25           116915      Unknown  2.350896  \n",
       "26            21407      Unknown  2.483446  \n",
       "27            53285      Unknown  2.452738  \n",
       "28            48887      Unknown  2.843126  \n",
       "29            98398      Unknown  2.982470  \n",
       "30            48890      Unknown  2.029320  \n",
       "31           149712      Unknown  2.746922  \n",
       "32           131466      Unknown  2.331497  \n",
       "33            27471      Unknown  2.876459  \n",
       "34            95746      Unknown  2.460934  \n",
       "35           101227      Unknown  2.781839  \n",
       "36            23658      Unknown  2.130374  \n",
       "37           125047      Unknown  2.987670  \n",
       "38            25774      Unknown  2.412352  \n",
       "39           133208      Unknown  2.366411  \n",
       "40            93048      Unknown  2.079903  \n",
       "41           136143      Unknown  2.983012  \n",
       "42            83958      Unknown  2.649665  \n",
       "43           109108      Unknown  2.252764  \n",
       "44            69312      Unknown  2.557603  \n",
       "45           118527      Unknown  2.862434  \n",
       "46            21847      Unknown  2.755629  \n",
       "47            83955      Unknown  2.255275  \n",
       "48           105079      Unknown  2.540114  \n",
       "49           102944      Unknown  2.398342  \n",
       "50            46793      Unknown  2.662315  \n",
       "51            22388      Unknown  2.895766  \n",
       "52            96934      Unknown  2.634835  \n",
       "53           129153      Unknown  2.230090  \n",
       "54            29023      Unknown  2.132635  \n",
       "55           116476      Unknown  2.560739  \n",
       "56           131927      Unknown  2.592215  \n",
       "57            73146      Unknown  2.527526  \n",
       "58           107258      Unknown  2.806865  \n",
       "59            29521      Unknown  2.342605  "
      ]
     },
     "execution_count": 84,
     "metadata": {},
     "output_type": "execute_result"
    }
   ],
   "source": [
    "df"
   ]
  },
  {
   "cell_type": "code",
   "execution_count": 85,
   "metadata": {},
   "outputs": [
    {
     "data": {
      "application/vnd.plotly.v1+json": {
       "config": {
        "plotlyServerURL": "https://plot.ly"
       },
       "data": [
        {
         "mode": "lines+markers",
         "name": "Actual",
         "type": "scatter",
         "x": [
          "2020-02-15T00:00:00",
          "2020-03-22T00:00:00",
          "2020-05-01T00:00:00",
          "2020-05-16T00:00:00",
          "2020-05-30T00:00:00",
          "2020-06-01T00:00:00",
          "2020-06-07T00:00:00",
          "2020-06-12T00:00:00",
          "2020-07-01T00:00:00",
          "2020-07-04T00:00:00",
          "2020-07-15T00:00:00",
          "2020-08-16T00:00:00",
          "2020-10-12T00:00:00",
          "2020-11-03T00:00:00",
          "2021-01-22T00:00:00",
          "2021-01-31T00:00:00",
          "2021-02-04T00:00:00",
          "2021-02-20T00:00:00",
          "2021-04-13T00:00:00",
          "2021-04-29T00:00:00",
          "2021-06-25T00:00:00",
          "2021-06-26T00:00:00",
          "2021-08-12T00:00:00",
          "2021-09-06T00:00:00",
          "2021-10-04T00:00:00",
          "2021-10-25T00:00:00",
          "2021-11-03T00:00:00",
          "2022-01-16T00:00:00",
          "2022-01-20T00:00:00",
          "2022-02-14T00:00:00",
          "2022-02-18T00:00:00",
          "2022-03-01T00:00:00",
          "2022-03-10T00:00:00",
          "2022-03-21T00:00:00",
          "2022-04-01T00:00:00",
          "2022-05-21T00:00:00",
          "2022-06-10T00:00:00",
          "2022-06-13T00:00:00",
          "2022-06-26T00:00:00",
          "2022-07-03T00:00:00",
          "2022-07-14T00:00:00",
          "2022-09-06T00:00:00",
          "2022-09-29T00:00:00",
          "2022-10-12T00:00:00",
          "2022-10-14T00:00:00",
          "2022-10-15T00:00:00",
          "2022-10-22T00:00:00",
          "2022-11-03T00:00:00",
          "2022-11-05T00:00:00",
          "2022-11-29T00:00:00",
          "2022-12-27T00:00:00",
          "2023-01-21T00:00:00",
          "2023-01-22T00:00:00",
          "2023-03-20T00:00:00",
          "2023-03-26T00:00:00",
          "2023-04-28T00:00:00",
          "2023-06-05T00:00:00",
          "2023-06-29T00:00:00",
          "2023-06-30T00:00:00"
         ],
         "y": [
          2.8365943005458836,
          2.9123324146804355,
          2.251668338499821,
          2.1736437385080603,
          2.104155225373569,
          2.0871861777940093,
          2.5257445125345814,
          2.2224955989515722,
          2.358922479319806,
          2.4954283460779374,
          2.257556008206543,
          2.047383432111384,
          2.9526375566861356,
          2.891129430631155,
          2.946589889822713,
          2.209515060151835,
          2.5626750929614137,
          2.677828431297991,
          2.8256075267935787,
          2.7670332555275294,
          2.8599211232777972,
          2.589627826768397,
          2.071291768392821,
          2.168343399973405,
          2.635307669731165,
          2.350896245408463,
          2.4834460356002026,
          2.452737834263422,
          2.8431258614684336,
          2.982470278086992,
          2.0293201591320513,
          2.7469224039911158,
          5.207956062112454,
          2.460933764137204,
          2.781839393316717,
          2.1303737223695984,
          2.9876695261096504,
          2.412351566506364,
          2.3664110822314712,
          2.079902783697175,
          2.9830120041073465,
          2.649664515860399,
          2.2527637017833246,
          2.557603108910159,
          2.862433862151808,
          2.7556290569928574,
          2.255275148108431,
          2.5401136578602763,
          2.3983421816701016,
          2.6623151161573855,
          2.895766230664666,
          2.6348345199365335,
          2.2300899632456104,
          2.1326352436611975,
          2.56073863117833,
          2.5922145318086924,
          2.527526035527442,
          2.8068646962538226,
          2.3426054130120493
         ]
        },
        {
         "line": {
          "color": "red",
          "dash": "dash"
         },
         "mode": "lines+markers",
         "name": "Forecast",
         "type": "scatter",
         "x": [
          "2023-07-01T00:00:00",
          "2023-07-02T00:00:00",
          "2023-07-03T00:00:00",
          "2023-07-04T00:00:00",
          "2023-07-05T00:00:00",
          "2023-07-06T00:00:00",
          "2023-07-07T00:00:00",
          "2023-07-08T00:00:00",
          "2023-07-09T00:00:00",
          "2023-07-10T00:00:00",
          "2023-07-11T00:00:00",
          "2023-07-12T00:00:00",
          "2023-07-13T00:00:00",
          "2023-07-14T00:00:00",
          "2023-07-15T00:00:00",
          "2023-07-16T00:00:00",
          "2023-07-17T00:00:00",
          "2023-07-18T00:00:00",
          "2023-07-19T00:00:00",
          "2023-07-20T00:00:00",
          "2023-07-21T00:00:00",
          "2023-07-22T00:00:00",
          "2023-07-23T00:00:00",
          "2023-07-24T00:00:00",
          "2023-07-25T00:00:00",
          "2023-07-26T00:00:00",
          "2023-07-27T00:00:00",
          "2023-07-28T00:00:00",
          "2023-07-29T00:00:00",
          "2023-07-30T00:00:00",
          "2023-07-31T00:00:00",
          "2023-08-01T00:00:00",
          "2023-08-02T00:00:00",
          "2023-08-03T00:00:00",
          "2023-08-04T00:00:00",
          "2023-08-05T00:00:00",
          "2023-08-06T00:00:00",
          "2023-08-07T00:00:00",
          "2023-08-08T00:00:00",
          "2023-08-09T00:00:00",
          "2023-08-10T00:00:00",
          "2023-08-11T00:00:00",
          "2023-08-12T00:00:00",
          "2023-08-13T00:00:00",
          "2023-08-14T00:00:00",
          "2023-08-15T00:00:00",
          "2023-08-16T00:00:00",
          "2023-08-17T00:00:00",
          "2023-08-18T00:00:00",
          "2023-08-19T00:00:00",
          "2023-08-20T00:00:00",
          "2023-08-21T00:00:00",
          "2023-08-22T00:00:00",
          "2023-08-23T00:00:00",
          "2023-08-24T00:00:00",
          "2023-08-25T00:00:00",
          "2023-08-26T00:00:00",
          "2023-08-27T00:00:00",
          "2023-08-28T00:00:00",
          "2023-08-29T00:00:00",
          "2023-08-30T00:00:00",
          "2023-08-31T00:00:00",
          "2023-09-01T00:00:00",
          "2023-09-02T00:00:00",
          "2023-09-03T00:00:00",
          "2023-09-04T00:00:00",
          "2023-09-05T00:00:00",
          "2023-09-06T00:00:00",
          "2023-09-07T00:00:00",
          "2023-09-08T00:00:00",
          "2023-09-09T00:00:00",
          "2023-09-10T00:00:00",
          "2023-09-11T00:00:00",
          "2023-09-12T00:00:00",
          "2023-09-13T00:00:00",
          "2023-09-14T00:00:00",
          "2023-09-15T00:00:00",
          "2023-09-16T00:00:00",
          "2023-09-17T00:00:00",
          "2023-09-18T00:00:00",
          "2023-09-19T00:00:00",
          "2023-09-20T00:00:00",
          "2023-09-21T00:00:00",
          "2023-09-22T00:00:00",
          "2023-09-23T00:00:00",
          "2023-09-24T00:00:00",
          "2023-09-25T00:00:00",
          "2023-09-26T00:00:00",
          "2023-09-27T00:00:00",
          "2023-09-28T00:00:00",
          "2023-09-29T00:00:00",
          "2023-09-30T00:00:00",
          "2023-10-01T00:00:00",
          "2023-10-02T00:00:00",
          "2023-10-03T00:00:00",
          "2023-10-04T00:00:00",
          "2023-10-05T00:00:00",
          "2023-10-06T00:00:00",
          "2023-10-07T00:00:00",
          "2023-10-08T00:00:00",
          "2023-10-09T00:00:00",
          "2023-10-10T00:00:00",
          "2023-10-11T00:00:00",
          "2023-10-12T00:00:00",
          "2023-10-13T00:00:00",
          "2023-10-14T00:00:00",
          "2023-10-15T00:00:00",
          "2023-10-16T00:00:00",
          "2023-10-17T00:00:00",
          "2023-10-18T00:00:00",
          "2023-10-19T00:00:00",
          "2023-10-20T00:00:00",
          "2023-10-21T00:00:00",
          "2023-10-22T00:00:00",
          "2023-10-23T00:00:00",
          "2023-10-24T00:00:00",
          "2023-10-25T00:00:00",
          "2023-10-26T00:00:00",
          "2023-10-27T00:00:00",
          "2023-10-28T00:00:00",
          "2023-10-29T00:00:00",
          "2023-10-30T00:00:00",
          "2023-10-31T00:00:00",
          "2023-11-01T00:00:00",
          "2023-11-02T00:00:00",
          "2023-11-03T00:00:00",
          "2023-11-04T00:00:00",
          "2023-11-05T00:00:00",
          "2023-11-06T00:00:00",
          "2023-11-07T00:00:00",
          "2023-11-08T00:00:00",
          "2023-11-09T00:00:00",
          "2023-11-10T00:00:00",
          "2023-11-11T00:00:00",
          "2023-11-12T00:00:00",
          "2023-11-13T00:00:00",
          "2023-11-14T00:00:00",
          "2023-11-15T00:00:00",
          "2023-11-16T00:00:00",
          "2023-11-17T00:00:00",
          "2023-11-18T00:00:00",
          "2023-11-19T00:00:00",
          "2023-11-20T00:00:00",
          "2023-11-21T00:00:00",
          "2023-11-22T00:00:00",
          "2023-11-23T00:00:00",
          "2023-11-24T00:00:00",
          "2023-11-25T00:00:00",
          "2023-11-26T00:00:00",
          "2023-11-27T00:00:00",
          "2023-11-28T00:00:00",
          "2023-11-29T00:00:00",
          "2023-11-30T00:00:00",
          "2023-12-01T00:00:00",
          "2023-12-02T00:00:00",
          "2023-12-03T00:00:00",
          "2023-12-04T00:00:00",
          "2023-12-05T00:00:00",
          "2023-12-06T00:00:00",
          "2023-12-07T00:00:00",
          "2023-12-08T00:00:00",
          "2023-12-09T00:00:00",
          "2023-12-10T00:00:00",
          "2023-12-11T00:00:00",
          "2023-12-12T00:00:00",
          "2023-12-13T00:00:00",
          "2023-12-14T00:00:00",
          "2023-12-15T00:00:00",
          "2023-12-16T00:00:00",
          "2023-12-17T00:00:00",
          "2023-12-18T00:00:00",
          "2023-12-19T00:00:00",
          "2023-12-20T00:00:00",
          "2023-12-21T00:00:00",
          "2023-12-22T00:00:00",
          "2023-12-23T00:00:00",
          "2023-12-24T00:00:00",
          "2023-12-25T00:00:00",
          "2023-12-26T00:00:00",
          "2023-12-27T00:00:00",
          "2023-12-28T00:00:00",
          "2023-12-29T00:00:00",
          "2023-12-30T00:00:00",
          "2023-12-31T00:00:00",
          "2024-01-01T00:00:00",
          "2024-01-02T00:00:00",
          "2024-01-03T00:00:00",
          "2024-01-04T00:00:00",
          "2024-01-05T00:00:00",
          "2024-01-06T00:00:00",
          "2024-01-07T00:00:00",
          "2024-01-08T00:00:00",
          "2024-01-09T00:00:00",
          "2024-01-10T00:00:00",
          "2024-01-11T00:00:00",
          "2024-01-12T00:00:00",
          "2024-01-13T00:00:00",
          "2024-01-14T00:00:00",
          "2024-01-15T00:00:00",
          "2024-01-16T00:00:00",
          "2024-01-17T00:00:00",
          "2024-01-18T00:00:00",
          "2024-01-19T00:00:00",
          "2024-01-20T00:00:00",
          "2024-01-21T00:00:00",
          "2024-01-22T00:00:00",
          "2024-01-23T00:00:00",
          "2024-01-24T00:00:00",
          "2024-01-25T00:00:00",
          "2024-01-26T00:00:00",
          "2024-01-27T00:00:00",
          "2024-01-28T00:00:00",
          "2024-01-29T00:00:00",
          "2024-01-30T00:00:00",
          "2024-01-31T00:00:00",
          "2024-02-01T00:00:00",
          "2024-02-02T00:00:00",
          "2024-02-03T00:00:00",
          "2024-02-04T00:00:00",
          "2024-02-05T00:00:00",
          "2024-02-06T00:00:00",
          "2024-02-07T00:00:00",
          "2024-02-08T00:00:00",
          "2024-02-09T00:00:00",
          "2024-02-10T00:00:00",
          "2024-02-11T00:00:00",
          "2024-02-12T00:00:00",
          "2024-02-13T00:00:00",
          "2024-02-14T00:00:00",
          "2024-02-15T00:00:00",
          "2024-02-16T00:00:00",
          "2024-02-17T00:00:00",
          "2024-02-18T00:00:00",
          "2024-02-19T00:00:00",
          "2024-02-20T00:00:00",
          "2024-02-21T00:00:00",
          "2024-02-22T00:00:00",
          "2024-02-23T00:00:00",
          "2024-02-24T00:00:00",
          "2024-02-25T00:00:00",
          "2024-02-26T00:00:00",
          "2024-02-27T00:00:00",
          "2024-02-28T00:00:00",
          "2024-02-29T00:00:00",
          "2024-03-01T00:00:00",
          "2024-03-02T00:00:00",
          "2024-03-03T00:00:00",
          "2024-03-04T00:00:00",
          "2024-03-05T00:00:00",
          "2024-03-06T00:00:00",
          "2024-03-07T00:00:00",
          "2024-03-08T00:00:00",
          "2024-03-09T00:00:00",
          "2024-03-10T00:00:00",
          "2024-03-11T00:00:00",
          "2024-03-12T00:00:00",
          "2024-03-13T00:00:00",
          "2024-03-14T00:00:00",
          "2024-03-15T00:00:00",
          "2024-03-16T00:00:00",
          "2024-03-17T00:00:00",
          "2024-03-18T00:00:00",
          "2024-03-19T00:00:00",
          "2024-03-20T00:00:00",
          "2024-03-21T00:00:00",
          "2024-03-22T00:00:00",
          "2024-03-23T00:00:00",
          "2024-03-24T00:00:00",
          "2024-03-25T00:00:00",
          "2024-03-26T00:00:00",
          "2024-03-27T00:00:00",
          "2024-03-28T00:00:00",
          "2024-03-29T00:00:00",
          "2024-03-30T00:00:00",
          "2024-03-31T00:00:00",
          "2024-04-01T00:00:00",
          "2024-04-02T00:00:00",
          "2024-04-03T00:00:00",
          "2024-04-04T00:00:00",
          "2024-04-05T00:00:00",
          "2024-04-06T00:00:00",
          "2024-04-07T00:00:00",
          "2024-04-08T00:00:00",
          "2024-04-09T00:00:00",
          "2024-04-10T00:00:00",
          "2024-04-11T00:00:00",
          "2024-04-12T00:00:00",
          "2024-04-13T00:00:00",
          "2024-04-14T00:00:00",
          "2024-04-15T00:00:00",
          "2024-04-16T00:00:00",
          "2024-04-17T00:00:00",
          "2024-04-18T00:00:00",
          "2024-04-19T00:00:00",
          "2024-04-20T00:00:00",
          "2024-04-21T00:00:00",
          "2024-04-22T00:00:00",
          "2024-04-23T00:00:00",
          "2024-04-24T00:00:00",
          "2024-04-25T00:00:00",
          "2024-04-26T00:00:00",
          "2024-04-27T00:00:00",
          "2024-04-28T00:00:00",
          "2024-04-29T00:00:00",
          "2024-04-30T00:00:00",
          "2024-05-01T00:00:00",
          "2024-05-02T00:00:00",
          "2024-05-03T00:00:00",
          "2024-05-04T00:00:00",
          "2024-05-05T00:00:00",
          "2024-05-06T00:00:00",
          "2024-05-07T00:00:00",
          "2024-05-08T00:00:00",
          "2024-05-09T00:00:00",
          "2024-05-10T00:00:00",
          "2024-05-11T00:00:00",
          "2024-05-12T00:00:00",
          "2024-05-13T00:00:00",
          "2024-05-14T00:00:00",
          "2024-05-15T00:00:00",
          "2024-05-16T00:00:00",
          "2024-05-17T00:00:00",
          "2024-05-18T00:00:00",
          "2024-05-19T00:00:00",
          "2024-05-20T00:00:00",
          "2024-05-21T00:00:00",
          "2024-05-22T00:00:00",
          "2024-05-23T00:00:00",
          "2024-05-24T00:00:00",
          "2024-05-25T00:00:00",
          "2024-05-26T00:00:00",
          "2024-05-27T00:00:00",
          "2024-05-28T00:00:00",
          "2024-05-29T00:00:00",
          "2024-05-30T00:00:00",
          "2024-05-31T00:00:00",
          "2024-06-01T00:00:00",
          "2024-06-02T00:00:00",
          "2024-06-03T00:00:00",
          "2024-06-04T00:00:00",
          "2024-06-05T00:00:00",
          "2024-06-06T00:00:00",
          "2024-06-07T00:00:00",
          "2024-06-08T00:00:00",
          "2024-06-09T00:00:00",
          "2024-06-10T00:00:00",
          "2024-06-11T00:00:00",
          "2024-06-12T00:00:00",
          "2024-06-13T00:00:00",
          "2024-06-14T00:00:00",
          "2024-06-15T00:00:00",
          "2024-06-16T00:00:00",
          "2024-06-17T00:00:00",
          "2024-06-18T00:00:00",
          "2024-06-19T00:00:00",
          "2024-06-20T00:00:00",
          "2024-06-21T00:00:00",
          "2024-06-22T00:00:00",
          "2024-06-23T00:00:00",
          "2024-06-24T00:00:00",
          "2024-06-25T00:00:00",
          "2024-06-26T00:00:00",
          "2024-06-27T00:00:00",
          "2024-06-28T00:00:00",
          "2024-06-29T00:00:00",
          "2024-06-30T00:00:00"
         ],
         "y": [
          2.357576847076416,
          2.357576847076416,
          2.0830652713775635,
          2.4950478076934814,
          2.4780633449554443,
          2.4791347980499268,
          2.478182554244995,
          2.478182554244995,
          2.478182554244995,
          2.834974527359009,
          2.834974527359009,
          2.2529335021972656,
          2.5742223262786865,
          2.979309320449829,
          2.25962495803833,
          2.232694149017334,
          2.232694149017334,
          2.217988967895508,
          2.217988967895508,
          2.341201066970825,
          2.321943521499634,
          2.3307089805603027,
          2.3307089805603027,
          2.3307089805603027,
          2.715649127960205,
          2.3864996433258057,
          2.3281641006469727,
          2.3281641006469727,
          2.3281521797180176,
          2.2501351833343506,
          2.2501351833343506,
          2.4270567893981934,
          2.4270567893981934,
          2.4113008975982666,
          2.4773218631744385,
          2.3996317386627197,
          2.4044768810272217,
          2.2735936641693115,
          2.2735936641693115,
          2.2735936641693115,
          2.624476909637451,
          2.624476909637451,
          2.0712287425994873,
          2.382293701171875,
          2.6661696434020996,
          2.073364496231079,
          2.046433687210083,
          2.046433687210083,
          2.0249834060668945,
          2.0249834060668945,
          2.140462875366211,
          2.1203362941741943,
          2.126040458679199,
          2.126040458679199,
          2.126040458679199,
          2.5109806060791016,
          2.2498672008514404,
          2.1915316581726074,
          2.1915316581726074,
          2.1915197372436523,
          2.1135027408599854,
          2.1135027408599854,
          2.432708740234375,
          2.432708740234375,
          2.416952610015869,
          2.482973575592041,
          2.4042580127716064,
          2.4091031551361084,
          2.2782199382781982,
          2.2782199382781982,
          2.2782199382781982,
          2.629103183746338,
          2.629103183746338,
          2.288552761077881,
          2.4809956550598145,
          2.6661696434020996,
          2.135425090789795,
          2.108494281768799,
          2.108494281768799,
          2.0870440006256104,
          2.0870440006256104,
          2.2025234699249268,
          2.18239688873291,
          2.188101053237915,
          2.188101053237915,
          2.188101053237915,
          2.5730409622192383,
          2.311927556991577,
          2.253592014312744,
          2.253592014312744,
          2.253580093383789,
          2.175563097000122,
          2.5837302207946777,
          2.5837302207946777,
          2.5692687034606934,
          2.6339807510375977,
          2.5167887210845947,
          2.522068738937378,
          2.512061357498169,
          2.512061357498169,
          2.512061357498169,
          2.895798444747925,
          2.895798444747925,
          2.55678653717041,
          2.6789753437042236,
          2.86356520652771,
          2.2045979499816895,
          2.1776671409606934,
          2.1776671409606934,
          2.156216859817505,
          2.156216859817505,
          2.2716963291168213,
          2.2515697479248047,
          2.2572739124298096,
          2.2572739124298096,
          2.2572739124298096,
          2.642213821411133,
          2.4693713188171387,
          2.4110360145568848,
          2.4110360145568848,
          2.411024332046509,
          2.331899642944336,
          2.331899642944336,
          2.497413396835327,
          2.497413396835327,
          2.4829518795013428,
          2.517643690109253,
          2.3998992443084717,
          2.4051787853240967,
          2.395171880722046,
          2.395171880722046,
          2.395171880722046,
          2.7884299755096436,
          2.7884299755096436,
          2.449418306350708,
          2.4896020889282227,
          2.679694890975952,
          2.2089550495147705,
          2.1820242404937744,
          2.1820242404937744,
          2.160573959350586,
          2.160573959350586,
          2.2928950786590576,
          2.272768497467041,
          2.2793965339660645,
          2.2793965339660645,
          2.2793965339660645,
          2.6643364429473877,
          2.4914939403533936,
          2.4331586360931396,
          2.4331586360931396,
          2.4331467151641846,
          2.3371801376342773,
          2.808826446533203,
          2.808826446533203,
          2.794560194015503,
          2.861577272415161,
          2.7524702548980713,
          2.7577502727508545,
          2.7577502727508545,
          2.7577502727508545,
          2.7577502727508545,
          3.0054781436920166,
          3.0054781436920166,
          2.7770395278930664,
          2.8035855293273926,
          2.879204511642456,
          2.6802680492401123,
          2.6747961044311523,
          2.6747961044311523,
          2.653345823287964,
          2.653345823287964,
          2.785486936569214,
          2.7660562992095947,
          2.7750704288482666,
          2.7750704288482666,
          2.7750704288482666,
          2.962376117706299,
          2.8913192749023438,
          2.894460678100586,
          2.894460678100586,
          2.894460678100586,
          2.798494577407837,
          2.798494577407837,
          2.60003924369812,
          2.60003924369812,
          2.4198532104492188,
          2.5635271072387695,
          4.668961524963379,
          4.665624618530273,
          4.664671897888184,
          4.664671897888184,
          4.664671897888184,
          5.193280220031738,
          5.193280220031738,
          2.7222402095794678,
          2.848496675491333,
          2.9558117389678955,
          2.4503846168518066,
          2.452895164489746,
          2.452895164489746,
          2.468059778213501,
          2.468059778213501,
          2.840740919113159,
          2.634490966796875,
          2.590050220489502,
          2.590050220489502,
          2.590050220489502,
          2.6202850341796875,
          2.5681748390197754,
          2.5681748390197754,
          2.5681748390197754,
          2.6089491844177246,
          2.2092576026916504,
          2.2092576026916504,
          2.599616289138794,
          2.599616289138794,
          2.4194302558898926,
          2.5631041526794434,
          4.669253349304199,
          4.665915489196777,
          4.664963722229004,
          4.664963722229004,
          4.664963722229004,
          5.193572044372559,
          5.193572044372559,
          2.748258352279663,
          2.8745148181915283,
          2.981829881668091,
          2.0869357585906982,
          2.0745413303375244,
          2.0745413303375244,
          2.030880928039551,
          2.030880928039551,
          2.6778271198272705,
          2.5072004795074463,
          2.730506420135498,
          2.730506420135498,
          2.730506420135498,
          2.632484197616577,
          2.5639846324920654,
          2.5667693614959717,
          2.5667693614959717,
          2.6576263904571533,
          2.7468416690826416,
          2.7468416690826416,
          2.5757522583007812,
          2.726017951965332,
          4.680594444274902,
          4.6772565841674805,
          4.676304817199707,
          4.676304817199707,
          4.676304817199707,
          5.204913139343262,
          5.204913139343262,
          2.6284849643707275,
          2.754741907119751,
          2.8620569705963135,
          2.0436623096466064,
          2.0312674045562744,
          2.0312674045562744,
          2.009572744369507,
          2.009572744369507,
          2.633225202560425,
          2.4642388820648193,
          2.9071383476257324,
          2.9071383476257324,
          2.9071383476257324,
          2.6317849159240723,
          2.5632851123809814,
          2.566070318222046,
          2.566070318222046,
          2.745479106903076,
          2.345787763595581,
          2.345787763595581,
          2.689706325531006,
          2.689706325531006,
          2.569640874862671,
          2.7229950428009033,
          4.674941062927246,
          4.671603202819824,
          4.670651435852051,
          4.670651435852051,
          4.670651435852051,
          4.822939872741699,
          4.822939872741699,
          2.6983449459075928,
          2.82595157623291,
          2.9366846084594727,
          2.117138624191284,
          2.1054818630218506,
          2.1054818630218506,
          2.083787202835083,
          2.083787202835083,
          2.707439422607422,
          2.548142910003662,
          2.902052164077759,
          2.902052164077759,
          2.902052164077759,
          2.6532492637634277,
          2.5904531478881836,
          2.593594551086426,
          2.593594551086426,
          2.763944149017334,
          2.3635735511779785,
          2.252232074737549,
          2.252232074737549,
          2.0187981128692627,
          2.2464864253997803,
          2.223663568496704,
          2.225606679916382,
          2.22465443611145,
          2.22465443611145,
          2.22465443611145,
          2.587284564971924,
          2.587284564971924,
          2.018904685974121,
          2.164855480194092,
          2.516324043273926,
          2.0405690670013428,
          2.035097360610962,
          2.035097360610962,
          2.024179220199585,
          2.024179220199585,
          2.148991107940674,
          2.129887819290161,
          2.1556155681610107,
          2.1556155681610107,
          2.1556155681610107,
          2.483682155609131,
          2.2443320751190186,
          2.1859967708587646,
          2.1859967708587646,
          2.185189962387085,
          2.105625629425049,
          2.105625629425049,
          2.413999080657959,
          2.413999080657959,
          2.1394879817962646,
          2.548973798751831,
          2.526150941848755,
          2.5280940532684326,
          2.527141809463501,
          2.527141809463501,
          2.527141809463501,
          2.9866511821746826,
          2.9866511821746826,
          2.2256083488464355,
          2.412057399749756,
          2.881464958190918,
          2.36089825630188,
          2.355426073074341,
          2.355426073074341,
          2.341811418533325,
          2.341811418533325,
          2.466623306274414,
          2.4475200176239014,
          2.473247766494751,
          2.473247766494751,
          2.473247766494751,
          2.859038829803467,
          2.4779489040374756,
          2.4196133613586426,
          2.4196133613586426,
          2.4196014404296875,
          2.3415844440460205
         ]
        }
       ],
       "layout": {
        "template": {
         "data": {
          "bar": [
           {
            "error_x": {
             "color": "#f2f5fa"
            },
            "error_y": {
             "color": "#f2f5fa"
            },
            "marker": {
             "line": {
              "color": "rgb(17,17,17)",
              "width": 0.5
             },
             "pattern": {
              "fillmode": "overlay",
              "size": 10,
              "solidity": 0.2
             }
            },
            "type": "bar"
           }
          ],
          "barpolar": [
           {
            "marker": {
             "line": {
              "color": "rgb(17,17,17)",
              "width": 0.5
             },
             "pattern": {
              "fillmode": "overlay",
              "size": 10,
              "solidity": 0.2
             }
            },
            "type": "barpolar"
           }
          ],
          "carpet": [
           {
            "aaxis": {
             "endlinecolor": "#A2B1C6",
             "gridcolor": "#506784",
             "linecolor": "#506784",
             "minorgridcolor": "#506784",
             "startlinecolor": "#A2B1C6"
            },
            "baxis": {
             "endlinecolor": "#A2B1C6",
             "gridcolor": "#506784",
             "linecolor": "#506784",
             "minorgridcolor": "#506784",
             "startlinecolor": "#A2B1C6"
            },
            "type": "carpet"
           }
          ],
          "choropleth": [
           {
            "colorbar": {
             "outlinewidth": 0,
             "ticks": ""
            },
            "type": "choropleth"
           }
          ],
          "contour": [
           {
            "colorbar": {
             "outlinewidth": 0,
             "ticks": ""
            },
            "colorscale": [
             [
              0,
              "#0d0887"
             ],
             [
              0.1111111111111111,
              "#46039f"
             ],
             [
              0.2222222222222222,
              "#7201a8"
             ],
             [
              0.3333333333333333,
              "#9c179e"
             ],
             [
              0.4444444444444444,
              "#bd3786"
             ],
             [
              0.5555555555555556,
              "#d8576b"
             ],
             [
              0.6666666666666666,
              "#ed7953"
             ],
             [
              0.7777777777777778,
              "#fb9f3a"
             ],
             [
              0.8888888888888888,
              "#fdca26"
             ],
             [
              1,
              "#f0f921"
             ]
            ],
            "type": "contour"
           }
          ],
          "contourcarpet": [
           {
            "colorbar": {
             "outlinewidth": 0,
             "ticks": ""
            },
            "type": "contourcarpet"
           }
          ],
          "heatmap": [
           {
            "colorbar": {
             "outlinewidth": 0,
             "ticks": ""
            },
            "colorscale": [
             [
              0,
              "#0d0887"
             ],
             [
              0.1111111111111111,
              "#46039f"
             ],
             [
              0.2222222222222222,
              "#7201a8"
             ],
             [
              0.3333333333333333,
              "#9c179e"
             ],
             [
              0.4444444444444444,
              "#bd3786"
             ],
             [
              0.5555555555555556,
              "#d8576b"
             ],
             [
              0.6666666666666666,
              "#ed7953"
             ],
             [
              0.7777777777777778,
              "#fb9f3a"
             ],
             [
              0.8888888888888888,
              "#fdca26"
             ],
             [
              1,
              "#f0f921"
             ]
            ],
            "type": "heatmap"
           }
          ],
          "heatmapgl": [
           {
            "colorbar": {
             "outlinewidth": 0,
             "ticks": ""
            },
            "colorscale": [
             [
              0,
              "#0d0887"
             ],
             [
              0.1111111111111111,
              "#46039f"
             ],
             [
              0.2222222222222222,
              "#7201a8"
             ],
             [
              0.3333333333333333,
              "#9c179e"
             ],
             [
              0.4444444444444444,
              "#bd3786"
             ],
             [
              0.5555555555555556,
              "#d8576b"
             ],
             [
              0.6666666666666666,
              "#ed7953"
             ],
             [
              0.7777777777777778,
              "#fb9f3a"
             ],
             [
              0.8888888888888888,
              "#fdca26"
             ],
             [
              1,
              "#f0f921"
             ]
            ],
            "type": "heatmapgl"
           }
          ],
          "histogram": [
           {
            "marker": {
             "pattern": {
              "fillmode": "overlay",
              "size": 10,
              "solidity": 0.2
             }
            },
            "type": "histogram"
           }
          ],
          "histogram2d": [
           {
            "colorbar": {
             "outlinewidth": 0,
             "ticks": ""
            },
            "colorscale": [
             [
              0,
              "#0d0887"
             ],
             [
              0.1111111111111111,
              "#46039f"
             ],
             [
              0.2222222222222222,
              "#7201a8"
             ],
             [
              0.3333333333333333,
              "#9c179e"
             ],
             [
              0.4444444444444444,
              "#bd3786"
             ],
             [
              0.5555555555555556,
              "#d8576b"
             ],
             [
              0.6666666666666666,
              "#ed7953"
             ],
             [
              0.7777777777777778,
              "#fb9f3a"
             ],
             [
              0.8888888888888888,
              "#fdca26"
             ],
             [
              1,
              "#f0f921"
             ]
            ],
            "type": "histogram2d"
           }
          ],
          "histogram2dcontour": [
           {
            "colorbar": {
             "outlinewidth": 0,
             "ticks": ""
            },
            "colorscale": [
             [
              0,
              "#0d0887"
             ],
             [
              0.1111111111111111,
              "#46039f"
             ],
             [
              0.2222222222222222,
              "#7201a8"
             ],
             [
              0.3333333333333333,
              "#9c179e"
             ],
             [
              0.4444444444444444,
              "#bd3786"
             ],
             [
              0.5555555555555556,
              "#d8576b"
             ],
             [
              0.6666666666666666,
              "#ed7953"
             ],
             [
              0.7777777777777778,
              "#fb9f3a"
             ],
             [
              0.8888888888888888,
              "#fdca26"
             ],
             [
              1,
              "#f0f921"
             ]
            ],
            "type": "histogram2dcontour"
           }
          ],
          "mesh3d": [
           {
            "colorbar": {
             "outlinewidth": 0,
             "ticks": ""
            },
            "type": "mesh3d"
           }
          ],
          "parcoords": [
           {
            "line": {
             "colorbar": {
              "outlinewidth": 0,
              "ticks": ""
             }
            },
            "type": "parcoords"
           }
          ],
          "pie": [
           {
            "automargin": true,
            "type": "pie"
           }
          ],
          "scatter": [
           {
            "marker": {
             "line": {
              "color": "#283442"
             }
            },
            "type": "scatter"
           }
          ],
          "scatter3d": [
           {
            "line": {
             "colorbar": {
              "outlinewidth": 0,
              "ticks": ""
             }
            },
            "marker": {
             "colorbar": {
              "outlinewidth": 0,
              "ticks": ""
             }
            },
            "type": "scatter3d"
           }
          ],
          "scattercarpet": [
           {
            "marker": {
             "colorbar": {
              "outlinewidth": 0,
              "ticks": ""
             }
            },
            "type": "scattercarpet"
           }
          ],
          "scattergeo": [
           {
            "marker": {
             "colorbar": {
              "outlinewidth": 0,
              "ticks": ""
             }
            },
            "type": "scattergeo"
           }
          ],
          "scattergl": [
           {
            "marker": {
             "line": {
              "color": "#283442"
             }
            },
            "type": "scattergl"
           }
          ],
          "scattermapbox": [
           {
            "marker": {
             "colorbar": {
              "outlinewidth": 0,
              "ticks": ""
             }
            },
            "type": "scattermapbox"
           }
          ],
          "scatterpolar": [
           {
            "marker": {
             "colorbar": {
              "outlinewidth": 0,
              "ticks": ""
             }
            },
            "type": "scatterpolar"
           }
          ],
          "scatterpolargl": [
           {
            "marker": {
             "colorbar": {
              "outlinewidth": 0,
              "ticks": ""
             }
            },
            "type": "scatterpolargl"
           }
          ],
          "scatterternary": [
           {
            "marker": {
             "colorbar": {
              "outlinewidth": 0,
              "ticks": ""
             }
            },
            "type": "scatterternary"
           }
          ],
          "surface": [
           {
            "colorbar": {
             "outlinewidth": 0,
             "ticks": ""
            },
            "colorscale": [
             [
              0,
              "#0d0887"
             ],
             [
              0.1111111111111111,
              "#46039f"
             ],
             [
              0.2222222222222222,
              "#7201a8"
             ],
             [
              0.3333333333333333,
              "#9c179e"
             ],
             [
              0.4444444444444444,
              "#bd3786"
             ],
             [
              0.5555555555555556,
              "#d8576b"
             ],
             [
              0.6666666666666666,
              "#ed7953"
             ],
             [
              0.7777777777777778,
              "#fb9f3a"
             ],
             [
              0.8888888888888888,
              "#fdca26"
             ],
             [
              1,
              "#f0f921"
             ]
            ],
            "type": "surface"
           }
          ],
          "table": [
           {
            "cells": {
             "fill": {
              "color": "#506784"
             },
             "line": {
              "color": "rgb(17,17,17)"
             }
            },
            "header": {
             "fill": {
              "color": "#2a3f5f"
             },
             "line": {
              "color": "rgb(17,17,17)"
             }
            },
            "type": "table"
           }
          ]
         },
         "layout": {
          "annotationdefaults": {
           "arrowcolor": "#f2f5fa",
           "arrowhead": 0,
           "arrowwidth": 1
          },
          "autotypenumbers": "strict",
          "coloraxis": {
           "colorbar": {
            "outlinewidth": 0,
            "ticks": ""
           }
          },
          "colorscale": {
           "diverging": [
            [
             0,
             "#8e0152"
            ],
            [
             0.1,
             "#c51b7d"
            ],
            [
             0.2,
             "#de77ae"
            ],
            [
             0.3,
             "#f1b6da"
            ],
            [
             0.4,
             "#fde0ef"
            ],
            [
             0.5,
             "#f7f7f7"
            ],
            [
             0.6,
             "#e6f5d0"
            ],
            [
             0.7,
             "#b8e186"
            ],
            [
             0.8,
             "#7fbc41"
            ],
            [
             0.9,
             "#4d9221"
            ],
            [
             1,
             "#276419"
            ]
           ],
           "sequential": [
            [
             0,
             "#0d0887"
            ],
            [
             0.1111111111111111,
             "#46039f"
            ],
            [
             0.2222222222222222,
             "#7201a8"
            ],
            [
             0.3333333333333333,
             "#9c179e"
            ],
            [
             0.4444444444444444,
             "#bd3786"
            ],
            [
             0.5555555555555556,
             "#d8576b"
            ],
            [
             0.6666666666666666,
             "#ed7953"
            ],
            [
             0.7777777777777778,
             "#fb9f3a"
            ],
            [
             0.8888888888888888,
             "#fdca26"
            ],
            [
             1,
             "#f0f921"
            ]
           ],
           "sequentialminus": [
            [
             0,
             "#0d0887"
            ],
            [
             0.1111111111111111,
             "#46039f"
            ],
            [
             0.2222222222222222,
             "#7201a8"
            ],
            [
             0.3333333333333333,
             "#9c179e"
            ],
            [
             0.4444444444444444,
             "#bd3786"
            ],
            [
             0.5555555555555556,
             "#d8576b"
            ],
            [
             0.6666666666666666,
             "#ed7953"
            ],
            [
             0.7777777777777778,
             "#fb9f3a"
            ],
            [
             0.8888888888888888,
             "#fdca26"
            ],
            [
             1,
             "#f0f921"
            ]
           ]
          },
          "colorway": [
           "#636efa",
           "#EF553B",
           "#00cc96",
           "#ab63fa",
           "#FFA15A",
           "#19d3f3",
           "#FF6692",
           "#B6E880",
           "#FF97FF",
           "#FECB52"
          ],
          "font": {
           "color": "#f2f5fa"
          },
          "geo": {
           "bgcolor": "rgb(17,17,17)",
           "lakecolor": "rgb(17,17,17)",
           "landcolor": "rgb(17,17,17)",
           "showlakes": true,
           "showland": true,
           "subunitcolor": "#506784"
          },
          "hoverlabel": {
           "align": "left"
          },
          "hovermode": "closest",
          "mapbox": {
           "style": "dark"
          },
          "paper_bgcolor": "rgb(17,17,17)",
          "plot_bgcolor": "rgb(17,17,17)",
          "polar": {
           "angularaxis": {
            "gridcolor": "#506784",
            "linecolor": "#506784",
            "ticks": ""
           },
           "bgcolor": "rgb(17,17,17)",
           "radialaxis": {
            "gridcolor": "#506784",
            "linecolor": "#506784",
            "ticks": ""
           }
          },
          "scene": {
           "xaxis": {
            "backgroundcolor": "rgb(17,17,17)",
            "gridcolor": "#506784",
            "gridwidth": 2,
            "linecolor": "#506784",
            "showbackground": true,
            "ticks": "",
            "zerolinecolor": "#C8D4E3"
           },
           "yaxis": {
            "backgroundcolor": "rgb(17,17,17)",
            "gridcolor": "#506784",
            "gridwidth": 2,
            "linecolor": "#506784",
            "showbackground": true,
            "ticks": "",
            "zerolinecolor": "#C8D4E3"
           },
           "zaxis": {
            "backgroundcolor": "rgb(17,17,17)",
            "gridcolor": "#506784",
            "gridwidth": 2,
            "linecolor": "#506784",
            "showbackground": true,
            "ticks": "",
            "zerolinecolor": "#C8D4E3"
           }
          },
          "shapedefaults": {
           "line": {
            "color": "#f2f5fa"
           }
          },
          "sliderdefaults": {
           "bgcolor": "#C8D4E3",
           "bordercolor": "rgb(17,17,17)",
           "borderwidth": 1,
           "tickwidth": 0
          },
          "ternary": {
           "aaxis": {
            "gridcolor": "#506784",
            "linecolor": "#506784",
            "ticks": ""
           },
           "baxis": {
            "gridcolor": "#506784",
            "linecolor": "#506784",
            "ticks": ""
           },
           "bgcolor": "rgb(17,17,17)",
           "caxis": {
            "gridcolor": "#506784",
            "linecolor": "#506784",
            "ticks": ""
           }
          },
          "title": {
           "x": 0.05
          },
          "updatemenudefaults": {
           "bgcolor": "#506784",
           "borderwidth": 0
          },
          "xaxis": {
           "automargin": true,
           "gridcolor": "#283442",
           "linecolor": "#506784",
           "ticks": "",
           "title": {
            "standoff": 15
           },
           "zerolinecolor": "#283442",
           "zerolinewidth": 2
          },
          "yaxis": {
           "automargin": true,
           "gridcolor": "#283442",
           "linecolor": "#506784",
           "ticks": "",
           "title": {
            "standoff": 15
           },
           "zerolinecolor": "#283442",
           "zerolinewidth": 2
          }
         }
        },
        "title": {
         "text": "Przestępcy popełnione na płeci X-gender algorytm xgboost"
        },
        "xaxis": {
         "title": {
          "text": "Data"
         }
        },
        "yaxis": {
         "title": {
          "text": "Liczba zabitych"
         }
        }
       }
      }
     },
     "metadata": {},
     "output_type": "display_data"
    }
   ],
   "source": [
    "import pandas as pd\n",
    "import numpy as np\n",
    "import matplotlib.pyplot as plt\n",
    "import xgboost as xgb\n",
    "from sklearn.model_selection import train_test_split\n",
    "from sklearn.metrics import mean_squared_error\n",
    "import plotly.graph_objects as go\n",
    "\n",
    "# Tworzenie ramki danych\n",
    "\n",
    "\n",
    "# Grupowanie i agregacja danych\n",
    "df['Date'] = pd.to_datetime(df[['Year', 'Month', 'Day']])\n",
    "df_grouped = df.groupby('Date')['count'].sum().reset_index()\n",
    "\n",
    "# Przygotowanie danych do modelu XGBoost\n",
    "df_grouped['Month'] = df_grouped['Date'].dt.month\n",
    "df_grouped['Day'] = df_grouped['Date'].dt.day\n",
    "\n",
    "X = df_grouped[['Month', 'Day']]\n",
    "y = df_grouped['count']\n",
    "\n",
    "# Podział danych na zbiór treningowy i testowy\n",
    "X_train, X_test, y_train, y_test = train_test_split(X, y, test_size=0.2, random_state=42)\n",
    "\n",
    "# Dopasowanie modelu XGBoost\n",
    "model = xgb.XGBRegressor(objective ='reg:squarederror', seed=42)\n",
    "model.fit(X_train, y_train)\n",
    "\n",
    "# Prognoza na następny rok\n",
    "next_year_dates = pd.date_range(start=df_grouped['Date'].max() + pd.DateOffset(days=1), end=df_grouped['Date'].max() + pd.DateOffset(years=1), freq='D')\n",
    "next_year_X = pd.DataFrame({'Month': next_year_dates.month, 'Day': next_year_dates.day})\n",
    "forecast = model.predict(next_year_X)\n",
    "\n",
    "# Wykres szeregu czasowego z prognozą\n",
    "fig = go.Figure()\n",
    "\n",
    "# Dodanie rzeczywistych danych\n",
    "fig.add_trace(go.Scatter(x=df_grouped['Date'], y=df_grouped['count'], mode='lines+markers', name='Actual'))\n",
    "\n",
    "# Dodanie prognoz\n",
    "fig.add_trace(go.Scatter(x=next_year_dates, y=forecast, mode='lines+markers', name='Forecast', line=dict(color='red', dash='dash')))\n",
    "\n",
    "# Aktualizacja układu wykresu\n",
    "fig.update_layout(title='Przestępcy popełnione na płeci X-gender algorytm xgboost', xaxis_title='Data', \n",
    "                  yaxis_title='Liczba zabitych',template=\"plotly_dark\",)\n",
    "\n",
    "# Wyświetlenie wykresu\n",
    "fig.show()\n",
    "# Zapisywanie wykresu do pliku HTML\n",
    "fig.write_html(\"forecast_plot4_1.html\")\n"
   ]
  },
  {
   "cell_type": "code",
   "execution_count": 86,
   "metadata": {},
   "outputs": [
    {
     "name": "stderr",
     "output_type": "stream",
     "text": [
      "c:\\Users\\micha\\Desktop\\WAD_07\\Wielowymiarowa_analiza_danych\\venv\\Lib\\site-packages\\statsmodels\\tsa\\base\\tsa_model.py:473: ValueWarning:\n",
      "\n",
      "A date index has been provided, but it has no associated frequency information and so will be ignored when e.g. forecasting.\n",
      "\n",
      "c:\\Users\\micha\\Desktop\\WAD_07\\Wielowymiarowa_analiza_danych\\venv\\Lib\\site-packages\\statsmodels\\tsa\\base\\tsa_model.py:473: ValueWarning:\n",
      "\n",
      "A date index has been provided, but it has no associated frequency information and so will be ignored when e.g. forecasting.\n",
      "\n",
      "c:\\Users\\micha\\Desktop\\WAD_07\\Wielowymiarowa_analiza_danych\\venv\\Lib\\site-packages\\statsmodels\\tsa\\base\\tsa_model.py:473: ValueWarning:\n",
      "\n",
      "A date index has been provided, but it has no associated frequency information and so will be ignored when e.g. forecasting.\n",
      "\n",
      "c:\\Users\\micha\\Desktop\\WAD_07\\Wielowymiarowa_analiza_danych\\venv\\Lib\\site-packages\\statsmodels\\tsa\\base\\tsa_model.py:836: ValueWarning:\n",
      "\n",
      "No supported index is available. Prediction results will be given with an integer index beginning at `start`.\n",
      "\n",
      "c:\\Users\\micha\\Desktop\\WAD_07\\Wielowymiarowa_analiza_danych\\venv\\Lib\\site-packages\\statsmodels\\tsa\\base\\tsa_model.py:836: FutureWarning:\n",
      "\n",
      "No supported index is available. In the next version, calling this method in a model without a supported index will result in an exception.\n",
      "\n"
     ]
    },
    {
     "data": {
      "application/vnd.plotly.v1+json": {
       "config": {
        "plotlyServerURL": "https://plot.ly"
       },
       "data": [
        {
         "mode": "lines+markers",
         "name": "Actual",
         "type": "scatter",
         "x": [
          "2020-02-15T00:00:00",
          "2020-03-22T00:00:00",
          "2020-05-01T00:00:00",
          "2020-05-16T00:00:00",
          "2020-05-30T00:00:00",
          "2020-06-01T00:00:00",
          "2020-06-07T00:00:00",
          "2020-06-12T00:00:00",
          "2020-07-01T00:00:00",
          "2020-07-04T00:00:00",
          "2020-07-15T00:00:00",
          "2020-08-16T00:00:00",
          "2020-10-12T00:00:00",
          "2020-11-03T00:00:00",
          "2021-01-22T00:00:00",
          "2021-01-31T00:00:00",
          "2021-02-04T00:00:00",
          "2021-02-20T00:00:00",
          "2021-04-13T00:00:00",
          "2021-04-29T00:00:00",
          "2021-06-25T00:00:00",
          "2021-06-26T00:00:00",
          "2021-08-12T00:00:00",
          "2021-09-06T00:00:00",
          "2021-10-04T00:00:00",
          "2021-10-25T00:00:00",
          "2021-11-03T00:00:00",
          "2022-01-16T00:00:00",
          "2022-01-20T00:00:00",
          "2022-02-14T00:00:00",
          "2022-02-18T00:00:00",
          "2022-03-01T00:00:00",
          "2022-03-10T00:00:00",
          "2022-03-21T00:00:00",
          "2022-04-01T00:00:00",
          "2022-05-21T00:00:00",
          "2022-06-10T00:00:00",
          "2022-06-13T00:00:00",
          "2022-06-26T00:00:00",
          "2022-07-03T00:00:00",
          "2022-07-14T00:00:00",
          "2022-09-06T00:00:00",
          "2022-09-29T00:00:00",
          "2022-10-12T00:00:00",
          "2022-10-14T00:00:00",
          "2022-10-15T00:00:00",
          "2022-10-22T00:00:00",
          "2022-11-03T00:00:00",
          "2022-11-05T00:00:00",
          "2022-11-29T00:00:00",
          "2022-12-27T00:00:00",
          "2023-01-21T00:00:00",
          "2023-01-22T00:00:00",
          "2023-03-20T00:00:00",
          "2023-03-26T00:00:00",
          "2023-04-28T00:00:00",
          "2023-06-05T00:00:00",
          "2023-06-29T00:00:00",
          "2023-06-30T00:00:00"
         ],
         "y": [
          2.8365943005458836,
          2.9123324146804355,
          2.251668338499821,
          2.1736437385080603,
          2.104155225373569,
          2.0871861777940093,
          2.5257445125345814,
          2.2224955989515722,
          2.358922479319806,
          2.4954283460779374,
          2.257556008206543,
          2.047383432111384,
          2.9526375566861356,
          2.891129430631155,
          2.946589889822713,
          2.209515060151835,
          2.5626750929614137,
          2.677828431297991,
          2.8256075267935787,
          2.7670332555275294,
          2.8599211232777972,
          2.589627826768397,
          2.071291768392821,
          2.168343399973405,
          2.635307669731165,
          2.350896245408463,
          2.4834460356002026,
          2.452737834263422,
          2.8431258614684336,
          2.982470278086992,
          2.0293201591320513,
          2.7469224039911158,
          5.207956062112454,
          2.460933764137204,
          2.781839393316717,
          2.1303737223695984,
          2.9876695261096504,
          2.412351566506364,
          2.3664110822314712,
          2.079902783697175,
          2.9830120041073465,
          2.649664515860399,
          2.2527637017833246,
          2.557603108910159,
          2.862433862151808,
          2.7556290569928574,
          2.255275148108431,
          2.5401136578602763,
          2.3983421816701016,
          2.6623151161573855,
          2.895766230664666,
          2.6348345199365335,
          2.2300899632456104,
          2.1326352436611975,
          2.56073863117833,
          2.5922145318086924,
          2.527526035527442,
          2.8068646962538226,
          2.3426054130120493
         ]
        },
        {
         "line": {
          "color": "red",
          "dash": "dash"
         },
         "mode": "lines+markers",
         "name": "Forecast",
         "type": "scatter",
         "x": [
          "2023-07-01T00:00:00",
          "2023-07-02T00:00:00",
          "2023-07-03T00:00:00",
          "2023-07-04T00:00:00",
          "2023-07-05T00:00:00",
          "2023-07-06T00:00:00",
          "2023-07-07T00:00:00",
          "2023-07-08T00:00:00",
          "2023-07-09T00:00:00",
          "2023-07-10T00:00:00",
          "2023-07-11T00:00:00",
          "2023-07-12T00:00:00",
          "2023-07-13T00:00:00",
          "2023-07-14T00:00:00",
          "2023-07-15T00:00:00",
          "2023-07-16T00:00:00",
          "2023-07-17T00:00:00",
          "2023-07-18T00:00:00",
          "2023-07-19T00:00:00",
          "2023-07-20T00:00:00",
          "2023-07-21T00:00:00",
          "2023-07-22T00:00:00",
          "2023-07-23T00:00:00",
          "2023-07-24T00:00:00",
          "2023-07-25T00:00:00",
          "2023-07-26T00:00:00",
          "2023-07-27T00:00:00",
          "2023-07-28T00:00:00",
          "2023-07-29T00:00:00",
          "2023-07-30T00:00:00",
          "2023-07-31T00:00:00",
          "2023-08-01T00:00:00",
          "2023-08-02T00:00:00",
          "2023-08-03T00:00:00",
          "2023-08-04T00:00:00",
          "2023-08-05T00:00:00",
          "2023-08-06T00:00:00",
          "2023-08-07T00:00:00",
          "2023-08-08T00:00:00",
          "2023-08-09T00:00:00",
          "2023-08-10T00:00:00",
          "2023-08-11T00:00:00",
          "2023-08-12T00:00:00",
          "2023-08-13T00:00:00",
          "2023-08-14T00:00:00",
          "2023-08-15T00:00:00",
          "2023-08-16T00:00:00",
          "2023-08-17T00:00:00",
          "2023-08-18T00:00:00",
          "2023-08-19T00:00:00",
          "2023-08-20T00:00:00",
          "2023-08-21T00:00:00",
          "2023-08-22T00:00:00",
          "2023-08-23T00:00:00",
          "2023-08-24T00:00:00",
          "2023-08-25T00:00:00",
          "2023-08-26T00:00:00",
          "2023-08-27T00:00:00",
          "2023-08-28T00:00:00",
          "2023-08-29T00:00:00",
          "2023-08-30T00:00:00",
          "2023-08-31T00:00:00",
          "2023-09-01T00:00:00",
          "2023-09-02T00:00:00",
          "2023-09-03T00:00:00",
          "2023-09-04T00:00:00",
          "2023-09-05T00:00:00",
          "2023-09-06T00:00:00",
          "2023-09-07T00:00:00",
          "2023-09-08T00:00:00",
          "2023-09-09T00:00:00",
          "2023-09-10T00:00:00",
          "2023-09-11T00:00:00",
          "2023-09-12T00:00:00",
          "2023-09-13T00:00:00",
          "2023-09-14T00:00:00",
          "2023-09-15T00:00:00",
          "2023-09-16T00:00:00",
          "2023-09-17T00:00:00",
          "2023-09-18T00:00:00",
          "2023-09-19T00:00:00",
          "2023-09-20T00:00:00",
          "2023-09-21T00:00:00",
          "2023-09-22T00:00:00",
          "2023-09-23T00:00:00",
          "2023-09-24T00:00:00",
          "2023-09-25T00:00:00",
          "2023-09-26T00:00:00",
          "2023-09-27T00:00:00",
          "2023-09-28T00:00:00",
          "2023-09-29T00:00:00",
          "2023-09-30T00:00:00",
          "2023-10-01T00:00:00",
          "2023-10-02T00:00:00",
          "2023-10-03T00:00:00",
          "2023-10-04T00:00:00",
          "2023-10-05T00:00:00",
          "2023-10-06T00:00:00",
          "2023-10-07T00:00:00",
          "2023-10-08T00:00:00",
          "2023-10-09T00:00:00",
          "2023-10-10T00:00:00",
          "2023-10-11T00:00:00",
          "2023-10-12T00:00:00",
          "2023-10-13T00:00:00",
          "2023-10-14T00:00:00",
          "2023-10-15T00:00:00",
          "2023-10-16T00:00:00",
          "2023-10-17T00:00:00",
          "2023-10-18T00:00:00",
          "2023-10-19T00:00:00",
          "2023-10-20T00:00:00",
          "2023-10-21T00:00:00",
          "2023-10-22T00:00:00",
          "2023-10-23T00:00:00",
          "2023-10-24T00:00:00",
          "2023-10-25T00:00:00",
          "2023-10-26T00:00:00",
          "2023-10-27T00:00:00",
          "2023-10-28T00:00:00",
          "2023-10-29T00:00:00",
          "2023-10-30T00:00:00",
          "2023-10-31T00:00:00",
          "2023-11-01T00:00:00",
          "2023-11-02T00:00:00",
          "2023-11-03T00:00:00",
          "2023-11-04T00:00:00",
          "2023-11-05T00:00:00",
          "2023-11-06T00:00:00",
          "2023-11-07T00:00:00",
          "2023-11-08T00:00:00",
          "2023-11-09T00:00:00",
          "2023-11-10T00:00:00",
          "2023-11-11T00:00:00",
          "2023-11-12T00:00:00",
          "2023-11-13T00:00:00",
          "2023-11-14T00:00:00",
          "2023-11-15T00:00:00",
          "2023-11-16T00:00:00",
          "2023-11-17T00:00:00",
          "2023-11-18T00:00:00",
          "2023-11-19T00:00:00",
          "2023-11-20T00:00:00",
          "2023-11-21T00:00:00",
          "2023-11-22T00:00:00",
          "2023-11-23T00:00:00",
          "2023-11-24T00:00:00",
          "2023-11-25T00:00:00",
          "2023-11-26T00:00:00",
          "2023-11-27T00:00:00",
          "2023-11-28T00:00:00",
          "2023-11-29T00:00:00",
          "2023-11-30T00:00:00",
          "2023-12-01T00:00:00",
          "2023-12-02T00:00:00",
          "2023-12-03T00:00:00",
          "2023-12-04T00:00:00",
          "2023-12-05T00:00:00",
          "2023-12-06T00:00:00",
          "2023-12-07T00:00:00",
          "2023-12-08T00:00:00",
          "2023-12-09T00:00:00",
          "2023-12-10T00:00:00",
          "2023-12-11T00:00:00",
          "2023-12-12T00:00:00",
          "2023-12-13T00:00:00",
          "2023-12-14T00:00:00",
          "2023-12-15T00:00:00",
          "2023-12-16T00:00:00",
          "2023-12-17T00:00:00",
          "2023-12-18T00:00:00",
          "2023-12-19T00:00:00",
          "2023-12-20T00:00:00",
          "2023-12-21T00:00:00",
          "2023-12-22T00:00:00",
          "2023-12-23T00:00:00",
          "2023-12-24T00:00:00",
          "2023-12-25T00:00:00",
          "2023-12-26T00:00:00",
          "2023-12-27T00:00:00",
          "2023-12-28T00:00:00",
          "2023-12-29T00:00:00",
          "2023-12-30T00:00:00",
          "2023-12-31T00:00:00",
          "2024-01-01T00:00:00",
          "2024-01-02T00:00:00",
          "2024-01-03T00:00:00",
          "2024-01-04T00:00:00",
          "2024-01-05T00:00:00",
          "2024-01-06T00:00:00",
          "2024-01-07T00:00:00",
          "2024-01-08T00:00:00",
          "2024-01-09T00:00:00",
          "2024-01-10T00:00:00",
          "2024-01-11T00:00:00",
          "2024-01-12T00:00:00",
          "2024-01-13T00:00:00",
          "2024-01-14T00:00:00",
          "2024-01-15T00:00:00",
          "2024-01-16T00:00:00",
          "2024-01-17T00:00:00",
          "2024-01-18T00:00:00",
          "2024-01-19T00:00:00",
          "2024-01-20T00:00:00",
          "2024-01-21T00:00:00",
          "2024-01-22T00:00:00",
          "2024-01-23T00:00:00",
          "2024-01-24T00:00:00",
          "2024-01-25T00:00:00",
          "2024-01-26T00:00:00",
          "2024-01-27T00:00:00",
          "2024-01-28T00:00:00",
          "2024-01-29T00:00:00",
          "2024-01-30T00:00:00",
          "2024-01-31T00:00:00",
          "2024-02-01T00:00:00",
          "2024-02-02T00:00:00",
          "2024-02-03T00:00:00",
          "2024-02-04T00:00:00",
          "2024-02-05T00:00:00",
          "2024-02-06T00:00:00",
          "2024-02-07T00:00:00",
          "2024-02-08T00:00:00",
          "2024-02-09T00:00:00",
          "2024-02-10T00:00:00",
          "2024-02-11T00:00:00",
          "2024-02-12T00:00:00",
          "2024-02-13T00:00:00",
          "2024-02-14T00:00:00",
          "2024-02-15T00:00:00",
          "2024-02-16T00:00:00",
          "2024-02-17T00:00:00",
          "2024-02-18T00:00:00",
          "2024-02-19T00:00:00",
          "2024-02-20T00:00:00",
          "2024-02-21T00:00:00",
          "2024-02-22T00:00:00",
          "2024-02-23T00:00:00",
          "2024-02-24T00:00:00",
          "2024-02-25T00:00:00",
          "2024-02-26T00:00:00",
          "2024-02-27T00:00:00",
          "2024-02-28T00:00:00",
          "2024-02-29T00:00:00",
          "2024-03-01T00:00:00",
          "2024-03-02T00:00:00",
          "2024-03-03T00:00:00",
          "2024-03-04T00:00:00",
          "2024-03-05T00:00:00",
          "2024-03-06T00:00:00",
          "2024-03-07T00:00:00",
          "2024-03-08T00:00:00",
          "2024-03-09T00:00:00",
          "2024-03-10T00:00:00",
          "2024-03-11T00:00:00",
          "2024-03-12T00:00:00",
          "2024-03-13T00:00:00",
          "2024-03-14T00:00:00",
          "2024-03-15T00:00:00",
          "2024-03-16T00:00:00",
          "2024-03-17T00:00:00",
          "2024-03-18T00:00:00",
          "2024-03-19T00:00:00",
          "2024-03-20T00:00:00",
          "2024-03-21T00:00:00",
          "2024-03-22T00:00:00",
          "2024-03-23T00:00:00",
          "2024-03-24T00:00:00",
          "2024-03-25T00:00:00",
          "2024-03-26T00:00:00",
          "2024-03-27T00:00:00",
          "2024-03-28T00:00:00",
          "2024-03-29T00:00:00",
          "2024-03-30T00:00:00",
          "2024-03-31T00:00:00",
          "2024-04-01T00:00:00",
          "2024-04-02T00:00:00",
          "2024-04-03T00:00:00",
          "2024-04-04T00:00:00",
          "2024-04-05T00:00:00",
          "2024-04-06T00:00:00",
          "2024-04-07T00:00:00",
          "2024-04-08T00:00:00",
          "2024-04-09T00:00:00",
          "2024-04-10T00:00:00",
          "2024-04-11T00:00:00",
          "2024-04-12T00:00:00",
          "2024-04-13T00:00:00",
          "2024-04-14T00:00:00",
          "2024-04-15T00:00:00",
          "2024-04-16T00:00:00",
          "2024-04-17T00:00:00",
          "2024-04-18T00:00:00",
          "2024-04-19T00:00:00",
          "2024-04-20T00:00:00",
          "2024-04-21T00:00:00",
          "2024-04-22T00:00:00",
          "2024-04-23T00:00:00",
          "2024-04-24T00:00:00",
          "2024-04-25T00:00:00",
          "2024-04-26T00:00:00",
          "2024-04-27T00:00:00",
          "2024-04-28T00:00:00",
          "2024-04-29T00:00:00",
          "2024-04-30T00:00:00",
          "2024-05-01T00:00:00",
          "2024-05-02T00:00:00",
          "2024-05-03T00:00:00",
          "2024-05-04T00:00:00",
          "2024-05-05T00:00:00",
          "2024-05-06T00:00:00",
          "2024-05-07T00:00:00",
          "2024-05-08T00:00:00",
          "2024-05-09T00:00:00",
          "2024-05-10T00:00:00",
          "2024-05-11T00:00:00",
          "2024-05-12T00:00:00",
          "2024-05-13T00:00:00",
          "2024-05-14T00:00:00",
          "2024-05-15T00:00:00",
          "2024-05-16T00:00:00",
          "2024-05-17T00:00:00",
          "2024-05-18T00:00:00",
          "2024-05-19T00:00:00",
          "2024-05-20T00:00:00",
          "2024-05-21T00:00:00",
          "2024-05-22T00:00:00",
          "2024-05-23T00:00:00",
          "2024-05-24T00:00:00",
          "2024-05-25T00:00:00",
          "2024-05-26T00:00:00",
          "2024-05-27T00:00:00",
          "2024-05-28T00:00:00",
          "2024-05-29T00:00:00",
          "2024-05-30T00:00:00",
          "2024-05-31T00:00:00",
          "2024-06-01T00:00:00",
          "2024-06-02T00:00:00",
          "2024-06-03T00:00:00",
          "2024-06-04T00:00:00",
          "2024-06-05T00:00:00",
          "2024-06-06T00:00:00",
          "2024-06-07T00:00:00",
          "2024-06-08T00:00:00",
          "2024-06-09T00:00:00",
          "2024-06-10T00:00:00",
          "2024-06-11T00:00:00",
          "2024-06-12T00:00:00",
          "2024-06-13T00:00:00",
          "2024-06-14T00:00:00",
          "2024-06-15T00:00:00",
          "2024-06-16T00:00:00",
          "2024-06-17T00:00:00",
          "2024-06-18T00:00:00",
          "2024-06-19T00:00:00",
          "2024-06-20T00:00:00",
          "2024-06-21T00:00:00",
          "2024-06-22T00:00:00",
          "2024-06-23T00:00:00",
          "2024-06-24T00:00:00",
          "2024-06-25T00:00:00",
          "2024-06-26T00:00:00",
          "2024-06-27T00:00:00",
          "2024-06-28T00:00:00",
          "2024-06-29T00:00:00"
         ],
         "y": [
          2.4822906419934654,
          2.5538552614160617,
          2.611494457789455,
          2.5030988591201657,
          2.5277720268364887,
          2.523039891862713,
          2.550307976156436,
          2.5346857625654975,
          2.537011146396414,
          2.5292548475202,
          2.537232992055261,
          2.5354622159364557,
          2.536789970043494,
          2.5338887717014327,
          2.535389823975834,
          2.535022494618634,
          2.535793089012416,
          2.535068631246152,
          2.535299653898045,
          2.5351115093532486,
          2.53538094096175,
          2.5352409240916174,
          2.5352963835879176,
          2.535214832862704,
          2.5352822060107565,
          2.5352559056043327,
          2.5352783187067125,
          2.535252554631562,
          2.535266438549923,
          2.5352593559731242,
          2.5352677289963608,
          2.535261333916329,
          2.5352643015293848,
          2.535261766009602,
          2.5352642637121336,
          2.5352628600472182,
          2.53526369313959,
          2.535262837844504,
          2.53526346033114,
          2.535263131303019,
          2.5352634077800125,
          2.5352631625844575,
          2.53526330680926,
          2.535263212982364,
          2.5352633001685025,
          2.5352632384344016,
          2.5352632743628067,
          2.535263244833327,
          2.5352632691983743,
          2.535263254239817,
          2.5352632645186115,
          2.5352632556281947,
          2.535263261841195,
          2.5352632579646825,
          2.5352632610790637,
          2.5352632586327326,
          2.535263260191898,
          2.535263259085816,
          2.5352632599939815,
          2.5352632593618964,
          2.5352632597762037,
          2.5352632594502498,
          2.535263259697983,
          2.535263259535105,
          2.5352632596527185,
          2.5352632595597298,
          2.5352632596245295,
          2.535263259580574,
          2.5352632596145335,
          2.5352632595892746,
          2.5352632596063,
          2.535263259593894,
          2.535263259603439,
          2.535263259596761,
          2.535263259601398,
          2.5352632595978695,
          2.5352632596004585,
          2.5352632595986795,
          2.535263259599981,
          2.5352632595989992,
          2.53526325959969,
          2.5352632595992026,
          2.535263259599569,
          2.5352632595993025,
          2.535263259599488,
          2.5352632595993523,
          2.5352632595994535,
          2.535263259599382,
          2.535263259599433,
          2.535263259599395,
          2.5352632595994224,
          2.535263259599403,
          2.535263259599417,
          2.5352632595994065,
          2.535263259599414,
          2.5352632595994087,
          2.5352632595994127,
          2.53526325959941,
          2.5352632595994122,
          2.535263259599411,
          2.535263259599412,
          2.535263259599411,
          2.5352632595994113,
          2.535263259599411,
          2.5352632595994113,
          2.5352632595994113,
          2.5352632595994113,
          2.5352632595994113,
          2.5352632595994113,
          2.5352632595994113,
          2.5352632595994113,
          2.5352632595994113,
          2.5352632595994113,
          2.5352632595994113,
          2.5352632595994113,
          2.5352632595994113,
          2.5352632595994113,
          2.5352632595994113,
          2.5352632595994113,
          2.5352632595994113,
          2.5352632595994113,
          2.5352632595994113,
          2.5352632595994113,
          2.5352632595994113,
          2.5352632595994113,
          2.5352632595994113,
          2.5352632595994113,
          2.5352632595994113,
          2.5352632595994113,
          2.5352632595994113,
          2.5352632595994113,
          2.5352632595994113,
          2.5352632595994113,
          2.5352632595994113,
          2.5352632595994113,
          2.5352632595994113,
          2.5352632595994113,
          2.5352632595994113,
          2.5352632595994113,
          2.5352632595994113,
          2.5352632595994113,
          2.5352632595994113,
          2.5352632595994113,
          2.5352632595994113,
          2.5352632595994113,
          2.5352632595994113,
          2.5352632595994113,
          2.5352632595994113,
          2.5352632595994113,
          2.5352632595994113,
          2.5352632595994113,
          2.5352632595994113,
          2.5352632595994113,
          2.5352632595994113,
          2.5352632595994113,
          2.5352632595994113,
          2.5352632595994113,
          2.5352632595994113,
          2.5352632595994113,
          2.5352632595994113,
          2.5352632595994113,
          2.5352632595994113,
          2.5352632595994113,
          2.5352632595994113,
          2.5352632595994113,
          2.5352632595994113,
          2.5352632595994113,
          2.5352632595994113,
          2.5352632595994113,
          2.5352632595994113,
          2.5352632595994113,
          2.5352632595994113,
          2.5352632595994113,
          2.5352632595994113,
          2.5352632595994113,
          2.5352632595994113,
          2.5352632595994113,
          2.5352632595994113,
          2.5352632595994113,
          2.5352632595994113,
          2.5352632595994113,
          2.5352632595994113,
          2.5352632595994113,
          2.5352632595994113,
          2.5352632595994113,
          2.5352632595994113,
          2.5352632595994113,
          2.5352632595994113,
          2.5352632595994113,
          2.5352632595994113,
          2.5352632595994113,
          2.5352632595994113,
          2.5352632595994113,
          2.5352632595994113,
          2.5352632595994113,
          2.5352632595994113,
          2.5352632595994113,
          2.5352632595994113,
          2.5352632595994113,
          2.5352632595994113,
          2.5352632595994113,
          2.5352632595994113,
          2.5352632595994113,
          2.5352632595994113,
          2.5352632595994113,
          2.5352632595994113,
          2.5352632595994113,
          2.5352632595994113,
          2.5352632595994113,
          2.5352632595994113,
          2.5352632595994113,
          2.5352632595994113,
          2.5352632595994113,
          2.5352632595994113,
          2.5352632595994113,
          2.5352632595994113,
          2.5352632595994113,
          2.5352632595994113,
          2.5352632595994113,
          2.5352632595994113,
          2.5352632595994113,
          2.5352632595994113,
          2.5352632595994113,
          2.5352632595994113,
          2.5352632595994113,
          2.5352632595994113,
          2.5352632595994113,
          2.5352632595994113,
          2.5352632595994113,
          2.5352632595994113,
          2.5352632595994113,
          2.5352632595994113,
          2.5352632595994113,
          2.5352632595994113,
          2.5352632595994113,
          2.5352632595994113,
          2.5352632595994113,
          2.5352632595994113,
          2.5352632595994113,
          2.5352632595994113,
          2.5352632595994113,
          2.5352632595994113,
          2.5352632595994113,
          2.5352632595994113,
          2.5352632595994113,
          2.5352632595994113,
          2.5352632595994113,
          2.5352632595994113,
          2.5352632595994113,
          2.5352632595994113,
          2.5352632595994113,
          2.5352632595994113,
          2.5352632595994113,
          2.5352632595994113,
          2.5352632595994113,
          2.5352632595994113,
          2.5352632595994113,
          2.5352632595994113,
          2.5352632595994113,
          2.5352632595994113,
          2.5352632595994113,
          2.5352632595994113,
          2.5352632595994113,
          2.5352632595994113,
          2.5352632595994113,
          2.5352632595994113,
          2.5352632595994113,
          2.5352632595994113,
          2.5352632595994113,
          2.5352632595994113,
          2.5352632595994113,
          2.5352632595994113,
          2.5352632595994113,
          2.5352632595994113,
          2.5352632595994113,
          2.5352632595994113,
          2.5352632595994113,
          2.5352632595994113,
          2.5352632595994113,
          2.5352632595994113,
          2.5352632595994113,
          2.5352632595994113,
          2.5352632595994113,
          2.5352632595994113,
          2.5352632595994113,
          2.5352632595994113,
          2.5352632595994113,
          2.5352632595994113,
          2.5352632595994113,
          2.5352632595994113,
          2.5352632595994113,
          2.5352632595994113,
          2.5352632595994113,
          2.5352632595994113,
          2.5352632595994113,
          2.5352632595994113,
          2.5352632595994113,
          2.5352632595994113,
          2.5352632595994113,
          2.5352632595994113,
          2.5352632595994113,
          2.5352632595994113,
          2.5352632595994113,
          2.5352632595994113,
          2.5352632595994113,
          2.5352632595994113,
          2.5352632595994113,
          2.5352632595994113,
          2.5352632595994113,
          2.5352632595994113,
          2.5352632595994113,
          2.5352632595994113,
          2.5352632595994113,
          2.5352632595994113,
          2.5352632595994113,
          2.5352632595994113,
          2.5352632595994113,
          2.5352632595994113,
          2.5352632595994113,
          2.5352632595994113,
          2.5352632595994113,
          2.5352632595994113,
          2.5352632595994113,
          2.5352632595994113,
          2.5352632595994113,
          2.5352632595994113,
          2.5352632595994113,
          2.5352632595994113,
          2.5352632595994113,
          2.5352632595994113,
          2.5352632595994113,
          2.5352632595994113,
          2.5352632595994113,
          2.5352632595994113,
          2.5352632595994113,
          2.5352632595994113,
          2.5352632595994113,
          2.5352632595994113,
          2.5352632595994113,
          2.5352632595994113,
          2.5352632595994113,
          2.5352632595994113,
          2.5352632595994113,
          2.5352632595994113,
          2.5352632595994113,
          2.5352632595994113,
          2.5352632595994113,
          2.5352632595994113,
          2.5352632595994113,
          2.5352632595994113,
          2.5352632595994113,
          2.5352632595994113,
          2.5352632595994113,
          2.5352632595994113,
          2.5352632595994113,
          2.5352632595994113,
          2.5352632595994113,
          2.5352632595994113,
          2.5352632595994113,
          2.5352632595994113,
          2.5352632595994113,
          2.5352632595994113,
          2.5352632595994113,
          2.5352632595994113,
          2.5352632595994113
         ]
        }
       ],
       "layout": {
        "template": {
         "data": {
          "bar": [
           {
            "error_x": {
             "color": "#f2f5fa"
            },
            "error_y": {
             "color": "#f2f5fa"
            },
            "marker": {
             "line": {
              "color": "rgb(17,17,17)",
              "width": 0.5
             },
             "pattern": {
              "fillmode": "overlay",
              "size": 10,
              "solidity": 0.2
             }
            },
            "type": "bar"
           }
          ],
          "barpolar": [
           {
            "marker": {
             "line": {
              "color": "rgb(17,17,17)",
              "width": 0.5
             },
             "pattern": {
              "fillmode": "overlay",
              "size": 10,
              "solidity": 0.2
             }
            },
            "type": "barpolar"
           }
          ],
          "carpet": [
           {
            "aaxis": {
             "endlinecolor": "#A2B1C6",
             "gridcolor": "#506784",
             "linecolor": "#506784",
             "minorgridcolor": "#506784",
             "startlinecolor": "#A2B1C6"
            },
            "baxis": {
             "endlinecolor": "#A2B1C6",
             "gridcolor": "#506784",
             "linecolor": "#506784",
             "minorgridcolor": "#506784",
             "startlinecolor": "#A2B1C6"
            },
            "type": "carpet"
           }
          ],
          "choropleth": [
           {
            "colorbar": {
             "outlinewidth": 0,
             "ticks": ""
            },
            "type": "choropleth"
           }
          ],
          "contour": [
           {
            "colorbar": {
             "outlinewidth": 0,
             "ticks": ""
            },
            "colorscale": [
             [
              0,
              "#0d0887"
             ],
             [
              0.1111111111111111,
              "#46039f"
             ],
             [
              0.2222222222222222,
              "#7201a8"
             ],
             [
              0.3333333333333333,
              "#9c179e"
             ],
             [
              0.4444444444444444,
              "#bd3786"
             ],
             [
              0.5555555555555556,
              "#d8576b"
             ],
             [
              0.6666666666666666,
              "#ed7953"
             ],
             [
              0.7777777777777778,
              "#fb9f3a"
             ],
             [
              0.8888888888888888,
              "#fdca26"
             ],
             [
              1,
              "#f0f921"
             ]
            ],
            "type": "contour"
           }
          ],
          "contourcarpet": [
           {
            "colorbar": {
             "outlinewidth": 0,
             "ticks": ""
            },
            "type": "contourcarpet"
           }
          ],
          "heatmap": [
           {
            "colorbar": {
             "outlinewidth": 0,
             "ticks": ""
            },
            "colorscale": [
             [
              0,
              "#0d0887"
             ],
             [
              0.1111111111111111,
              "#46039f"
             ],
             [
              0.2222222222222222,
              "#7201a8"
             ],
             [
              0.3333333333333333,
              "#9c179e"
             ],
             [
              0.4444444444444444,
              "#bd3786"
             ],
             [
              0.5555555555555556,
              "#d8576b"
             ],
             [
              0.6666666666666666,
              "#ed7953"
             ],
             [
              0.7777777777777778,
              "#fb9f3a"
             ],
             [
              0.8888888888888888,
              "#fdca26"
             ],
             [
              1,
              "#f0f921"
             ]
            ],
            "type": "heatmap"
           }
          ],
          "heatmapgl": [
           {
            "colorbar": {
             "outlinewidth": 0,
             "ticks": ""
            },
            "colorscale": [
             [
              0,
              "#0d0887"
             ],
             [
              0.1111111111111111,
              "#46039f"
             ],
             [
              0.2222222222222222,
              "#7201a8"
             ],
             [
              0.3333333333333333,
              "#9c179e"
             ],
             [
              0.4444444444444444,
              "#bd3786"
             ],
             [
              0.5555555555555556,
              "#d8576b"
             ],
             [
              0.6666666666666666,
              "#ed7953"
             ],
             [
              0.7777777777777778,
              "#fb9f3a"
             ],
             [
              0.8888888888888888,
              "#fdca26"
             ],
             [
              1,
              "#f0f921"
             ]
            ],
            "type": "heatmapgl"
           }
          ],
          "histogram": [
           {
            "marker": {
             "pattern": {
              "fillmode": "overlay",
              "size": 10,
              "solidity": 0.2
             }
            },
            "type": "histogram"
           }
          ],
          "histogram2d": [
           {
            "colorbar": {
             "outlinewidth": 0,
             "ticks": ""
            },
            "colorscale": [
             [
              0,
              "#0d0887"
             ],
             [
              0.1111111111111111,
              "#46039f"
             ],
             [
              0.2222222222222222,
              "#7201a8"
             ],
             [
              0.3333333333333333,
              "#9c179e"
             ],
             [
              0.4444444444444444,
              "#bd3786"
             ],
             [
              0.5555555555555556,
              "#d8576b"
             ],
             [
              0.6666666666666666,
              "#ed7953"
             ],
             [
              0.7777777777777778,
              "#fb9f3a"
             ],
             [
              0.8888888888888888,
              "#fdca26"
             ],
             [
              1,
              "#f0f921"
             ]
            ],
            "type": "histogram2d"
           }
          ],
          "histogram2dcontour": [
           {
            "colorbar": {
             "outlinewidth": 0,
             "ticks": ""
            },
            "colorscale": [
             [
              0,
              "#0d0887"
             ],
             [
              0.1111111111111111,
              "#46039f"
             ],
             [
              0.2222222222222222,
              "#7201a8"
             ],
             [
              0.3333333333333333,
              "#9c179e"
             ],
             [
              0.4444444444444444,
              "#bd3786"
             ],
             [
              0.5555555555555556,
              "#d8576b"
             ],
             [
              0.6666666666666666,
              "#ed7953"
             ],
             [
              0.7777777777777778,
              "#fb9f3a"
             ],
             [
              0.8888888888888888,
              "#fdca26"
             ],
             [
              1,
              "#f0f921"
             ]
            ],
            "type": "histogram2dcontour"
           }
          ],
          "mesh3d": [
           {
            "colorbar": {
             "outlinewidth": 0,
             "ticks": ""
            },
            "type": "mesh3d"
           }
          ],
          "parcoords": [
           {
            "line": {
             "colorbar": {
              "outlinewidth": 0,
              "ticks": ""
             }
            },
            "type": "parcoords"
           }
          ],
          "pie": [
           {
            "automargin": true,
            "type": "pie"
           }
          ],
          "scatter": [
           {
            "marker": {
             "line": {
              "color": "#283442"
             }
            },
            "type": "scatter"
           }
          ],
          "scatter3d": [
           {
            "line": {
             "colorbar": {
              "outlinewidth": 0,
              "ticks": ""
             }
            },
            "marker": {
             "colorbar": {
              "outlinewidth": 0,
              "ticks": ""
             }
            },
            "type": "scatter3d"
           }
          ],
          "scattercarpet": [
           {
            "marker": {
             "colorbar": {
              "outlinewidth": 0,
              "ticks": ""
             }
            },
            "type": "scattercarpet"
           }
          ],
          "scattergeo": [
           {
            "marker": {
             "colorbar": {
              "outlinewidth": 0,
              "ticks": ""
             }
            },
            "type": "scattergeo"
           }
          ],
          "scattergl": [
           {
            "marker": {
             "line": {
              "color": "#283442"
             }
            },
            "type": "scattergl"
           }
          ],
          "scattermapbox": [
           {
            "marker": {
             "colorbar": {
              "outlinewidth": 0,
              "ticks": ""
             }
            },
            "type": "scattermapbox"
           }
          ],
          "scatterpolar": [
           {
            "marker": {
             "colorbar": {
              "outlinewidth": 0,
              "ticks": ""
             }
            },
            "type": "scatterpolar"
           }
          ],
          "scatterpolargl": [
           {
            "marker": {
             "colorbar": {
              "outlinewidth": 0,
              "ticks": ""
             }
            },
            "type": "scatterpolargl"
           }
          ],
          "scatterternary": [
           {
            "marker": {
             "colorbar": {
              "outlinewidth": 0,
              "ticks": ""
             }
            },
            "type": "scatterternary"
           }
          ],
          "surface": [
           {
            "colorbar": {
             "outlinewidth": 0,
             "ticks": ""
            },
            "colorscale": [
             [
              0,
              "#0d0887"
             ],
             [
              0.1111111111111111,
              "#46039f"
             ],
             [
              0.2222222222222222,
              "#7201a8"
             ],
             [
              0.3333333333333333,
              "#9c179e"
             ],
             [
              0.4444444444444444,
              "#bd3786"
             ],
             [
              0.5555555555555556,
              "#d8576b"
             ],
             [
              0.6666666666666666,
              "#ed7953"
             ],
             [
              0.7777777777777778,
              "#fb9f3a"
             ],
             [
              0.8888888888888888,
              "#fdca26"
             ],
             [
              1,
              "#f0f921"
             ]
            ],
            "type": "surface"
           }
          ],
          "table": [
           {
            "cells": {
             "fill": {
              "color": "#506784"
             },
             "line": {
              "color": "rgb(17,17,17)"
             }
            },
            "header": {
             "fill": {
              "color": "#2a3f5f"
             },
             "line": {
              "color": "rgb(17,17,17)"
             }
            },
            "type": "table"
           }
          ]
         },
         "layout": {
          "annotationdefaults": {
           "arrowcolor": "#f2f5fa",
           "arrowhead": 0,
           "arrowwidth": 1
          },
          "autotypenumbers": "strict",
          "coloraxis": {
           "colorbar": {
            "outlinewidth": 0,
            "ticks": ""
           }
          },
          "colorscale": {
           "diverging": [
            [
             0,
             "#8e0152"
            ],
            [
             0.1,
             "#c51b7d"
            ],
            [
             0.2,
             "#de77ae"
            ],
            [
             0.3,
             "#f1b6da"
            ],
            [
             0.4,
             "#fde0ef"
            ],
            [
             0.5,
             "#f7f7f7"
            ],
            [
             0.6,
             "#e6f5d0"
            ],
            [
             0.7,
             "#b8e186"
            ],
            [
             0.8,
             "#7fbc41"
            ],
            [
             0.9,
             "#4d9221"
            ],
            [
             1,
             "#276419"
            ]
           ],
           "sequential": [
            [
             0,
             "#0d0887"
            ],
            [
             0.1111111111111111,
             "#46039f"
            ],
            [
             0.2222222222222222,
             "#7201a8"
            ],
            [
             0.3333333333333333,
             "#9c179e"
            ],
            [
             0.4444444444444444,
             "#bd3786"
            ],
            [
             0.5555555555555556,
             "#d8576b"
            ],
            [
             0.6666666666666666,
             "#ed7953"
            ],
            [
             0.7777777777777778,
             "#fb9f3a"
            ],
            [
             0.8888888888888888,
             "#fdca26"
            ],
            [
             1,
             "#f0f921"
            ]
           ],
           "sequentialminus": [
            [
             0,
             "#0d0887"
            ],
            [
             0.1111111111111111,
             "#46039f"
            ],
            [
             0.2222222222222222,
             "#7201a8"
            ],
            [
             0.3333333333333333,
             "#9c179e"
            ],
            [
             0.4444444444444444,
             "#bd3786"
            ],
            [
             0.5555555555555556,
             "#d8576b"
            ],
            [
             0.6666666666666666,
             "#ed7953"
            ],
            [
             0.7777777777777778,
             "#fb9f3a"
            ],
            [
             0.8888888888888888,
             "#fdca26"
            ],
            [
             1,
             "#f0f921"
            ]
           ]
          },
          "colorway": [
           "#636efa",
           "#EF553B",
           "#00cc96",
           "#ab63fa",
           "#FFA15A",
           "#19d3f3",
           "#FF6692",
           "#B6E880",
           "#FF97FF",
           "#FECB52"
          ],
          "font": {
           "color": "#f2f5fa"
          },
          "geo": {
           "bgcolor": "rgb(17,17,17)",
           "lakecolor": "rgb(17,17,17)",
           "landcolor": "rgb(17,17,17)",
           "showlakes": true,
           "showland": true,
           "subunitcolor": "#506784"
          },
          "hoverlabel": {
           "align": "left"
          },
          "hovermode": "closest",
          "mapbox": {
           "style": "dark"
          },
          "paper_bgcolor": "rgb(17,17,17)",
          "plot_bgcolor": "rgb(17,17,17)",
          "polar": {
           "angularaxis": {
            "gridcolor": "#506784",
            "linecolor": "#506784",
            "ticks": ""
           },
           "bgcolor": "rgb(17,17,17)",
           "radialaxis": {
            "gridcolor": "#506784",
            "linecolor": "#506784",
            "ticks": ""
           }
          },
          "scene": {
           "xaxis": {
            "backgroundcolor": "rgb(17,17,17)",
            "gridcolor": "#506784",
            "gridwidth": 2,
            "linecolor": "#506784",
            "showbackground": true,
            "ticks": "",
            "zerolinecolor": "#C8D4E3"
           },
           "yaxis": {
            "backgroundcolor": "rgb(17,17,17)",
            "gridcolor": "#506784",
            "gridwidth": 2,
            "linecolor": "#506784",
            "showbackground": true,
            "ticks": "",
            "zerolinecolor": "#C8D4E3"
           },
           "zaxis": {
            "backgroundcolor": "rgb(17,17,17)",
            "gridcolor": "#506784",
            "gridwidth": 2,
            "linecolor": "#506784",
            "showbackground": true,
            "ticks": "",
            "zerolinecolor": "#C8D4E3"
           }
          },
          "shapedefaults": {
           "line": {
            "color": "#f2f5fa"
           }
          },
          "sliderdefaults": {
           "bgcolor": "#C8D4E3",
           "bordercolor": "rgb(17,17,17)",
           "borderwidth": 1,
           "tickwidth": 0
          },
          "ternary": {
           "aaxis": {
            "gridcolor": "#506784",
            "linecolor": "#506784",
            "ticks": ""
           },
           "baxis": {
            "gridcolor": "#506784",
            "linecolor": "#506784",
            "ticks": ""
           },
           "bgcolor": "rgb(17,17,17)",
           "caxis": {
            "gridcolor": "#506784",
            "linecolor": "#506784",
            "ticks": ""
           }
          },
          "title": {
           "x": 0.05
          },
          "updatemenudefaults": {
           "bgcolor": "#506784",
           "borderwidth": 0
          },
          "xaxis": {
           "automargin": true,
           "gridcolor": "#283442",
           "linecolor": "#506784",
           "ticks": "",
           "title": {
            "standoff": 15
           },
           "zerolinecolor": "#283442",
           "zerolinewidth": 2
          },
          "yaxis": {
           "automargin": true,
           "gridcolor": "#283442",
           "linecolor": "#506784",
           "ticks": "",
           "title": {
            "standoff": 15
           },
           "zerolinecolor": "#283442",
           "zerolinewidth": 2
          }
         }
        },
        "title": {
         "text": "Przestępcy popełnione na płeci X-gender algorytm ARIMA"
        },
        "xaxis": {
         "title": {
          "text": "Data"
         }
        },
        "yaxis": {
         "title": {
          "text": "Liczba incydentów"
         }
        }
       }
      }
     },
     "metadata": {},
     "output_type": "display_data"
    }
   ],
   "source": [
    "import pandas as pd\n",
    "import numpy as np\n",
    "import matplotlib.pyplot as plt\n",
    "from statsmodels.tsa.arima.model import ARIMA\n",
    "import plotly.graph_objects as go\n",
    "\n",
    "\n",
    "\n",
    "df['Date'] = pd.to_datetime(df[['Year', 'Month', 'Day']])\n",
    "# Grupowanie i agregacja danych\n",
    "df_grouped = df.groupby('Date')['count'].sum().reset_index()\n",
    "\n",
    "# Przygotowanie danych do modelu ARIMA\n",
    "df_grouped.set_index('Date', inplace=True)\n",
    "\n",
    "# Dopasowanie modelu ARIMA\n",
    "model = ARIMA(df_grouped['count'], order=(5, 1, 0))\n",
    "model_fit = model.fit()\n",
    "\n",
    "# Prognoza na następny rok\n",
    "forecast = model_fit.forecast(steps=365)\n",
    "forecast_dates = pd.date_range(start=df_grouped.index[-1] + pd.DateOffset(days=1), periods=365, freq='D')\n",
    "\n",
    "# Wykres szeregu czasowego z prognozą\n",
    "fig = go.Figure()\n",
    "\n",
    "# Dodanie rzeczywistych danych\n",
    "fig.add_trace(go.Scatter(x=df_grouped.index, y=df_grouped['count'], mode='lines+markers', name='Actual'))\n",
    "\n",
    "# Dodanie prognoz\n",
    "fig.add_trace(go.Scatter(x=forecast_dates, y=forecast, mode='lines+markers', name='Forecast', line=dict(color='red', dash='dash')))\n",
    "\n",
    "# Aktualizacja układu wykresu\n",
    "fig.update_layout(title='Przestępcy popełnione na płeci X-gender algorytm ARIMA', xaxis_title='Data',\n",
    "                   yaxis_title='Liczba incydentów',template=\"plotly_dark\",)\n",
    "\n",
    "# Wyświetlenie wykresu\n",
    "fig.show()\n",
    "\n",
    "# Zapisywanie wykresu do pliku HTML\n",
    "fig.write_html(\"forecast_plot4_2.html\")\n"
   ]
  },
  {
   "cell_type": "code",
   "execution_count": 87,
   "metadata": {},
   "outputs": [
    {
     "name": "stderr",
     "output_type": "stream",
     "text": [
      "17:44:59 - cmdstanpy - INFO - Chain [1] start processing\n",
      "17:45:00 - cmdstanpy - INFO - Chain [1] done processing\n"
     ]
    },
    {
     "data": {
      "application/vnd.plotly.v1+json": {
       "config": {
        "plotlyServerURL": "https://plot.ly"
       },
       "data": [
        {
         "mode": "lines+markers",
         "name": "Actual",
         "type": "scatter",
         "x": [
          "2020-02-15T00:00:00",
          "2020-03-22T00:00:00",
          "2020-05-01T00:00:00",
          "2020-05-16T00:00:00",
          "2020-05-30T00:00:00",
          "2020-06-01T00:00:00",
          "2020-06-07T00:00:00",
          "2020-06-12T00:00:00",
          "2020-07-01T00:00:00",
          "2020-07-04T00:00:00",
          "2020-07-15T00:00:00",
          "2020-08-16T00:00:00",
          "2020-10-12T00:00:00",
          "2020-11-03T00:00:00",
          "2021-01-22T00:00:00",
          "2021-01-31T00:00:00",
          "2021-02-04T00:00:00",
          "2021-02-20T00:00:00",
          "2021-04-13T00:00:00",
          "2021-04-29T00:00:00",
          "2021-06-25T00:00:00",
          "2021-06-26T00:00:00",
          "2021-08-12T00:00:00",
          "2021-09-06T00:00:00",
          "2021-10-04T00:00:00",
          "2021-10-25T00:00:00",
          "2021-11-03T00:00:00",
          "2022-01-16T00:00:00",
          "2022-01-20T00:00:00",
          "2022-02-14T00:00:00",
          "2022-02-18T00:00:00",
          "2022-03-01T00:00:00",
          "2022-03-10T00:00:00",
          "2022-03-21T00:00:00",
          "2022-04-01T00:00:00",
          "2022-05-21T00:00:00",
          "2022-06-10T00:00:00",
          "2022-06-13T00:00:00",
          "2022-06-26T00:00:00",
          "2022-07-03T00:00:00",
          "2022-07-14T00:00:00",
          "2022-09-06T00:00:00",
          "2022-09-29T00:00:00",
          "2022-10-12T00:00:00",
          "2022-10-14T00:00:00",
          "2022-10-15T00:00:00",
          "2022-10-22T00:00:00",
          "2022-11-03T00:00:00",
          "2022-11-05T00:00:00",
          "2022-11-29T00:00:00",
          "2022-12-27T00:00:00",
          "2023-01-21T00:00:00",
          "2023-01-22T00:00:00",
          "2023-03-20T00:00:00",
          "2023-03-26T00:00:00",
          "2023-04-28T00:00:00",
          "2023-06-05T00:00:00",
          "2023-06-29T00:00:00",
          "2023-06-30T00:00:00"
         ],
         "y": [
          2.8365943005458836,
          2.9123324146804355,
          2.251668338499821,
          2.1736437385080603,
          2.104155225373569,
          2.0871861777940093,
          2.5257445125345814,
          2.2224955989515722,
          2.358922479319806,
          2.4954283460779374,
          2.257556008206543,
          2.047383432111384,
          2.9526375566861356,
          2.891129430631155,
          2.946589889822713,
          2.209515060151835,
          2.5626750929614137,
          2.677828431297991,
          2.8256075267935787,
          2.7670332555275294,
          2.8599211232777972,
          2.589627826768397,
          2.071291768392821,
          2.168343399973405,
          2.635307669731165,
          2.350896245408463,
          2.4834460356002026,
          2.452737834263422,
          2.8431258614684336,
          2.982470278086992,
          2.0293201591320513,
          2.7469224039911158,
          5.207956062112454,
          2.460933764137204,
          2.781839393316717,
          2.1303737223695984,
          2.9876695261096504,
          2.412351566506364,
          2.3664110822314712,
          2.079902783697175,
          2.9830120041073465,
          2.649664515860399,
          2.2527637017833246,
          2.557603108910159,
          2.862433862151808,
          2.7556290569928574,
          2.255275148108431,
          2.5401136578602763,
          2.3983421816701016,
          2.6623151161573855,
          2.895766230664666,
          2.6348345199365335,
          2.2300899632456104,
          2.1326352436611975,
          2.56073863117833,
          2.5922145318086924,
          2.527526035527442,
          2.8068646962538226,
          2.3426054130120493
         ]
        },
        {
         "line": {
          "color": "red",
          "dash": "dash"
         },
         "mode": "lines+markers",
         "name": "Forecast",
         "type": "scatter",
         "x": [
          "2023-07-01T00:00:00",
          "2023-07-02T00:00:00",
          "2023-07-03T00:00:00",
          "2023-07-04T00:00:00",
          "2023-07-05T00:00:00",
          "2023-07-06T00:00:00",
          "2023-07-07T00:00:00",
          "2023-07-08T00:00:00",
          "2023-07-09T00:00:00",
          "2023-07-10T00:00:00",
          "2023-07-11T00:00:00",
          "2023-07-12T00:00:00",
          "2023-07-13T00:00:00",
          "2023-07-14T00:00:00",
          "2023-07-15T00:00:00",
          "2023-07-16T00:00:00",
          "2023-07-17T00:00:00",
          "2023-07-18T00:00:00",
          "2023-07-19T00:00:00",
          "2023-07-20T00:00:00",
          "2023-07-21T00:00:00",
          "2023-07-22T00:00:00",
          "2023-07-23T00:00:00",
          "2023-07-24T00:00:00",
          "2023-07-25T00:00:00",
          "2023-07-26T00:00:00",
          "2023-07-27T00:00:00",
          "2023-07-28T00:00:00",
          "2023-07-29T00:00:00",
          "2023-07-30T00:00:00",
          "2023-07-31T00:00:00",
          "2023-08-01T00:00:00",
          "2023-08-02T00:00:00",
          "2023-08-03T00:00:00",
          "2023-08-04T00:00:00",
          "2023-08-05T00:00:00",
          "2023-08-06T00:00:00",
          "2023-08-07T00:00:00",
          "2023-08-08T00:00:00",
          "2023-08-09T00:00:00",
          "2023-08-10T00:00:00",
          "2023-08-11T00:00:00",
          "2023-08-12T00:00:00",
          "2023-08-13T00:00:00",
          "2023-08-14T00:00:00",
          "2023-08-15T00:00:00",
          "2023-08-16T00:00:00",
          "2023-08-17T00:00:00",
          "2023-08-18T00:00:00",
          "2023-08-19T00:00:00",
          "2023-08-20T00:00:00",
          "2023-08-21T00:00:00",
          "2023-08-22T00:00:00",
          "2023-08-23T00:00:00",
          "2023-08-24T00:00:00",
          "2023-08-25T00:00:00",
          "2023-08-26T00:00:00",
          "2023-08-27T00:00:00",
          "2023-08-28T00:00:00",
          "2023-08-29T00:00:00",
          "2023-08-30T00:00:00",
          "2023-08-31T00:00:00",
          "2023-09-01T00:00:00",
          "2023-09-02T00:00:00",
          "2023-09-03T00:00:00",
          "2023-09-04T00:00:00",
          "2023-09-05T00:00:00",
          "2023-09-06T00:00:00",
          "2023-09-07T00:00:00",
          "2023-09-08T00:00:00",
          "2023-09-09T00:00:00",
          "2023-09-10T00:00:00",
          "2023-09-11T00:00:00",
          "2023-09-12T00:00:00",
          "2023-09-13T00:00:00",
          "2023-09-14T00:00:00",
          "2023-09-15T00:00:00",
          "2023-09-16T00:00:00",
          "2023-09-17T00:00:00",
          "2023-09-18T00:00:00",
          "2023-09-19T00:00:00",
          "2023-09-20T00:00:00",
          "2023-09-21T00:00:00",
          "2023-09-22T00:00:00",
          "2023-09-23T00:00:00",
          "2023-09-24T00:00:00",
          "2023-09-25T00:00:00",
          "2023-09-26T00:00:00",
          "2023-09-27T00:00:00",
          "2023-09-28T00:00:00",
          "2023-09-29T00:00:00",
          "2023-09-30T00:00:00",
          "2023-10-01T00:00:00",
          "2023-10-02T00:00:00",
          "2023-10-03T00:00:00",
          "2023-10-04T00:00:00",
          "2023-10-05T00:00:00",
          "2023-10-06T00:00:00",
          "2023-10-07T00:00:00",
          "2023-10-08T00:00:00",
          "2023-10-09T00:00:00",
          "2023-10-10T00:00:00",
          "2023-10-11T00:00:00",
          "2023-10-12T00:00:00",
          "2023-10-13T00:00:00",
          "2023-10-14T00:00:00",
          "2023-10-15T00:00:00",
          "2023-10-16T00:00:00",
          "2023-10-17T00:00:00",
          "2023-10-18T00:00:00",
          "2023-10-19T00:00:00",
          "2023-10-20T00:00:00",
          "2023-10-21T00:00:00",
          "2023-10-22T00:00:00",
          "2023-10-23T00:00:00",
          "2023-10-24T00:00:00",
          "2023-10-25T00:00:00",
          "2023-10-26T00:00:00",
          "2023-10-27T00:00:00",
          "2023-10-28T00:00:00",
          "2023-10-29T00:00:00",
          "2023-10-30T00:00:00",
          "2023-10-31T00:00:00",
          "2023-11-01T00:00:00",
          "2023-11-02T00:00:00",
          "2023-11-03T00:00:00",
          "2023-11-04T00:00:00",
          "2023-11-05T00:00:00",
          "2023-11-06T00:00:00",
          "2023-11-07T00:00:00",
          "2023-11-08T00:00:00",
          "2023-11-09T00:00:00",
          "2023-11-10T00:00:00",
          "2023-11-11T00:00:00",
          "2023-11-12T00:00:00",
          "2023-11-13T00:00:00",
          "2023-11-14T00:00:00",
          "2023-11-15T00:00:00",
          "2023-11-16T00:00:00",
          "2023-11-17T00:00:00",
          "2023-11-18T00:00:00",
          "2023-11-19T00:00:00",
          "2023-11-20T00:00:00",
          "2023-11-21T00:00:00",
          "2023-11-22T00:00:00",
          "2023-11-23T00:00:00",
          "2023-11-24T00:00:00",
          "2023-11-25T00:00:00",
          "2023-11-26T00:00:00",
          "2023-11-27T00:00:00",
          "2023-11-28T00:00:00",
          "2023-11-29T00:00:00",
          "2023-11-30T00:00:00",
          "2023-12-01T00:00:00",
          "2023-12-02T00:00:00",
          "2023-12-03T00:00:00",
          "2023-12-04T00:00:00",
          "2023-12-05T00:00:00",
          "2023-12-06T00:00:00",
          "2023-12-07T00:00:00",
          "2023-12-08T00:00:00",
          "2023-12-09T00:00:00",
          "2023-12-10T00:00:00",
          "2023-12-11T00:00:00",
          "2023-12-12T00:00:00",
          "2023-12-13T00:00:00",
          "2023-12-14T00:00:00",
          "2023-12-15T00:00:00",
          "2023-12-16T00:00:00",
          "2023-12-17T00:00:00",
          "2023-12-18T00:00:00",
          "2023-12-19T00:00:00",
          "2023-12-20T00:00:00",
          "2023-12-21T00:00:00",
          "2023-12-22T00:00:00",
          "2023-12-23T00:00:00",
          "2023-12-24T00:00:00",
          "2023-12-25T00:00:00",
          "2023-12-26T00:00:00",
          "2023-12-27T00:00:00",
          "2023-12-28T00:00:00",
          "2023-12-29T00:00:00",
          "2023-12-30T00:00:00",
          "2023-12-31T00:00:00",
          "2024-01-01T00:00:00",
          "2024-01-02T00:00:00",
          "2024-01-03T00:00:00",
          "2024-01-04T00:00:00",
          "2024-01-05T00:00:00",
          "2024-01-06T00:00:00",
          "2024-01-07T00:00:00",
          "2024-01-08T00:00:00",
          "2024-01-09T00:00:00",
          "2024-01-10T00:00:00",
          "2024-01-11T00:00:00",
          "2024-01-12T00:00:00",
          "2024-01-13T00:00:00",
          "2024-01-14T00:00:00",
          "2024-01-15T00:00:00",
          "2024-01-16T00:00:00",
          "2024-01-17T00:00:00",
          "2024-01-18T00:00:00",
          "2024-01-19T00:00:00",
          "2024-01-20T00:00:00",
          "2024-01-21T00:00:00",
          "2024-01-22T00:00:00",
          "2024-01-23T00:00:00",
          "2024-01-24T00:00:00",
          "2024-01-25T00:00:00",
          "2024-01-26T00:00:00",
          "2024-01-27T00:00:00",
          "2024-01-28T00:00:00",
          "2024-01-29T00:00:00",
          "2024-01-30T00:00:00",
          "2024-01-31T00:00:00",
          "2024-02-01T00:00:00",
          "2024-02-02T00:00:00",
          "2024-02-03T00:00:00",
          "2024-02-04T00:00:00",
          "2024-02-05T00:00:00",
          "2024-02-06T00:00:00",
          "2024-02-07T00:00:00",
          "2024-02-08T00:00:00",
          "2024-02-09T00:00:00",
          "2024-02-10T00:00:00",
          "2024-02-11T00:00:00",
          "2024-02-12T00:00:00",
          "2024-02-13T00:00:00",
          "2024-02-14T00:00:00",
          "2024-02-15T00:00:00",
          "2024-02-16T00:00:00",
          "2024-02-17T00:00:00",
          "2024-02-18T00:00:00",
          "2024-02-19T00:00:00",
          "2024-02-20T00:00:00",
          "2024-02-21T00:00:00",
          "2024-02-22T00:00:00",
          "2024-02-23T00:00:00",
          "2024-02-24T00:00:00",
          "2024-02-25T00:00:00",
          "2024-02-26T00:00:00",
          "2024-02-27T00:00:00",
          "2024-02-28T00:00:00",
          "2024-02-29T00:00:00",
          "2024-03-01T00:00:00",
          "2024-03-02T00:00:00",
          "2024-03-03T00:00:00",
          "2024-03-04T00:00:00",
          "2024-03-05T00:00:00",
          "2024-03-06T00:00:00",
          "2024-03-07T00:00:00",
          "2024-03-08T00:00:00",
          "2024-03-09T00:00:00",
          "2024-03-10T00:00:00",
          "2024-03-11T00:00:00",
          "2024-03-12T00:00:00",
          "2024-03-13T00:00:00",
          "2024-03-14T00:00:00",
          "2024-03-15T00:00:00",
          "2024-03-16T00:00:00",
          "2024-03-17T00:00:00",
          "2024-03-18T00:00:00",
          "2024-03-19T00:00:00",
          "2024-03-20T00:00:00",
          "2024-03-21T00:00:00",
          "2024-03-22T00:00:00",
          "2024-03-23T00:00:00",
          "2024-03-24T00:00:00",
          "2024-03-25T00:00:00",
          "2024-03-26T00:00:00",
          "2024-03-27T00:00:00",
          "2024-03-28T00:00:00",
          "2024-03-29T00:00:00",
          "2024-03-30T00:00:00",
          "2024-03-31T00:00:00",
          "2024-04-01T00:00:00",
          "2024-04-02T00:00:00",
          "2024-04-03T00:00:00",
          "2024-04-04T00:00:00",
          "2024-04-05T00:00:00",
          "2024-04-06T00:00:00",
          "2024-04-07T00:00:00",
          "2024-04-08T00:00:00",
          "2024-04-09T00:00:00",
          "2024-04-10T00:00:00",
          "2024-04-11T00:00:00",
          "2024-04-12T00:00:00",
          "2024-04-13T00:00:00",
          "2024-04-14T00:00:00",
          "2024-04-15T00:00:00",
          "2024-04-16T00:00:00",
          "2024-04-17T00:00:00",
          "2024-04-18T00:00:00",
          "2024-04-19T00:00:00",
          "2024-04-20T00:00:00",
          "2024-04-21T00:00:00",
          "2024-04-22T00:00:00",
          "2024-04-23T00:00:00",
          "2024-04-24T00:00:00",
          "2024-04-25T00:00:00",
          "2024-04-26T00:00:00",
          "2024-04-27T00:00:00",
          "2024-04-28T00:00:00",
          "2024-04-29T00:00:00",
          "2024-04-30T00:00:00",
          "2024-05-01T00:00:00",
          "2024-05-02T00:00:00",
          "2024-05-03T00:00:00",
          "2024-05-04T00:00:00",
          "2024-05-05T00:00:00",
          "2024-05-06T00:00:00",
          "2024-05-07T00:00:00",
          "2024-05-08T00:00:00",
          "2024-05-09T00:00:00",
          "2024-05-10T00:00:00",
          "2024-05-11T00:00:00",
          "2024-05-12T00:00:00",
          "2024-05-13T00:00:00",
          "2024-05-14T00:00:00",
          "2024-05-15T00:00:00",
          "2024-05-16T00:00:00",
          "2024-05-17T00:00:00",
          "2024-05-18T00:00:00",
          "2024-05-19T00:00:00",
          "2024-05-20T00:00:00",
          "2024-05-21T00:00:00",
          "2024-05-22T00:00:00",
          "2024-05-23T00:00:00",
          "2024-05-24T00:00:00",
          "2024-05-25T00:00:00",
          "2024-05-26T00:00:00",
          "2024-05-27T00:00:00",
          "2024-05-28T00:00:00",
          "2024-05-29T00:00:00",
          "2024-05-30T00:00:00",
          "2024-05-31T00:00:00",
          "2024-06-01T00:00:00",
          "2024-06-02T00:00:00",
          "2024-06-03T00:00:00",
          "2024-06-04T00:00:00",
          "2024-06-05T00:00:00",
          "2024-06-06T00:00:00",
          "2024-06-07T00:00:00",
          "2024-06-08T00:00:00",
          "2024-06-09T00:00:00",
          "2024-06-10T00:00:00",
          "2024-06-11T00:00:00",
          "2024-06-12T00:00:00",
          "2024-06-13T00:00:00",
          "2024-06-14T00:00:00",
          "2024-06-15T00:00:00",
          "2024-06-16T00:00:00",
          "2024-06-17T00:00:00",
          "2024-06-18T00:00:00",
          "2024-06-19T00:00:00",
          "2024-06-20T00:00:00",
          "2024-06-21T00:00:00",
          "2024-06-22T00:00:00",
          "2024-06-23T00:00:00",
          "2024-06-24T00:00:00",
          "2024-06-25T00:00:00",
          "2024-06-26T00:00:00",
          "2024-06-27T00:00:00",
          "2024-06-28T00:00:00",
          "2024-06-29T00:00:00"
         ],
         "y": [
          2.3309701373282787,
          2.2010833905147145,
          2.2021039326199676,
          2.1477313662769255,
          2.0816320157413437,
          2.7517145653310586,
          2.334478359017197,
          2.2710783133187205,
          2.1582745356312842,
          2.176262073842178,
          2.137956526970859,
          2.0862371242018396,
          2.768249395732578,
          2.359780870296133,
          2.3013528577527467,
          2.1891955038497937,
          2.2031006556564487,
          2.1557274268017395,
          2.0898613042039598,
          2.7527282554404935,
          2.3203767325683406,
          2.2337702375258965,
          2.0897574049163787,
          2.068914083168726,
          1.9848324259336474,
          1.8813581392504186,
          2.5068778243783156,
          2.038669959330506,
          1.9189629826405201,
          1.7458683642579937,
          1.7011841794381353,
          1.599645309357245,
          1.486122571317853,
          2.109873887254577,
          1.6488621791648717,
          1.5457845422654821,
          1.398981575847613,
          1.3902232584784837,
          1.3339482089785455,
          1.2744591754934256,
          1.960178202326174,
          1.5679762908377644,
          1.539222010738134,
          1.4707176225286922,
          1.5425185579788263,
          1.5672123501757822,
          1.5871589124370304,
          2.3487945025394783,
          2.027012933223103,
          2.0612671210397626,
          2.0465580976016646,
          2.161305860658747,
          2.2166766953434673,
          2.253867453830369,
          3.018447809741546,
          2.684772858470746,
          2.692108131935576,
          2.6356333266555474,
          2.6943185225934894,
          2.6802471694316377,
          2.635886235307075,
          3.3084047089694226,
          2.87405326873689,
          2.774247888663793,
          2.6065246274193608,
          2.552360546188933,
          2.426436394632869,
          2.2738429811241008,
          2.84433405867875,
          2.3166402561085433,
          2.13448857069325,
          1.8974963956930315,
          1.788936691297046,
          1.6249514881080516,
          1.4517170335613598,
          2.019664610591969,
          1.507772524852878,
          1.359574482991881,
          1.1740537589019908,
          1.1334198826876614,
          1.052344863542684,
          0.9751617765615463,
          1.650128970114427,
          1.2537743429592794,
          1.226963618137212,
          1.1658604995195052,
          1.249773758203216,
          1.2904664402838355,
          1.329428122388702,
          2.1122115349243185,
          1.8128460847794676,
          1.8699703583411718,
          1.8778497662129308,
          2.014272821587425,
          2.0898999009666626,
          2.1455643207185444,
          2.9266262375505163,
          2.6073913973212277,
          2.6272366254730666,
          2.581608359437266,
          2.6498881781976915,
          2.6446999540373395,
          2.6091595298752406,
          3.2911687658759248,
          2.8677675459173977,
          2.7811873924921766,
          2.6297748878339005,
          2.5957808452276523,
          2.4945918821343076,
          2.3719073082842272,
          2.977965110853654,
          2.4918324420665017,
          2.357405899350346,
          2.1742912198082336,
          2.1255595003206134,
          2.026957474059125,
          1.9240753232026844,
          2.566576048939626,
          2.132501708469116,
          2.064301381689001,
          1.959749741551558,
          1.9997522916764732,
          1.99761348277151,
          1.9962696329686413,
          2.7425889251858626,
          2.4117518976769756,
          2.443355302728804,
          2.4324061796257976,
          2.5572001925268744,
          2.6286585012451757,
          2.687623268459679,
          3.4792124259062636,
          3.1772456805441562,
          3.220383454059377,
          3.203144705231218,
          3.3037970974315236,
          3.333693514022567,
          3.334555089077114,
          4.052801765913394,
          3.663943068292169,
          3.6086717751156754,
          3.4838277103726383,
          3.4702266021930934,
          3.381929692700119,
          3.263456085758566,
          3.864040754927456,
          3.361952844059018,
          3.20051888314175,
          2.979019994579092,
          2.8804597883438907,
          2.7207802066594704,
          2.546028676430239,
          3.106580619287703,
          2.5814328064269945,
          2.4142127415387082,
          2.204073400760261,
          2.1334699703231426,
          2.0173954776875664,
          1.900578015124157,
          2.5317426727973507,
          2.087952490438643,
          2.01067222258939,
          1.8967226879624628,
          1.9261206603468957,
          1.9113794364477783,
          1.8947709919531464,
          2.622651077817886,
          2.269859872490576,
          2.275840409714604,
          2.2356411379245302,
          2.327796352720753,
          2.3636586522334513,
          2.3846835964217665,
          3.136767465046467,
          2.794650555141151,
          2.798028346832374,
          2.74253728008598,
          2.8076095334567066,
          2.8057718454037444,
          2.7798896628390355,
          3.477458793737302,
          3.0749584264169627,
          3.013909363007061,
          2.8918057805537805,
          2.889916487722197,
          2.8225322551565553,
          2.734161958039845,
          3.373781036962095,
          2.9191473071927994,
          2.8128289376060445,
          2.6531136666967114,
          2.621795738383563,
          2.5334173991813,
          2.4324677027040207,
          3.067641881891681,
          2.616175830406499,
          2.519899800209004,
          2.3761794666309077,
          2.365739755268869,
          2.3019470458180944,
          2.2280511725557455,
          2.891489096369737,
          2.4682633872987423,
          2.3990382473473164,
          2.280119914105793,
          2.291315634050851,
          2.2452457560197057,
          2.1846094716651354,
          2.8565053824444746,
          2.4368195536895687,
          2.36632353718905,
          2.2416491904055507,
          2.243134703800725,
          2.184116836119952,
          2.108170545839342,
          2.7633980505119373,
          2.326780990995488,
          2.24023933097342,
          2.101565066273141,
          2.0922264610224706,
          2.026619135569348,
          1.94926649887497,
          2.6090728015347286,
          2.1836436334259606,
          2.1153185114501243,
          2.0020844846761463,
          2.0253671388685133,
          1.9992757827450633,
          1.967805544788134,
          2.6790996647857415,
          2.3097865836112335,
          2.3010360344616103,
          2.2495024118729456,
          2.335150960134479,
          2.3705425584785194,
          2.3980786920498,
          3.1643086516851735,
          2.844312260153853,
          2.877800995779292,
          2.8601044702565064,
          2.9700365340939046,
          3.0192156074199445,
          3.0493397684163273,
          3.8065177394642125,
          3.4656683456751614,
          3.466630794867966,
          3.4051524298995326,
          3.460748145912202,
          3.4460062163951912,
          3.403841429330291,
          4.081797254494331,
          3.656410392688257,
          3.569281004727977,
          3.4180163650973068,
          3.3840433406147277,
          3.2818657248605136,
          3.1562686588437137,
          3.7565731925016763,
          3.2609556379568363,
          3.1124762422061503,
          2.909986049293747,
          2.835908341226964,
          2.705471513840091,
          2.56389625738235,
          3.160640532736497,
          2.6737172161351035,
          2.5457289427528367,
          2.374788804013097,
          2.3423228622778467,
          2.262330716567008,
          2.1786061887747783,
          2.839020666947207,
          2.419882898483579,
          2.362018589338237,
          2.2617372295286806,
          2.298680849060946,
          2.2851296892796,
          2.2632656562713884,
          2.9794949694095267,
          2.608842784491016,
          2.5910622716694998,
          2.521624852993513,
          2.579585766979037,
          2.5768996000419495,
          2.5556865049693487,
          3.2625505732397335,
          2.872963389921355,
          2.8273556863822473,
          2.7220844009560152,
          2.737270070753608,
          2.686080076453453,
          2.6119594412091933,
          3.2629117003195858,
          2.815843957844227,
          2.712620138175014,
          2.550990809246991,
          2.5123955101745223,
          2.411214029764715,
          2.2919691510208553,
          2.9035840602064935,
          2.423709069055315,
          2.294762028319768,
          2.1148510098785844,
          2.0655752185906886,
          1.9612804395071044,
          1.8462712333826503,
          2.4690826281578557,
          2.006825372252812,
          1.9012484339517848,
          1.7496865425832104,
          1.73288788947207,
          1.66429741665547,
          1.587297022168705,
          2.2495045663767677,
          1.8271449294820177,
          1.7611360604986936,
          1.648057162992195,
          1.6679935970963775,
          1.6338335137355264,
          1.5885172744734186,
          2.2793414085676296,
          1.882330367769132,
          1.838319169546463,
          1.7439143562320658,
          1.7793282514917865,
          1.7576620357241473,
          1.7221392843719001,
          2.4203923745409575,
          2.0288157144047205,
          1.988629595830081,
          1.8968227988312396,
          1.933969597928469,
          1.9134973058516578,
          1.8789065371156537,
          2.5780470426361313,
          2.18746340863906,
          2.1484546414570773,
          2.0580158641076864,
          2.096657745980682,
          2.0776796484247613,
          2.044398398779028,
          2.744435167039733,
          2.354074268533446,
          2.314337368696155,
          2.221940714463697,
          2.2571303780562473,
          2.2329708491367097,
          2.1925882530927745,
          2.883470069702245,
          2.4818346322830886,
          2.428713416710227,
          2.320913371807648,
          2.338854011907926,
          2.2958544610410816,
          2.2353717047586406,
          2.9052920294084954,
          2.4822891593261014,
          2.407892450244528,
          2.279432847138985,
          2.2778618774134034,
          2.2170194944433352,
          2.1408527079988757,
          2.79768769376534,
          2.3645696127142974,
          2.2833142016712866
         ]
        }
       ],
       "layout": {
        "template": {
         "data": {
          "bar": [
           {
            "error_x": {
             "color": "#f2f5fa"
            },
            "error_y": {
             "color": "#f2f5fa"
            },
            "marker": {
             "line": {
              "color": "rgb(17,17,17)",
              "width": 0.5
             },
             "pattern": {
              "fillmode": "overlay",
              "size": 10,
              "solidity": 0.2
             }
            },
            "type": "bar"
           }
          ],
          "barpolar": [
           {
            "marker": {
             "line": {
              "color": "rgb(17,17,17)",
              "width": 0.5
             },
             "pattern": {
              "fillmode": "overlay",
              "size": 10,
              "solidity": 0.2
             }
            },
            "type": "barpolar"
           }
          ],
          "carpet": [
           {
            "aaxis": {
             "endlinecolor": "#A2B1C6",
             "gridcolor": "#506784",
             "linecolor": "#506784",
             "minorgridcolor": "#506784",
             "startlinecolor": "#A2B1C6"
            },
            "baxis": {
             "endlinecolor": "#A2B1C6",
             "gridcolor": "#506784",
             "linecolor": "#506784",
             "minorgridcolor": "#506784",
             "startlinecolor": "#A2B1C6"
            },
            "type": "carpet"
           }
          ],
          "choropleth": [
           {
            "colorbar": {
             "outlinewidth": 0,
             "ticks": ""
            },
            "type": "choropleth"
           }
          ],
          "contour": [
           {
            "colorbar": {
             "outlinewidth": 0,
             "ticks": ""
            },
            "colorscale": [
             [
              0,
              "#0d0887"
             ],
             [
              0.1111111111111111,
              "#46039f"
             ],
             [
              0.2222222222222222,
              "#7201a8"
             ],
             [
              0.3333333333333333,
              "#9c179e"
             ],
             [
              0.4444444444444444,
              "#bd3786"
             ],
             [
              0.5555555555555556,
              "#d8576b"
             ],
             [
              0.6666666666666666,
              "#ed7953"
             ],
             [
              0.7777777777777778,
              "#fb9f3a"
             ],
             [
              0.8888888888888888,
              "#fdca26"
             ],
             [
              1,
              "#f0f921"
             ]
            ],
            "type": "contour"
           }
          ],
          "contourcarpet": [
           {
            "colorbar": {
             "outlinewidth": 0,
             "ticks": ""
            },
            "type": "contourcarpet"
           }
          ],
          "heatmap": [
           {
            "colorbar": {
             "outlinewidth": 0,
             "ticks": ""
            },
            "colorscale": [
             [
              0,
              "#0d0887"
             ],
             [
              0.1111111111111111,
              "#46039f"
             ],
             [
              0.2222222222222222,
              "#7201a8"
             ],
             [
              0.3333333333333333,
              "#9c179e"
             ],
             [
              0.4444444444444444,
              "#bd3786"
             ],
             [
              0.5555555555555556,
              "#d8576b"
             ],
             [
              0.6666666666666666,
              "#ed7953"
             ],
             [
              0.7777777777777778,
              "#fb9f3a"
             ],
             [
              0.8888888888888888,
              "#fdca26"
             ],
             [
              1,
              "#f0f921"
             ]
            ],
            "type": "heatmap"
           }
          ],
          "heatmapgl": [
           {
            "colorbar": {
             "outlinewidth": 0,
             "ticks": ""
            },
            "colorscale": [
             [
              0,
              "#0d0887"
             ],
             [
              0.1111111111111111,
              "#46039f"
             ],
             [
              0.2222222222222222,
              "#7201a8"
             ],
             [
              0.3333333333333333,
              "#9c179e"
             ],
             [
              0.4444444444444444,
              "#bd3786"
             ],
             [
              0.5555555555555556,
              "#d8576b"
             ],
             [
              0.6666666666666666,
              "#ed7953"
             ],
             [
              0.7777777777777778,
              "#fb9f3a"
             ],
             [
              0.8888888888888888,
              "#fdca26"
             ],
             [
              1,
              "#f0f921"
             ]
            ],
            "type": "heatmapgl"
           }
          ],
          "histogram": [
           {
            "marker": {
             "pattern": {
              "fillmode": "overlay",
              "size": 10,
              "solidity": 0.2
             }
            },
            "type": "histogram"
           }
          ],
          "histogram2d": [
           {
            "colorbar": {
             "outlinewidth": 0,
             "ticks": ""
            },
            "colorscale": [
             [
              0,
              "#0d0887"
             ],
             [
              0.1111111111111111,
              "#46039f"
             ],
             [
              0.2222222222222222,
              "#7201a8"
             ],
             [
              0.3333333333333333,
              "#9c179e"
             ],
             [
              0.4444444444444444,
              "#bd3786"
             ],
             [
              0.5555555555555556,
              "#d8576b"
             ],
             [
              0.6666666666666666,
              "#ed7953"
             ],
             [
              0.7777777777777778,
              "#fb9f3a"
             ],
             [
              0.8888888888888888,
              "#fdca26"
             ],
             [
              1,
              "#f0f921"
             ]
            ],
            "type": "histogram2d"
           }
          ],
          "histogram2dcontour": [
           {
            "colorbar": {
             "outlinewidth": 0,
             "ticks": ""
            },
            "colorscale": [
             [
              0,
              "#0d0887"
             ],
             [
              0.1111111111111111,
              "#46039f"
             ],
             [
              0.2222222222222222,
              "#7201a8"
             ],
             [
              0.3333333333333333,
              "#9c179e"
             ],
             [
              0.4444444444444444,
              "#bd3786"
             ],
             [
              0.5555555555555556,
              "#d8576b"
             ],
             [
              0.6666666666666666,
              "#ed7953"
             ],
             [
              0.7777777777777778,
              "#fb9f3a"
             ],
             [
              0.8888888888888888,
              "#fdca26"
             ],
             [
              1,
              "#f0f921"
             ]
            ],
            "type": "histogram2dcontour"
           }
          ],
          "mesh3d": [
           {
            "colorbar": {
             "outlinewidth": 0,
             "ticks": ""
            },
            "type": "mesh3d"
           }
          ],
          "parcoords": [
           {
            "line": {
             "colorbar": {
              "outlinewidth": 0,
              "ticks": ""
             }
            },
            "type": "parcoords"
           }
          ],
          "pie": [
           {
            "automargin": true,
            "type": "pie"
           }
          ],
          "scatter": [
           {
            "marker": {
             "line": {
              "color": "#283442"
             }
            },
            "type": "scatter"
           }
          ],
          "scatter3d": [
           {
            "line": {
             "colorbar": {
              "outlinewidth": 0,
              "ticks": ""
             }
            },
            "marker": {
             "colorbar": {
              "outlinewidth": 0,
              "ticks": ""
             }
            },
            "type": "scatter3d"
           }
          ],
          "scattercarpet": [
           {
            "marker": {
             "colorbar": {
              "outlinewidth": 0,
              "ticks": ""
             }
            },
            "type": "scattercarpet"
           }
          ],
          "scattergeo": [
           {
            "marker": {
             "colorbar": {
              "outlinewidth": 0,
              "ticks": ""
             }
            },
            "type": "scattergeo"
           }
          ],
          "scattergl": [
           {
            "marker": {
             "line": {
              "color": "#283442"
             }
            },
            "type": "scattergl"
           }
          ],
          "scattermapbox": [
           {
            "marker": {
             "colorbar": {
              "outlinewidth": 0,
              "ticks": ""
             }
            },
            "type": "scattermapbox"
           }
          ],
          "scatterpolar": [
           {
            "marker": {
             "colorbar": {
              "outlinewidth": 0,
              "ticks": ""
             }
            },
            "type": "scatterpolar"
           }
          ],
          "scatterpolargl": [
           {
            "marker": {
             "colorbar": {
              "outlinewidth": 0,
              "ticks": ""
             }
            },
            "type": "scatterpolargl"
           }
          ],
          "scatterternary": [
           {
            "marker": {
             "colorbar": {
              "outlinewidth": 0,
              "ticks": ""
             }
            },
            "type": "scatterternary"
           }
          ],
          "surface": [
           {
            "colorbar": {
             "outlinewidth": 0,
             "ticks": ""
            },
            "colorscale": [
             [
              0,
              "#0d0887"
             ],
             [
              0.1111111111111111,
              "#46039f"
             ],
             [
              0.2222222222222222,
              "#7201a8"
             ],
             [
              0.3333333333333333,
              "#9c179e"
             ],
             [
              0.4444444444444444,
              "#bd3786"
             ],
             [
              0.5555555555555556,
              "#d8576b"
             ],
             [
              0.6666666666666666,
              "#ed7953"
             ],
             [
              0.7777777777777778,
              "#fb9f3a"
             ],
             [
              0.8888888888888888,
              "#fdca26"
             ],
             [
              1,
              "#f0f921"
             ]
            ],
            "type": "surface"
           }
          ],
          "table": [
           {
            "cells": {
             "fill": {
              "color": "#506784"
             },
             "line": {
              "color": "rgb(17,17,17)"
             }
            },
            "header": {
             "fill": {
              "color": "#2a3f5f"
             },
             "line": {
              "color": "rgb(17,17,17)"
             }
            },
            "type": "table"
           }
          ]
         },
         "layout": {
          "annotationdefaults": {
           "arrowcolor": "#f2f5fa",
           "arrowhead": 0,
           "arrowwidth": 1
          },
          "autotypenumbers": "strict",
          "coloraxis": {
           "colorbar": {
            "outlinewidth": 0,
            "ticks": ""
           }
          },
          "colorscale": {
           "diverging": [
            [
             0,
             "#8e0152"
            ],
            [
             0.1,
             "#c51b7d"
            ],
            [
             0.2,
             "#de77ae"
            ],
            [
             0.3,
             "#f1b6da"
            ],
            [
             0.4,
             "#fde0ef"
            ],
            [
             0.5,
             "#f7f7f7"
            ],
            [
             0.6,
             "#e6f5d0"
            ],
            [
             0.7,
             "#b8e186"
            ],
            [
             0.8,
             "#7fbc41"
            ],
            [
             0.9,
             "#4d9221"
            ],
            [
             1,
             "#276419"
            ]
           ],
           "sequential": [
            [
             0,
             "#0d0887"
            ],
            [
             0.1111111111111111,
             "#46039f"
            ],
            [
             0.2222222222222222,
             "#7201a8"
            ],
            [
             0.3333333333333333,
             "#9c179e"
            ],
            [
             0.4444444444444444,
             "#bd3786"
            ],
            [
             0.5555555555555556,
             "#d8576b"
            ],
            [
             0.6666666666666666,
             "#ed7953"
            ],
            [
             0.7777777777777778,
             "#fb9f3a"
            ],
            [
             0.8888888888888888,
             "#fdca26"
            ],
            [
             1,
             "#f0f921"
            ]
           ],
           "sequentialminus": [
            [
             0,
             "#0d0887"
            ],
            [
             0.1111111111111111,
             "#46039f"
            ],
            [
             0.2222222222222222,
             "#7201a8"
            ],
            [
             0.3333333333333333,
             "#9c179e"
            ],
            [
             0.4444444444444444,
             "#bd3786"
            ],
            [
             0.5555555555555556,
             "#d8576b"
            ],
            [
             0.6666666666666666,
             "#ed7953"
            ],
            [
             0.7777777777777778,
             "#fb9f3a"
            ],
            [
             0.8888888888888888,
             "#fdca26"
            ],
            [
             1,
             "#f0f921"
            ]
           ]
          },
          "colorway": [
           "#636efa",
           "#EF553B",
           "#00cc96",
           "#ab63fa",
           "#FFA15A",
           "#19d3f3",
           "#FF6692",
           "#B6E880",
           "#FF97FF",
           "#FECB52"
          ],
          "font": {
           "color": "#f2f5fa"
          },
          "geo": {
           "bgcolor": "rgb(17,17,17)",
           "lakecolor": "rgb(17,17,17)",
           "landcolor": "rgb(17,17,17)",
           "showlakes": true,
           "showland": true,
           "subunitcolor": "#506784"
          },
          "hoverlabel": {
           "align": "left"
          },
          "hovermode": "closest",
          "mapbox": {
           "style": "dark"
          },
          "paper_bgcolor": "rgb(17,17,17)",
          "plot_bgcolor": "rgb(17,17,17)",
          "polar": {
           "angularaxis": {
            "gridcolor": "#506784",
            "linecolor": "#506784",
            "ticks": ""
           },
           "bgcolor": "rgb(17,17,17)",
           "radialaxis": {
            "gridcolor": "#506784",
            "linecolor": "#506784",
            "ticks": ""
           }
          },
          "scene": {
           "xaxis": {
            "backgroundcolor": "rgb(17,17,17)",
            "gridcolor": "#506784",
            "gridwidth": 2,
            "linecolor": "#506784",
            "showbackground": true,
            "ticks": "",
            "zerolinecolor": "#C8D4E3"
           },
           "yaxis": {
            "backgroundcolor": "rgb(17,17,17)",
            "gridcolor": "#506784",
            "gridwidth": 2,
            "linecolor": "#506784",
            "showbackground": true,
            "ticks": "",
            "zerolinecolor": "#C8D4E3"
           },
           "zaxis": {
            "backgroundcolor": "rgb(17,17,17)",
            "gridcolor": "#506784",
            "gridwidth": 2,
            "linecolor": "#506784",
            "showbackground": true,
            "ticks": "",
            "zerolinecolor": "#C8D4E3"
           }
          },
          "shapedefaults": {
           "line": {
            "color": "#f2f5fa"
           }
          },
          "sliderdefaults": {
           "bgcolor": "#C8D4E3",
           "bordercolor": "rgb(17,17,17)",
           "borderwidth": 1,
           "tickwidth": 0
          },
          "ternary": {
           "aaxis": {
            "gridcolor": "#506784",
            "linecolor": "#506784",
            "ticks": ""
           },
           "baxis": {
            "gridcolor": "#506784",
            "linecolor": "#506784",
            "ticks": ""
           },
           "bgcolor": "rgb(17,17,17)",
           "caxis": {
            "gridcolor": "#506784",
            "linecolor": "#506784",
            "ticks": ""
           }
          },
          "title": {
           "x": 0.05
          },
          "updatemenudefaults": {
           "bgcolor": "#506784",
           "borderwidth": 0
          },
          "xaxis": {
           "automargin": true,
           "gridcolor": "#283442",
           "linecolor": "#506784",
           "ticks": "",
           "title": {
            "standoff": 15
           },
           "zerolinecolor": "#283442",
           "zerolinewidth": 2
          },
          "yaxis": {
           "automargin": true,
           "gridcolor": "#283442",
           "linecolor": "#506784",
           "ticks": "",
           "title": {
            "standoff": 15
           },
           "zerolinecolor": "#283442",
           "zerolinewidth": 2
          }
         }
        },
        "title": {
         "text": "Przestępcy popełnione na płeci X-gender algorytmu Prophet"
        },
        "xaxis": {
         "title": {
          "text": "Data"
         }
        },
        "yaxis": {
         "title": {
          "text": "Liczba przestępstw"
         }
        }
       }
      }
     },
     "metadata": {},
     "output_type": "display_data"
    }
   ],
   "source": [
    "import pandas as pd\n",
    "import numpy as np\n",
    "import matplotlib.pyplot as plt\n",
    "from prophet import Prophet\n",
    "import plotly.graph_objects as go\n",
    "\n",
    "\n",
    "\n",
    "df['Date'] = pd.to_datetime(df[['Year', 'Month', 'Day']])\n",
    "\n",
    "# Grupowanie i agregacja danych\n",
    "df_grouped = df.groupby('Date')['count'].sum().reset_index()\n",
    "\n",
    "# Przygotowanie danych do modelu Prophet\n",
    "df_grouped.rename(columns={'Date': 'ds', 'count': 'y'}, inplace=True)\n",
    "\n",
    "# Dopasowanie modelu Prophet\n",
    "model = Prophet()\n",
    "model.fit(df_grouped)\n",
    "\n",
    "# Prognoza na następny rok\n",
    "future_dates = model.make_future_dataframe(periods=365)\n",
    "forecast = model.predict(future_dates)\n",
    "\n",
    "# Wykres szeregu czasowego z prognozą\n",
    "fig = go.Figure()\n",
    "\n",
    "# Dodanie rzeczywistych danych\n",
    "fig.add_trace(go.Scatter(x=df_grouped['ds'], y=df_grouped['y'], mode='lines+markers', name='Actual'))\n",
    "\n",
    "# Dodanie prognoz\n",
    "forecast_future = forecast[forecast['ds'] > df_grouped['ds'].max()]\n",
    "fig.add_trace(go.Scatter(x=forecast_future['ds'], y=forecast_future['yhat'], mode='lines+markers', name='Forecast', line=dict(color='red', dash='dash')))\n",
    "\n",
    "# Aktualizacja układu wykresu\n",
    "fig.update_layout(title='Przestępcy popełnione na płeci X-gender algorytmu Prophet', xaxis_title='Data',\n",
    "                   yaxis_title='Liczba przestępstw',template=\"plotly_dark\",)\n",
    "\n",
    "# Wyświetlenie wykresu\n",
    "fig.show()\n",
    "\n",
    "# Zapisywanie wykresu do pliku HTML\n",
    "fig.write_html(\"forecast_plot4_3.html\")\n"
   ]
  },
  {
   "cell_type": "code",
   "execution_count": 88,
   "metadata": {},
   "outputs": [
    {
     "data": {
      "application/vnd.plotly.v1+json": {
       "config": {
        "plotlyServerURL": "https://plot.ly"
       },
       "data": [
        {
         "mode": "lines+markers",
         "name": "Actual",
         "type": "scatter",
         "x": [
          "2020-02-15T00:00:00",
          "2020-03-22T00:00:00",
          "2020-05-01T00:00:00",
          "2020-05-16T00:00:00",
          "2020-05-30T00:00:00",
          "2020-06-01T00:00:00",
          "2020-06-07T00:00:00",
          "2020-06-12T00:00:00",
          "2020-07-01T00:00:00",
          "2020-07-04T00:00:00",
          "2020-07-15T00:00:00",
          "2020-08-16T00:00:00",
          "2020-10-12T00:00:00",
          "2020-11-03T00:00:00",
          "2021-01-22T00:00:00",
          "2021-01-31T00:00:00",
          "2021-02-04T00:00:00",
          "2021-02-20T00:00:00",
          "2021-04-13T00:00:00",
          "2021-04-29T00:00:00",
          "2021-06-25T00:00:00",
          "2021-06-26T00:00:00",
          "2021-08-12T00:00:00",
          "2021-09-06T00:00:00",
          "2021-10-04T00:00:00",
          "2021-10-25T00:00:00",
          "2021-11-03T00:00:00",
          "2022-01-16T00:00:00",
          "2022-01-20T00:00:00",
          "2022-02-14T00:00:00",
          "2022-02-18T00:00:00",
          "2022-03-01T00:00:00",
          "2022-03-10T00:00:00",
          "2022-03-21T00:00:00",
          "2022-04-01T00:00:00",
          "2022-05-21T00:00:00",
          "2022-06-10T00:00:00",
          "2022-06-13T00:00:00",
          "2022-06-26T00:00:00",
          "2022-07-03T00:00:00",
          "2022-07-14T00:00:00",
          "2022-09-06T00:00:00",
          "2022-09-29T00:00:00",
          "2022-10-12T00:00:00",
          "2022-10-14T00:00:00",
          "2022-10-15T00:00:00",
          "2022-10-22T00:00:00",
          "2022-11-03T00:00:00",
          "2022-11-05T00:00:00",
          "2022-11-29T00:00:00",
          "2022-12-27T00:00:00",
          "2023-01-21T00:00:00",
          "2023-01-22T00:00:00",
          "2023-03-20T00:00:00",
          "2023-03-26T00:00:00",
          "2023-04-28T00:00:00",
          "2023-06-05T00:00:00",
          "2023-06-29T00:00:00",
          "2023-06-30T00:00:00"
         ],
         "y": [
          2.8365943005458836,
          2.9123324146804355,
          2.251668338499821,
          2.1736437385080603,
          2.104155225373569,
          2.0871861777940093,
          2.5257445125345814,
          2.2224955989515722,
          2.358922479319806,
          2.4954283460779374,
          2.257556008206543,
          2.047383432111384,
          2.9526375566861356,
          2.891129430631155,
          2.946589889822713,
          2.209515060151835,
          2.5626750929614137,
          2.677828431297991,
          2.8256075267935787,
          2.7670332555275294,
          2.8599211232777972,
          2.589627826768397,
          2.071291768392821,
          2.168343399973405,
          2.635307669731165,
          2.350896245408463,
          2.4834460356002026,
          2.452737834263422,
          2.8431258614684336,
          2.982470278086992,
          2.0293201591320513,
          2.7469224039911158,
          5.207956062112454,
          2.460933764137204,
          2.781839393316717,
          2.1303737223695984,
          2.9876695261096504,
          2.412351566506364,
          2.3664110822314712,
          2.079902783697175,
          2.9830120041073465,
          2.649664515860399,
          2.2527637017833246,
          2.557603108910159,
          2.862433862151808,
          2.7556290569928574,
          2.255275148108431,
          2.5401136578602763,
          2.3983421816701016,
          2.6623151161573855,
          2.895766230664666,
          2.6348345199365335,
          2.2300899632456104,
          2.1326352436611975,
          2.56073863117833,
          2.5922145318086924,
          2.527526035527442,
          2.8068646962538226,
          2.3426054130120493
         ]
        },
        {
         "line": {
          "color": "red",
          "dash": "dash"
         },
         "mode": "lines+markers",
         "name": "Forecast",
         "type": "scatter",
         "x": [
          "2023-07-01T00:00:00",
          "2023-07-02T00:00:00",
          "2023-07-03T00:00:00",
          "2023-07-04T00:00:00",
          "2023-07-05T00:00:00",
          "2023-07-06T00:00:00",
          "2023-07-07T00:00:00",
          "2023-07-08T00:00:00",
          "2023-07-09T00:00:00",
          "2023-07-10T00:00:00",
          "2023-07-11T00:00:00",
          "2023-07-12T00:00:00",
          "2023-07-13T00:00:00",
          "2023-07-14T00:00:00",
          "2023-07-15T00:00:00",
          "2023-07-16T00:00:00",
          "2023-07-17T00:00:00",
          "2023-07-18T00:00:00",
          "2023-07-19T00:00:00",
          "2023-07-20T00:00:00",
          "2023-07-21T00:00:00",
          "2023-07-22T00:00:00",
          "2023-07-23T00:00:00",
          "2023-07-24T00:00:00",
          "2023-07-25T00:00:00",
          "2023-07-26T00:00:00",
          "2023-07-27T00:00:00",
          "2023-07-28T00:00:00",
          "2023-07-29T00:00:00",
          "2023-07-30T00:00:00",
          "2023-07-31T00:00:00",
          "2023-08-01T00:00:00",
          "2023-08-02T00:00:00",
          "2023-08-03T00:00:00",
          "2023-08-04T00:00:00",
          "2023-08-05T00:00:00",
          "2023-08-06T00:00:00",
          "2023-08-07T00:00:00",
          "2023-08-08T00:00:00",
          "2023-08-09T00:00:00",
          "2023-08-10T00:00:00",
          "2023-08-11T00:00:00",
          "2023-08-12T00:00:00",
          "2023-08-13T00:00:00",
          "2023-08-14T00:00:00",
          "2023-08-15T00:00:00",
          "2023-08-16T00:00:00",
          "2023-08-17T00:00:00",
          "2023-08-18T00:00:00",
          "2023-08-19T00:00:00",
          "2023-08-20T00:00:00",
          "2023-08-21T00:00:00",
          "2023-08-22T00:00:00",
          "2023-08-23T00:00:00",
          "2023-08-24T00:00:00",
          "2023-08-25T00:00:00",
          "2023-08-26T00:00:00",
          "2023-08-27T00:00:00",
          "2023-08-28T00:00:00",
          "2023-08-29T00:00:00",
          "2023-08-30T00:00:00",
          "2023-08-31T00:00:00",
          "2023-09-01T00:00:00",
          "2023-09-02T00:00:00",
          "2023-09-03T00:00:00",
          "2023-09-04T00:00:00",
          "2023-09-05T00:00:00",
          "2023-09-06T00:00:00",
          "2023-09-07T00:00:00",
          "2023-09-08T00:00:00",
          "2023-09-09T00:00:00",
          "2023-09-10T00:00:00",
          "2023-09-11T00:00:00",
          "2023-09-12T00:00:00",
          "2023-09-13T00:00:00",
          "2023-09-14T00:00:00",
          "2023-09-15T00:00:00",
          "2023-09-16T00:00:00",
          "2023-09-17T00:00:00",
          "2023-09-18T00:00:00",
          "2023-09-19T00:00:00",
          "2023-09-20T00:00:00",
          "2023-09-21T00:00:00",
          "2023-09-22T00:00:00",
          "2023-09-23T00:00:00",
          "2023-09-24T00:00:00",
          "2023-09-25T00:00:00",
          "2023-09-26T00:00:00",
          "2023-09-27T00:00:00",
          "2023-09-28T00:00:00",
          "2023-09-29T00:00:00",
          "2023-09-30T00:00:00",
          "2023-10-01T00:00:00",
          "2023-10-02T00:00:00",
          "2023-10-03T00:00:00",
          "2023-10-04T00:00:00",
          "2023-10-05T00:00:00",
          "2023-10-06T00:00:00",
          "2023-10-07T00:00:00",
          "2023-10-08T00:00:00",
          "2023-10-09T00:00:00",
          "2023-10-10T00:00:00",
          "2023-10-11T00:00:00",
          "2023-10-12T00:00:00",
          "2023-10-13T00:00:00",
          "2023-10-14T00:00:00",
          "2023-10-15T00:00:00",
          "2023-10-16T00:00:00",
          "2023-10-17T00:00:00",
          "2023-10-18T00:00:00",
          "2023-10-19T00:00:00",
          "2023-10-20T00:00:00",
          "2023-10-21T00:00:00",
          "2023-10-22T00:00:00",
          "2023-10-23T00:00:00",
          "2023-10-24T00:00:00",
          "2023-10-25T00:00:00",
          "2023-10-26T00:00:00",
          "2023-10-27T00:00:00",
          "2023-10-28T00:00:00",
          "2023-10-29T00:00:00",
          "2023-10-30T00:00:00",
          "2023-10-31T00:00:00",
          "2023-11-01T00:00:00",
          "2023-11-02T00:00:00",
          "2023-11-03T00:00:00",
          "2023-11-04T00:00:00",
          "2023-11-05T00:00:00",
          "2023-11-06T00:00:00",
          "2023-11-07T00:00:00",
          "2023-11-08T00:00:00",
          "2023-11-09T00:00:00",
          "2023-11-10T00:00:00",
          "2023-11-11T00:00:00",
          "2023-11-12T00:00:00",
          "2023-11-13T00:00:00",
          "2023-11-14T00:00:00",
          "2023-11-15T00:00:00",
          "2023-11-16T00:00:00",
          "2023-11-17T00:00:00",
          "2023-11-18T00:00:00",
          "2023-11-19T00:00:00",
          "2023-11-20T00:00:00",
          "2023-11-21T00:00:00",
          "2023-11-22T00:00:00",
          "2023-11-23T00:00:00",
          "2023-11-24T00:00:00",
          "2023-11-25T00:00:00",
          "2023-11-26T00:00:00",
          "2023-11-27T00:00:00",
          "2023-11-28T00:00:00",
          "2023-11-29T00:00:00",
          "2023-11-30T00:00:00",
          "2023-12-01T00:00:00",
          "2023-12-02T00:00:00",
          "2023-12-03T00:00:00",
          "2023-12-04T00:00:00",
          "2023-12-05T00:00:00",
          "2023-12-06T00:00:00",
          "2023-12-07T00:00:00",
          "2023-12-08T00:00:00",
          "2023-12-09T00:00:00",
          "2023-12-10T00:00:00",
          "2023-12-11T00:00:00",
          "2023-12-12T00:00:00",
          "2023-12-13T00:00:00",
          "2023-12-14T00:00:00",
          "2023-12-15T00:00:00",
          "2023-12-16T00:00:00",
          "2023-12-17T00:00:00",
          "2023-12-18T00:00:00",
          "2023-12-19T00:00:00",
          "2023-12-20T00:00:00",
          "2023-12-21T00:00:00",
          "2023-12-22T00:00:00",
          "2023-12-23T00:00:00",
          "2023-12-24T00:00:00",
          "2023-12-25T00:00:00",
          "2023-12-26T00:00:00",
          "2023-12-27T00:00:00",
          "2023-12-28T00:00:00",
          "2023-12-29T00:00:00",
          "2023-12-30T00:00:00",
          "2023-12-31T00:00:00",
          "2024-01-01T00:00:00",
          "2024-01-02T00:00:00",
          "2024-01-03T00:00:00",
          "2024-01-04T00:00:00",
          "2024-01-05T00:00:00",
          "2024-01-06T00:00:00",
          "2024-01-07T00:00:00",
          "2024-01-08T00:00:00",
          "2024-01-09T00:00:00",
          "2024-01-10T00:00:00",
          "2024-01-11T00:00:00",
          "2024-01-12T00:00:00",
          "2024-01-13T00:00:00",
          "2024-01-14T00:00:00",
          "2024-01-15T00:00:00",
          "2024-01-16T00:00:00",
          "2024-01-17T00:00:00",
          "2024-01-18T00:00:00",
          "2024-01-19T00:00:00",
          "2024-01-20T00:00:00",
          "2024-01-21T00:00:00",
          "2024-01-22T00:00:00",
          "2024-01-23T00:00:00",
          "2024-01-24T00:00:00",
          "2024-01-25T00:00:00",
          "2024-01-26T00:00:00",
          "2024-01-27T00:00:00",
          "2024-01-28T00:00:00",
          "2024-01-29T00:00:00",
          "2024-01-30T00:00:00",
          "2024-01-31T00:00:00",
          "2024-02-01T00:00:00",
          "2024-02-02T00:00:00",
          "2024-02-03T00:00:00",
          "2024-02-04T00:00:00",
          "2024-02-05T00:00:00",
          "2024-02-06T00:00:00",
          "2024-02-07T00:00:00",
          "2024-02-08T00:00:00",
          "2024-02-09T00:00:00",
          "2024-02-10T00:00:00",
          "2024-02-11T00:00:00",
          "2024-02-12T00:00:00",
          "2024-02-13T00:00:00",
          "2024-02-14T00:00:00",
          "2024-02-15T00:00:00",
          "2024-02-16T00:00:00",
          "2024-02-17T00:00:00",
          "2024-02-18T00:00:00",
          "2024-02-19T00:00:00",
          "2024-02-20T00:00:00",
          "2024-02-21T00:00:00",
          "2024-02-22T00:00:00",
          "2024-02-23T00:00:00",
          "2024-02-24T00:00:00",
          "2024-02-25T00:00:00",
          "2024-02-26T00:00:00",
          "2024-02-27T00:00:00",
          "2024-02-28T00:00:00",
          "2024-02-29T00:00:00",
          "2024-03-01T00:00:00",
          "2024-03-02T00:00:00",
          "2024-03-03T00:00:00",
          "2024-03-04T00:00:00",
          "2024-03-05T00:00:00",
          "2024-03-06T00:00:00",
          "2024-03-07T00:00:00",
          "2024-03-08T00:00:00",
          "2024-03-09T00:00:00",
          "2024-03-10T00:00:00",
          "2024-03-11T00:00:00",
          "2024-03-12T00:00:00",
          "2024-03-13T00:00:00",
          "2024-03-14T00:00:00",
          "2024-03-15T00:00:00",
          "2024-03-16T00:00:00",
          "2024-03-17T00:00:00",
          "2024-03-18T00:00:00",
          "2024-03-19T00:00:00",
          "2024-03-20T00:00:00",
          "2024-03-21T00:00:00",
          "2024-03-22T00:00:00",
          "2024-03-23T00:00:00",
          "2024-03-24T00:00:00",
          "2024-03-25T00:00:00",
          "2024-03-26T00:00:00",
          "2024-03-27T00:00:00",
          "2024-03-28T00:00:00",
          "2024-03-29T00:00:00",
          "2024-03-30T00:00:00",
          "2024-03-31T00:00:00",
          "2024-04-01T00:00:00",
          "2024-04-02T00:00:00",
          "2024-04-03T00:00:00",
          "2024-04-04T00:00:00",
          "2024-04-05T00:00:00",
          "2024-04-06T00:00:00",
          "2024-04-07T00:00:00",
          "2024-04-08T00:00:00",
          "2024-04-09T00:00:00",
          "2024-04-10T00:00:00",
          "2024-04-11T00:00:00",
          "2024-04-12T00:00:00",
          "2024-04-13T00:00:00",
          "2024-04-14T00:00:00",
          "2024-04-15T00:00:00",
          "2024-04-16T00:00:00",
          "2024-04-17T00:00:00",
          "2024-04-18T00:00:00",
          "2024-04-19T00:00:00",
          "2024-04-20T00:00:00",
          "2024-04-21T00:00:00",
          "2024-04-22T00:00:00",
          "2024-04-23T00:00:00",
          "2024-04-24T00:00:00",
          "2024-04-25T00:00:00",
          "2024-04-26T00:00:00",
          "2024-04-27T00:00:00",
          "2024-04-28T00:00:00",
          "2024-04-29T00:00:00",
          "2024-04-30T00:00:00",
          "2024-05-01T00:00:00",
          "2024-05-02T00:00:00",
          "2024-05-03T00:00:00",
          "2024-05-04T00:00:00",
          "2024-05-05T00:00:00",
          "2024-05-06T00:00:00",
          "2024-05-07T00:00:00",
          "2024-05-08T00:00:00",
          "2024-05-09T00:00:00",
          "2024-05-10T00:00:00",
          "2024-05-11T00:00:00",
          "2024-05-12T00:00:00",
          "2024-05-13T00:00:00",
          "2024-05-14T00:00:00",
          "2024-05-15T00:00:00",
          "2024-05-16T00:00:00",
          "2024-05-17T00:00:00",
          "2024-05-18T00:00:00",
          "2024-05-19T00:00:00",
          "2024-05-20T00:00:00",
          "2024-05-21T00:00:00",
          "2024-05-22T00:00:00",
          "2024-05-23T00:00:00",
          "2024-05-24T00:00:00",
          "2024-05-25T00:00:00",
          "2024-05-26T00:00:00",
          "2024-05-27T00:00:00",
          "2024-05-28T00:00:00",
          "2024-05-29T00:00:00",
          "2024-05-30T00:00:00",
          "2024-05-31T00:00:00",
          "2024-06-01T00:00:00",
          "2024-06-02T00:00:00",
          "2024-06-03T00:00:00",
          "2024-06-04T00:00:00",
          "2024-06-05T00:00:00",
          "2024-06-06T00:00:00",
          "2024-06-07T00:00:00",
          "2024-06-08T00:00:00",
          "2024-06-09T00:00:00",
          "2024-06-10T00:00:00",
          "2024-06-11T00:00:00",
          "2024-06-12T00:00:00",
          "2024-06-13T00:00:00",
          "2024-06-14T00:00:00",
          "2024-06-15T00:00:00",
          "2024-06-16T00:00:00",
          "2024-06-17T00:00:00",
          "2024-06-18T00:00:00",
          "2024-06-19T00:00:00",
          "2024-06-20T00:00:00",
          "2024-06-21T00:00:00",
          "2024-06-22T00:00:00",
          "2024-06-23T00:00:00",
          "2024-06-24T00:00:00",
          "2024-06-25T00:00:00",
          "2024-06-26T00:00:00",
          "2024-06-27T00:00:00",
          "2024-06-28T00:00:00",
          "2024-06-29T00:00:00",
          "2024-06-30T00:00:00"
         ],
         "y": [
          2.3272924335793728,
          2.3272924335793728,
          2.226356051437961,
          2.4349098330758125,
          2.470188532132379,
          2.455345857205596,
          2.461878551517553,
          2.485504658816519,
          2.682375976914877,
          2.669021933694447,
          2.6673973551776147,
          2.363362169224944,
          2.4487626515988388,
          2.845845706685473,
          2.4150131076678565,
          2.324317313438568,
          2.3137038179176255,
          2.280243250982933,
          2.2861807502198954,
          2.3697022211496006,
          2.389112613863218,
          2.4048628722087737,
          2.4076713228250837,
          2.506120850859382,
          2.526481680865717,
          2.409316671791342,
          2.4396873200622675,
          2.4251579460891146,
          2.378111325032061,
          2.30735752531919,
          2.306802914957551,
          2.267604723050093,
          2.267604723050093,
          2.1884950186464014,
          2.341097256540074,
          2.3362084319724126,
          2.301818651967402,
          2.3084938681187888,
          2.3223217270371435,
          2.4922537696659783,
          2.452654252406124,
          2.449252464025277,
          2.1482750645090665,
          2.217060483426193,
          2.571443675481815,
          2.2670840362848597,
          2.18296280661238,
          2.1742119534895745,
          2.1517440665376215,
          2.1541606462905363,
          2.214541341923411,
          2.2177286439830106,
          2.2289989017374854,
          2.23095685830574,
          2.3246321059002257,
          2.3449929359065607,
          2.2643746345970754,
          2.297422348782692,
          2.2724291413658513,
          2.2214625018898,
          2.1941751712222684,
          2.1949514643892316,
          2.3449635420028807,
          2.3449635420028807,
          2.284428018595736,
          2.43148593357884,
          2.4147673582836884,
          2.3879918424461386,
          2.3980091689782848,
          2.4063097907941997,
          2.5768115990779346,
          2.545834544253298,
          2.551171045155459,
          2.292275606824961,
          2.34571275059813,
          2.618282033187439,
          2.3588937162366586,
          2.2816494149391193,
          2.272898561816314,
          2.2491171905753493,
          2.2163100418307056,
          2.27012016479786,
          2.267852404495626,
          2.2731203827247404,
          2.2750783392929956,
          2.3693461256044506,
          2.396203100840272,
          2.3276598629645444,
          2.3629350202140764,
          2.336241820162805,
          2.2789326383550095,
          2.251420569226359,
          2.504337186064021,
          2.504337186064021,
          2.486958794273667,
          2.5730172540411136,
          2.5452805714602387,
          2.528058073904958,
          2.534144501188002,
          2.5392607290241873,
          2.6847424127517816,
          2.690045183167837,
          2.695381684069998,
          2.5345043540205636,
          2.5488490040494907,
          2.8108477904278315,
          2.5674556283607255,
          2.504857287449174,
          2.4912433209211953,
          2.4518666522039445,
          2.3393240821943304,
          2.3937108377799494,
          2.3896920013934917,
          2.387165507162749,
          2.387117584098517,
          2.4650268831216717,
          2.5197505781653633,
          2.461213481513482,
          2.4964886387630134,
          2.477512035585045,
          2.4179375682918227,
          2.36705190723562,
          2.3678282004025832,
          2.4516039999750423,
          2.4516039999750423,
          2.4325772143505313,
          2.4975258442249264,
          2.4509701646271407,
          2.439019508051438,
          2.445105935334482,
          2.4509992087788772,
          2.6247230439769322,
          2.644644007408209,
          2.6492849242130263,
          2.4893164137858714,
          2.5051135792388366,
          2.789138458564646,
          2.545382864723088,
          2.482784523811536,
          2.4691705572835576,
          2.4329791071111075,
          2.3297183707111278,
          2.391759051379698,
          2.3941702402820537,
          2.396284662856128,
          2.3962367397918958,
          2.466850564805968,
          2.526123755518869,
          2.4708476336934235,
          2.5061227909429555,
          2.4918373167731,
          2.4322628494798777,
          2.3765397724072623,
          2.562266293159929,
          2.562266293159929,
          2.5461079274533645,
          2.614083780170131,
          2.5860038500671583,
          2.5767037558667614,
          2.5827901831498052,
          2.5886834565942007,
          2.725524708917125,
          2.735027395546595,
          2.7396683123514123,
          2.608885418173772,
          2.6275876144748134,
          2.82721871280402,
          2.6932248995068244,
          2.63697735308009,
          2.6286462160498925,
          2.599931995429094,
          2.5577432627195615,
          2.615661094072471,
          2.6180722829748264,
          2.618085457389248,
          2.618085457389248,
          2.6766063628999333,
          2.7290112104673074,
          2.6857399678555174,
          2.721015125105049,
          2.7104648431239995,
          2.646415006972212,
          2.567120924550004,
          2.569228121245569,
          2.8904350224935227,
          2.8904350224935227,
          2.878232033996645,
          2.9029352627454967,
          2.901529300448138,
          3.291333553587742,
          3.291114654400884,
          3.6972242671043927,
          3.92942935778081,
          3.9616195284246696,
          3.96052015583769,
          3.0665008941134198,
          2.842076282541943,
          2.87241747901148,
          2.7915036880937065,
          2.581585392270823,
          2.4081106407903636,
          2.313990652905288,
          2.3817277298211614,
          2.767034246457067,
          2.636765937902567,
          2.586507175660576,
          2.586507175660576,
          2.6150372060025133,
          2.604085339597918,
          2.5725471084771403,
          2.5522218489805746,
          2.5710493562096945,
          2.555962474564558,
          2.4608852622534134,
          2.3168845590453198,
          2.8896750582343937,
          2.8896750582343937,
          2.875629596627219,
          2.9003328253760707,
          2.898926863078712,
          3.2887311162183166,
          3.2892422838141697,
          3.696138747745703,
          3.934356532724056,
          3.967940147534102,
          3.9668407749471215,
          3.0812900622801505,
          2.8582588948748597,
          2.89436912157012,
          2.807568179599329,
          2.545454423648356,
          2.3659245285598516,
          2.253133048620578,
          2.286378694422518,
          2.6837633095355873,
          2.600383147788305,
          2.5852755512480354,
          2.5852755512480354,
          2.6154536591789848,
          2.5767131518443955,
          2.536204101221123,
          2.526953229077508,
          2.552599093049711,
          2.5472333338568296,
          3.358238740532664,
          3.358238740532664,
          3.3431758656372472,
          3.367879094386099,
          3.36647313208874,
          3.780887721809558,
          3.7813988894054114,
          4.178545446476965,
          4.405708392793538,
          4.412261823385752,
          4.412261823385752,
          3.343042517799904,
          3.0664043523775266,
          3.047945671624588,
          2.9405473937087567,
          2.5866860423954035,
          2.4255177710519322,
          2.3164282665149547,
          2.3409540878003976,
          2.6755698223640625,
          2.592640310221078,
          2.7581871081764184,
          2.7581871081764184,
          2.7866935553725973,
          2.6685581589083687,
          2.60925952063392,
          2.6093088562103084,
          2.643032112950808,
          2.6587860349476493,
          2.5604281569165206,
          2.4221435203655837,
          3.1248216937618025,
          3.1248216937618025,
          3.101853724722443,
          3.155209994867901,
          3.1547669632540276,
          3.495368625244818,
          3.495808531920957,
          3.829517283343106,
          4.06570983466522,
          4.071093438553611,
          4.068825579633047,
          2.969939289901037,
          2.8964507849982213,
          2.929851018146006,
          2.8224635531264046,
          2.585366605169367,
          2.462320238393554,
          2.3660471049274414,
          2.388774504652298,
          2.6747695123058786,
          2.6090300369045965,
          2.718997309308218,
          2.718997309308218,
          2.7617261738647567,
          2.687657857455086,
          2.612542636808815,
          2.617774580584401,
          2.652286067613568,
          2.6818991629772775,
          2.5478367697141513,
          2.3818040858008867,
          2.3818040858008867,
          2.3581318984511372,
          2.4916688531160394,
          2.5058705074704726,
          2.5057807110523687,
          2.5132451033732512,
          2.563718227008717,
          2.771922873227973,
          2.757416133059536,
          2.757453090134135,
          2.3523011279998003,
          2.442923797222477,
          2.6369749104747933,
          2.3899182895878748,
          2.2941013224595697,
          2.2571808183290454,
          2.210927699372098,
          2.2235437826466677,
          2.335397704195284,
          2.3370270775256548,
          2.364715656220112,
          2.364715656220112,
          2.473519643937431,
          2.4884595974338803,
          2.360790253083294,
          2.3851663394295444,
          2.374049224522475,
          2.3453699029300186,
          2.233458596406522,
          2.2012827858370865,
          2.3801809177603044,
          2.3801809177603044,
          2.3470161629177975,
          2.5165635579910592,
          2.5347877670808194,
          2.5341777930972857,
          2.5385807495391046,
          2.5798684613039837,
          2.833206097301897,
          2.789541871321337,
          2.7850431105548075,
          2.323610933377006,
          2.426024423751821,
          2.7468107570332587,
          2.470306190010649,
          2.3922746619438437,
          2.381870813972786,
          2.3364625278939446,
          2.362046590655906,
          2.502199832060508,
          2.527477439975615,
          2.5519515134499953,
          2.5528020074980504,
          2.676738296151683,
          2.697541046113805,
          2.4893291703584737,
          2.5196998186293995,
          2.50517132711004,
          2.44792895677922,
          2.351612229897552
         ]
        }
       ],
       "layout": {
        "template": {
         "data": {
          "bar": [
           {
            "error_x": {
             "color": "#f2f5fa"
            },
            "error_y": {
             "color": "#f2f5fa"
            },
            "marker": {
             "line": {
              "color": "rgb(17,17,17)",
              "width": 0.5
             },
             "pattern": {
              "fillmode": "overlay",
              "size": 10,
              "solidity": 0.2
             }
            },
            "type": "bar"
           }
          ],
          "barpolar": [
           {
            "marker": {
             "line": {
              "color": "rgb(17,17,17)",
              "width": 0.5
             },
             "pattern": {
              "fillmode": "overlay",
              "size": 10,
              "solidity": 0.2
             }
            },
            "type": "barpolar"
           }
          ],
          "carpet": [
           {
            "aaxis": {
             "endlinecolor": "#A2B1C6",
             "gridcolor": "#506784",
             "linecolor": "#506784",
             "minorgridcolor": "#506784",
             "startlinecolor": "#A2B1C6"
            },
            "baxis": {
             "endlinecolor": "#A2B1C6",
             "gridcolor": "#506784",
             "linecolor": "#506784",
             "minorgridcolor": "#506784",
             "startlinecolor": "#A2B1C6"
            },
            "type": "carpet"
           }
          ],
          "choropleth": [
           {
            "colorbar": {
             "outlinewidth": 0,
             "ticks": ""
            },
            "type": "choropleth"
           }
          ],
          "contour": [
           {
            "colorbar": {
             "outlinewidth": 0,
             "ticks": ""
            },
            "colorscale": [
             [
              0,
              "#0d0887"
             ],
             [
              0.1111111111111111,
              "#46039f"
             ],
             [
              0.2222222222222222,
              "#7201a8"
             ],
             [
              0.3333333333333333,
              "#9c179e"
             ],
             [
              0.4444444444444444,
              "#bd3786"
             ],
             [
              0.5555555555555556,
              "#d8576b"
             ],
             [
              0.6666666666666666,
              "#ed7953"
             ],
             [
              0.7777777777777778,
              "#fb9f3a"
             ],
             [
              0.8888888888888888,
              "#fdca26"
             ],
             [
              1,
              "#f0f921"
             ]
            ],
            "type": "contour"
           }
          ],
          "contourcarpet": [
           {
            "colorbar": {
             "outlinewidth": 0,
             "ticks": ""
            },
            "type": "contourcarpet"
           }
          ],
          "heatmap": [
           {
            "colorbar": {
             "outlinewidth": 0,
             "ticks": ""
            },
            "colorscale": [
             [
              0,
              "#0d0887"
             ],
             [
              0.1111111111111111,
              "#46039f"
             ],
             [
              0.2222222222222222,
              "#7201a8"
             ],
             [
              0.3333333333333333,
              "#9c179e"
             ],
             [
              0.4444444444444444,
              "#bd3786"
             ],
             [
              0.5555555555555556,
              "#d8576b"
             ],
             [
              0.6666666666666666,
              "#ed7953"
             ],
             [
              0.7777777777777778,
              "#fb9f3a"
             ],
             [
              0.8888888888888888,
              "#fdca26"
             ],
             [
              1,
              "#f0f921"
             ]
            ],
            "type": "heatmap"
           }
          ],
          "heatmapgl": [
           {
            "colorbar": {
             "outlinewidth": 0,
             "ticks": ""
            },
            "colorscale": [
             [
              0,
              "#0d0887"
             ],
             [
              0.1111111111111111,
              "#46039f"
             ],
             [
              0.2222222222222222,
              "#7201a8"
             ],
             [
              0.3333333333333333,
              "#9c179e"
             ],
             [
              0.4444444444444444,
              "#bd3786"
             ],
             [
              0.5555555555555556,
              "#d8576b"
             ],
             [
              0.6666666666666666,
              "#ed7953"
             ],
             [
              0.7777777777777778,
              "#fb9f3a"
             ],
             [
              0.8888888888888888,
              "#fdca26"
             ],
             [
              1,
              "#f0f921"
             ]
            ],
            "type": "heatmapgl"
           }
          ],
          "histogram": [
           {
            "marker": {
             "pattern": {
              "fillmode": "overlay",
              "size": 10,
              "solidity": 0.2
             }
            },
            "type": "histogram"
           }
          ],
          "histogram2d": [
           {
            "colorbar": {
             "outlinewidth": 0,
             "ticks": ""
            },
            "colorscale": [
             [
              0,
              "#0d0887"
             ],
             [
              0.1111111111111111,
              "#46039f"
             ],
             [
              0.2222222222222222,
              "#7201a8"
             ],
             [
              0.3333333333333333,
              "#9c179e"
             ],
             [
              0.4444444444444444,
              "#bd3786"
             ],
             [
              0.5555555555555556,
              "#d8576b"
             ],
             [
              0.6666666666666666,
              "#ed7953"
             ],
             [
              0.7777777777777778,
              "#fb9f3a"
             ],
             [
              0.8888888888888888,
              "#fdca26"
             ],
             [
              1,
              "#f0f921"
             ]
            ],
            "type": "histogram2d"
           }
          ],
          "histogram2dcontour": [
           {
            "colorbar": {
             "outlinewidth": 0,
             "ticks": ""
            },
            "colorscale": [
             [
              0,
              "#0d0887"
             ],
             [
              0.1111111111111111,
              "#46039f"
             ],
             [
              0.2222222222222222,
              "#7201a8"
             ],
             [
              0.3333333333333333,
              "#9c179e"
             ],
             [
              0.4444444444444444,
              "#bd3786"
             ],
             [
              0.5555555555555556,
              "#d8576b"
             ],
             [
              0.6666666666666666,
              "#ed7953"
             ],
             [
              0.7777777777777778,
              "#fb9f3a"
             ],
             [
              0.8888888888888888,
              "#fdca26"
             ],
             [
              1,
              "#f0f921"
             ]
            ],
            "type": "histogram2dcontour"
           }
          ],
          "mesh3d": [
           {
            "colorbar": {
             "outlinewidth": 0,
             "ticks": ""
            },
            "type": "mesh3d"
           }
          ],
          "parcoords": [
           {
            "line": {
             "colorbar": {
              "outlinewidth": 0,
              "ticks": ""
             }
            },
            "type": "parcoords"
           }
          ],
          "pie": [
           {
            "automargin": true,
            "type": "pie"
           }
          ],
          "scatter": [
           {
            "marker": {
             "line": {
              "color": "#283442"
             }
            },
            "type": "scatter"
           }
          ],
          "scatter3d": [
           {
            "line": {
             "colorbar": {
              "outlinewidth": 0,
              "ticks": ""
             }
            },
            "marker": {
             "colorbar": {
              "outlinewidth": 0,
              "ticks": ""
             }
            },
            "type": "scatter3d"
           }
          ],
          "scattercarpet": [
           {
            "marker": {
             "colorbar": {
              "outlinewidth": 0,
              "ticks": ""
             }
            },
            "type": "scattercarpet"
           }
          ],
          "scattergeo": [
           {
            "marker": {
             "colorbar": {
              "outlinewidth": 0,
              "ticks": ""
             }
            },
            "type": "scattergeo"
           }
          ],
          "scattergl": [
           {
            "marker": {
             "line": {
              "color": "#283442"
             }
            },
            "type": "scattergl"
           }
          ],
          "scattermapbox": [
           {
            "marker": {
             "colorbar": {
              "outlinewidth": 0,
              "ticks": ""
             }
            },
            "type": "scattermapbox"
           }
          ],
          "scatterpolar": [
           {
            "marker": {
             "colorbar": {
              "outlinewidth": 0,
              "ticks": ""
             }
            },
            "type": "scatterpolar"
           }
          ],
          "scatterpolargl": [
           {
            "marker": {
             "colorbar": {
              "outlinewidth": 0,
              "ticks": ""
             }
            },
            "type": "scatterpolargl"
           }
          ],
          "scatterternary": [
           {
            "marker": {
             "colorbar": {
              "outlinewidth": 0,
              "ticks": ""
             }
            },
            "type": "scatterternary"
           }
          ],
          "surface": [
           {
            "colorbar": {
             "outlinewidth": 0,
             "ticks": ""
            },
            "colorscale": [
             [
              0,
              "#0d0887"
             ],
             [
              0.1111111111111111,
              "#46039f"
             ],
             [
              0.2222222222222222,
              "#7201a8"
             ],
             [
              0.3333333333333333,
              "#9c179e"
             ],
             [
              0.4444444444444444,
              "#bd3786"
             ],
             [
              0.5555555555555556,
              "#d8576b"
             ],
             [
              0.6666666666666666,
              "#ed7953"
             ],
             [
              0.7777777777777778,
              "#fb9f3a"
             ],
             [
              0.8888888888888888,
              "#fdca26"
             ],
             [
              1,
              "#f0f921"
             ]
            ],
            "type": "surface"
           }
          ],
          "table": [
           {
            "cells": {
             "fill": {
              "color": "#506784"
             },
             "line": {
              "color": "rgb(17,17,17)"
             }
            },
            "header": {
             "fill": {
              "color": "#2a3f5f"
             },
             "line": {
              "color": "rgb(17,17,17)"
             }
            },
            "type": "table"
           }
          ]
         },
         "layout": {
          "annotationdefaults": {
           "arrowcolor": "#f2f5fa",
           "arrowhead": 0,
           "arrowwidth": 1
          },
          "autotypenumbers": "strict",
          "coloraxis": {
           "colorbar": {
            "outlinewidth": 0,
            "ticks": ""
           }
          },
          "colorscale": {
           "diverging": [
            [
             0,
             "#8e0152"
            ],
            [
             0.1,
             "#c51b7d"
            ],
            [
             0.2,
             "#de77ae"
            ],
            [
             0.3,
             "#f1b6da"
            ],
            [
             0.4,
             "#fde0ef"
            ],
            [
             0.5,
             "#f7f7f7"
            ],
            [
             0.6,
             "#e6f5d0"
            ],
            [
             0.7,
             "#b8e186"
            ],
            [
             0.8,
             "#7fbc41"
            ],
            [
             0.9,
             "#4d9221"
            ],
            [
             1,
             "#276419"
            ]
           ],
           "sequential": [
            [
             0,
             "#0d0887"
            ],
            [
             0.1111111111111111,
             "#46039f"
            ],
            [
             0.2222222222222222,
             "#7201a8"
            ],
            [
             0.3333333333333333,
             "#9c179e"
            ],
            [
             0.4444444444444444,
             "#bd3786"
            ],
            [
             0.5555555555555556,
             "#d8576b"
            ],
            [
             0.6666666666666666,
             "#ed7953"
            ],
            [
             0.7777777777777778,
             "#fb9f3a"
            ],
            [
             0.8888888888888888,
             "#fdca26"
            ],
            [
             1,
             "#f0f921"
            ]
           ],
           "sequentialminus": [
            [
             0,
             "#0d0887"
            ],
            [
             0.1111111111111111,
             "#46039f"
            ],
            [
             0.2222222222222222,
             "#7201a8"
            ],
            [
             0.3333333333333333,
             "#9c179e"
            ],
            [
             0.4444444444444444,
             "#bd3786"
            ],
            [
             0.5555555555555556,
             "#d8576b"
            ],
            [
             0.6666666666666666,
             "#ed7953"
            ],
            [
             0.7777777777777778,
             "#fb9f3a"
            ],
            [
             0.8888888888888888,
             "#fdca26"
            ],
            [
             1,
             "#f0f921"
            ]
           ]
          },
          "colorway": [
           "#636efa",
           "#EF553B",
           "#00cc96",
           "#ab63fa",
           "#FFA15A",
           "#19d3f3",
           "#FF6692",
           "#B6E880",
           "#FF97FF",
           "#FECB52"
          ],
          "font": {
           "color": "#f2f5fa"
          },
          "geo": {
           "bgcolor": "rgb(17,17,17)",
           "lakecolor": "rgb(17,17,17)",
           "landcolor": "rgb(17,17,17)",
           "showlakes": true,
           "showland": true,
           "subunitcolor": "#506784"
          },
          "hoverlabel": {
           "align": "left"
          },
          "hovermode": "closest",
          "mapbox": {
           "style": "dark"
          },
          "paper_bgcolor": "rgb(17,17,17)",
          "plot_bgcolor": "rgb(17,17,17)",
          "polar": {
           "angularaxis": {
            "gridcolor": "#506784",
            "linecolor": "#506784",
            "ticks": ""
           },
           "bgcolor": "rgb(17,17,17)",
           "radialaxis": {
            "gridcolor": "#506784",
            "linecolor": "#506784",
            "ticks": ""
           }
          },
          "scene": {
           "xaxis": {
            "backgroundcolor": "rgb(17,17,17)",
            "gridcolor": "#506784",
            "gridwidth": 2,
            "linecolor": "#506784",
            "showbackground": true,
            "ticks": "",
            "zerolinecolor": "#C8D4E3"
           },
           "yaxis": {
            "backgroundcolor": "rgb(17,17,17)",
            "gridcolor": "#506784",
            "gridwidth": 2,
            "linecolor": "#506784",
            "showbackground": true,
            "ticks": "",
            "zerolinecolor": "#C8D4E3"
           },
           "zaxis": {
            "backgroundcolor": "rgb(17,17,17)",
            "gridcolor": "#506784",
            "gridwidth": 2,
            "linecolor": "#506784",
            "showbackground": true,
            "ticks": "",
            "zerolinecolor": "#C8D4E3"
           }
          },
          "shapedefaults": {
           "line": {
            "color": "#f2f5fa"
           }
          },
          "sliderdefaults": {
           "bgcolor": "#C8D4E3",
           "bordercolor": "rgb(17,17,17)",
           "borderwidth": 1,
           "tickwidth": 0
          },
          "ternary": {
           "aaxis": {
            "gridcolor": "#506784",
            "linecolor": "#506784",
            "ticks": ""
           },
           "baxis": {
            "gridcolor": "#506784",
            "linecolor": "#506784",
            "ticks": ""
           },
           "bgcolor": "rgb(17,17,17)",
           "caxis": {
            "gridcolor": "#506784",
            "linecolor": "#506784",
            "ticks": ""
           }
          },
          "title": {
           "x": 0.05
          },
          "updatemenudefaults": {
           "bgcolor": "#506784",
           "borderwidth": 0
          },
          "xaxis": {
           "automargin": true,
           "gridcolor": "#283442",
           "linecolor": "#506784",
           "ticks": "",
           "title": {
            "standoff": 15
           },
           "zerolinecolor": "#283442",
           "zerolinewidth": 2
          },
          "yaxis": {
           "automargin": true,
           "gridcolor": "#283442",
           "linecolor": "#506784",
           "ticks": "",
           "title": {
            "standoff": 15
           },
           "zerolinecolor": "#283442",
           "zerolinewidth": 2
          }
         }
        },
        "title": {
         "text": "Przestępcy popełnione na płeci X-gender przewidywanie Random Forest"
        },
        "xaxis": {
         "title": {
          "text": "Data"
         }
        },
        "yaxis": {
         "title": {
          "text": "Liczba KillCount"
         }
        }
       }
      }
     },
     "metadata": {},
     "output_type": "display_data"
    }
   ],
   "source": [
    "import pandas as pd\n",
    "import numpy as np\n",
    "from sklearn.ensemble import RandomForestRegressor\n",
    "from sklearn.model_selection import train_test_split\n",
    "import plotly.graph_objects as go\n",
    "\n",
    "# Tworzenie kolumny daty\n",
    "df['Date'] = pd.to_datetime(df[['Year', 'Month', 'Day']])\n",
    "\n",
    "# Grupowanie i agregacja danych\n",
    "df_grouped = df.groupby('Date')['count'].sum().reset_index()\n",
    "\n",
    "# Przygotowanie danych do modelu Random Forest\n",
    "df_grouped['Month'] = df_grouped['Date'].dt.month\n",
    "df_grouped['Day'] = df_grouped['Date'].dt.day\n",
    "\n",
    "X = df_grouped[['Month', 'Day']]\n",
    "y = df_grouped['count']\n",
    "\n",
    "# Podział danych na zbiór treningowy i testowy\n",
    "X_train, X_test, y_train, y_test = train_test_split(X, y, test_size=0.2, random_state=42)\n",
    "\n",
    "# Dopasowanie modelu Random Forest\n",
    "model = RandomForestRegressor(n_estimators=100, random_state=42)\n",
    "model.fit(X_train, y_train)\n",
    "\n",
    "# Prognoza na następny rok\n",
    "next_year_dates = pd.date_range(start=df_grouped['Date'].max() + pd.DateOffset(days=1), end=df_grouped['Date'].max() + pd.DateOffset(years=1), freq='D')\n",
    "next_year_X = pd.DataFrame({'Month': next_year_dates.month, 'Day': next_year_dates.day})\n",
    "forecast = model.predict(next_year_X)\n",
    "\n",
    "# Wykres szeregu czasowego z prognozą\n",
    "fig = go.Figure()\n",
    "\n",
    "# Dodanie rzeczywistych danych\n",
    "fig.add_trace(go.Scatter(x=df_grouped['Date'], y=df_grouped['count'], mode='lines+markers', name='Actual'))\n",
    "\n",
    "# Dodanie prognoz\n",
    "fig.add_trace(go.Scatter(x=next_year_dates, y=forecast, mode='lines+markers', name='Forecast', line=dict(color='red', dash='dash')))\n",
    "\n",
    "# Aktualizacja układu wykresu\n",
    "fig.update_layout(title='Przestępcy popełnione na płeci X-gender przewidywanie Random Forest', \n",
    "                  xaxis_title='Data', yaxis_title='Liczba KillCount',template=\"plotly_dark\",)\n",
    "\n",
    "# Wyświetlenie wykresu\n",
    "fig.show()\n",
    "\n",
    "# Zapisywanie wykresu do pliku HTML\n",
    "fig.write_html(\"forecast_plot4_4.html\")\n"
   ]
  }
 ],
 "metadata": {
  "kernelspec": {
   "display_name": "venv",
   "language": "python",
   "name": "python3"
  },
  "language_info": {
   "codemirror_mode": {
    "name": "ipython",
    "version": 3
   },
   "file_extension": ".py",
   "mimetype": "text/x-python",
   "name": "python",
   "nbconvert_exporter": "python",
   "pygments_lexer": "ipython3",
   "version": "3.11.9"
  }
 },
 "nbformat": 4,
 "nbformat_minor": 2
}
