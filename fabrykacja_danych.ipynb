{
 "cells": [
  {
   "cell_type": "code",
   "execution_count": 1,
   "metadata": {},
   "outputs": [],
   "source": [
    "import pandas as pd"
   ]
  },
  {
   "cell_type": "code",
   "execution_count": 2,
   "metadata": {},
   "outputs": [],
   "source": [
    "df = pd.read_csv('LA_crimes.csv')\n",
    "dane = pd.read_csv('LA_crimes.csv')"
   ]
  },
  {
   "cell_type": "code",
   "execution_count": 3,
   "metadata": {},
   "outputs": [
    {
     "data": {
      "text/html": [
       "<div>\n",
       "<style scoped>\n",
       "    .dataframe tbody tr th:only-of-type {\n",
       "        vertical-align: middle;\n",
       "    }\n",
       "\n",
       "    .dataframe tbody tr th {\n",
       "        vertical-align: top;\n",
       "    }\n",
       "\n",
       "    .dataframe thead th {\n",
       "        text-align: right;\n",
       "    }\n",
       "</style>\n",
       "<table border=\"1\" class=\"dataframe\">\n",
       "  <thead>\n",
       "    <tr style=\"text-align: right;\">\n",
       "      <th></th>\n",
       "      <th>DR_NO</th>\n",
       "      <th>Date Rptd</th>\n",
       "      <th>DATE OCC</th>\n",
       "      <th>TIME OCC</th>\n",
       "      <th>AREA</th>\n",
       "      <th>AREA NAME</th>\n",
       "      <th>Rpt Dist No</th>\n",
       "      <th>Part 1-2</th>\n",
       "      <th>Crm Cd</th>\n",
       "      <th>Crm Cd Desc</th>\n",
       "      <th>...</th>\n",
       "      <th>Status</th>\n",
       "      <th>Status Desc</th>\n",
       "      <th>Crm Cd 1</th>\n",
       "      <th>Crm Cd 2</th>\n",
       "      <th>Crm Cd 3</th>\n",
       "      <th>Crm Cd 4</th>\n",
       "      <th>LOCATION</th>\n",
       "      <th>Cross Street</th>\n",
       "      <th>LAT</th>\n",
       "      <th>LON</th>\n",
       "    </tr>\n",
       "  </thead>\n",
       "  <tbody>\n",
       "    <tr>\n",
       "      <th>0</th>\n",
       "      <td>10304468</td>\n",
       "      <td>01/08/2020 12:00:00 AM</td>\n",
       "      <td>01/08/2020 12:00:00 AM</td>\n",
       "      <td>2230</td>\n",
       "      <td>3</td>\n",
       "      <td>Southwest</td>\n",
       "      <td>377</td>\n",
       "      <td>2</td>\n",
       "      <td>624</td>\n",
       "      <td>BATTERY - SIMPLE ASSAULT</td>\n",
       "      <td>...</td>\n",
       "      <td>AO</td>\n",
       "      <td>Adult Other</td>\n",
       "      <td>624.0</td>\n",
       "      <td>NaN</td>\n",
       "      <td>NaN</td>\n",
       "      <td>NaN</td>\n",
       "      <td>1100 W  39TH                         PL</td>\n",
       "      <td>NaN</td>\n",
       "      <td>34.0141</td>\n",
       "      <td>-118.2978</td>\n",
       "    </tr>\n",
       "    <tr>\n",
       "      <th>1</th>\n",
       "      <td>190101086</td>\n",
       "      <td>01/02/2020 12:00:00 AM</td>\n",
       "      <td>01/01/2020 12:00:00 AM</td>\n",
       "      <td>330</td>\n",
       "      <td>1</td>\n",
       "      <td>Central</td>\n",
       "      <td>163</td>\n",
       "      <td>2</td>\n",
       "      <td>624</td>\n",
       "      <td>BATTERY - SIMPLE ASSAULT</td>\n",
       "      <td>...</td>\n",
       "      <td>IC</td>\n",
       "      <td>Invest Cont</td>\n",
       "      <td>624.0</td>\n",
       "      <td>NaN</td>\n",
       "      <td>NaN</td>\n",
       "      <td>NaN</td>\n",
       "      <td>700 S  HILL                         ST</td>\n",
       "      <td>NaN</td>\n",
       "      <td>34.0459</td>\n",
       "      <td>-118.2545</td>\n",
       "    </tr>\n",
       "    <tr>\n",
       "      <th>2</th>\n",
       "      <td>200110444</td>\n",
       "      <td>04/14/2020 12:00:00 AM</td>\n",
       "      <td>02/13/2020 12:00:00 AM</td>\n",
       "      <td>1200</td>\n",
       "      <td>1</td>\n",
       "      <td>Central</td>\n",
       "      <td>155</td>\n",
       "      <td>2</td>\n",
       "      <td>845</td>\n",
       "      <td>SEX OFFENDER REGISTRANT OUT OF COMPLIANCE</td>\n",
       "      <td>...</td>\n",
       "      <td>AA</td>\n",
       "      <td>Adult Arrest</td>\n",
       "      <td>845.0</td>\n",
       "      <td>NaN</td>\n",
       "      <td>NaN</td>\n",
       "      <td>NaN</td>\n",
       "      <td>200 E  6TH                          ST</td>\n",
       "      <td>NaN</td>\n",
       "      <td>34.0448</td>\n",
       "      <td>-118.2474</td>\n",
       "    </tr>\n",
       "    <tr>\n",
       "      <th>3</th>\n",
       "      <td>191501505</td>\n",
       "      <td>01/01/2020 12:00:00 AM</td>\n",
       "      <td>01/01/2020 12:00:00 AM</td>\n",
       "      <td>1730</td>\n",
       "      <td>15</td>\n",
       "      <td>N Hollywood</td>\n",
       "      <td>1543</td>\n",
       "      <td>2</td>\n",
       "      <td>745</td>\n",
       "      <td>VANDALISM - MISDEAMEANOR ($399 OR UNDER)</td>\n",
       "      <td>...</td>\n",
       "      <td>IC</td>\n",
       "      <td>Invest Cont</td>\n",
       "      <td>745.0</td>\n",
       "      <td>998.0</td>\n",
       "      <td>NaN</td>\n",
       "      <td>NaN</td>\n",
       "      <td>5400    CORTEEN                      PL</td>\n",
       "      <td>NaN</td>\n",
       "      <td>34.1685</td>\n",
       "      <td>-118.4019</td>\n",
       "    </tr>\n",
       "    <tr>\n",
       "      <th>4</th>\n",
       "      <td>191921269</td>\n",
       "      <td>01/01/2020 12:00:00 AM</td>\n",
       "      <td>01/01/2020 12:00:00 AM</td>\n",
       "      <td>415</td>\n",
       "      <td>19</td>\n",
       "      <td>Mission</td>\n",
       "      <td>1998</td>\n",
       "      <td>2</td>\n",
       "      <td>740</td>\n",
       "      <td>VANDALISM - FELONY ($400 &amp; OVER, ALL CHURCH VA...</td>\n",
       "      <td>...</td>\n",
       "      <td>IC</td>\n",
       "      <td>Invest Cont</td>\n",
       "      <td>740.0</td>\n",
       "      <td>NaN</td>\n",
       "      <td>NaN</td>\n",
       "      <td>NaN</td>\n",
       "      <td>14400    TITUS                        ST</td>\n",
       "      <td>NaN</td>\n",
       "      <td>34.2198</td>\n",
       "      <td>-118.4468</td>\n",
       "    </tr>\n",
       "  </tbody>\n",
       "</table>\n",
       "<p>5 rows × 28 columns</p>\n",
       "</div>"
      ],
      "text/plain": [
       "       DR_NO               Date Rptd                DATE OCC  TIME OCC  AREA  \\\n",
       "0   10304468  01/08/2020 12:00:00 AM  01/08/2020 12:00:00 AM      2230     3   \n",
       "1  190101086  01/02/2020 12:00:00 AM  01/01/2020 12:00:00 AM       330     1   \n",
       "2  200110444  04/14/2020 12:00:00 AM  02/13/2020 12:00:00 AM      1200     1   \n",
       "3  191501505  01/01/2020 12:00:00 AM  01/01/2020 12:00:00 AM      1730    15   \n",
       "4  191921269  01/01/2020 12:00:00 AM  01/01/2020 12:00:00 AM       415    19   \n",
       "\n",
       "     AREA NAME  Rpt Dist No  Part 1-2  Crm Cd  \\\n",
       "0    Southwest          377         2     624   \n",
       "1      Central          163         2     624   \n",
       "2      Central          155         2     845   \n",
       "3  N Hollywood         1543         2     745   \n",
       "4      Mission         1998         2     740   \n",
       "\n",
       "                                         Crm Cd Desc  ... Status  \\\n",
       "0                           BATTERY - SIMPLE ASSAULT  ...     AO   \n",
       "1                           BATTERY - SIMPLE ASSAULT  ...     IC   \n",
       "2          SEX OFFENDER REGISTRANT OUT OF COMPLIANCE  ...     AA   \n",
       "3           VANDALISM - MISDEAMEANOR ($399 OR UNDER)  ...     IC   \n",
       "4  VANDALISM - FELONY ($400 & OVER, ALL CHURCH VA...  ...     IC   \n",
       "\n",
       "    Status Desc Crm Cd 1 Crm Cd 2  Crm Cd 3 Crm Cd 4  \\\n",
       "0   Adult Other    624.0      NaN       NaN      NaN   \n",
       "1   Invest Cont    624.0      NaN       NaN      NaN   \n",
       "2  Adult Arrest    845.0      NaN       NaN      NaN   \n",
       "3   Invest Cont    745.0    998.0       NaN      NaN   \n",
       "4   Invest Cont    740.0      NaN       NaN      NaN   \n",
       "\n",
       "                                   LOCATION Cross Street      LAT       LON  \n",
       "0   1100 W  39TH                         PL          NaN  34.0141 -118.2978  \n",
       "1    700 S  HILL                         ST          NaN  34.0459 -118.2545  \n",
       "2    200 E  6TH                          ST          NaN  34.0448 -118.2474  \n",
       "3   5400    CORTEEN                      PL          NaN  34.1685 -118.4019  \n",
       "4  14400    TITUS                        ST          NaN  34.2198 -118.4468  \n",
       "\n",
       "[5 rows x 28 columns]"
      ]
     },
     "execution_count": 3,
     "metadata": {},
     "output_type": "execute_result"
    }
   ],
   "source": [
    "df.head()"
   ]
  },
  {
   "cell_type": "code",
   "execution_count": 4,
   "metadata": {},
   "outputs": [
    {
     "data": {
      "text/plain": [
       "757141"
      ]
     },
     "execution_count": 4,
     "metadata": {},
     "output_type": "execute_result"
    }
   ],
   "source": [
    "len(dane)"
   ]
  },
  {
   "cell_type": "code",
   "execution_count": 5,
   "metadata": {},
   "outputs": [],
   "source": [
    "import random\n",
    "\n",
    "# Definiowanie proporcji dla poszczególnych płci\n",
    "proporcje = {'f': 0.2, 'm': 0.7, 'x': 0.099, 'h': 0.001}\n",
    "\n",
    "# Długość listy wynikowej\n",
    "dlugosc_listy = len(dane)\n",
    "\n",
    "# Generowanie listy zawierającej płeć sprawcy przestępstwa na podstawie określonych proporcji\n",
    "lista_plec_sprawcy = [random.choices(list(proporcje.keys()), weights=proporcje.values(), k=1)[0] for _ in range(dlugosc_listy)]\n",
    "\n",
    "\n",
    "\n"
   ]
  },
  {
   "cell_type": "code",
   "execution_count": 6,
   "metadata": {},
   "outputs": [
    {
     "data": {
      "text/plain": [
       "757141"
      ]
     },
     "execution_count": 6,
     "metadata": {},
     "output_type": "execute_result"
    }
   ],
   "source": [
    "len(lista_plec_sprawcy)"
   ]
  },
  {
   "cell_type": "code",
   "execution_count": 7,
   "metadata": {},
   "outputs": [],
   "source": [
    "import random\n",
    "\n",
    "# Lista ras sprawców\n",
    "rasa_sprawcy = ['K', 'F', 'B', 'L', 'V', 'U', 'O', 'D', 'C', 'J', 'Z', 'A', 'X', 'W', 'S', 'G', 'I', 'P', 'H', None]\n",
    "\n",
    "# Prawdopodobieństwa dla poszczególnych ras\n",
    "prawdopodobienstwa = {\n",
    "    'A': 0.05,'B': 0.26,'H': 0.14,'X': 0.14,'W': 0.1,\n",
    "    'K': 0.03,\n",
    "    'F': 0.02,\n",
    "    \n",
    "    'L': 0.04,\n",
    "    'V': 0.01,\n",
    "    'U': 0.03,\n",
    "    'O': 0.03,\n",
    "    'D': 0.03,\n",
    "    'C': 0.01,\n",
    "    'J': 0.01,\n",
    "    'Z': 0.02,\n",
    "    \n",
    "    \n",
    "    \n",
    "    'S': 0.02,\n",
    "    'G': 0.01,\n",
    "    'I': 0.01,\n",
    "    'P': 0.01,\n",
    "    \n",
    "    None: 0.01  # Dla wartości null\n",
    "}\n",
    "\n",
    "# Długość listy wynikowej\n",
    "dlugosc_listy = len(dane)\n",
    "\n",
    "# Generowanie listy zawierającej rasę sprawcy przestępstwa na podstawie określonych proporcji\n",
    "lista_rasa_sprawcy = [random.choices(list(prawdopodobienstwa.keys()), weights=prawdopodobienstwa.values(), k=1)[0] for _ in range(dlugosc_listy)]\n",
    "\n",
    "\n"
   ]
  },
  {
   "cell_type": "code",
   "execution_count": 8,
   "metadata": {},
   "outputs": [],
   "source": [
    "import random\n",
    "\n",
    "# Definiowanie proporcji dla poszczególnych płci\n",
    "proporcje = {0:0.7,1: 0.1, 2: 0.07, 3: 0.05,4:0.015,5:0.062,6:0.043,7:0.01,8:0.009,9:0.001,11:0.005,13:0.005}\n",
    "\n",
    "# Długość listy wynikowej\n",
    "dlugosc_listy = len(dane)\n",
    "\n",
    "# Generowanie listy zawierającej płeć sprawcy przestępstwa na podstawie określonych proporcji\n",
    "Kill_count = [random.choices(list(proporcje.keys()), weights=proporcje.values(), k=1)[0] for _ in range(dlugosc_listy)]\n",
    "\n",
    "\n"
   ]
  },
  {
   "cell_type": "code",
   "execution_count": 9,
   "metadata": {},
   "outputs": [
    {
     "data": {
      "text/plain": [
       "757141"
      ]
     },
     "execution_count": 9,
     "metadata": {},
     "output_type": "execute_result"
    }
   ],
   "source": [
    "len(Kill_count)"
   ]
  },
  {
   "cell_type": "code",
   "execution_count": 10,
   "metadata": {},
   "outputs": [],
   "source": [
    "import random\n",
    "\n",
    "# Definiowanie proporcji dla poszczególnych płci\n",
    "proporcje = {'Singiel':0.33,'Divorced':0.57,'Married':0.1}\n",
    "\n",
    "# Długość listy wynikowej\n",
    "dlugosc_listy = len(dane)\n",
    "\n",
    "# Generowanie listy zawierającej płeć sprawcy przestępstwa na podstawie określonych proporcji\n",
    "relationship_type = [random.choices(list(proporcje.keys()), weights=proporcje.values(), k=1)[0] for _ in range(dlugosc_listy)]\n",
    "\n",
    "\n"
   ]
  },
  {
   "cell_type": "code",
   "execution_count": 11,
   "metadata": {},
   "outputs": [
    {
     "data": {
      "text/plain": [
       "757141"
      ]
     },
     "execution_count": 11,
     "metadata": {},
     "output_type": "execute_result"
    }
   ],
   "source": [
    "len(relationship_type)"
   ]
  },
  {
   "cell_type": "code",
   "execution_count": 12,
   "metadata": {},
   "outputs": [],
   "source": [
    "import random\n",
    "\n",
    "# Definiowanie proporcji dla poszczególnych grup wiekowych\n",
    "proporcje_wieku = {'0-18': 0.13, '18-35': 0.45, '35-60': 0.35, '60-100': 0.07,}\n",
    "\n",
    "# Długość listy wynikowej\n",
    "dlugosc_listy = len(dane)\n",
    "\n",
    "# Generowanie listy zawierającej wiek przestępców na podstawie określonych proporcji\n",
    "wiek_przestepcow = [random.choices(list(proporcje_wieku.keys()), weights=proporcje_wieku.values(), k=1)[0] for _ in range(dlugosc_listy)]\n"
   ]
  },
  {
   "cell_type": "code",
   "execution_count": 13,
   "metadata": {},
   "outputs": [
    {
     "data": {
      "text/plain": [
       "757141"
      ]
     },
     "execution_count": 13,
     "metadata": {},
     "output_type": "execute_result"
    }
   ],
   "source": [
    "len(wiek_przestepcow)"
   ]
  },
  {
   "cell_type": "code",
   "execution_count": 15,
   "metadata": {},
   "outputs": [],
   "source": [
    "from faker import Faker\n",
    "import random\n",
    "\n",
    "# Inicjalizacja obiektu Faker z danymi dla regionu Los Angeles\n",
    "fake = Faker('en_US')\n",
    "\n",
    "# Lista do przechowywania informacji czy przestępca był wcześniej karany\n",
    "karany_przestepca = []\n",
    "\n",
    "# Wygenerowanie losowej informacji czy przestępca był wcześniej karany\n",
    "for _ in range(len(dane)):  # Generujemy dane dla 20 przestępców\n",
    "    karany = 'T' if fake.boolean(chance_of_getting_true=35) else 'F'\n",
    "    karany_przestepca.append(karany)\n",
    "\n",
    "\n",
    "\n"
   ]
  },
  {
   "cell_type": "code",
   "execution_count": 16,
   "metadata": {},
   "outputs": [
    {
     "data": {
      "text/plain": [
       "757141"
      ]
     },
     "execution_count": 16,
     "metadata": {},
     "output_type": "execute_result"
    }
   ],
   "source": [
    "len(karany_przestepca)"
   ]
  },
  {
   "cell_type": "code",
   "execution_count": 17,
   "metadata": {},
   "outputs": [],
   "source": [
    "import random\n",
    "\n",
    "# Funkcja do generowania poziomu wykształcenia z uwzględnieniem prawdopodobieństw\n",
    "def generate_education_level():\n",
    "    education_levels = ['primary', 'middle', 'secondary', 'Higher education']\n",
    "    probabilities = [0.20, 0.30, 0.35, 0.15]  # Prawdopodobieństwa dla każdego poziomu\n",
    "    return random.choices(education_levels, weights=probabilities)[0]\n",
    "\n",
    "# Wygenerowanie losowych poziomów wykształcenia dla 20 przestępców\n",
    "education_levels = [generate_education_level() for _ in range(len(dane))]\n"
   ]
  },
  {
   "cell_type": "code",
   "execution_count": null,
   "metadata": {},
   "outputs": [
    {
     "data": {
      "text/plain": [
       "757141"
      ]
     },
     "execution_count": 79,
     "metadata": {},
     "output_type": "execute_result"
    }
   ],
   "source": [
    "len(education_levels)"
   ]
  },
  {
   "cell_type": "code",
   "execution_count": 18,
   "metadata": {},
   "outputs": [],
   "source": [
    "import random\n",
    "\n",
    "# Funkcja do generowania danych dotyczących substancji odurzających z uwzględnieniem prawdopodobieństw\n",
    "def generate_drug_substance():\n",
    "    drugs = ['Alcohol', 'Cannabis (Marijuana)', 'Prescription opioids', 'Benzodiazepines', 'Stimulants', \n",
    "             'Synthetic cannabinoids', 'MDMA (Ecstasy/Molly)', 'Cocaine', 'Heroin']\n",
    "    probabilities = [0.30, 0.20, 0.15, 0.10, 0.08, 0.05, 0.04, 0.03, 0.05]  # Prawdopodobieństwa dla każdej substancji\n",
    "    return random.choices(drugs, weights=probabilities)[0]\n",
    "\n",
    "# Wygenerowanie losowych danych dla 20 przestępców\n",
    "drug_substances = [generate_drug_substance() for _ in range(len(dane))]\n"
   ]
  },
  {
   "cell_type": "code",
   "execution_count": null,
   "metadata": {},
   "outputs": [
    {
     "data": {
      "text/plain": [
       "757141"
      ]
     },
     "execution_count": 81,
     "metadata": {},
     "output_type": "execute_result"
    }
   ],
   "source": [
    "len(drug_substances)"
   ]
  },
  {
   "cell_type": "code",
   "execution_count": 19,
   "metadata": {},
   "outputs": [],
   "source": [
    "from faker import Faker\n",
    "import random\n",
    "\n",
    "# Inicjalizacja obiektu Faker z danymi dla regionu Los Angeles\n",
    "fake = Faker('en_US')\n",
    "\n",
    "# Funkcja do generowania losowych zarobków\n",
    "def generate_income():\n",
    "    # Zakres zarobków w Los Angeles (przykładowe wartości)\n",
    "    min_income = 20000\n",
    "    max_income = 150000\n",
    "    return fake.random_int(min_income, max_income)\n",
    "\n",
    "# Wygenerowanie losowych zarobków dla 20 ofiar przestępstw\n",
    "annual_earnings = [generate_income() for _ in range(len(dane))]\n",
    "\n",
    "\n"
   ]
  },
  {
   "cell_type": "code",
   "execution_count": 20,
   "metadata": {},
   "outputs": [],
   "source": [
    "df['gender of criminal'] = lista_plec_sprawcy\n",
    "df['country of criminal'] = lista_rasa_sprawcy#\n",
    "df['kill count'] = Kill_count\n",
    "df['marital status of criminal '] = relationship_type\n",
    "df['age of criminal'] = wiek_przestepcow#\n",
    "df['previously punished'] = karany_przestepca\n",
    "df['education levels'] = education_levels#\n",
    "df['drug substances'] = drug_substances#\n",
    "df['annual earnings'] = annual_earnings#\n",
    "\n",
    "\n"
   ]
  },
  {
   "cell_type": "code",
   "execution_count": 23,
   "metadata": {},
   "outputs": [
    {
     "data": {
      "text/plain": [
       "0                  primary\n",
       "1         Higher education\n",
       "2                   middle\n",
       "3                  primary\n",
       "4                   middle\n",
       "                ...       \n",
       "757136              middle\n",
       "757137           secondary\n",
       "757138           secondary\n",
       "757139              middle\n",
       "757140              middle\n",
       "Name: education levels, Length: 757141, dtype: object"
      ]
     },
     "execution_count": 23,
     "metadata": {},
     "output_type": "execute_result"
    }
   ],
   "source": [
    "df['education levels']"
   ]
  },
  {
   "cell_type": "code",
   "execution_count": 24,
   "metadata": {},
   "outputs": [
    {
     "data": {
      "text/plain": [
       "array(['0-18', '18-35', '35-60', '60-100'], dtype=object)"
      ]
     },
     "execution_count": 24,
     "metadata": {},
     "output_type": "execute_result"
    }
   ],
   "source": [
    "df['age of criminal'].unique()"
   ]
  },
  {
   "cell_type": "code",
   "execution_count": null,
   "metadata": {},
   "outputs": [
    {
     "data": {
      "image/png": "[encoded data removed]",
      "text/plain": [
       "<Figure size 640x480 with 1 Axes>"
      ]
     },
     "metadata": {},
     "output_type": "display_data"
    }
   ],
   "source": [
    "import pandas as pd\n",
    "import matplotlib.pyplot as plt\n",
    "\n",
    "# Tworzenie ramki danych z kolumną 'Wykształcenie'\n",
    "\n",
    "# Zliczanie wystąpień poszczególnych wartości w kolumnie 'Wykształcenie'\n",
    "counts = df['age of criminal'].value_counts()\n",
    "\n",
    "# Tworzenie wykresu\n",
    "counts.plot(kind='bar', color='skyblue')\n",
    "\n",
    "# Dodanie tytułu i etykiet osi\n",
    "plt.title('Rozkład wykształcenia')\n",
    "plt.xlabel('Poziom wykształcenia')\n",
    "plt.ylabel('Liczba osób')\n",
    "\n",
    "# Wyświetlenie wykresu\n",
    "plt.show()"
   ]
  },
  {
   "cell_type": "code",
   "execution_count": 27,
   "metadata": {},
   "outputs": [
    {
     "ename": "SyntaxError",
     "evalue": "(unicode error) 'unicodeescape' codec can't decode bytes in position 2-3: truncated \\UXXXXXXXX escape (2113394654.py, line 1)",
     "output_type": "error",
     "traceback": [
      "\u001b[1;36m  Cell \u001b[1;32mIn[27], line 1\u001b[1;36m\u001b[0m\n\u001b[1;33m    df.to_csv('C:\\Users\\micha\\Desktop\\WAD_pro\\Wielowymiarowa_analiza_danych\\LA_crimes_generate_data.csv')\u001b[0m\n\u001b[1;37m                                                                                                        ^\u001b[0m\n\u001b[1;31mSyntaxError\u001b[0m\u001b[1;31m:\u001b[0m (unicode error) 'unicodeescape' codec can't decode bytes in position 2-3: truncated \\UXXXXXXXX escape\n"
     ]
    }
   ],
   "source": [
    "df.to_csv('LA_crimes_generate_data.csv')"
   ]
  },
  {
   "cell_type": "code",
   "execution_count": 26,
   "metadata": {},
   "outputs": [
    {
     "data": {
      "text/plain": [
       "0         Divorced\n",
       "1          Singiel\n",
       "2         Divorced\n",
       "3          Singiel\n",
       "4          Singiel\n",
       "            ...   \n",
       "757136    Divorced\n",
       "757137     Singiel\n",
       "757138    Divorced\n",
       "757139    Divorced\n",
       "757140    Divorced\n",
       "Name: marital status of criminal , Length: 757141, dtype: object"
      ]
     },
     "execution_count": 26,
     "metadata": {},
     "output_type": "execute_result"
    }
   ],
   "source": [
    "df['marital status of criminal ']"
   ]
  },
  {
   "cell_type": "code",
   "execution_count": null,
   "metadata": {},
   "outputs": [],
   "source": [
    "a = pd.read_csv('LA_crimes_generate_data.csv')\n"
   ]
  },
  {
   "cell_type": "code",
   "execution_count": null,
   "metadata": {},
   "outputs": [
    {
     "data": {
      "text/html": [
       "<div>\n",
       "<style scoped>\n",
       "    .dataframe tbody tr th:only-of-type {\n",
       "        vertical-align: middle;\n",
       "    }\n",
       "\n",
       "    .dataframe tbody tr th {\n",
       "        vertical-align: top;\n",
       "    }\n",
       "\n",
       "    .dataframe thead th {\n",
       "        text-align: right;\n",
       "    }\n",
       "</style>\n",
       "<table border=\"1\" class=\"dataframe\">\n",
       "  <thead>\n",
       "    <tr style=\"text-align: right;\">\n",
       "      <th></th>\n",
       "      <th>Unnamed: 0</th>\n",
       "      <th>DR_NO</th>\n",
       "      <th>Date Rptd</th>\n",
       "      <th>DATE OCC</th>\n",
       "      <th>TIME OCC</th>\n",
       "      <th>AREA</th>\n",
       "      <th>AREA NAME</th>\n",
       "      <th>Rpt Dist No</th>\n",
       "      <th>Part 1-2</th>\n",
       "      <th>Crm Cd</th>\n",
       "      <th>...</th>\n",
       "      <th>LAT</th>\n",
       "      <th>LON</th>\n",
       "      <th>gender of criminal</th>\n",
       "      <th>country of criminal</th>\n",
       "      <th>kill count</th>\n",
       "      <th>marital status of criminal</th>\n",
       "      <th>age of criminal</th>\n",
       "      <th>previously punished</th>\n",
       "      <th>education levels</th>\n",
       "      <th>drug substances</th>\n",
       "    </tr>\n",
       "  </thead>\n",
       "  <tbody>\n",
       "    <tr>\n",
       "      <th>0</th>\n",
       "      <td>0</td>\n",
       "      <td>10304468</td>\n",
       "      <td>01/08/2020 12:00:00 AM</td>\n",
       "      <td>01/08/2020 12:00:00 AM</td>\n",
       "      <td>2230</td>\n",
       "      <td>3</td>\n",
       "      <td>Southwest</td>\n",
       "      <td>377</td>\n",
       "      <td>2</td>\n",
       "      <td>624</td>\n",
       "      <td>...</td>\n",
       "      <td>34.0141</td>\n",
       "      <td>-118.2978</td>\n",
       "      <td>x</td>\n",
       "      <td>H</td>\n",
       "      <td>0</td>\n",
       "      <td>primary</td>\n",
       "      <td>35-60</td>\n",
       "      <td>T</td>\n",
       "      <td>primary</td>\n",
       "      <td>Prescription opioids</td>\n",
       "    </tr>\n",
       "    <tr>\n",
       "      <th>1</th>\n",
       "      <td>1</td>\n",
       "      <td>190101086</td>\n",
       "      <td>01/02/2020 12:00:00 AM</td>\n",
       "      <td>01/01/2020 12:00:00 AM</td>\n",
       "      <td>330</td>\n",
       "      <td>1</td>\n",
       "      <td>Central</td>\n",
       "      <td>163</td>\n",
       "      <td>2</td>\n",
       "      <td>624</td>\n",
       "      <td>...</td>\n",
       "      <td>34.0459</td>\n",
       "      <td>-118.2545</td>\n",
       "      <td>m</td>\n",
       "      <td>F</td>\n",
       "      <td>0</td>\n",
       "      <td>middle</td>\n",
       "      <td>35-60</td>\n",
       "      <td>F</td>\n",
       "      <td>secondary</td>\n",
       "      <td>Cannabis (Marijuana)</td>\n",
       "    </tr>\n",
       "    <tr>\n",
       "      <th>2</th>\n",
       "      <td>2</td>\n",
       "      <td>200110444</td>\n",
       "      <td>04/14/2020 12:00:00 AM</td>\n",
       "      <td>02/13/2020 12:00:00 AM</td>\n",
       "      <td>1200</td>\n",
       "      <td>1</td>\n",
       "      <td>Central</td>\n",
       "      <td>155</td>\n",
       "      <td>2</td>\n",
       "      <td>845</td>\n",
       "      <td>...</td>\n",
       "      <td>34.0448</td>\n",
       "      <td>-118.2474</td>\n",
       "      <td>m</td>\n",
       "      <td>S</td>\n",
       "      <td>0</td>\n",
       "      <td>middle</td>\n",
       "      <td>35-60</td>\n",
       "      <td>T</td>\n",
       "      <td>Higher education</td>\n",
       "      <td>Heroin</td>\n",
       "    </tr>\n",
       "    <tr>\n",
       "      <th>3</th>\n",
       "      <td>3</td>\n",
       "      <td>191501505</td>\n",
       "      <td>01/01/2020 12:00:00 AM</td>\n",
       "      <td>01/01/2020 12:00:00 AM</td>\n",
       "      <td>1730</td>\n",
       "      <td>15</td>\n",
       "      <td>N Hollywood</td>\n",
       "      <td>1543</td>\n",
       "      <td>2</td>\n",
       "      <td>745</td>\n",
       "      <td>...</td>\n",
       "      <td>34.1685</td>\n",
       "      <td>-118.4019</td>\n",
       "      <td>m</td>\n",
       "      <td>B</td>\n",
       "      <td>0</td>\n",
       "      <td>middle</td>\n",
       "      <td>0-18</td>\n",
       "      <td>F</td>\n",
       "      <td>middle</td>\n",
       "      <td>Benzodiazepines</td>\n",
       "    </tr>\n",
       "    <tr>\n",
       "      <th>4</th>\n",
       "      <td>4</td>\n",
       "      <td>191921269</td>\n",
       "      <td>01/01/2020 12:00:00 AM</td>\n",
       "      <td>01/01/2020 12:00:00 AM</td>\n",
       "      <td>415</td>\n",
       "      <td>19</td>\n",
       "      <td>Mission</td>\n",
       "      <td>1998</td>\n",
       "      <td>2</td>\n",
       "      <td>740</td>\n",
       "      <td>...</td>\n",
       "      <td>34.2198</td>\n",
       "      <td>-118.4468</td>\n",
       "      <td>m</td>\n",
       "      <td>A</td>\n",
       "      <td>2</td>\n",
       "      <td>middle</td>\n",
       "      <td>18-35</td>\n",
       "      <td>F</td>\n",
       "      <td>middle</td>\n",
       "      <td>Alcohol</td>\n",
       "    </tr>\n",
       "  </tbody>\n",
       "</table>\n",
       "<p>5 rows × 37 columns</p>\n",
       "</div>"
      ],
      "text/plain": [
       "   Unnamed: 0      DR_NO               Date Rptd                DATE OCC  \\\n",
       "0           0   10304468  01/08/2020 12:00:00 AM  01/08/2020 12:00:00 AM   \n",
       "1           1  190101086  01/02/2020 12:00:00 AM  01/01/2020 12:00:00 AM   \n",
       "2           2  200110444  04/14/2020 12:00:00 AM  02/13/2020 12:00:00 AM   \n",
       "3           3  191501505  01/01/2020 12:00:00 AM  01/01/2020 12:00:00 AM   \n",
       "4           4  191921269  01/01/2020 12:00:00 AM  01/01/2020 12:00:00 AM   \n",
       "\n",
       "   TIME OCC  AREA    AREA NAME  Rpt Dist No  Part 1-2  Crm Cd  ...      LAT  \\\n",
       "0      2230     3    Southwest          377         2     624  ...  34.0141   \n",
       "1       330     1      Central          163         2     624  ...  34.0459   \n",
       "2      1200     1      Central          155         2     845  ...  34.0448   \n",
       "3      1730    15  N Hollywood         1543         2     745  ...  34.1685   \n",
       "4       415    19      Mission         1998         2     740  ...  34.2198   \n",
       "\n",
       "        LON  gender of criminal country of criminal kill count  \\\n",
       "0 -118.2978                   x                   H          0   \n",
       "1 -118.2545                   m                   F          0   \n",
       "2 -118.2474                   m                   S          0   \n",
       "3 -118.4019                   m                   B          0   \n",
       "4 -118.4468                   m                   A          2   \n",
       "\n",
       "   marital status of criminal  age of criminal  previously punished  \\\n",
       "0                      primary           35-60                    T   \n",
       "1                       middle           35-60                    F   \n",
       "2                       middle           35-60                    T   \n",
       "3                       middle            0-18                    F   \n",
       "4                       middle           18-35                    F   \n",
       "\n",
       "   education levels       drug substances  \n",
       "0           primary  Prescription opioids  \n",
       "1         secondary  Cannabis (Marijuana)  \n",
       "2  Higher education                Heroin  \n",
       "3            middle       Benzodiazepines  \n",
       "4            middle               Alcohol  \n",
       "\n",
       "[5 rows x 37 columns]"
      ]
     },
     "execution_count": 88,
     "metadata": {},
     "output_type": "execute_result"
    }
   ],
   "source": [
    "a.head()"
   ]
  },
  {
   "cell_type": "code",
   "execution_count": null,
   "metadata": {},
   "outputs": [],
   "source": [
    "a = a.drop(columns=['Unnamed: 0',], axis=1)"
   ]
  },
  {
   "cell_type": "code",
   "execution_count": null,
   "metadata": {},
   "outputs": [
    {
     "data": {
      "text/html": [
       "<div>\n",
       "<style scoped>\n",
       "    .dataframe tbody tr th:only-of-type {\n",
       "        vertical-align: middle;\n",
       "    }\n",
       "\n",
       "    .dataframe tbody tr th {\n",
       "        vertical-align: top;\n",
       "    }\n",
       "\n",
       "    .dataframe thead th {\n",
       "        text-align: right;\n",
       "    }\n",
       "</style>\n",
       "<table border=\"1\" class=\"dataframe\">\n",
       "  <thead>\n",
       "    <tr style=\"text-align: right;\">\n",
       "      <th></th>\n",
       "      <th>DR_NO</th>\n",
       "      <th>Date Rptd</th>\n",
       "      <th>DATE OCC</th>\n",
       "      <th>TIME OCC</th>\n",
       "      <th>AREA</th>\n",
       "      <th>AREA NAME</th>\n",
       "      <th>Rpt Dist No</th>\n",
       "      <th>Part 1-2</th>\n",
       "      <th>Crm Cd</th>\n",
       "      <th>Crm Cd Desc</th>\n",
       "      <th>...</th>\n",
       "      <th>LAT</th>\n",
       "      <th>LON</th>\n",
       "      <th>gender of criminal</th>\n",
       "      <th>country of criminal</th>\n",
       "      <th>kill count</th>\n",
       "      <th>marital status of criminal</th>\n",
       "      <th>age of criminal</th>\n",
       "      <th>previously punished</th>\n",
       "      <th>education levels</th>\n",
       "      <th>drug substances</th>\n",
       "    </tr>\n",
       "  </thead>\n",
       "  <tbody>\n",
       "    <tr>\n",
       "      <th>0</th>\n",
       "      <td>10304468</td>\n",
       "      <td>01/08/2020 12:00:00 AM</td>\n",
       "      <td>01/08/2020 12:00:00 AM</td>\n",
       "      <td>2230</td>\n",
       "      <td>3</td>\n",
       "      <td>Southwest</td>\n",
       "      <td>377</td>\n",
       "      <td>2</td>\n",
       "      <td>624</td>\n",
       "      <td>BATTERY - SIMPLE ASSAULT</td>\n",
       "      <td>...</td>\n",
       "      <td>34.0141</td>\n",
       "      <td>-118.2978</td>\n",
       "      <td>x</td>\n",
       "      <td>H</td>\n",
       "      <td>0</td>\n",
       "      <td>primary</td>\n",
       "      <td>35-60</td>\n",
       "      <td>T</td>\n",
       "      <td>primary</td>\n",
       "      <td>Prescription opioids</td>\n",
       "    </tr>\n",
       "    <tr>\n",
       "      <th>1</th>\n",
       "      <td>190101086</td>\n",
       "      <td>01/02/2020 12:00:00 AM</td>\n",
       "      <td>01/01/2020 12:00:00 AM</td>\n",
       "      <td>330</td>\n",
       "      <td>1</td>\n",
       "      <td>Central</td>\n",
       "      <td>163</td>\n",
       "      <td>2</td>\n",
       "      <td>624</td>\n",
       "      <td>BATTERY - SIMPLE ASSAULT</td>\n",
       "      <td>...</td>\n",
       "      <td>34.0459</td>\n",
       "      <td>-118.2545</td>\n",
       "      <td>m</td>\n",
       "      <td>F</td>\n",
       "      <td>0</td>\n",
       "      <td>middle</td>\n",
       "      <td>35-60</td>\n",
       "      <td>F</td>\n",
       "      <td>secondary</td>\n",
       "      <td>Cannabis (Marijuana)</td>\n",
       "    </tr>\n",
       "    <tr>\n",
       "      <th>2</th>\n",
       "      <td>200110444</td>\n",
       "      <td>04/14/2020 12:00:00 AM</td>\n",
       "      <td>02/13/2020 12:00:00 AM</td>\n",
       "      <td>1200</td>\n",
       "      <td>1</td>\n",
       "      <td>Central</td>\n",
       "      <td>155</td>\n",
       "      <td>2</td>\n",
       "      <td>845</td>\n",
       "      <td>SEX OFFENDER REGISTRANT OUT OF COMPLIANCE</td>\n",
       "      <td>...</td>\n",
       "      <td>34.0448</td>\n",
       "      <td>-118.2474</td>\n",
       "      <td>m</td>\n",
       "      <td>S</td>\n",
       "      <td>0</td>\n",
       "      <td>middle</td>\n",
       "      <td>35-60</td>\n",
       "      <td>T</td>\n",
       "      <td>Higher education</td>\n",
       "      <td>Heroin</td>\n",
       "    </tr>\n",
       "    <tr>\n",
       "      <th>3</th>\n",
       "      <td>191501505</td>\n",
       "      <td>01/01/2020 12:00:00 AM</td>\n",
       "      <td>01/01/2020 12:00:00 AM</td>\n",
       "      <td>1730</td>\n",
       "      <td>15</td>\n",
       "      <td>N Hollywood</td>\n",
       "      <td>1543</td>\n",
       "      <td>2</td>\n",
       "      <td>745</td>\n",
       "      <td>VANDALISM - MISDEAMEANOR ($399 OR UNDER)</td>\n",
       "      <td>...</td>\n",
       "      <td>34.1685</td>\n",
       "      <td>-118.4019</td>\n",
       "      <td>m</td>\n",
       "      <td>B</td>\n",
       "      <td>0</td>\n",
       "      <td>middle</td>\n",
       "      <td>0-18</td>\n",
       "      <td>F</td>\n",
       "      <td>middle</td>\n",
       "      <td>Benzodiazepines</td>\n",
       "    </tr>\n",
       "    <tr>\n",
       "      <th>4</th>\n",
       "      <td>191921269</td>\n",
       "      <td>01/01/2020 12:00:00 AM</td>\n",
       "      <td>01/01/2020 12:00:00 AM</td>\n",
       "      <td>415</td>\n",
       "      <td>19</td>\n",
       "      <td>Mission</td>\n",
       "      <td>1998</td>\n",
       "      <td>2</td>\n",
       "      <td>740</td>\n",
       "      <td>VANDALISM - FELONY ($400 &amp; OVER, ALL CHURCH VA...</td>\n",
       "      <td>...</td>\n",
       "      <td>34.2198</td>\n",
       "      <td>-118.4468</td>\n",
       "      <td>m</td>\n",
       "      <td>A</td>\n",
       "      <td>2</td>\n",
       "      <td>middle</td>\n",
       "      <td>18-35</td>\n",
       "      <td>F</td>\n",
       "      <td>middle</td>\n",
       "      <td>Alcohol</td>\n",
       "    </tr>\n",
       "  </tbody>\n",
       "</table>\n",
       "<p>5 rows × 36 columns</p>\n",
       "</div>"
      ],
      "text/plain": [
       "       DR_NO               Date Rptd                DATE OCC  TIME OCC  AREA  \\\n",
       "0   10304468  01/08/2020 12:00:00 AM  01/08/2020 12:00:00 AM      2230     3   \n",
       "1  190101086  01/02/2020 12:00:00 AM  01/01/2020 12:00:00 AM       330     1   \n",
       "2  200110444  04/14/2020 12:00:00 AM  02/13/2020 12:00:00 AM      1200     1   \n",
       "3  191501505  01/01/2020 12:00:00 AM  01/01/2020 12:00:00 AM      1730    15   \n",
       "4  191921269  01/01/2020 12:00:00 AM  01/01/2020 12:00:00 AM       415    19   \n",
       "\n",
       "     AREA NAME  Rpt Dist No  Part 1-2  Crm Cd  \\\n",
       "0    Southwest          377         2     624   \n",
       "1      Central          163         2     624   \n",
       "2      Central          155         2     845   \n",
       "3  N Hollywood         1543         2     745   \n",
       "4      Mission         1998         2     740   \n",
       "\n",
       "                                         Crm Cd Desc  ...      LAT       LON  \\\n",
       "0                           BATTERY - SIMPLE ASSAULT  ...  34.0141 -118.2978   \n",
       "1                           BATTERY - SIMPLE ASSAULT  ...  34.0459 -118.2545   \n",
       "2          SEX OFFENDER REGISTRANT OUT OF COMPLIANCE  ...  34.0448 -118.2474   \n",
       "3           VANDALISM - MISDEAMEANOR ($399 OR UNDER)  ...  34.1685 -118.4019   \n",
       "4  VANDALISM - FELONY ($400 & OVER, ALL CHURCH VA...  ...  34.2198 -118.4468   \n",
       "\n",
       "  gender of criminal country of criminal  kill count  \\\n",
       "0                  x                   H           0   \n",
       "1                  m                   F           0   \n",
       "2                  m                   S           0   \n",
       "3                  m                   B           0   \n",
       "4                  m                   A           2   \n",
       "\n",
       "  marital status of criminal   age of criminal previously punished  \\\n",
       "0                     primary            35-60                   T   \n",
       "1                      middle            35-60                   F   \n",
       "2                      middle            35-60                   T   \n",
       "3                      middle             0-18                   F   \n",
       "4                      middle            18-35                   F   \n",
       "\n",
       "   education levels       drug substances  \n",
       "0           primary  Prescription opioids  \n",
       "1         secondary  Cannabis (Marijuana)  \n",
       "2  Higher education                Heroin  \n",
       "3            middle       Benzodiazepines  \n",
       "4            middle               Alcohol  \n",
       "\n",
       "[5 rows x 36 columns]"
      ]
     },
     "execution_count": 90,
     "metadata": {},
     "output_type": "execute_result"
    }
   ],
   "source": [
    "a.head()"
   ]
  },
  {
   "cell_type": "code",
   "execution_count": null,
   "metadata": {},
   "outputs": [
    {
     "data": {
      "text/plain": [
       "Index(['DR_NO', 'Date Rptd', 'DATE OCC', 'TIME OCC', 'AREA', 'AREA NAME',\n",
       "       'Rpt Dist No', 'Part 1-2', 'Crm Cd', 'Crm Cd Desc', 'Mocodes',\n",
       "       'Vict Age', 'Vict Sex', 'Vict Descent', 'Premis Cd', 'Premis Desc',\n",
       "       'Weapon Used Cd', 'Weapon Desc', 'Status', 'Status Desc', 'Crm Cd 1',\n",
       "       'Crm Cd 2', 'Crm Cd 3', 'Crm Cd 4', 'LOCATION', 'Cross Street', 'LAT',\n",
       "       'LON', 'gender of criminal', 'country of criminal', 'kill count',\n",
       "       'marital status of criminal ', 'age of criminal', 'previously punished',\n",
       "       'education levels', 'drug substances'],\n",
       "      dtype='object')"
      ]
     },
     "execution_count": 92,
     "metadata": {},
     "output_type": "execute_result"
    }
   ],
   "source": [
    "a.columns"
   ]
  },
  {
   "cell_type": "code",
   "execution_count": null,
   "metadata": {},
   "outputs": [],
   "source": [
    "a.to_csv('LA_crimes_generate_data.csv')"
   ]
  }
 ],
 "metadata": {
  "kernelspec": {
   "display_name": "Python 3 (ipykernel)",
   "language": "python",
   "name": "python3"
  },
  "language_info": {
   "codemirror_mode": {
    "name": "ipython",
    "version": 3
   },
   "file_extension": ".py",
   "mimetype": "text/x-python",
   "name": "python",
   "nbconvert_exporter": "python",
   "pygments_lexer": "ipython3",
   "version": "3.11.6"
  }
 },
 "nbformat": 4,
 "nbformat_minor": 4
}
