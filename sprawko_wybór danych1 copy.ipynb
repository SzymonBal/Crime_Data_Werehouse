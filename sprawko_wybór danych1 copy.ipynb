{
 "cells": [
  {
   "cell_type": "markdown",
   "id": "a03cdc99-0e28-4980-a474-1124bd8e136a",
   "metadata": {},
   "source": [
    "# 1. Wybór źródła danych"
   ]
  },
  {
   "cell_type": "markdown",
   "id": "5c24d2c4-a273-4c15-967f-cc3762f55c54",
   "metadata": {},
   "source": [
    "## Opis ramki danych"
   ]
  },
  {
   "cell_type": "markdown",
   "id": "48440caa-a476-452a-b55a-ca141690917c",
   "metadata": {},
   "source": [
    "Odnaleźliśmy fascynującą ramkę danych na platformie Kaggle dotyczącą przestępczości w Los Angeles. Ta zbiór danych zapewnia wgląd w różnorodne aspekty przestępczości, takie jak rodzaj przestępstwa, lokalizacja, data i godzina, oraz wiele innych istotnych informacji. Analiza tych danych może być niezwykle wartościowa dla wielu dziedzin, w tym dla działań policyjnych, analiz kryminalnych, oraz badań społecznych.\n"
   ]
  },
  {
   "cell_type": "markdown",
   "id": "59c1cf60-f9a0-46e4-b89f-d2c0d71329ff",
   "metadata": {},
   "source": [
    "Link ze źródłem do ranych: [Los Angeles Crime Data 2020-2023](https://www.kaggle.com/datasets/venkatsairo4899/los-angeles-crime-data-2020-2023)\n"
   ]
  },
  {
   "cell_type": "markdown",
   "id": "5a412a6a-b742-4720-be52-e5897362f8db",
   "metadata": {},
   "source": [
    "Wypisanie kolumn wazartych w ramce danych"
   ]
  },
  {
   "cell_type": "markdown",
   "id": "bde15dcf-5015-423a-95fb-8a9f74197749",
   "metadata": {},
   "source": [
    "* **DR_NO**: Numer identyfikacyjny przypadku.\n",
    "* **Date Rptd**: Data zgłoszenia.\n",
    "* **DATE OCC**: Data zdarzenia.\n",
    "* **TIME OCC**: Godzina zdarzenia (format: hhmm).\n",
    "* **AREA**: Obszar przestępstwa.\n",
    "* **AREA NAME**: Nazwa obszaru.\n",
    "* **Rpt Dist No**: Numer dystryktu incydentu.\n",
    "* **Part 1-2 Crm Cd**: Kod policyjny przestępstwa.\n",
    "* **Crm Cd Desc**: Opis przestępstwa.\n",
    "* **Mocodes**: Kody MO (metody operacyjne) - kategorie związane z modusem operandi.\n",
    "* **Vict Age**: Wiek ofiary.\n",
    "* **Vict Sex**: Płeć ofiary.\n",
    "* **Vict Descent**: Pochodzenie ofiary.\n",
    "* **Premis Cd**: Kod miejsca zdarzenia.\n",
    "* **Premis Desc**: Opis miejsca zdarzenia.\n",
    "* **Weapon Used Cd**: Kod użytej broni.\n",
    "* **Weapon Desc**: Opis użytej broni.\n",
    "* **Status**: Status.\n",
    "* **Status Desc**: Opis statusu.\n",
    "* **Crm Cd 1, Crm Cd 2, Crm Cd 3, Crm Cd 4**: Dodatkowe kody przestępstw.\n",
    "* **LOCATION**: Lokalizacja zdarzenia.\n",
    "* **Cross Street**: Przecznica.\n",
    "* **LAT**: Szerokość geograficzna.\n",
    "* **LON**: Długość geograficzna.\n",
    "* **Label Count**: Liczba etykiet.\n"
   ]
  },
  {
   "cell_type": "markdown",
   "id": "3d99f9b6-52d1-4165-935e-40f84dbed2a7",
   "metadata": {},
   "source": [
    "## Generowanie następujących kolumn w celu dodania ich do ramki danych\n",
    "* **gender of criminal**: Płeć sprawcy przestępstwa.\n",
    "*- **country of criminal**: Narodowość sprawcy przestępstwa.*\n",
    "- **kill count**: Liczba ofiar zabitych przez sprawcę*\n",
    "- **marital status of criminal**: Stan cywilny sprawcy przestępstw*.\n",
    "- **age of criminal**: Wiek sprawcy przestępst*a.\n",
    "- **previously punished**: Informacja czy sprawca był wcześniej kar*ny.\n",
    "- **education levels**: Poziom wykształcenia sprawcy przestęp*twa.\n",
    "- **drug substances**: Substancje narkotyczne związane ze sprawcą przestę*stwa.\n",
    "- **annual earnings**: Roczne zarobki sprawcy przestępstwa.\n",
    "cy przestępstwa.\n",
    ".head(10))\n"
   ]
  },
  {
   "cell_type": "markdown",
   "id": "28c374c4-2419-4f98-89a5-4aa1f0c428e3",
   "metadata": {},
   "source": [
    "## Wypisanie zawartosci ramki danych z dodanymi kolumnami"
   ]
  },
  {
   "cell_type": "code",
   "execution_count": 62,
   "id": "de5dd371-6475-4d4f-8da4-70d5d3ff416d",
   "metadata": {},
   "outputs": [
    {
     "name": "stdout",
     "output_type": "stream",
     "text": [
      "Nazwy kolumn:\n",
      "Index(['Unnamed: 0', 'DR_NO', 'Date Rptd', 'DATE OCC', 'TIME OCC', 'AREA',\n",
      "       'AREA NAME', 'Rpt Dist No', 'Part 1-2', 'Crm Cd', 'Crm Cd Desc',\n",
      "       'Mocodes', 'Vict Age', 'Vict Sex', 'Vict Descent', 'Premis Cd',\n",
      "       'Premis Desc', 'Weapon Used Cd', 'Weapon Desc', 'Status', 'Status Desc',\n",
      "       'Crm Cd 1', 'Crm Cd 2', 'Crm Cd 3', 'Crm Cd 4', 'LOCATION',\n",
      "       'Cross Street', 'LAT', 'LON', 'gender of criminal',\n",
      "       'country of criminal', 'kill count', 'marital status of criminal ',\n",
      "       'age of criminal', 'previously punished', 'education levels',\n",
      "       'drug substances', 'annual earnings'],\n",
      "      dtype='object')\n",
      "\n",
      "10 pierwszych wierszy:\n",
      "   Unnamed: 0      DR_NO               Date Rptd                DATE OCC  \\\n",
      "0           0   10304468  01/08/2020 12:00:00 AM  01/08/2020 12:00:00 AM   \n",
      "1           1  190101086  01/02/2020 12:00:00 AM  01/01/2020 12:00:00 AM   \n",
      "2           2  200110444  04/14/2020 12:00:00 AM  02/13/2020 12:00:00 AM   \n",
      "3           3  191501505  01/01/2020 12:00:00 AM  01/01/2020 12:00:00 AM   \n",
      "4           4  191921269  01/01/2020 12:00:00 AM  01/01/2020 12:00:00 AM   \n",
      "5           5  200100501  01/02/2020 12:00:00 AM  01/01/2020 12:00:00 AM   \n",
      "6           6  200100502  01/02/2020 12:00:00 AM  01/02/2020 12:00:00 AM   \n",
      "7           7  200100504  01/04/2020 12:00:00 AM  01/04/2020 12:00:00 AM   \n",
      "8           8  200100507  01/04/2020 12:00:00 AM  01/04/2020 12:00:00 AM   \n",
      "9           9  201710201  06/19/2020 12:00:00 AM  05/26/2020 12:00:00 AM   \n",
      "\n",
      "   TIME OCC  AREA    AREA NAME  Rpt Dist No  Part 1-2  Crm Cd  ...       LON  \\\n",
      "0      2230     3    Southwest          377         2     624  ... -118.2978   \n",
      "1       330     1      Central          163         2     624  ... -118.2545   \n",
      "2      1200     1      Central          155         2     845  ... -118.2474   \n",
      "3      1730    15  N Hollywood         1543         2     745  ... -118.4019   \n",
      "4       415    19      Mission         1998         2     740  ... -118.4468   \n",
      "5        30     1      Central          163         1     121  ... -118.2534   \n",
      "6      1315     1      Central          161         1     442  ... -118.2631   \n",
      "7        40     1      Central          155         2     946  ... -118.2474   \n",
      "8       200     1      Central          101         1     341  ... -118.2398   \n",
      "9      1925    17   Devonshire         1708         1     341  ... -118.5021   \n",
      "\n",
      "  gender of criminal  country of criminal kill count  \\\n",
      "0                  m                    F          0   \n",
      "1                  x                    H          0   \n",
      "2                  m                    H          4   \n",
      "3                  m                    I          0   \n",
      "4                  m                    B          0   \n",
      "5                  m                    O          0   \n",
      "6                  m                    B          0   \n",
      "7                  m                    H          3   \n",
      "8                  f                    B          0   \n",
      "9                  m                    W          0   \n",
      "\n",
      "  marital status of criminal   age of criminal previously punished  \\\n",
      "0                    Divorced             0-18                   T   \n",
      "1                     Singiel            18-35                   T   \n",
      "2                    Divorced            18-35                   F   \n",
      "3                     Singiel            35-60                   F   \n",
      "4                     Singiel            35-60                   T   \n",
      "5                     Singiel            35-60                   T   \n",
      "6                    Divorced            18-35                   T   \n",
      "7                     Married            35-60                   T   \n",
      "8                    Divorced            35-60                   F   \n",
      "9                     Singiel            35-60                   F   \n",
      "\n",
      "   education levels       drug substances annual earnings  \n",
      "0           primary               Alcohol          118908  \n",
      "1  Higher education  Cannabis (Marijuana)          122012  \n",
      "2            middle               Alcohol          127874  \n",
      "3           primary  Cannabis (Marijuana)          125196  \n",
      "4            middle               Alcohol           72892  \n",
      "5         secondary            Stimulants           54626  \n",
      "6           primary  Cannabis (Marijuana)          147006  \n",
      "7         secondary               Alcohol          121990  \n",
      "8  Higher education  Prescription opioids           92862  \n",
      "9           primary               Alcohol          129034  \n",
      "\n",
      "[10 rows x 38 columns]\n"
     ]
    }
   ],
   "source": [
    "import pandas as pd\n",
    "\n",
    "# Wczytaj część pliku CSV\n",
    "data = pd.read_csv('LA_crimes_generate_data.csv', nrows=10)\n",
    "\n",
    "# Wypisz nazwy kolumn\n",
    "print(\"Nazwy kolumn:\")\n",
    "print(data.columns)\n",
    "\n",
    "# Wypisz 10 pierwszych wierszy\n",
    "print(\"\\n10 pierwszych wierszy:\")\n",
    "print(data.head(10))\n"
   ]
  }
 ],
 "metadata": {
  "kernelspec": {
   "display_name": "Python 3 (ipykernel)",
   "language": "python",
   "name": "python3"
  }
 },
 "nbformat": 4,
 "nbformat_minor": 5
}
