{
 "cells": [
  {
   "cell_type": "code",
   "execution_count": 1,
   "metadata": {},
   "outputs": [
    {
     "ename": "ImportError",
     "evalue": "PyArrow >= 4.0.0 must be installed; however, it was not found.",
     "output_type": "error",
     "traceback": [
      "\u001b[1;31m---------------------------------------------------------------------------\u001b[0m",
      "\u001b[1;31mModuleNotFoundError\u001b[0m                       Traceback (most recent call last)",
      "File \u001b[1;32mc:\\Users\\micha\\Desktop\\WAD\\Wielowymiarowa_analiza_danych\\env\\Lib\\site-packages\\pyspark\\sql\\pandas\\utils.py:53\u001b[0m, in \u001b[0;36mrequire_minimum_pyarrow_version\u001b[1;34m()\u001b[0m\n\u001b[0;32m     52\u001b[0m \u001b[38;5;28;01mtry\u001b[39;00m:\n\u001b[1;32m---> 53\u001b[0m     \u001b[38;5;28;01mimport\u001b[39;00m \u001b[38;5;21;01mpyarrow\u001b[39;00m\n\u001b[0;32m     55\u001b[0m     have_arrow \u001b[38;5;241m=\u001b[39m \u001b[38;5;28;01mTrue\u001b[39;00m\n",
      "\u001b[1;31mModuleNotFoundError\u001b[0m: No module named 'pyarrow'",
      "\nThe above exception was the direct cause of the following exception:\n",
      "\u001b[1;31mImportError\u001b[0m                               Traceback (most recent call last)",
      "Cell \u001b[1;32mIn[1], line 4\u001b[0m\n\u001b[0;32m      2\u001b[0m \u001b[38;5;28;01mfrom\u001b[39;00m \u001b[38;5;21;01mpyspark\u001b[39;00m\u001b[38;5;21;01m.\u001b[39;00m\u001b[38;5;21;01msql\u001b[39;00m \u001b[38;5;28;01mimport\u001b[39;00m SparkSession\n\u001b[0;32m      3\u001b[0m \u001b[38;5;28;01mfrom\u001b[39;00m \u001b[38;5;21;01mpyspark\u001b[39;00m\u001b[38;5;21;01m.\u001b[39;00m\u001b[38;5;21;01msql\u001b[39;00m\u001b[38;5;21;01m.\u001b[39;00m\u001b[38;5;21;01mfunctions\u001b[39;00m \u001b[38;5;28;01mimport\u001b[39;00m \u001b[38;5;241m*\u001b[39m\n\u001b[1;32m----> 4\u001b[0m \u001b[38;5;28;01mimport\u001b[39;00m \u001b[38;5;21;01mpyspark\u001b[39;00m\u001b[38;5;21;01m.\u001b[39;00m\u001b[38;5;21;01mpandas\u001b[39;00m \u001b[38;5;28;01mas\u001b[39;00m \u001b[38;5;21;01mps\u001b[39;00m\n\u001b[0;32m      6\u001b[0m \u001b[38;5;28;01mtry\u001b[39;00m:\n\u001b[0;32m      7\u001b[0m     \u001b[38;5;66;03m# Tworzenie sesji Spark\u001b[39;00m\n\u001b[0;32m      8\u001b[0m     spark \u001b[38;5;241m=\u001b[39m SparkSession\u001b[38;5;241m.\u001b[39mbuilder \\\n\u001b[0;32m      9\u001b[0m         \u001b[38;5;241m.\u001b[39mappName(\u001b[38;5;124m\"\u001b[39m\u001b[38;5;124mPySpark SQL Server Connection\u001b[39m\u001b[38;5;124m\"\u001b[39m) \\\n\u001b[0;32m     10\u001b[0m         \u001b[38;5;241m.\u001b[39mconfig(\u001b[38;5;124m\"\u001b[39m\u001b[38;5;124mspark.jars\u001b[39m\u001b[38;5;124m\"\u001b[39m, \u001b[38;5;124m\"\u001b[39m\u001b[38;5;124mC:\u001b[39m\u001b[38;5;130;01m\\\\\u001b[39;00m\u001b[38;5;124mProjekty\u001b[39m\u001b[38;5;130;01m\\\\\u001b[39;00m\u001b[38;5;124mWielowymiarowa\u001b[39m\u001b[38;5;130;01m\\\\\u001b[39;00m\u001b[38;5;124mWielowymiarowa_analiza_danych\u001b[39m\u001b[38;5;130;01m\\\\\u001b[39;00m\u001b[38;5;124msqljdbc_12.6\u001b[39m\u001b[38;5;130;01m\\\\\u001b[39;00m\u001b[38;5;124menu\u001b[39m\u001b[38;5;130;01m\\\\\u001b[39;00m\u001b[38;5;124mjars\u001b[39m\u001b[38;5;130;01m\\\\\u001b[39;00m\u001b[38;5;124mmssql-jdbc-12.6.1.jre8.jar\u001b[39m\u001b[38;5;124m\"\u001b[39m) \\\n\u001b[0;32m     11\u001b[0m         \u001b[38;5;241m.\u001b[39mgetOrCreate()\n",
      "File \u001b[1;32mc:\\Users\\micha\\Desktop\\WAD\\Wielowymiarowa_analiza_danych\\env\\Lib\\site-packages\\pyspark\\pandas\\__init__.py:35\u001b[0m\n\u001b[0;32m     33\u001b[0m \u001b[38;5;28;01mtry\u001b[39;00m:\n\u001b[0;32m     34\u001b[0m     require_minimum_pandas_version()\n\u001b[1;32m---> 35\u001b[0m     \u001b[43mrequire_minimum_pyarrow_version\u001b[49m\u001b[43m(\u001b[49m\u001b[43m)\u001b[49m\n\u001b[0;32m     36\u001b[0m \u001b[38;5;28;01mexcept\u001b[39;00m \u001b[38;5;167;01mImportError\u001b[39;00m \u001b[38;5;28;01mas\u001b[39;00m e:\n\u001b[0;32m     37\u001b[0m     \u001b[38;5;28;01mif\u001b[39;00m os\u001b[38;5;241m.\u001b[39menviron\u001b[38;5;241m.\u001b[39mget(\u001b[38;5;124m\"\u001b[39m\u001b[38;5;124mSPARK_TESTING\u001b[39m\u001b[38;5;124m\"\u001b[39m):\n",
      "File \u001b[1;32mc:\\Users\\micha\\Desktop\\WAD\\Wielowymiarowa_analiza_danych\\env\\Lib\\site-packages\\pyspark\\sql\\pandas\\utils.py:60\u001b[0m, in \u001b[0;36mrequire_minimum_pyarrow_version\u001b[1;34m()\u001b[0m\n\u001b[0;32m     58\u001b[0m     raised_error \u001b[38;5;241m=\u001b[39m error\n\u001b[0;32m     59\u001b[0m \u001b[38;5;28;01mif\u001b[39;00m \u001b[38;5;129;01mnot\u001b[39;00m have_arrow:\n\u001b[1;32m---> 60\u001b[0m     \u001b[38;5;28;01mraise\u001b[39;00m \u001b[38;5;167;01mImportError\u001b[39;00m(\n\u001b[0;32m     61\u001b[0m         \u001b[38;5;124m\"\u001b[39m\u001b[38;5;124mPyArrow >= \u001b[39m\u001b[38;5;132;01m%s\u001b[39;00m\u001b[38;5;124m must be installed; however, \u001b[39m\u001b[38;5;124m\"\u001b[39m\n\u001b[0;32m     62\u001b[0m         \u001b[38;5;124m\"\u001b[39m\u001b[38;5;124mit was not found.\u001b[39m\u001b[38;5;124m\"\u001b[39m \u001b[38;5;241m%\u001b[39m minimum_pyarrow_version\n\u001b[0;32m     63\u001b[0m     ) \u001b[38;5;28;01mfrom\u001b[39;00m \u001b[38;5;21;01mraised_error\u001b[39;00m\n\u001b[0;32m     64\u001b[0m \u001b[38;5;28;01mif\u001b[39;00m LooseVersion(pyarrow\u001b[38;5;241m.\u001b[39m__version__) \u001b[38;5;241m<\u001b[39m LooseVersion(minimum_pyarrow_version):\n\u001b[0;32m     65\u001b[0m     \u001b[38;5;28;01mraise\u001b[39;00m \u001b[38;5;167;01mImportError\u001b[39;00m(\n\u001b[0;32m     66\u001b[0m         \u001b[38;5;124m\"\u001b[39m\u001b[38;5;124mPyArrow >= \u001b[39m\u001b[38;5;132;01m%s\u001b[39;00m\u001b[38;5;124m must be installed; however, \u001b[39m\u001b[38;5;124m\"\u001b[39m\n\u001b[0;32m     67\u001b[0m         \u001b[38;5;124m\"\u001b[39m\u001b[38;5;124myour version was \u001b[39m\u001b[38;5;132;01m%s\u001b[39;00m\u001b[38;5;124m.\u001b[39m\u001b[38;5;124m\"\u001b[39m \u001b[38;5;241m%\u001b[39m (minimum_pyarrow_version, pyarrow\u001b[38;5;241m.\u001b[39m__version__)\n\u001b[0;32m     68\u001b[0m     )\n",
      "\u001b[1;31mImportError\u001b[0m: PyArrow >= 4.0.0 must be installed; however, it was not found."
     ]
    }
   ],
   "source": [
    "from pyspark.sql import SparkSession, Row\n",
    "from pyspark.sql import SparkSession\n",
    "from pyspark.sql.functions import *\n",
    "import pyspark.pandas as ps\n",
    "\n",
    "try:\n",
    "    # Tworzenie sesji Spark\n",
    "    spark = SparkSession.builder \\\n",
    "        .appName(\"PySpark SQL Server Connection\") \\\n",
    "        .config(\"spark.jars\", \"C:\\\\Projekty\\\\Wielowymiarowa\\\\Wielowymiarowa_analiza_danych\\\\sqljdbc_12.6\\\\enu\\\\jars\\\\mssql-jdbc-12.6.1.jre8.jar\") \\\n",
    "        .getOrCreate()\n",
    "\n",
    "    # Parametry połączenia z bazą danych MSSQL\n",
    "    server_name = \"localhost\"\n",
    "    port = \"1433\"\n",
    "    database_name = \"After_ETL\"\n",
    "    url = f\"jdbc:sqlserver://{server_name}:{port};databaseName={database_name}\"\n",
    "\n",
    "    table_name = \"Clean_table1\"\n",
    "    username = \"sa\"\n",
    "    password = \"YourStrongPassword123\"\n",
    "\n",
    "    # Wczytanie danych z bazy danych MSSQL\n",
    "    df = spark.read \\\n",
    "        .format(\"jdbc\") \\\n",
    "        .option(\"url\", url) \\\n",
    "        .option(\"dbtable\", table_name) \\\n",
    "        .option(\"user\", username) \\\n",
    "        .option(\"password\", password) \\\n",
    "        .option(\"encrypt\", \"false\") \\\n",
    "        .option(\"driver\", \"com.microsoft.sqlserver.jdbc.SQLServerDriver\") \\\n",
    "        .load()\n",
    "\n",
    "    print(\"Dane zostały pomyślnie wczytane z MSSQL.\")\n",
    "    # Wyświetlenie pierwszych kilku wierszy DataFrame\n",
    "    df.show()\n",
    "\n",
    "except Exception as e:\n",
    "    print(\"Wystąpił błąd podczas łączenia z bazą danych:\", str(e))"
   ]
  },
  {
   "cell_type": "code",
   "execution_count": 2,
   "metadata": {},
   "outputs": [
    {
     "name": "stdout",
     "output_type": "stream",
     "text": [
      "+---------------+\n",
      "|Vict Age bucket|\n",
      "+---------------+\n",
      "|         60-120|\n",
      "|          18-35|\n",
      "|          35-60|\n",
      "|           0-18|\n",
      "+---------------+\n",
      "\n",
      "+------------------+\n",
      "|      Vict descent|\n",
      "+------------------+\n",
      "|Hispanic or Latino|\n",
      "|           Unknown|\n",
      "|             Other|\n",
      "|             White|\n",
      "|             Black|\n",
      "|             Asian|\n",
      "|              NULL|\n",
      "+------------------+\n",
      "\n",
      "+--------+\n",
      "|Vict sex|\n",
      "+--------+\n",
      "|X-gender|\n",
      "|  Female|\n",
      "|    Male|\n",
      "+--------+\n",
      "\n",
      "+--------------------+\n",
      "|         Premis Desc|\n",
      "+--------------------+\n",
      "|            BUS STOP|\n",
      "|      MASSAGE PARLOR|\n",
      "|          RIVER BED*|\n",
      "|MTA - BLUE LINE -...|\n",
      "|             MOSQUE*|\n",
      "|               MOTEL|\n",
      "|MTA - SILVER LINE...|\n",
      "|OPTICAL OFFICE IN...|\n",
      "|            SIDEWALK|\n",
      "|    SYNAGOGUE/TEMPLE|\n",
      "|APARTMENT/CONDO C...|\n",
      "|          STAIRWELL*|\n",
      "|CULTURAL SIGNIFIC...|\n",
      "|            CAR WASH|\n",
      "|           THE GROVE|\n",
      "|MTA - PURPLE LINE...|\n",
      "|RETIRED (DUPLICAT...|\n",
      "|        GOLF COURSE*|\n",
      "|      OTHER BUSINESS|\n",
      "|        TOBACCO SHOP|\n",
      "+--------------------+\n",
      "only showing top 20 rows\n",
      "\n"
     ]
    }
   ],
   "source": [
    "df.select(\"Vict Age bucket\").distinct().show()\n",
    "df.select(\"Vict descent\").distinct().show()\n",
    "df.select(\"Vict sex\").distinct().show()\n",
    "df.select(\"Premis Desc\").distinct().show()"
   ]
  },
  {
   "cell_type": "code",
   "execution_count": 3,
   "metadata": {},
   "outputs": [],
   "source": [
    "df = df.dropna(subset=['Vict descent'])"
   ]
  },
  {
   "cell_type": "code",
   "execution_count": 4,
   "metadata": {},
   "outputs": [
    {
     "name": "stdout",
     "output_type": "stream",
     "text": [
      "+---------------+------------------+--------+-----+\n",
      "|Vict Age bucket|      Vict descent|Vict sex|count|\n",
      "+---------------+------------------+--------+-----+\n",
      "|           0-18|           Unknown|  Female|   40|\n",
      "|          35-60|             Black|X-gender|    3|\n",
      "|          18-35|           Unknown|X-gender|  553|\n",
      "|          35-60|             Other|  Female| 1187|\n",
      "|         60-120|             Asian|  Female|  147|\n",
      "|           0-18|             Black|    Male|  248|\n",
      "|         60-120|           Unknown|    Male|   18|\n",
      "|          18-35|             Black|  Female| 2642|\n",
      "|          18-35|             Black|X-gender|   11|\n",
      "|          35-60|             Asian|    Male|  360|\n",
      "|          18-35|             Asian|    Male|  316|\n",
      "|         60-120|           Unknown|  Female|   10|\n",
      "|          35-60|             White|X-gender|    6|\n",
      "|          35-60|Hispanic or Latino|    Male| 5079|\n",
      "|          35-60|             Other|    Male| 1615|\n",
      "|         60-120|             Other|    Male|  565|\n",
      "|          18-35|Hispanic or Latino|    Male| 4790|\n",
      "|          35-60|Hispanic or Latino|  Female| 4650|\n",
      "|           0-18|             Asian|    Male|   34|\n",
      "|          18-35|             Black|    Male| 1782|\n",
      "+---------------+------------------+--------+-----+\n",
      "only showing top 20 rows\n",
      "\n"
     ]
    }
   ],
   "source": [
    "vict_age_values = df.select('Vict Age bucket').distinct().collect()\n",
    "vict_age_values = [row['Vict Age bucket'] for row in vict_age_values]\n",
    "\n",
    "vict_descent_values = df.select('Vict descent').distinct().collect()\n",
    "vict_descent_values = [row['Vict descent'] for row in vict_descent_values]\n",
    "\n",
    "vict_sex_values = df.select('Vict sex').distinct().collect()\n",
    "vict_sex_values = [row['Vict sex'] for row in vict_sex_values]\n",
    "\n",
    "combined_df = df.groupBy('Vict Age bucket', 'Vict descent', 'Vict sex').agg(count('*').alias('count'))\n",
    "combined_df.show()"
   ]
  },
  {
   "cell_type": "code",
   "execution_count": 11,
   "metadata": {},
   "outputs": [
    {
     "data": {
      "application/vnd.plotly.v1+json": {
       "config": {
        "plotlyServerURL": "https://plot.ly"
       },
       "data": [
        {
         "branchvalues": "total",
         "domain": {
          "x": [
           0,
           1
          ],
          "y": [
           0,
           1
          ]
         },
         "hovertemplate": "labels=%{label}<br>count=%{value}<br>parent=%{parent}<br>id=%{id}<extra></extra>",
         "ids": [
          "0-18/Asian/Female",
          "18-35/Asian/Female",
          "35-60/Asian/Female",
          "60-120/Asian/Female",
          "0-18/Black/Female",
          "18-35/Black/Female",
          "35-60/Black/Female",
          "60-120/Black/Female",
          "0-18/Hispanic or Latino/Female",
          "18-35/Hispanic or Latino/Female",
          "35-60/Hispanic or Latino/Female",
          "60-120/Hispanic or Latino/Female",
          "0-18/Other/Female",
          "18-35/Other/Female",
          "35-60/Other/Female",
          "60-120/Other/Female",
          "0-18/Unknown/Female",
          "18-35/Unknown/Female",
          "35-60/Unknown/Female",
          "60-120/Unknown/Female",
          "0-18/White/Female",
          "18-35/White/Female",
          "35-60/White/Female",
          "60-120/White/Female",
          "0-18/Asian/Male",
          "18-35/Asian/Male",
          "35-60/Asian/Male",
          "60-120/Asian/Male",
          "0-18/Black/Male",
          "18-35/Black/Male",
          "35-60/Black/Male",
          "60-120/Black/Male",
          "0-18/Hispanic or Latino/Male",
          "18-35/Hispanic or Latino/Male",
          "35-60/Hispanic or Latino/Male",
          "60-120/Hispanic or Latino/Male",
          "0-18/Other/Male",
          "18-35/Other/Male",
          "35-60/Other/Male",
          "60-120/Other/Male",
          "0-18/Unknown/Male",
          "18-35/Unknown/Male",
          "35-60/Unknown/Male",
          "60-120/Unknown/Male",
          "0-18/White/Male",
          "18-35/White/Male",
          "35-60/White/Male",
          "60-120/White/Male",
          "18-35/Asian/X-gender",
          "18-35/Black/X-gender",
          "35-60/Black/X-gender",
          "18-35/Hispanic or Latino/X-gender",
          "35-60/Hispanic or Latino/X-gender",
          "18-35/Other/X-gender",
          "35-60/Other/X-gender",
          "0-18/Unknown/X-gender",
          "18-35/Unknown/X-gender",
          "35-60/Unknown/X-gender",
          "60-120/Unknown/X-gender",
          "18-35/White/X-gender",
          "35-60/White/X-gender",
          "0-18/Asian",
          "18-35/Asian",
          "35-60/Asian",
          "60-120/Asian",
          "0-18/Black",
          "18-35/Black",
          "35-60/Black",
          "60-120/Black",
          "0-18/Hispanic or Latino",
          "18-35/Hispanic or Latino",
          "35-60/Hispanic or Latino",
          "60-120/Hispanic or Latino",
          "0-18/Other",
          "18-35/Other",
          "35-60/Other",
          "60-120/Other",
          "0-18/Unknown",
          "18-35/Unknown",
          "35-60/Unknown",
          "60-120/Unknown",
          "0-18/White",
          "18-35/White",
          "35-60/White",
          "60-120/White",
          "0-18",
          "18-35",
          "35-60",
          "60-120"
         ],
         "labels": [
          "Female",
          "Female",
          "Female",
          "Female",
          "Female",
          "Female",
          "Female",
          "Female",
          "Female",
          "Female",
          "Female",
          "Female",
          "Female",
          "Female",
          "Female",
          "Female",
          "Female",
          "Female",
          "Female",
          "Female",
          "Female",
          "Female",
          "Female",
          "Female",
          "Male",
          "Male",
          "Male",
          "Male",
          "Male",
          "Male",
          "Male",
          "Male",
          "Male",
          "Male",
          "Male",
          "Male",
          "Male",
          "Male",
          "Male",
          "Male",
          "Male",
          "Male",
          "Male",
          "Male",
          "Male",
          "Male",
          "Male",
          "Male",
          "X-gender",
          "X-gender",
          "X-gender",
          "X-gender",
          "X-gender",
          "X-gender",
          "X-gender",
          "X-gender",
          "X-gender",
          "X-gender",
          "X-gender",
          "X-gender",
          "X-gender",
          "Asian",
          "Asian",
          "Asian",
          "Asian",
          "Black",
          "Black",
          "Black",
          "Black",
          "Hispanic or Latino",
          "Hispanic or Latino",
          "Hispanic or Latino",
          "Hispanic or Latino",
          "Other",
          "Other",
          "Other",
          "Other",
          "Unknown",
          "Unknown",
          "Unknown",
          "Unknown",
          "White",
          "White",
          "White",
          "White",
          "0-18",
          "18-35",
          "35-60",
          "60-120"
         ],
         "name": "",
         "parents": [
          "0-18/Asian",
          "18-35/Asian",
          "35-60/Asian",
          "60-120/Asian",
          "0-18/Black",
          "18-35/Black",
          "35-60/Black",
          "60-120/Black",
          "0-18/Hispanic or Latino",
          "18-35/Hispanic or Latino",
          "35-60/Hispanic or Latino",
          "60-120/Hispanic or Latino",
          "0-18/Other",
          "18-35/Other",
          "35-60/Other",
          "60-120/Other",
          "0-18/Unknown",
          "18-35/Unknown",
          "35-60/Unknown",
          "60-120/Unknown",
          "0-18/White",
          "18-35/White",
          "35-60/White",
          "60-120/White",
          "0-18/Asian",
          "18-35/Asian",
          "35-60/Asian",
          "60-120/Asian",
          "0-18/Black",
          "18-35/Black",
          "35-60/Black",
          "60-120/Black",
          "0-18/Hispanic or Latino",
          "18-35/Hispanic or Latino",
          "35-60/Hispanic or Latino",
          "60-120/Hispanic or Latino",
          "0-18/Other",
          "18-35/Other",
          "35-60/Other",
          "60-120/Other",
          "0-18/Unknown",
          "18-35/Unknown",
          "35-60/Unknown",
          "60-120/Unknown",
          "0-18/White",
          "18-35/White",
          "35-60/White",
          "60-120/White",
          "18-35/Asian",
          "18-35/Black",
          "35-60/Black",
          "18-35/Hispanic or Latino",
          "35-60/Hispanic or Latino",
          "18-35/Other",
          "35-60/Other",
          "0-18/Unknown",
          "18-35/Unknown",
          "35-60/Unknown",
          "60-120/Unknown",
          "18-35/White",
          "35-60/White",
          "0-18",
          "18-35",
          "35-60",
          "60-120",
          "0-18",
          "18-35",
          "35-60",
          "60-120",
          "0-18",
          "18-35",
          "35-60",
          "60-120",
          "0-18",
          "18-35",
          "35-60",
          "60-120",
          "0-18",
          "18-35",
          "35-60",
          "60-120",
          "0-18",
          "18-35",
          "35-60",
          "60-120",
          "",
          "",
          "",
          ""
         ],
         "textinfo": "label+percent entry",
         "type": "sunburst",
         "values": [
          17,
          310,
          312,
          147,
          270,
          2642,
          2409,
          657,
          870,
          5199,
          4650,
          845,
          80,
          1063,
          1187,
          345,
          40,
          40,
          34,
          10,
          148,
          2452,
          2667,
          1098,
          34,
          316,
          360,
          150,
          248,
          1782,
          2062,
          720,
          819,
          4790,
          5079,
          904,
          974,
          1319,
          1615,
          565,
          169,
          99,
          358,
          18,
          1168,
          2467,
          3922,
          1484,
          2,
          11,
          3,
          7,
          5,
          2,
          1,
          5764,
          553,
          51,
          12,
          11,
          6,
          51,
          628,
          672,
          297,
          518,
          4435,
          4474,
          1377,
          1689,
          9996,
          9734,
          1749,
          1054,
          2384,
          2803,
          910,
          5973,
          692,
          443,
          40,
          1316,
          4930,
          6595,
          2582,
          10601,
          23065,
          24721,
          6955
         ]
        }
       ],
       "layout": {
        "legend": {
         "tracegroupgap": 0
        },
        "margin": {
         "t": 60
        },
        "template": {
         "data": {
          "bar": [
           {
            "error_x": {
             "color": "#2a3f5f"
            },
            "error_y": {
             "color": "#2a3f5f"
            },
            "marker": {
             "line": {
              "color": "#E5ECF6",
              "width": 0.5
             },
             "pattern": {
              "fillmode": "overlay",
              "size": 10,
              "solidity": 0.2
             }
            },
            "type": "bar"
           }
          ],
          "barpolar": [
           {
            "marker": {
             "line": {
              "color": "#E5ECF6",
              "width": 0.5
             },
             "pattern": {
              "fillmode": "overlay",
              "size": 10,
              "solidity": 0.2
             }
            },
            "type": "barpolar"
           }
          ],
          "carpet": [
           {
            "aaxis": {
             "endlinecolor": "#2a3f5f",
             "gridcolor": "white",
             "linecolor": "white",
             "minorgridcolor": "white",
             "startlinecolor": "#2a3f5f"
            },
            "baxis": {
             "endlinecolor": "#2a3f5f",
             "gridcolor": "white",
             "linecolor": "white",
             "minorgridcolor": "white",
             "startlinecolor": "#2a3f5f"
            },
            "type": "carpet"
           }
          ],
          "choropleth": [
           {
            "colorbar": {
             "outlinewidth": 0,
             "ticks": ""
            },
            "type": "choropleth"
           }
          ],
          "contour": [
           {
            "colorbar": {
             "outlinewidth": 0,
             "ticks": ""
            },
            "colorscale": [
             [
              0,
              "#0d0887"
             ],
             [
              0.1111111111111111,
              "#46039f"
             ],
             [
              0.2222222222222222,
              "#7201a8"
             ],
             [
              0.3333333333333333,
              "#9c179e"
             ],
             [
              0.4444444444444444,
              "#bd3786"
             ],
             [
              0.5555555555555556,
              "#d8576b"
             ],
             [
              0.6666666666666666,
              "#ed7953"
             ],
             [
              0.7777777777777778,
              "#fb9f3a"
             ],
             [
              0.8888888888888888,
              "#fdca26"
             ],
             [
              1,
              "#f0f921"
             ]
            ],
            "type": "contour"
           }
          ],
          "contourcarpet": [
           {
            "colorbar": {
             "outlinewidth": 0,
             "ticks": ""
            },
            "type": "contourcarpet"
           }
          ],
          "heatmap": [
           {
            "colorbar": {
             "outlinewidth": 0,
             "ticks": ""
            },
            "colorscale": [
             [
              0,
              "#0d0887"
             ],
             [
              0.1111111111111111,
              "#46039f"
             ],
             [
              0.2222222222222222,
              "#7201a8"
             ],
             [
              0.3333333333333333,
              "#9c179e"
             ],
             [
              0.4444444444444444,
              "#bd3786"
             ],
             [
              0.5555555555555556,
              "#d8576b"
             ],
             [
              0.6666666666666666,
              "#ed7953"
             ],
             [
              0.7777777777777778,
              "#fb9f3a"
             ],
             [
              0.8888888888888888,
              "#fdca26"
             ],
             [
              1,
              "#f0f921"
             ]
            ],
            "type": "heatmap"
           }
          ],
          "heatmapgl": [
           {
            "colorbar": {
             "outlinewidth": 0,
             "ticks": ""
            },
            "colorscale": [
             [
              0,
              "#0d0887"
             ],
             [
              0.1111111111111111,
              "#46039f"
             ],
             [
              0.2222222222222222,
              "#7201a8"
             ],
             [
              0.3333333333333333,
              "#9c179e"
             ],
             [
              0.4444444444444444,
              "#bd3786"
             ],
             [
              0.5555555555555556,
              "#d8576b"
             ],
             [
              0.6666666666666666,
              "#ed7953"
             ],
             [
              0.7777777777777778,
              "#fb9f3a"
             ],
             [
              0.8888888888888888,
              "#fdca26"
             ],
             [
              1,
              "#f0f921"
             ]
            ],
            "type": "heatmapgl"
           }
          ],
          "histogram": [
           {
            "marker": {
             "pattern": {
              "fillmode": "overlay",
              "size": 10,
              "solidity": 0.2
             }
            },
            "type": "histogram"
           }
          ],
          "histogram2d": [
           {
            "colorbar": {
             "outlinewidth": 0,
             "ticks": ""
            },
            "colorscale": [
             [
              0,
              "#0d0887"
             ],
             [
              0.1111111111111111,
              "#46039f"
             ],
             [
              0.2222222222222222,
              "#7201a8"
             ],
             [
              0.3333333333333333,
              "#9c179e"
             ],
             [
              0.4444444444444444,
              "#bd3786"
             ],
             [
              0.5555555555555556,
              "#d8576b"
             ],
             [
              0.6666666666666666,
              "#ed7953"
             ],
             [
              0.7777777777777778,
              "#fb9f3a"
             ],
             [
              0.8888888888888888,
              "#fdca26"
             ],
             [
              1,
              "#f0f921"
             ]
            ],
            "type": "histogram2d"
           }
          ],
          "histogram2dcontour": [
           {
            "colorbar": {
             "outlinewidth": 0,
             "ticks": ""
            },
            "colorscale": [
             [
              0,
              "#0d0887"
             ],
             [
              0.1111111111111111,
              "#46039f"
             ],
             [
              0.2222222222222222,
              "#7201a8"
             ],
             [
              0.3333333333333333,
              "#9c179e"
             ],
             [
              0.4444444444444444,
              "#bd3786"
             ],
             [
              0.5555555555555556,
              "#d8576b"
             ],
             [
              0.6666666666666666,
              "#ed7953"
             ],
             [
              0.7777777777777778,
              "#fb9f3a"
             ],
             [
              0.8888888888888888,
              "#fdca26"
             ],
             [
              1,
              "#f0f921"
             ]
            ],
            "type": "histogram2dcontour"
           }
          ],
          "mesh3d": [
           {
            "colorbar": {
             "outlinewidth": 0,
             "ticks": ""
            },
            "type": "mesh3d"
           }
          ],
          "parcoords": [
           {
            "line": {
             "colorbar": {
              "outlinewidth": 0,
              "ticks": ""
             }
            },
            "type": "parcoords"
           }
          ],
          "pie": [
           {
            "automargin": true,
            "type": "pie"
           }
          ],
          "scatter": [
           {
            "fillpattern": {
             "fillmode": "overlay",
             "size": 10,
             "solidity": 0.2
            },
            "type": "scatter"
           }
          ],
          "scatter3d": [
           {
            "line": {
             "colorbar": {
              "outlinewidth": 0,
              "ticks": ""
             }
            },
            "marker": {
             "colorbar": {
              "outlinewidth": 0,
              "ticks": ""
             }
            },
            "type": "scatter3d"
           }
          ],
          "scattercarpet": [
           {
            "marker": {
             "colorbar": {
              "outlinewidth": 0,
              "ticks": ""
             }
            },
            "type": "scattercarpet"
           }
          ],
          "scattergeo": [
           {
            "marker": {
             "colorbar": {
              "outlinewidth": 0,
              "ticks": ""
             }
            },
            "type": "scattergeo"
           }
          ],
          "scattergl": [
           {
            "marker": {
             "colorbar": {
              "outlinewidth": 0,
              "ticks": ""
             }
            },
            "type": "scattergl"
           }
          ],
          "scattermapbox": [
           {
            "marker": {
             "colorbar": {
              "outlinewidth": 0,
              "ticks": ""
             }
            },
            "type": "scattermapbox"
           }
          ],
          "scatterpolar": [
           {
            "marker": {
             "colorbar": {
              "outlinewidth": 0,
              "ticks": ""
             }
            },
            "type": "scatterpolar"
           }
          ],
          "scatterpolargl": [
           {
            "marker": {
             "colorbar": {
              "outlinewidth": 0,
              "ticks": ""
             }
            },
            "type": "scatterpolargl"
           }
          ],
          "scatterternary": [
           {
            "marker": {
             "colorbar": {
              "outlinewidth": 0,
              "ticks": ""
             }
            },
            "type": "scatterternary"
           }
          ],
          "surface": [
           {
            "colorbar": {
             "outlinewidth": 0,
             "ticks": ""
            },
            "colorscale": [
             [
              0,
              "#0d0887"
             ],
             [
              0.1111111111111111,
              "#46039f"
             ],
             [
              0.2222222222222222,
              "#7201a8"
             ],
             [
              0.3333333333333333,
              "#9c179e"
             ],
             [
              0.4444444444444444,
              "#bd3786"
             ],
             [
              0.5555555555555556,
              "#d8576b"
             ],
             [
              0.6666666666666666,
              "#ed7953"
             ],
             [
              0.7777777777777778,
              "#fb9f3a"
             ],
             [
              0.8888888888888888,
              "#fdca26"
             ],
             [
              1,
              "#f0f921"
             ]
            ],
            "type": "surface"
           }
          ],
          "table": [
           {
            "cells": {
             "fill": {
              "color": "#EBF0F8"
             },
             "line": {
              "color": "white"
             }
            },
            "header": {
             "fill": {
              "color": "#C8D4E3"
             },
             "line": {
              "color": "white"
             }
            },
            "type": "table"
           }
          ]
         },
         "layout": {
          "annotationdefaults": {
           "arrowcolor": "#2a3f5f",
           "arrowhead": 0,
           "arrowwidth": 1
          },
          "autotypenumbers": "strict",
          "coloraxis": {
           "colorbar": {
            "outlinewidth": 0,
            "ticks": ""
           }
          },
          "colorscale": {
           "diverging": [
            [
             0,
             "#8e0152"
            ],
            [
             0.1,
             "#c51b7d"
            ],
            [
             0.2,
             "#de77ae"
            ],
            [
             0.3,
             "#f1b6da"
            ],
            [
             0.4,
             "#fde0ef"
            ],
            [
             0.5,
             "#f7f7f7"
            ],
            [
             0.6,
             "#e6f5d0"
            ],
            [
             0.7,
             "#b8e186"
            ],
            [
             0.8,
             "#7fbc41"
            ],
            [
             0.9,
             "#4d9221"
            ],
            [
             1,
             "#276419"
            ]
           ],
           "sequential": [
            [
             0,
             "#0d0887"
            ],
            [
             0.1111111111111111,
             "#46039f"
            ],
            [
             0.2222222222222222,
             "#7201a8"
            ],
            [
             0.3333333333333333,
             "#9c179e"
            ],
            [
             0.4444444444444444,
             "#bd3786"
            ],
            [
             0.5555555555555556,
             "#d8576b"
            ],
            [
             0.6666666666666666,
             "#ed7953"
            ],
            [
             0.7777777777777778,
             "#fb9f3a"
            ],
            [
             0.8888888888888888,
             "#fdca26"
            ],
            [
             1,
             "#f0f921"
            ]
           ],
           "sequentialminus": [
            [
             0,
             "#0d0887"
            ],
            [
             0.1111111111111111,
             "#46039f"
            ],
            [
             0.2222222222222222,
             "#7201a8"
            ],
            [
             0.3333333333333333,
             "#9c179e"
            ],
            [
             0.4444444444444444,
             "#bd3786"
            ],
            [
             0.5555555555555556,
             "#d8576b"
            ],
            [
             0.6666666666666666,
             "#ed7953"
            ],
            [
             0.7777777777777778,
             "#fb9f3a"
            ],
            [
             0.8888888888888888,
             "#fdca26"
            ],
            [
             1,
             "#f0f921"
            ]
           ]
          },
          "colorway": [
           "#636efa",
           "#EF553B",
           "#00cc96",
           "#ab63fa",
           "#FFA15A",
           "#19d3f3",
           "#FF6692",
           "#B6E880",
           "#FF97FF",
           "#FECB52"
          ],
          "font": {
           "color": "#2a3f5f"
          },
          "geo": {
           "bgcolor": "white",
           "lakecolor": "white",
           "landcolor": "#E5ECF6",
           "showlakes": true,
           "showland": true,
           "subunitcolor": "white"
          },
          "hoverlabel": {
           "align": "left"
          },
          "hovermode": "closest",
          "mapbox": {
           "style": "light"
          },
          "paper_bgcolor": "white",
          "plot_bgcolor": "#E5ECF6",
          "polar": {
           "angularaxis": {
            "gridcolor": "white",
            "linecolor": "white",
            "ticks": ""
           },
           "bgcolor": "#E5ECF6",
           "radialaxis": {
            "gridcolor": "white",
            "linecolor": "white",
            "ticks": ""
           }
          },
          "scene": {
           "xaxis": {
            "backgroundcolor": "#E5ECF6",
            "gridcolor": "white",
            "gridwidth": 2,
            "linecolor": "white",
            "showbackground": true,
            "ticks": "",
            "zerolinecolor": "white"
           },
           "yaxis": {
            "backgroundcolor": "#E5ECF6",
            "gridcolor": "white",
            "gridwidth": 2,
            "linecolor": "white",
            "showbackground": true,
            "ticks": "",
            "zerolinecolor": "white"
           },
           "zaxis": {
            "backgroundcolor": "#E5ECF6",
            "gridcolor": "white",
            "gridwidth": 2,
            "linecolor": "white",
            "showbackground": true,
            "ticks": "",
            "zerolinecolor": "white"
           }
          },
          "shapedefaults": {
           "line": {
            "color": "#2a3f5f"
           }
          },
          "ternary": {
           "aaxis": {
            "gridcolor": "white",
            "linecolor": "white",
            "ticks": ""
           },
           "baxis": {
            "gridcolor": "white",
            "linecolor": "white",
            "ticks": ""
           },
           "bgcolor": "#E5ECF6",
           "caxis": {
            "gridcolor": "white",
            "linecolor": "white",
            "ticks": ""
           }
          },
          "title": {
           "x": 0.05
          },
          "xaxis": {
           "automargin": true,
           "gridcolor": "white",
           "linecolor": "white",
           "ticks": "",
           "title": {
            "standoff": 15
           },
           "zerolinecolor": "white",
           "zerolinewidth": 2
          },
          "yaxis": {
           "automargin": true,
           "gridcolor": "white",
           "linecolor": "white",
           "ticks": "",
           "title": {
            "standoff": 15
           },
           "zerolinecolor": "white",
           "zerolinewidth": 2
          }
         }
        }
       }
      }
     },
     "metadata": {},
     "output_type": "display_data"
    }
   ],
   "source": [
    "import plotly.express as px\n",
    "\n",
    "# Tworzenie interaktywnej wizualizacji w stylu kostki OLAP\n",
    "fig = px.sunburst(combined_df, path=['Vict Age bucket', 'Vict descent', 'Vict sex'], values='count')\n",
    "fig.update_traces(textinfo='label+percent entry')\n",
    "fig.show(width=1000, height=1200)  # Ustawienie szerokości na 1000 pikseli i wysokości na 1200 pikseli"
   ]
  },
  {
   "cell_type": "code",
   "execution_count": 13,
   "metadata": {},
   "outputs": [
    {
     "data": {
      "application/vnd.plotly.v1+json": {
       "config": {
        "plotlyServerURL": "https://plot.ly"
       },
       "data": [
        {
         "branchvalues": "total",
         "domain": {
          "x": [
           0,
           1
          ],
          "y": [
           0,
           1
          ]
         },
         "hovertemplate": "labels=%{label}<br>count=%{value}<br>parent=%{parent}<br>id=%{id}<extra></extra>",
         "ids": [
          "0-18/Asian/Female",
          "18-35/Asian/Female",
          "35-60/Asian/Female",
          "60-120/Asian/Female",
          "0-18/Black/Female",
          "18-35/Black/Female",
          "35-60/Black/Female",
          "60-120/Black/Female",
          "0-18/Hispanic or Latino/Female",
          "18-35/Hispanic or Latino/Female",
          "35-60/Hispanic or Latino/Female",
          "60-120/Hispanic or Latino/Female",
          "0-18/Other/Female",
          "18-35/Other/Female",
          "35-60/Other/Female",
          "60-120/Other/Female",
          "0-18/Unknown/Female",
          "18-35/Unknown/Female",
          "35-60/Unknown/Female",
          "60-120/Unknown/Female",
          "0-18/White/Female",
          "18-35/White/Female",
          "35-60/White/Female",
          "60-120/White/Female",
          "0-18/Asian/Male",
          "18-35/Asian/Male",
          "35-60/Asian/Male",
          "60-120/Asian/Male",
          "0-18/Black/Male",
          "18-35/Black/Male",
          "35-60/Black/Male",
          "60-120/Black/Male",
          "0-18/Hispanic or Latino/Male",
          "18-35/Hispanic or Latino/Male",
          "35-60/Hispanic or Latino/Male",
          "60-120/Hispanic or Latino/Male",
          "0-18/Other/Male",
          "18-35/Other/Male",
          "35-60/Other/Male",
          "60-120/Other/Male",
          "0-18/Unknown/Male",
          "18-35/Unknown/Male",
          "35-60/Unknown/Male",
          "60-120/Unknown/Male",
          "0-18/White/Male",
          "18-35/White/Male",
          "35-60/White/Male",
          "60-120/White/Male",
          "18-35/Asian/X-gender",
          "18-35/Black/X-gender",
          "35-60/Black/X-gender",
          "18-35/Hispanic or Latino/X-gender",
          "35-60/Hispanic or Latino/X-gender",
          "18-35/Other/X-gender",
          "35-60/Other/X-gender",
          "0-18/Unknown/X-gender",
          "18-35/Unknown/X-gender",
          "35-60/Unknown/X-gender",
          "60-120/Unknown/X-gender",
          "18-35/White/X-gender",
          "35-60/White/X-gender",
          "0-18/Asian",
          "18-35/Asian",
          "35-60/Asian",
          "60-120/Asian",
          "0-18/Black",
          "18-35/Black",
          "35-60/Black",
          "60-120/Black",
          "0-18/Hispanic or Latino",
          "18-35/Hispanic or Latino",
          "35-60/Hispanic or Latino",
          "60-120/Hispanic or Latino",
          "0-18/Other",
          "18-35/Other",
          "35-60/Other",
          "60-120/Other",
          "0-18/Unknown",
          "18-35/Unknown",
          "35-60/Unknown",
          "60-120/Unknown",
          "0-18/White",
          "18-35/White",
          "35-60/White",
          "60-120/White",
          "0-18",
          "18-35",
          "35-60",
          "60-120"
         ],
         "labels": [
          "Female",
          "Female",
          "Female",
          "Female",
          "Female",
          "Female",
          "Female",
          "Female",
          "Female",
          "Female",
          "Female",
          "Female",
          "Female",
          "Female",
          "Female",
          "Female",
          "Female",
          "Female",
          "Female",
          "Female",
          "Female",
          "Female",
          "Female",
          "Female",
          "Male",
          "Male",
          "Male",
          "Male",
          "Male",
          "Male",
          "Male",
          "Male",
          "Male",
          "Male",
          "Male",
          "Male",
          "Male",
          "Male",
          "Male",
          "Male",
          "Male",
          "Male",
          "Male",
          "Male",
          "Male",
          "Male",
          "Male",
          "Male",
          "X-gender",
          "X-gender",
          "X-gender",
          "X-gender",
          "X-gender",
          "X-gender",
          "X-gender",
          "X-gender",
          "X-gender",
          "X-gender",
          "X-gender",
          "X-gender",
          "X-gender",
          "Asian",
          "Asian",
          "Asian",
          "Asian",
          "Black",
          "Black",
          "Black",
          "Black",
          "Hispanic or Latino",
          "Hispanic or Latino",
          "Hispanic or Latino",
          "Hispanic or Latino",
          "Other",
          "Other",
          "Other",
          "Other",
          "Unknown",
          "Unknown",
          "Unknown",
          "Unknown",
          "White",
          "White",
          "White",
          "White",
          "0-18",
          "18-35",
          "35-60",
          "60-120"
         ],
         "name": "",
         "parents": [
          "0-18/Asian",
          "18-35/Asian",
          "35-60/Asian",
          "60-120/Asian",
          "0-18/Black",
          "18-35/Black",
          "35-60/Black",
          "60-120/Black",
          "0-18/Hispanic or Latino",
          "18-35/Hispanic or Latino",
          "35-60/Hispanic or Latino",
          "60-120/Hispanic or Latino",
          "0-18/Other",
          "18-35/Other",
          "35-60/Other",
          "60-120/Other",
          "0-18/Unknown",
          "18-35/Unknown",
          "35-60/Unknown",
          "60-120/Unknown",
          "0-18/White",
          "18-35/White",
          "35-60/White",
          "60-120/White",
          "0-18/Asian",
          "18-35/Asian",
          "35-60/Asian",
          "60-120/Asian",
          "0-18/Black",
          "18-35/Black",
          "35-60/Black",
          "60-120/Black",
          "0-18/Hispanic or Latino",
          "18-35/Hispanic or Latino",
          "35-60/Hispanic or Latino",
          "60-120/Hispanic or Latino",
          "0-18/Other",
          "18-35/Other",
          "35-60/Other",
          "60-120/Other",
          "0-18/Unknown",
          "18-35/Unknown",
          "35-60/Unknown",
          "60-120/Unknown",
          "0-18/White",
          "18-35/White",
          "35-60/White",
          "60-120/White",
          "18-35/Asian",
          "18-35/Black",
          "35-60/Black",
          "18-35/Hispanic or Latino",
          "35-60/Hispanic or Latino",
          "18-35/Other",
          "35-60/Other",
          "0-18/Unknown",
          "18-35/Unknown",
          "35-60/Unknown",
          "60-120/Unknown",
          "18-35/White",
          "35-60/White",
          "0-18",
          "18-35",
          "35-60",
          "60-120",
          "0-18",
          "18-35",
          "35-60",
          "60-120",
          "0-18",
          "18-35",
          "35-60",
          "60-120",
          "0-18",
          "18-35",
          "35-60",
          "60-120",
          "0-18",
          "18-35",
          "35-60",
          "60-120",
          "0-18",
          "18-35",
          "35-60",
          "60-120",
          "",
          "",
          "",
          ""
         ],
         "type": "treemap",
         "values": [
          17,
          310,
          312,
          147,
          270,
          2642,
          2409,
          657,
          870,
          5199,
          4650,
          845,
          80,
          1063,
          1187,
          345,
          40,
          40,
          34,
          10,
          148,
          2452,
          2667,
          1098,
          34,
          316,
          360,
          150,
          248,
          1782,
          2062,
          720,
          819,
          4790,
          5079,
          904,
          974,
          1319,
          1615,
          565,
          169,
          99,
          358,
          18,
          1168,
          2467,
          3922,
          1484,
          2,
          11,
          3,
          7,
          5,
          2,
          1,
          5764,
          553,
          51,
          12,
          11,
          6,
          51,
          628,
          672,
          297,
          518,
          4435,
          4474,
          1377,
          1689,
          9996,
          9734,
          1749,
          1054,
          2384,
          2803,
          910,
          5973,
          692,
          443,
          40,
          1316,
          4930,
          6595,
          2582,
          10601,
          23065,
          24721,
          6955
         ]
        }
       ],
       "layout": {
        "legend": {
         "tracegroupgap": 0
        },
        "margin": {
         "t": 60
        },
        "template": {
         "data": {
          "bar": [
           {
            "error_x": {
             "color": "#2a3f5f"
            },
            "error_y": {
             "color": "#2a3f5f"
            },
            "marker": {
             "line": {
              "color": "#E5ECF6",
              "width": 0.5
             },
             "pattern": {
              "fillmode": "overlay",
              "size": 10,
              "solidity": 0.2
             }
            },
            "type": "bar"
           }
          ],
          "barpolar": [
           {
            "marker": {
             "line": {
              "color": "#E5ECF6",
              "width": 0.5
             },
             "pattern": {
              "fillmode": "overlay",
              "size": 10,
              "solidity": 0.2
             }
            },
            "type": "barpolar"
           }
          ],
          "carpet": [
           {
            "aaxis": {
             "endlinecolor": "#2a3f5f",
             "gridcolor": "white",
             "linecolor": "white",
             "minorgridcolor": "white",
             "startlinecolor": "#2a3f5f"
            },
            "baxis": {
             "endlinecolor": "#2a3f5f",
             "gridcolor": "white",
             "linecolor": "white",
             "minorgridcolor": "white",
             "startlinecolor": "#2a3f5f"
            },
            "type": "carpet"
           }
          ],
          "choropleth": [
           {
            "colorbar": {
             "outlinewidth": 0,
             "ticks": ""
            },
            "type": "choropleth"
           }
          ],
          "contour": [
           {
            "colorbar": {
             "outlinewidth": 0,
             "ticks": ""
            },
            "colorscale": [
             [
              0,
              "#0d0887"
             ],
             [
              0.1111111111111111,
              "#46039f"
             ],
             [
              0.2222222222222222,
              "#7201a8"
             ],
             [
              0.3333333333333333,
              "#9c179e"
             ],
             [
              0.4444444444444444,
              "#bd3786"
             ],
             [
              0.5555555555555556,
              "#d8576b"
             ],
             [
              0.6666666666666666,
              "#ed7953"
             ],
             [
              0.7777777777777778,
              "#fb9f3a"
             ],
             [
              0.8888888888888888,
              "#fdca26"
             ],
             [
              1,
              "#f0f921"
             ]
            ],
            "type": "contour"
           }
          ],
          "contourcarpet": [
           {
            "colorbar": {
             "outlinewidth": 0,
             "ticks": ""
            },
            "type": "contourcarpet"
           }
          ],
          "heatmap": [
           {
            "colorbar": {
             "outlinewidth": 0,
             "ticks": ""
            },
            "colorscale": [
             [
              0,
              "#0d0887"
             ],
             [
              0.1111111111111111,
              "#46039f"
             ],
             [
              0.2222222222222222,
              "#7201a8"
             ],
             [
              0.3333333333333333,
              "#9c179e"
             ],
             [
              0.4444444444444444,
              "#bd3786"
             ],
             [
              0.5555555555555556,
              "#d8576b"
             ],
             [
              0.6666666666666666,
              "#ed7953"
             ],
             [
              0.7777777777777778,
              "#fb9f3a"
             ],
             [
              0.8888888888888888,
              "#fdca26"
             ],
             [
              1,
              "#f0f921"
             ]
            ],
            "type": "heatmap"
           }
          ],
          "heatmapgl": [
           {
            "colorbar": {
             "outlinewidth": 0,
             "ticks": ""
            },
            "colorscale": [
             [
              0,
              "#0d0887"
             ],
             [
              0.1111111111111111,
              "#46039f"
             ],
             [
              0.2222222222222222,
              "#7201a8"
             ],
             [
              0.3333333333333333,
              "#9c179e"
             ],
             [
              0.4444444444444444,
              "#bd3786"
             ],
             [
              0.5555555555555556,
              "#d8576b"
             ],
             [
              0.6666666666666666,
              "#ed7953"
             ],
             [
              0.7777777777777778,
              "#fb9f3a"
             ],
             [
              0.8888888888888888,
              "#fdca26"
             ],
             [
              1,
              "#f0f921"
             ]
            ],
            "type": "heatmapgl"
           }
          ],
          "histogram": [
           {
            "marker": {
             "pattern": {
              "fillmode": "overlay",
              "size": 10,
              "solidity": 0.2
             }
            },
            "type": "histogram"
           }
          ],
          "histogram2d": [
           {
            "colorbar": {
             "outlinewidth": 0,
             "ticks": ""
            },
            "colorscale": [
             [
              0,
              "#0d0887"
             ],
             [
              0.1111111111111111,
              "#46039f"
             ],
             [
              0.2222222222222222,
              "#7201a8"
             ],
             [
              0.3333333333333333,
              "#9c179e"
             ],
             [
              0.4444444444444444,
              "#bd3786"
             ],
             [
              0.5555555555555556,
              "#d8576b"
             ],
             [
              0.6666666666666666,
              "#ed7953"
             ],
             [
              0.7777777777777778,
              "#fb9f3a"
             ],
             [
              0.8888888888888888,
              "#fdca26"
             ],
             [
              1,
              "#f0f921"
             ]
            ],
            "type": "histogram2d"
           }
          ],
          "histogram2dcontour": [
           {
            "colorbar": {
             "outlinewidth": 0,
             "ticks": ""
            },
            "colorscale": [
             [
              0,
              "#0d0887"
             ],
             [
              0.1111111111111111,
              "#46039f"
             ],
             [
              0.2222222222222222,
              "#7201a8"
             ],
             [
              0.3333333333333333,
              "#9c179e"
             ],
             [
              0.4444444444444444,
              "#bd3786"
             ],
             [
              0.5555555555555556,
              "#d8576b"
             ],
             [
              0.6666666666666666,
              "#ed7953"
             ],
             [
              0.7777777777777778,
              "#fb9f3a"
             ],
             [
              0.8888888888888888,
              "#fdca26"
             ],
             [
              1,
              "#f0f921"
             ]
            ],
            "type": "histogram2dcontour"
           }
          ],
          "mesh3d": [
           {
            "colorbar": {
             "outlinewidth": 0,
             "ticks": ""
            },
            "type": "mesh3d"
           }
          ],
          "parcoords": [
           {
            "line": {
             "colorbar": {
              "outlinewidth": 0,
              "ticks": ""
             }
            },
            "type": "parcoords"
           }
          ],
          "pie": [
           {
            "automargin": true,
            "type": "pie"
           }
          ],
          "scatter": [
           {
            "fillpattern": {
             "fillmode": "overlay",
             "size": 10,
             "solidity": 0.2
            },
            "type": "scatter"
           }
          ],
          "scatter3d": [
           {
            "line": {
             "colorbar": {
              "outlinewidth": 0,
              "ticks": ""
             }
            },
            "marker": {
             "colorbar": {
              "outlinewidth": 0,
              "ticks": ""
             }
            },
            "type": "scatter3d"
           }
          ],
          "scattercarpet": [
           {
            "marker": {
             "colorbar": {
              "outlinewidth": 0,
              "ticks": ""
             }
            },
            "type": "scattercarpet"
           }
          ],
          "scattergeo": [
           {
            "marker": {
             "colorbar": {
              "outlinewidth": 0,
              "ticks": ""
             }
            },
            "type": "scattergeo"
           }
          ],
          "scattergl": [
           {
            "marker": {
             "colorbar": {
              "outlinewidth": 0,
              "ticks": ""
             }
            },
            "type": "scattergl"
           }
          ],
          "scattermapbox": [
           {
            "marker": {
             "colorbar": {
              "outlinewidth": 0,
              "ticks": ""
             }
            },
            "type": "scattermapbox"
           }
          ],
          "scatterpolar": [
           {
            "marker": {
             "colorbar": {
              "outlinewidth": 0,
              "ticks": ""
             }
            },
            "type": "scatterpolar"
           }
          ],
          "scatterpolargl": [
           {
            "marker": {
             "colorbar": {
              "outlinewidth": 0,
              "ticks": ""
             }
            },
            "type": "scatterpolargl"
           }
          ],
          "scatterternary": [
           {
            "marker": {
             "colorbar": {
              "outlinewidth": 0,
              "ticks": ""
             }
            },
            "type": "scatterternary"
           }
          ],
          "surface": [
           {
            "colorbar": {
             "outlinewidth": 0,
             "ticks": ""
            },
            "colorscale": [
             [
              0,
              "#0d0887"
             ],
             [
              0.1111111111111111,
              "#46039f"
             ],
             [
              0.2222222222222222,
              "#7201a8"
             ],
             [
              0.3333333333333333,
              "#9c179e"
             ],
             [
              0.4444444444444444,
              "#bd3786"
             ],
             [
              0.5555555555555556,
              "#d8576b"
             ],
             [
              0.6666666666666666,
              "#ed7953"
             ],
             [
              0.7777777777777778,
              "#fb9f3a"
             ],
             [
              0.8888888888888888,
              "#fdca26"
             ],
             [
              1,
              "#f0f921"
             ]
            ],
            "type": "surface"
           }
          ],
          "table": [
           {
            "cells": {
             "fill": {
              "color": "#EBF0F8"
             },
             "line": {
              "color": "white"
             }
            },
            "header": {
             "fill": {
              "color": "#C8D4E3"
             },
             "line": {
              "color": "white"
             }
            },
            "type": "table"
           }
          ]
         },
         "layout": {
          "annotationdefaults": {
           "arrowcolor": "#2a3f5f",
           "arrowhead": 0,
           "arrowwidth": 1
          },
          "autotypenumbers": "strict",
          "coloraxis": {
           "colorbar": {
            "outlinewidth": 0,
            "ticks": ""
           }
          },
          "colorscale": {
           "diverging": [
            [
             0,
             "#8e0152"
            ],
            [
             0.1,
             "#c51b7d"
            ],
            [
             0.2,
             "#de77ae"
            ],
            [
             0.3,
             "#f1b6da"
            ],
            [
             0.4,
             "#fde0ef"
            ],
            [
             0.5,
             "#f7f7f7"
            ],
            [
             0.6,
             "#e6f5d0"
            ],
            [
             0.7,
             "#b8e186"
            ],
            [
             0.8,
             "#7fbc41"
            ],
            [
             0.9,
             "#4d9221"
            ],
            [
             1,
             "#276419"
            ]
           ],
           "sequential": [
            [
             0,
             "#0d0887"
            ],
            [
             0.1111111111111111,
             "#46039f"
            ],
            [
             0.2222222222222222,
             "#7201a8"
            ],
            [
             0.3333333333333333,
             "#9c179e"
            ],
            [
             0.4444444444444444,
             "#bd3786"
            ],
            [
             0.5555555555555556,
             "#d8576b"
            ],
            [
             0.6666666666666666,
             "#ed7953"
            ],
            [
             0.7777777777777778,
             "#fb9f3a"
            ],
            [
             0.8888888888888888,
             "#fdca26"
            ],
            [
             1,
             "#f0f921"
            ]
           ],
           "sequentialminus": [
            [
             0,
             "#0d0887"
            ],
            [
             0.1111111111111111,
             "#46039f"
            ],
            [
             0.2222222222222222,
             "#7201a8"
            ],
            [
             0.3333333333333333,
             "#9c179e"
            ],
            [
             0.4444444444444444,
             "#bd3786"
            ],
            [
             0.5555555555555556,
             "#d8576b"
            ],
            [
             0.6666666666666666,
             "#ed7953"
            ],
            [
             0.7777777777777778,
             "#fb9f3a"
            ],
            [
             0.8888888888888888,
             "#fdca26"
            ],
            [
             1,
             "#f0f921"
            ]
           ]
          },
          "colorway": [
           "#636efa",
           "#EF553B",
           "#00cc96",
           "#ab63fa",
           "#FFA15A",
           "#19d3f3",
           "#FF6692",
           "#B6E880",
           "#FF97FF",
           "#FECB52"
          ],
          "font": {
           "color": "#2a3f5f"
          },
          "geo": {
           "bgcolor": "white",
           "lakecolor": "white",
           "landcolor": "#E5ECF6",
           "showlakes": true,
           "showland": true,
           "subunitcolor": "white"
          },
          "hoverlabel": {
           "align": "left"
          },
          "hovermode": "closest",
          "mapbox": {
           "style": "light"
          },
          "paper_bgcolor": "white",
          "plot_bgcolor": "#E5ECF6",
          "polar": {
           "angularaxis": {
            "gridcolor": "white",
            "linecolor": "white",
            "ticks": ""
           },
           "bgcolor": "#E5ECF6",
           "radialaxis": {
            "gridcolor": "white",
            "linecolor": "white",
            "ticks": ""
           }
          },
          "scene": {
           "xaxis": {
            "backgroundcolor": "#E5ECF6",
            "gridcolor": "white",
            "gridwidth": 2,
            "linecolor": "white",
            "showbackground": true,
            "ticks": "",
            "zerolinecolor": "white"
           },
           "yaxis": {
            "backgroundcolor": "#E5ECF6",
            "gridcolor": "white",
            "gridwidth": 2,
            "linecolor": "white",
            "showbackground": true,
            "ticks": "",
            "zerolinecolor": "white"
           },
           "zaxis": {
            "backgroundcolor": "#E5ECF6",
            "gridcolor": "white",
            "gridwidth": 2,
            "linecolor": "white",
            "showbackground": true,
            "ticks": "",
            "zerolinecolor": "white"
           }
          },
          "shapedefaults": {
           "line": {
            "color": "#2a3f5f"
           }
          },
          "ternary": {
           "aaxis": {
            "gridcolor": "white",
            "linecolor": "white",
            "ticks": ""
           },
           "baxis": {
            "gridcolor": "white",
            "linecolor": "white",
            "ticks": ""
           },
           "bgcolor": "#E5ECF6",
           "caxis": {
            "gridcolor": "white",
            "linecolor": "white",
            "ticks": ""
           }
          },
          "title": {
           "x": 0.05
          },
          "xaxis": {
           "automargin": true,
           "gridcolor": "white",
           "linecolor": "white",
           "ticks": "",
           "title": {
            "standoff": 15
           },
           "zerolinecolor": "white",
           "zerolinewidth": 2
          },
          "yaxis": {
           "automargin": true,
           "gridcolor": "white",
           "linecolor": "white",
           "ticks": "",
           "title": {
            "standoff": 15
           },
           "zerolinecolor": "white",
           "zerolinewidth": 2
          }
         }
        }
       }
      }
     },
     "metadata": {},
     "output_type": "display_data"
    }
   ],
   "source": [
    "import plotly.express as px\n",
    "\n",
    "# Tworzenie interaktywnej wizualizacji typu treemap\n",
    "fig = px.treemap(combined_df, path=['Vict Age bucket', 'Vict descent', 'Vict sex'], values='count')\n",
    "fig.show()"
   ]
  },
  {
   "cell_type": "code",
   "execution_count": 28,
   "metadata": {},
   "outputs": [
    {
     "data": {
      "application/vnd.plotly.v1+json": {
       "config": {
        "plotlyServerURL": "https://plot.ly"
       },
       "data": [
        {
         "branchvalues": "total",
         "customdata": [
          [
           17,
           17
          ],
          [
           310,
           310
          ],
          [
           312,
           312
          ],
          [
           147,
           147
          ],
          [
           270,
           270
          ],
          [
           2642,
           2642
          ],
          [
           2409,
           2409
          ],
          [
           657,
           657
          ],
          [
           870,
           870
          ],
          [
           5199,
           5199
          ],
          [
           4650,
           4650
          ],
          [
           845,
           845
          ],
          [
           80,
           80
          ],
          [
           1063,
           1063
          ],
          [
           1187,
           1187
          ],
          [
           345,
           345
          ],
          [
           40,
           40
          ],
          [
           40,
           40
          ],
          [
           34,
           34
          ],
          [
           10,
           10
          ],
          [
           148,
           148
          ],
          [
           2452,
           2452
          ],
          [
           2667,
           2667
          ],
          [
           1098,
           1098
          ],
          [
           34,
           34
          ],
          [
           316,
           316
          ],
          [
           360,
           360
          ],
          [
           150,
           150
          ],
          [
           248,
           248
          ],
          [
           1782,
           1782
          ],
          [
           2062,
           2062
          ],
          [
           720,
           720
          ],
          [
           819,
           819
          ],
          [
           4790,
           4790
          ],
          [
           5079,
           5079
          ],
          [
           904,
           904
          ],
          [
           974,
           974
          ],
          [
           1319,
           1319
          ],
          [
           1615,
           1615
          ],
          [
           565,
           565
          ],
          [
           169,
           169
          ],
          [
           99,
           99
          ],
          [
           358,
           358
          ],
          [
           18,
           18
          ],
          [
           1168,
           1168
          ],
          [
           2467,
           2467
          ],
          [
           3922,
           3922
          ],
          [
           1484,
           1484
          ],
          [
           2,
           2
          ],
          [
           11,
           11
          ],
          [
           3,
           3
          ],
          [
           7,
           7
          ],
          [
           5,
           5
          ],
          [
           2,
           2
          ],
          [
           1,
           1
          ],
          [
           5764,
           5764
          ],
          [
           553,
           553
          ],
          [
           51,
           51
          ],
          [
           12,
           12
          ],
          [
           11,
           11
          ],
          [
           6,
           6
          ],
          [
           28.333333333333332,
           28.333333333333332
          ],
          [
           312.03821656050957,
           312.03821656050957
          ],
          [
           337.7142857142857,
           337.7142857142857
          ],
          [
           148.5151515151515,
           148.5151515151515
          ],
          [
           259.4671814671815,
           259.4671814671815
          ],
          [
           2289.923111612176,
           2289.923111612176
          ],
          [
           2247.459544032186,
           2247.459544032186
          ],
          [
           689.9411764705883,
           689.9411764705883
          ],
          [
           845.2699822380107,
           845.2699822380107
          ],
          [
           4999.37474989996,
           4999.37474989996
          ],
          [
           4871.45736593384,
           4871.45736593384
          ],
          [
           875.4951400800458,
           875.4951400800458
          ],
          [
           906.1442125237191,
           906.1442125237191
          ],
          [
           1203.7474832214766,
           1203.7474832214766
          ],
          [
           1433.1769532643596,
           1433.1769532643596
          ],
          [
           481.5934065934066,
           481.5934065934066
          ],
          [
           5567.362631843295,
           5567.362631843295
          ],
          [
           458.3959537572254,
           458.3959537572254
          ],
          [
           297.7900677200903,
           297.7900677200903
          ],
          [
           14.2,
           14.2
          ],
          [
           1053.288753799392,
           1053.288753799392
          ],
          [
           2454.0596348884383,
           2454.0596348884383
          ],
          [
           3410.918726307809,
           3410.918726307809
          ],
          [
           1319.8528272656856,
           1319.8528272656856
          ],
          [
           3505.1948872747853,
           3505.1948872747853
          ],
          [
           3278.16939085194,
           3278.16939085194
          ],
          [
           3411.8752882164963,
           3411.8752882164963
          ],
          [
           916.1864845434939,
           916.1864845434939
          ]
         ],
         "domain": {
          "x": [
           0,
           1
          ],
          "y": [
           0,
           1
          ]
         },
         "hovertemplate": "labels=%{label}<br>count_sum=%{value}<br>parent=%{parent}<br>id=%{id}<br>count=%{color}<extra></extra>",
         "ids": [
          "0-18/Asian/Female",
          "18-35/Asian/Female",
          "35-60/Asian/Female",
          "60-120/Asian/Female",
          "0-18/Black/Female",
          "18-35/Black/Female",
          "35-60/Black/Female",
          "60-120/Black/Female",
          "0-18/Hispanic or Latino/Female",
          "18-35/Hispanic or Latino/Female",
          "35-60/Hispanic or Latino/Female",
          "60-120/Hispanic or Latino/Female",
          "0-18/Other/Female",
          "18-35/Other/Female",
          "35-60/Other/Female",
          "60-120/Other/Female",
          "0-18/Unknown/Female",
          "18-35/Unknown/Female",
          "35-60/Unknown/Female",
          "60-120/Unknown/Female",
          "0-18/White/Female",
          "18-35/White/Female",
          "35-60/White/Female",
          "60-120/White/Female",
          "0-18/Asian/Male",
          "18-35/Asian/Male",
          "35-60/Asian/Male",
          "60-120/Asian/Male",
          "0-18/Black/Male",
          "18-35/Black/Male",
          "35-60/Black/Male",
          "60-120/Black/Male",
          "0-18/Hispanic or Latino/Male",
          "18-35/Hispanic or Latino/Male",
          "35-60/Hispanic or Latino/Male",
          "60-120/Hispanic or Latino/Male",
          "0-18/Other/Male",
          "18-35/Other/Male",
          "35-60/Other/Male",
          "60-120/Other/Male",
          "0-18/Unknown/Male",
          "18-35/Unknown/Male",
          "35-60/Unknown/Male",
          "60-120/Unknown/Male",
          "0-18/White/Male",
          "18-35/White/Male",
          "35-60/White/Male",
          "60-120/White/Male",
          "18-35/Asian/X-gender",
          "18-35/Black/X-gender",
          "35-60/Black/X-gender",
          "18-35/Hispanic or Latino/X-gender",
          "35-60/Hispanic or Latino/X-gender",
          "18-35/Other/X-gender",
          "35-60/Other/X-gender",
          "0-18/Unknown/X-gender",
          "18-35/Unknown/X-gender",
          "35-60/Unknown/X-gender",
          "60-120/Unknown/X-gender",
          "18-35/White/X-gender",
          "35-60/White/X-gender",
          "0-18/Asian",
          "18-35/Asian",
          "35-60/Asian",
          "60-120/Asian",
          "0-18/Black",
          "18-35/Black",
          "35-60/Black",
          "60-120/Black",
          "0-18/Hispanic or Latino",
          "18-35/Hispanic or Latino",
          "35-60/Hispanic or Latino",
          "60-120/Hispanic or Latino",
          "0-18/Other",
          "18-35/Other",
          "35-60/Other",
          "60-120/Other",
          "0-18/Unknown",
          "18-35/Unknown",
          "35-60/Unknown",
          "60-120/Unknown",
          "0-18/White",
          "18-35/White",
          "35-60/White",
          "60-120/White",
          "0-18",
          "18-35",
          "35-60",
          "60-120"
         ],
         "labels": [
          "Female",
          "Female",
          "Female",
          "Female",
          "Female",
          "Female",
          "Female",
          "Female",
          "Female",
          "Female",
          "Female",
          "Female",
          "Female",
          "Female",
          "Female",
          "Female",
          "Female",
          "Female",
          "Female",
          "Female",
          "Female",
          "Female",
          "Female",
          "Female",
          "Male",
          "Male",
          "Male",
          "Male",
          "Male",
          "Male",
          "Male",
          "Male",
          "Male",
          "Male",
          "Male",
          "Male",
          "Male",
          "Male",
          "Male",
          "Male",
          "Male",
          "Male",
          "Male",
          "Male",
          "Male",
          "Male",
          "Male",
          "Male",
          "X-gender",
          "X-gender",
          "X-gender",
          "X-gender",
          "X-gender",
          "X-gender",
          "X-gender",
          "X-gender",
          "X-gender",
          "X-gender",
          "X-gender",
          "X-gender",
          "X-gender",
          "Asian",
          "Asian",
          "Asian",
          "Asian",
          "Black",
          "Black",
          "Black",
          "Black",
          "Hispanic or Latino",
          "Hispanic or Latino",
          "Hispanic or Latino",
          "Hispanic or Latino",
          "Other",
          "Other",
          "Other",
          "Other",
          "Unknown",
          "Unknown",
          "Unknown",
          "Unknown",
          "White",
          "White",
          "White",
          "White",
          "0-18",
          "18-35",
          "35-60",
          "60-120"
         ],
         "marker": {
          "coloraxis": "coloraxis",
          "colors": [
           17,
           310,
           312,
           147,
           270,
           2642,
           2409,
           657,
           870,
           5199,
           4650,
           845,
           80,
           1063,
           1187,
           345,
           40,
           40,
           34,
           10,
           148,
           2452,
           2667,
           1098,
           34,
           316,
           360,
           150,
           248,
           1782,
           2062,
           720,
           819,
           4790,
           5079,
           904,
           974,
           1319,
           1615,
           565,
           169,
           99,
           358,
           18,
           1168,
           2467,
           3922,
           1484,
           2,
           11,
           3,
           7,
           5,
           2,
           1,
           5764,
           553,
           51,
           12,
           11,
           6,
           28.333333333333332,
           312.03821656050957,
           337.7142857142857,
           148.5151515151515,
           259.4671814671815,
           2289.923111612176,
           2247.459544032186,
           689.9411764705883,
           845.2699822380107,
           4999.37474989996,
           4871.45736593384,
           875.4951400800458,
           906.1442125237191,
           1203.7474832214766,
           1433.1769532643596,
           481.5934065934066,
           5567.362631843295,
           458.3959537572254,
           297.7900677200903,
           14.2,
           1053.288753799392,
           2454.0596348884383,
           3410.918726307809,
           1319.8528272656856,
           3505.1948872747853,
           3278.16939085194,
           3411.8752882164963,
           916.1864845434939
          ]
         },
         "name": "",
         "parents": [
          "0-18/Asian",
          "18-35/Asian",
          "35-60/Asian",
          "60-120/Asian",
          "0-18/Black",
          "18-35/Black",
          "35-60/Black",
          "60-120/Black",
          "0-18/Hispanic or Latino",
          "18-35/Hispanic or Latino",
          "35-60/Hispanic or Latino",
          "60-120/Hispanic or Latino",
          "0-18/Other",
          "18-35/Other",
          "35-60/Other",
          "60-120/Other",
          "0-18/Unknown",
          "18-35/Unknown",
          "35-60/Unknown",
          "60-120/Unknown",
          "0-18/White",
          "18-35/White",
          "35-60/White",
          "60-120/White",
          "0-18/Asian",
          "18-35/Asian",
          "35-60/Asian",
          "60-120/Asian",
          "0-18/Black",
          "18-35/Black",
          "35-60/Black",
          "60-120/Black",
          "0-18/Hispanic or Latino",
          "18-35/Hispanic or Latino",
          "35-60/Hispanic or Latino",
          "60-120/Hispanic or Latino",
          "0-18/Other",
          "18-35/Other",
          "35-60/Other",
          "60-120/Other",
          "0-18/Unknown",
          "18-35/Unknown",
          "35-60/Unknown",
          "60-120/Unknown",
          "0-18/White",
          "18-35/White",
          "35-60/White",
          "60-120/White",
          "18-35/Asian",
          "18-35/Black",
          "35-60/Black",
          "18-35/Hispanic or Latino",
          "35-60/Hispanic or Latino",
          "18-35/Other",
          "35-60/Other",
          "0-18/Unknown",
          "18-35/Unknown",
          "35-60/Unknown",
          "60-120/Unknown",
          "18-35/White",
          "35-60/White",
          "0-18",
          "18-35",
          "35-60",
          "60-120",
          "0-18",
          "18-35",
          "35-60",
          "60-120",
          "0-18",
          "18-35",
          "35-60",
          "60-120",
          "0-18",
          "18-35",
          "35-60",
          "60-120",
          "0-18",
          "18-35",
          "35-60",
          "60-120",
          "0-18",
          "18-35",
          "35-60",
          "60-120",
          "",
          "",
          "",
          ""
         ],
         "type": "treemap",
         "values": [
          17,
          310,
          312,
          147,
          270,
          2642,
          2409,
          657,
          870,
          5199,
          4650,
          845,
          80,
          1063,
          1187,
          345,
          40,
          40,
          34,
          10,
          148,
          2452,
          2667,
          1098,
          34,
          316,
          360,
          150,
          248,
          1782,
          2062,
          720,
          819,
          4790,
          5079,
          904,
          974,
          1319,
          1615,
          565,
          169,
          99,
          358,
          18,
          1168,
          2467,
          3922,
          1484,
          2,
          11,
          3,
          7,
          5,
          2,
          1,
          5764,
          553,
          51,
          12,
          11,
          6,
          51,
          628,
          672,
          297,
          518,
          4435,
          4474,
          1377,
          1689,
          9996,
          9734,
          1749,
          1054,
          2384,
          2803,
          910,
          5973,
          692,
          443,
          40,
          1316,
          4930,
          6595,
          2582,
          10601,
          23065,
          24721,
          6955
         ]
        }
       ],
       "layout": {
        "coloraxis": {
         "colorbar": {
          "title": {
           "text": "count"
          }
         },
         "colorscale": [
          [
           0,
           "#440154"
          ],
          [
           0.1111111111111111,
           "#482878"
          ],
          [
           0.2222222222222222,
           "#3e4989"
          ],
          [
           0.3333333333333333,
           "#31688e"
          ],
          [
           0.4444444444444444,
           "#26828e"
          ],
          [
           0.5555555555555556,
           "#1f9e89"
          ],
          [
           0.6666666666666666,
           "#35b779"
          ],
          [
           0.7777777777777778,
           "#6ece58"
          ],
          [
           0.8888888888888888,
           "#b5de2b"
          ],
          [
           1,
           "#fde725"
          ]
         ]
        },
        "height": 1600,
        "legend": {
         "tracegroupgap": 0
        },
        "template": {
         "data": {
          "bar": [
           {
            "error_x": {
             "color": "#2a3f5f"
            },
            "error_y": {
             "color": "#2a3f5f"
            },
            "marker": {
             "line": {
              "color": "#E5ECF6",
              "width": 0.5
             },
             "pattern": {
              "fillmode": "overlay",
              "size": 10,
              "solidity": 0.2
             }
            },
            "type": "bar"
           }
          ],
          "barpolar": [
           {
            "marker": {
             "line": {
              "color": "#E5ECF6",
              "width": 0.5
             },
             "pattern": {
              "fillmode": "overlay",
              "size": 10,
              "solidity": 0.2
             }
            },
            "type": "barpolar"
           }
          ],
          "carpet": [
           {
            "aaxis": {
             "endlinecolor": "#2a3f5f",
             "gridcolor": "white",
             "linecolor": "white",
             "minorgridcolor": "white",
             "startlinecolor": "#2a3f5f"
            },
            "baxis": {
             "endlinecolor": "#2a3f5f",
             "gridcolor": "white",
             "linecolor": "white",
             "minorgridcolor": "white",
             "startlinecolor": "#2a3f5f"
            },
            "type": "carpet"
           }
          ],
          "choropleth": [
           {
            "colorbar": {
             "outlinewidth": 0,
             "ticks": ""
            },
            "type": "choropleth"
           }
          ],
          "contour": [
           {
            "colorbar": {
             "outlinewidth": 0,
             "ticks": ""
            },
            "colorscale": [
             [
              0,
              "#0d0887"
             ],
             [
              0.1111111111111111,
              "#46039f"
             ],
             [
              0.2222222222222222,
              "#7201a8"
             ],
             [
              0.3333333333333333,
              "#9c179e"
             ],
             [
              0.4444444444444444,
              "#bd3786"
             ],
             [
              0.5555555555555556,
              "#d8576b"
             ],
             [
              0.6666666666666666,
              "#ed7953"
             ],
             [
              0.7777777777777778,
              "#fb9f3a"
             ],
             [
              0.8888888888888888,
              "#fdca26"
             ],
             [
              1,
              "#f0f921"
             ]
            ],
            "type": "contour"
           }
          ],
          "contourcarpet": [
           {
            "colorbar": {
             "outlinewidth": 0,
             "ticks": ""
            },
            "type": "contourcarpet"
           }
          ],
          "heatmap": [
           {
            "colorbar": {
             "outlinewidth": 0,
             "ticks": ""
            },
            "colorscale": [
             [
              0,
              "#0d0887"
             ],
             [
              0.1111111111111111,
              "#46039f"
             ],
             [
              0.2222222222222222,
              "#7201a8"
             ],
             [
              0.3333333333333333,
              "#9c179e"
             ],
             [
              0.4444444444444444,
              "#bd3786"
             ],
             [
              0.5555555555555556,
              "#d8576b"
             ],
             [
              0.6666666666666666,
              "#ed7953"
             ],
             [
              0.7777777777777778,
              "#fb9f3a"
             ],
             [
              0.8888888888888888,
              "#fdca26"
             ],
             [
              1,
              "#f0f921"
             ]
            ],
            "type": "heatmap"
           }
          ],
          "heatmapgl": [
           {
            "colorbar": {
             "outlinewidth": 0,
             "ticks": ""
            },
            "colorscale": [
             [
              0,
              "#0d0887"
             ],
             [
              0.1111111111111111,
              "#46039f"
             ],
             [
              0.2222222222222222,
              "#7201a8"
             ],
             [
              0.3333333333333333,
              "#9c179e"
             ],
             [
              0.4444444444444444,
              "#bd3786"
             ],
             [
              0.5555555555555556,
              "#d8576b"
             ],
             [
              0.6666666666666666,
              "#ed7953"
             ],
             [
              0.7777777777777778,
              "#fb9f3a"
             ],
             [
              0.8888888888888888,
              "#fdca26"
             ],
             [
              1,
              "#f0f921"
             ]
            ],
            "type": "heatmapgl"
           }
          ],
          "histogram": [
           {
            "marker": {
             "pattern": {
              "fillmode": "overlay",
              "size": 10,
              "solidity": 0.2
             }
            },
            "type": "histogram"
           }
          ],
          "histogram2d": [
           {
            "colorbar": {
             "outlinewidth": 0,
             "ticks": ""
            },
            "colorscale": [
             [
              0,
              "#0d0887"
             ],
             [
              0.1111111111111111,
              "#46039f"
             ],
             [
              0.2222222222222222,
              "#7201a8"
             ],
             [
              0.3333333333333333,
              "#9c179e"
             ],
             [
              0.4444444444444444,
              "#bd3786"
             ],
             [
              0.5555555555555556,
              "#d8576b"
             ],
             [
              0.6666666666666666,
              "#ed7953"
             ],
             [
              0.7777777777777778,
              "#fb9f3a"
             ],
             [
              0.8888888888888888,
              "#fdca26"
             ],
             [
              1,
              "#f0f921"
             ]
            ],
            "type": "histogram2d"
           }
          ],
          "histogram2dcontour": [
           {
            "colorbar": {
             "outlinewidth": 0,
             "ticks": ""
            },
            "colorscale": [
             [
              0,
              "#0d0887"
             ],
             [
              0.1111111111111111,
              "#46039f"
             ],
             [
              0.2222222222222222,
              "#7201a8"
             ],
             [
              0.3333333333333333,
              "#9c179e"
             ],
             [
              0.4444444444444444,
              "#bd3786"
             ],
             [
              0.5555555555555556,
              "#d8576b"
             ],
             [
              0.6666666666666666,
              "#ed7953"
             ],
             [
              0.7777777777777778,
              "#fb9f3a"
             ],
             [
              0.8888888888888888,
              "#fdca26"
             ],
             [
              1,
              "#f0f921"
             ]
            ],
            "type": "histogram2dcontour"
           }
          ],
          "mesh3d": [
           {
            "colorbar": {
             "outlinewidth": 0,
             "ticks": ""
            },
            "type": "mesh3d"
           }
          ],
          "parcoords": [
           {
            "line": {
             "colorbar": {
              "outlinewidth": 0,
              "ticks": ""
             }
            },
            "type": "parcoords"
           }
          ],
          "pie": [
           {
            "automargin": true,
            "type": "pie"
           }
          ],
          "scatter": [
           {
            "fillpattern": {
             "fillmode": "overlay",
             "size": 10,
             "solidity": 0.2
            },
            "type": "scatter"
           }
          ],
          "scatter3d": [
           {
            "line": {
             "colorbar": {
              "outlinewidth": 0,
              "ticks": ""
             }
            },
            "marker": {
             "colorbar": {
              "outlinewidth": 0,
              "ticks": ""
             }
            },
            "type": "scatter3d"
           }
          ],
          "scattercarpet": [
           {
            "marker": {
             "colorbar": {
              "outlinewidth": 0,
              "ticks": ""
             }
            },
            "type": "scattercarpet"
           }
          ],
          "scattergeo": [
           {
            "marker": {
             "colorbar": {
              "outlinewidth": 0,
              "ticks": ""
             }
            },
            "type": "scattergeo"
           }
          ],
          "scattergl": [
           {
            "marker": {
             "colorbar": {
              "outlinewidth": 0,
              "ticks": ""
             }
            },
            "type": "scattergl"
           }
          ],
          "scattermapbox": [
           {
            "marker": {
             "colorbar": {
              "outlinewidth": 0,
              "ticks": ""
             }
            },
            "type": "scattermapbox"
           }
          ],
          "scatterpolar": [
           {
            "marker": {
             "colorbar": {
              "outlinewidth": 0,
              "ticks": ""
             }
            },
            "type": "scatterpolar"
           }
          ],
          "scatterpolargl": [
           {
            "marker": {
             "colorbar": {
              "outlinewidth": 0,
              "ticks": ""
             }
            },
            "type": "scatterpolargl"
           }
          ],
          "scatterternary": [
           {
            "marker": {
             "colorbar": {
              "outlinewidth": 0,
              "ticks": ""
             }
            },
            "type": "scatterternary"
           }
          ],
          "surface": [
           {
            "colorbar": {
             "outlinewidth": 0,
             "ticks": ""
            },
            "colorscale": [
             [
              0,
              "#0d0887"
             ],
             [
              0.1111111111111111,
              "#46039f"
             ],
             [
              0.2222222222222222,
              "#7201a8"
             ],
             [
              0.3333333333333333,
              "#9c179e"
             ],
             [
              0.4444444444444444,
              "#bd3786"
             ],
             [
              0.5555555555555556,
              "#d8576b"
             ],
             [
              0.6666666666666666,
              "#ed7953"
             ],
             [
              0.7777777777777778,
              "#fb9f3a"
             ],
             [
              0.8888888888888888,
              "#fdca26"
             ],
             [
              1,
              "#f0f921"
             ]
            ],
            "type": "surface"
           }
          ],
          "table": [
           {
            "cells": {
             "fill": {
              "color": "#EBF0F8"
             },
             "line": {
              "color": "white"
             }
            },
            "header": {
             "fill": {
              "color": "#C8D4E3"
             },
             "line": {
              "color": "white"
             }
            },
            "type": "table"
           }
          ]
         },
         "layout": {
          "annotationdefaults": {
           "arrowcolor": "#2a3f5f",
           "arrowhead": 0,
           "arrowwidth": 1
          },
          "autotypenumbers": "strict",
          "coloraxis": {
           "colorbar": {
            "outlinewidth": 0,
            "ticks": ""
           }
          },
          "colorscale": {
           "diverging": [
            [
             0,
             "#8e0152"
            ],
            [
             0.1,
             "#c51b7d"
            ],
            [
             0.2,
             "#de77ae"
            ],
            [
             0.3,
             "#f1b6da"
            ],
            [
             0.4,
             "#fde0ef"
            ],
            [
             0.5,
             "#f7f7f7"
            ],
            [
             0.6,
             "#e6f5d0"
            ],
            [
             0.7,
             "#b8e186"
            ],
            [
             0.8,
             "#7fbc41"
            ],
            [
             0.9,
             "#4d9221"
            ],
            [
             1,
             "#276419"
            ]
           ],
           "sequential": [
            [
             0,
             "#0d0887"
            ],
            [
             0.1111111111111111,
             "#46039f"
            ],
            [
             0.2222222222222222,
             "#7201a8"
            ],
            [
             0.3333333333333333,
             "#9c179e"
            ],
            [
             0.4444444444444444,
             "#bd3786"
            ],
            [
             0.5555555555555556,
             "#d8576b"
            ],
            [
             0.6666666666666666,
             "#ed7953"
            ],
            [
             0.7777777777777778,
             "#fb9f3a"
            ],
            [
             0.8888888888888888,
             "#fdca26"
            ],
            [
             1,
             "#f0f921"
            ]
           ],
           "sequentialminus": [
            [
             0,
             "#0d0887"
            ],
            [
             0.1111111111111111,
             "#46039f"
            ],
            [
             0.2222222222222222,
             "#7201a8"
            ],
            [
             0.3333333333333333,
             "#9c179e"
            ],
            [
             0.4444444444444444,
             "#bd3786"
            ],
            [
             0.5555555555555556,
             "#d8576b"
            ],
            [
             0.6666666666666666,
             "#ed7953"
            ],
            [
             0.7777777777777778,
             "#fb9f3a"
            ],
            [
             0.8888888888888888,
             "#fdca26"
            ],
            [
             1,
             "#f0f921"
            ]
           ]
          },
          "colorway": [
           "#636efa",
           "#EF553B",
           "#00cc96",
           "#ab63fa",
           "#FFA15A",
           "#19d3f3",
           "#FF6692",
           "#B6E880",
           "#FF97FF",
           "#FECB52"
          ],
          "font": {
           "color": "#2a3f5f"
          },
          "geo": {
           "bgcolor": "white",
           "lakecolor": "white",
           "landcolor": "#E5ECF6",
           "showlakes": true,
           "showland": true,
           "subunitcolor": "white"
          },
          "hoverlabel": {
           "align": "left"
          },
          "hovermode": "closest",
          "mapbox": {
           "style": "light"
          },
          "paper_bgcolor": "white",
          "plot_bgcolor": "#E5ECF6",
          "polar": {
           "angularaxis": {
            "gridcolor": "white",
            "linecolor": "white",
            "ticks": ""
           },
           "bgcolor": "#E5ECF6",
           "radialaxis": {
            "gridcolor": "white",
            "linecolor": "white",
            "ticks": ""
           }
          },
          "scene": {
           "xaxis": {
            "backgroundcolor": "#E5ECF6",
            "gridcolor": "white",
            "gridwidth": 2,
            "linecolor": "white",
            "showbackground": true,
            "ticks": "",
            "zerolinecolor": "white"
           },
           "yaxis": {
            "backgroundcolor": "#E5ECF6",
            "gridcolor": "white",
            "gridwidth": 2,
            "linecolor": "white",
            "showbackground": true,
            "ticks": "",
            "zerolinecolor": "white"
           },
           "zaxis": {
            "backgroundcolor": "#E5ECF6",
            "gridcolor": "white",
            "gridwidth": 2,
            "linecolor": "white",
            "showbackground": true,
            "ticks": "",
            "zerolinecolor": "white"
           }
          },
          "shapedefaults": {
           "line": {
            "color": "#2a3f5f"
           }
          },
          "ternary": {
           "aaxis": {
            "gridcolor": "white",
            "linecolor": "white",
            "ticks": ""
           },
           "baxis": {
            "gridcolor": "white",
            "linecolor": "white",
            "ticks": ""
           },
           "bgcolor": "#E5ECF6",
           "caxis": {
            "gridcolor": "white",
            "linecolor": "white",
            "ticks": ""
           }
          },
          "title": {
           "x": 0.05
          },
          "xaxis": {
           "automargin": true,
           "gridcolor": "white",
           "linecolor": "white",
           "ticks": "",
           "title": {
            "standoff": 15
           },
           "zerolinecolor": "white",
           "zerolinewidth": 2
          },
          "yaxis": {
           "automargin": true,
           "gridcolor": "white",
           "linecolor": "white",
           "ticks": "",
           "title": {
            "standoff": 15
           },
           "zerolinecolor": "white",
           "zerolinewidth": 2
          }
         }
        },
        "title": {
         "text": "Hierarchiczna wizualizacja przestępstw"
        },
        "width": 2000
       }
      }
     },
     "metadata": {},
     "output_type": "display_data"
    }
   ],
   "source": [
    "import plotly.express as px\n",
    "\n",
    "# Tworzenie interaktywnej wizualizacji typu treemap z opcją squarify\n",
    "fig = px.treemap(combined_df, path=['Vict Age bucket', 'Vict descent', 'Vict sex'], values='count', \n",
    "                 title='Hierarchiczna wizualizacja przestępstw', \n",
    "                 color='count', color_continuous_scale='viridis',\n",
    "                 hover_data=['count'], \n",
    "                 width=2000, height=1600)\n",
    "fig.show()"
   ]
  },
  {
   "cell_type": "code",
   "execution_count": 15,
   "metadata": {},
   "outputs": [
    {
     "data": {
      "application/vnd.plotly.v1+json": {
       "config": {
        "plotlyServerURL": "https://plot.ly"
       },
       "data": [
        {
         "alignmentgroup": "True",
         "hovertemplate": "Vict descent=Unknown<br>Vict Age bucket=%{x}<br>count=%{y}<extra></extra>",
         "legendgroup": "Unknown",
         "marker": {
          "color": "#636efa",
          "pattern": {
           "shape": ""
          }
         },
         "name": "Unknown",
         "offsetgroup": "Unknown",
         "orientation": "v",
         "showlegend": true,
         "textposition": "auto",
         "type": "bar",
         "x": [
          "0-18",
          "18-35",
          "60-120",
          "60-120",
          "35-60",
          "35-60",
          "18-35",
          "18-35",
          "0-18",
          "35-60",
          "60-120",
          "0-18"
         ],
         "xaxis": "x",
         "y": [
          40,
          553,
          18,
          10,
          51,
          34,
          99,
          40,
          5764,
          358,
          12,
          169
         ],
         "yaxis": "y"
        },
        {
         "alignmentgroup": "True",
         "hovertemplate": "Vict descent=Black<br>Vict Age bucket=%{x}<br>count=%{y}<extra></extra>",
         "legendgroup": "Black",
         "marker": {
          "color": "#EF553B",
          "pattern": {
           "shape": ""
          }
         },
         "name": "Black",
         "offsetgroup": "Black",
         "orientation": "v",
         "showlegend": true,
         "textposition": "auto",
         "type": "bar",
         "x": [
          "35-60",
          "0-18",
          "18-35",
          "18-35",
          "18-35",
          "35-60",
          "60-120",
          "35-60",
          "0-18",
          "60-120"
         ],
         "xaxis": "x",
         "y": [
          3,
          248,
          2642,
          11,
          1782,
          2062,
          657,
          2409,
          270,
          720
         ],
         "yaxis": "y"
        },
        {
         "alignmentgroup": "True",
         "hovertemplate": "Vict descent=Other<br>Vict Age bucket=%{x}<br>count=%{y}<extra></extra>",
         "legendgroup": "Other",
         "marker": {
          "color": "#00cc96",
          "pattern": {
           "shape": ""
          }
         },
         "name": "Other",
         "offsetgroup": "Other",
         "orientation": "v",
         "showlegend": true,
         "textposition": "auto",
         "type": "bar",
         "x": [
          "35-60",
          "35-60",
          "60-120",
          "18-35",
          "0-18",
          "18-35",
          "18-35",
          "60-120",
          "0-18",
          "35-60"
         ],
         "xaxis": "x",
         "y": [
          1187,
          1615,
          565,
          1319,
          80,
          1063,
          2,
          345,
          974,
          1
         ],
         "yaxis": "y"
        },
        {
         "alignmentgroup": "True",
         "hovertemplate": "Vict descent=Asian<br>Vict Age bucket=%{x}<br>count=%{y}<extra></extra>",
         "legendgroup": "Asian",
         "marker": {
          "color": "#ab63fa",
          "pattern": {
           "shape": ""
          }
         },
         "name": "Asian",
         "offsetgroup": "Asian",
         "orientation": "v",
         "showlegend": true,
         "textposition": "auto",
         "type": "bar",
         "x": [
          "60-120",
          "35-60",
          "18-35",
          "0-18",
          "18-35",
          "35-60",
          "60-120",
          "0-18",
          "18-35"
         ],
         "xaxis": "x",
         "y": [
          147,
          360,
          316,
          34,
          2,
          312,
          150,
          17,
          310
         ],
         "yaxis": "y"
        },
        {
         "alignmentgroup": "True",
         "hovertemplate": "Vict descent=White<br>Vict Age bucket=%{x}<br>count=%{y}<extra></extra>",
         "legendgroup": "White",
         "marker": {
          "color": "#FFA15A",
          "pattern": {
           "shape": ""
          }
         },
         "name": "White",
         "offsetgroup": "White",
         "orientation": "v",
         "showlegend": true,
         "textposition": "auto",
         "type": "bar",
         "x": [
          "35-60",
          "0-18",
          "60-120",
          "18-35",
          "35-60",
          "18-35",
          "18-35",
          "35-60",
          "0-18",
          "60-120"
         ],
         "xaxis": "x",
         "y": [
          6,
          148,
          1484,
          11,
          3922,
          2452,
          2467,
          2667,
          1168,
          1098
         ],
         "yaxis": "y"
        },
        {
         "alignmentgroup": "True",
         "hovertemplate": "Vict descent=Hispanic or Latino<br>Vict Age bucket=%{x}<br>count=%{y}<extra></extra>",
         "legendgroup": "Hispanic or Latino",
         "marker": {
          "color": "#19d3f3",
          "pattern": {
           "shape": ""
          }
         },
         "name": "Hispanic or Latino",
         "offsetgroup": "Hispanic or Latino",
         "orientation": "v",
         "showlegend": true,
         "textposition": "auto",
         "type": "bar",
         "x": [
          "35-60",
          "18-35",
          "35-60",
          "18-35",
          "60-120",
          "60-120",
          "0-18",
          "0-18",
          "35-60",
          "18-35"
         ],
         "xaxis": "x",
         "y": [
          5079,
          4790,
          4650,
          5199,
          904,
          845,
          870,
          819,
          5,
          7
         ],
         "yaxis": "y"
        }
       ],
       "layout": {
        "barmode": "group",
        "legend": {
         "title": {
          "text": "Vict descent"
         },
         "tracegroupgap": 0
        },
        "template": {
         "data": {
          "bar": [
           {
            "error_x": {
             "color": "#2a3f5f"
            },
            "error_y": {
             "color": "#2a3f5f"
            },
            "marker": {
             "line": {
              "color": "#E5ECF6",
              "width": 0.5
             },
             "pattern": {
              "fillmode": "overlay",
              "size": 10,
              "solidity": 0.2
             }
            },
            "type": "bar"
           }
          ],
          "barpolar": [
           {
            "marker": {
             "line": {
              "color": "#E5ECF6",
              "width": 0.5
             },
             "pattern": {
              "fillmode": "overlay",
              "size": 10,
              "solidity": 0.2
             }
            },
            "type": "barpolar"
           }
          ],
          "carpet": [
           {
            "aaxis": {
             "endlinecolor": "#2a3f5f",
             "gridcolor": "white",
             "linecolor": "white",
             "minorgridcolor": "white",
             "startlinecolor": "#2a3f5f"
            },
            "baxis": {
             "endlinecolor": "#2a3f5f",
             "gridcolor": "white",
             "linecolor": "white",
             "minorgridcolor": "white",
             "startlinecolor": "#2a3f5f"
            },
            "type": "carpet"
           }
          ],
          "choropleth": [
           {
            "colorbar": {
             "outlinewidth": 0,
             "ticks": ""
            },
            "type": "choropleth"
           }
          ],
          "contour": [
           {
            "colorbar": {
             "outlinewidth": 0,
             "ticks": ""
            },
            "colorscale": [
             [
              0,
              "#0d0887"
             ],
             [
              0.1111111111111111,
              "#46039f"
             ],
             [
              0.2222222222222222,
              "#7201a8"
             ],
             [
              0.3333333333333333,
              "#9c179e"
             ],
             [
              0.4444444444444444,
              "#bd3786"
             ],
             [
              0.5555555555555556,
              "#d8576b"
             ],
             [
              0.6666666666666666,
              "#ed7953"
             ],
             [
              0.7777777777777778,
              "#fb9f3a"
             ],
             [
              0.8888888888888888,
              "#fdca26"
             ],
             [
              1,
              "#f0f921"
             ]
            ],
            "type": "contour"
           }
          ],
          "contourcarpet": [
           {
            "colorbar": {
             "outlinewidth": 0,
             "ticks": ""
            },
            "type": "contourcarpet"
           }
          ],
          "heatmap": [
           {
            "colorbar": {
             "outlinewidth": 0,
             "ticks": ""
            },
            "colorscale": [
             [
              0,
              "#0d0887"
             ],
             [
              0.1111111111111111,
              "#46039f"
             ],
             [
              0.2222222222222222,
              "#7201a8"
             ],
             [
              0.3333333333333333,
              "#9c179e"
             ],
             [
              0.4444444444444444,
              "#bd3786"
             ],
             [
              0.5555555555555556,
              "#d8576b"
             ],
             [
              0.6666666666666666,
              "#ed7953"
             ],
             [
              0.7777777777777778,
              "#fb9f3a"
             ],
             [
              0.8888888888888888,
              "#fdca26"
             ],
             [
              1,
              "#f0f921"
             ]
            ],
            "type": "heatmap"
           }
          ],
          "heatmapgl": [
           {
            "colorbar": {
             "outlinewidth": 0,
             "ticks": ""
            },
            "colorscale": [
             [
              0,
              "#0d0887"
             ],
             [
              0.1111111111111111,
              "#46039f"
             ],
             [
              0.2222222222222222,
              "#7201a8"
             ],
             [
              0.3333333333333333,
              "#9c179e"
             ],
             [
              0.4444444444444444,
              "#bd3786"
             ],
             [
              0.5555555555555556,
              "#d8576b"
             ],
             [
              0.6666666666666666,
              "#ed7953"
             ],
             [
              0.7777777777777778,
              "#fb9f3a"
             ],
             [
              0.8888888888888888,
              "#fdca26"
             ],
             [
              1,
              "#f0f921"
             ]
            ],
            "type": "heatmapgl"
           }
          ],
          "histogram": [
           {
            "marker": {
             "pattern": {
              "fillmode": "overlay",
              "size": 10,
              "solidity": 0.2
             }
            },
            "type": "histogram"
           }
          ],
          "histogram2d": [
           {
            "colorbar": {
             "outlinewidth": 0,
             "ticks": ""
            },
            "colorscale": [
             [
              0,
              "#0d0887"
             ],
             [
              0.1111111111111111,
              "#46039f"
             ],
             [
              0.2222222222222222,
              "#7201a8"
             ],
             [
              0.3333333333333333,
              "#9c179e"
             ],
             [
              0.4444444444444444,
              "#bd3786"
             ],
             [
              0.5555555555555556,
              "#d8576b"
             ],
             [
              0.6666666666666666,
              "#ed7953"
             ],
             [
              0.7777777777777778,
              "#fb9f3a"
             ],
             [
              0.8888888888888888,
              "#fdca26"
             ],
             [
              1,
              "#f0f921"
             ]
            ],
            "type": "histogram2d"
           }
          ],
          "histogram2dcontour": [
           {
            "colorbar": {
             "outlinewidth": 0,
             "ticks": ""
            },
            "colorscale": [
             [
              0,
              "#0d0887"
             ],
             [
              0.1111111111111111,
              "#46039f"
             ],
             [
              0.2222222222222222,
              "#7201a8"
             ],
             [
              0.3333333333333333,
              "#9c179e"
             ],
             [
              0.4444444444444444,
              "#bd3786"
             ],
             [
              0.5555555555555556,
              "#d8576b"
             ],
             [
              0.6666666666666666,
              "#ed7953"
             ],
             [
              0.7777777777777778,
              "#fb9f3a"
             ],
             [
              0.8888888888888888,
              "#fdca26"
             ],
             [
              1,
              "#f0f921"
             ]
            ],
            "type": "histogram2dcontour"
           }
          ],
          "mesh3d": [
           {
            "colorbar": {
             "outlinewidth": 0,
             "ticks": ""
            },
            "type": "mesh3d"
           }
          ],
          "parcoords": [
           {
            "line": {
             "colorbar": {
              "outlinewidth": 0,
              "ticks": ""
             }
            },
            "type": "parcoords"
           }
          ],
          "pie": [
           {
            "automargin": true,
            "type": "pie"
           }
          ],
          "scatter": [
           {
            "fillpattern": {
             "fillmode": "overlay",
             "size": 10,
             "solidity": 0.2
            },
            "type": "scatter"
           }
          ],
          "scatter3d": [
           {
            "line": {
             "colorbar": {
              "outlinewidth": 0,
              "ticks": ""
             }
            },
            "marker": {
             "colorbar": {
              "outlinewidth": 0,
              "ticks": ""
             }
            },
            "type": "scatter3d"
           }
          ],
          "scattercarpet": [
           {
            "marker": {
             "colorbar": {
              "outlinewidth": 0,
              "ticks": ""
             }
            },
            "type": "scattercarpet"
           }
          ],
          "scattergeo": [
           {
            "marker": {
             "colorbar": {
              "outlinewidth": 0,
              "ticks": ""
             }
            },
            "type": "scattergeo"
           }
          ],
          "scattergl": [
           {
            "marker": {
             "colorbar": {
              "outlinewidth": 0,
              "ticks": ""
             }
            },
            "type": "scattergl"
           }
          ],
          "scattermapbox": [
           {
            "marker": {
             "colorbar": {
              "outlinewidth": 0,
              "ticks": ""
             }
            },
            "type": "scattermapbox"
           }
          ],
          "scatterpolar": [
           {
            "marker": {
             "colorbar": {
              "outlinewidth": 0,
              "ticks": ""
             }
            },
            "type": "scatterpolar"
           }
          ],
          "scatterpolargl": [
           {
            "marker": {
             "colorbar": {
              "outlinewidth": 0,
              "ticks": ""
             }
            },
            "type": "scatterpolargl"
           }
          ],
          "scatterternary": [
           {
            "marker": {
             "colorbar": {
              "outlinewidth": 0,
              "ticks": ""
             }
            },
            "type": "scatterternary"
           }
          ],
          "surface": [
           {
            "colorbar": {
             "outlinewidth": 0,
             "ticks": ""
            },
            "colorscale": [
             [
              0,
              "#0d0887"
             ],
             [
              0.1111111111111111,
              "#46039f"
             ],
             [
              0.2222222222222222,
              "#7201a8"
             ],
             [
              0.3333333333333333,
              "#9c179e"
             ],
             [
              0.4444444444444444,
              "#bd3786"
             ],
             [
              0.5555555555555556,
              "#d8576b"
             ],
             [
              0.6666666666666666,
              "#ed7953"
             ],
             [
              0.7777777777777778,
              "#fb9f3a"
             ],
             [
              0.8888888888888888,
              "#fdca26"
             ],
             [
              1,
              "#f0f921"
             ]
            ],
            "type": "surface"
           }
          ],
          "table": [
           {
            "cells": {
             "fill": {
              "color": "#EBF0F8"
             },
             "line": {
              "color": "white"
             }
            },
            "header": {
             "fill": {
              "color": "#C8D4E3"
             },
             "line": {
              "color": "white"
             }
            },
            "type": "table"
           }
          ]
         },
         "layout": {
          "annotationdefaults": {
           "arrowcolor": "#2a3f5f",
           "arrowhead": 0,
           "arrowwidth": 1
          },
          "autotypenumbers": "strict",
          "coloraxis": {
           "colorbar": {
            "outlinewidth": 0,
            "ticks": ""
           }
          },
          "colorscale": {
           "diverging": [
            [
             0,
             "#8e0152"
            ],
            [
             0.1,
             "#c51b7d"
            ],
            [
             0.2,
             "#de77ae"
            ],
            [
             0.3,
             "#f1b6da"
            ],
            [
             0.4,
             "#fde0ef"
            ],
            [
             0.5,
             "#f7f7f7"
            ],
            [
             0.6,
             "#e6f5d0"
            ],
            [
             0.7,
             "#b8e186"
            ],
            [
             0.8,
             "#7fbc41"
            ],
            [
             0.9,
             "#4d9221"
            ],
            [
             1,
             "#276419"
            ]
           ],
           "sequential": [
            [
             0,
             "#0d0887"
            ],
            [
             0.1111111111111111,
             "#46039f"
            ],
            [
             0.2222222222222222,
             "#7201a8"
            ],
            [
             0.3333333333333333,
             "#9c179e"
            ],
            [
             0.4444444444444444,
             "#bd3786"
            ],
            [
             0.5555555555555556,
             "#d8576b"
            ],
            [
             0.6666666666666666,
             "#ed7953"
            ],
            [
             0.7777777777777778,
             "#fb9f3a"
            ],
            [
             0.8888888888888888,
             "#fdca26"
            ],
            [
             1,
             "#f0f921"
            ]
           ],
           "sequentialminus": [
            [
             0,
             "#0d0887"
            ],
            [
             0.1111111111111111,
             "#46039f"
            ],
            [
             0.2222222222222222,
             "#7201a8"
            ],
            [
             0.3333333333333333,
             "#9c179e"
            ],
            [
             0.4444444444444444,
             "#bd3786"
            ],
            [
             0.5555555555555556,
             "#d8576b"
            ],
            [
             0.6666666666666666,
             "#ed7953"
            ],
            [
             0.7777777777777778,
             "#fb9f3a"
            ],
            [
             0.8888888888888888,
             "#fdca26"
            ],
            [
             1,
             "#f0f921"
            ]
           ]
          },
          "colorway": [
           "#636efa",
           "#EF553B",
           "#00cc96",
           "#ab63fa",
           "#FFA15A",
           "#19d3f3",
           "#FF6692",
           "#B6E880",
           "#FF97FF",
           "#FECB52"
          ],
          "font": {
           "color": "#2a3f5f"
          },
          "geo": {
           "bgcolor": "white",
           "lakecolor": "white",
           "landcolor": "#E5ECF6",
           "showlakes": true,
           "showland": true,
           "subunitcolor": "white"
          },
          "hoverlabel": {
           "align": "left"
          },
          "hovermode": "closest",
          "mapbox": {
           "style": "light"
          },
          "paper_bgcolor": "white",
          "plot_bgcolor": "#E5ECF6",
          "polar": {
           "angularaxis": {
            "gridcolor": "white",
            "linecolor": "white",
            "ticks": ""
           },
           "bgcolor": "#E5ECF6",
           "radialaxis": {
            "gridcolor": "white",
            "linecolor": "white",
            "ticks": ""
           }
          },
          "scene": {
           "xaxis": {
            "backgroundcolor": "#E5ECF6",
            "gridcolor": "white",
            "gridwidth": 2,
            "linecolor": "white",
            "showbackground": true,
            "ticks": "",
            "zerolinecolor": "white"
           },
           "yaxis": {
            "backgroundcolor": "#E5ECF6",
            "gridcolor": "white",
            "gridwidth": 2,
            "linecolor": "white",
            "showbackground": true,
            "ticks": "",
            "zerolinecolor": "white"
           },
           "zaxis": {
            "backgroundcolor": "#E5ECF6",
            "gridcolor": "white",
            "gridwidth": 2,
            "linecolor": "white",
            "showbackground": true,
            "ticks": "",
            "zerolinecolor": "white"
           }
          },
          "shapedefaults": {
           "line": {
            "color": "#2a3f5f"
           }
          },
          "ternary": {
           "aaxis": {
            "gridcolor": "white",
            "linecolor": "white",
            "ticks": ""
           },
           "baxis": {
            "gridcolor": "white",
            "linecolor": "white",
            "ticks": ""
           },
           "bgcolor": "#E5ECF6",
           "caxis": {
            "gridcolor": "white",
            "linecolor": "white",
            "ticks": ""
           }
          },
          "title": {
           "x": 0.05
          },
          "xaxis": {
           "automargin": true,
           "gridcolor": "white",
           "linecolor": "white",
           "ticks": "",
           "title": {
            "standoff": 15
           },
           "zerolinecolor": "white",
           "zerolinewidth": 2
          },
          "yaxis": {
           "automargin": true,
           "gridcolor": "white",
           "linecolor": "white",
           "ticks": "",
           "title": {
            "standoff": 15
           },
           "zerolinecolor": "white",
           "zerolinewidth": 2
          }
         }
        },
        "title": {
         "text": "Liczba przestępstw w różnych grupach wiekowych i pochodzeniach"
        },
        "xaxis": {
         "anchor": "y",
         "domain": [
          0,
          1
         ],
         "title": {
          "text": "Vict Age bucket"
         }
        },
        "yaxis": {
         "anchor": "x",
         "domain": [
          0,
          1
         ],
         "title": {
          "text": "count"
         }
        }
       }
      }
     },
     "metadata": {},
     "output_type": "display_data"
    }
   ],
   "source": [
    "import plotly.express as px\n",
    "\n",
    "fig = px.bar(combined_df, x='Vict Age bucket', y='count', color='Vict descent', \n",
    "             barmode='group', title=\"Liczba przestępstw w różnych grupach wiekowych i pochodzeniach\")\n",
    "fig.show()\n"
   ]
  },
  {
   "cell_type": "code",
   "execution_count": 34,
   "metadata": {},
   "outputs": [
    {
     "ename": "AttributeError",
     "evalue": "'DataFrame' object has no attribute 'pivot_table'",
     "output_type": "error",
     "traceback": [
      "\u001b[1;31m---------------------------------------------------------------------------\u001b[0m",
      "\u001b[1;31mAttributeError\u001b[0m                            Traceback (most recent call last)",
      "Cell \u001b[1;32mIn[34], line 5\u001b[0m\n\u001b[0;32m      2\u001b[0m \u001b[38;5;28;01mimport\u001b[39;00m \u001b[38;5;21;01mmatplotlib\u001b[39;00m\u001b[38;5;21;01m.\u001b[39;00m\u001b[38;5;21;01mpyplot\u001b[39;00m \u001b[38;5;28;01mas\u001b[39;00m \u001b[38;5;21;01mplt\u001b[39;00m\n\u001b[0;32m      4\u001b[0m \u001b[38;5;66;03m# Tworzenie pivot table\u001b[39;00m\n\u001b[1;32m----> 5\u001b[0m pivot_df \u001b[38;5;241m=\u001b[39m \u001b[43mcombined_df\u001b[49m\u001b[38;5;241;43m.\u001b[39;49m\u001b[43mpivot_table\u001b[49m(index\u001b[38;5;241m=\u001b[39m\u001b[38;5;124m'\u001b[39m\u001b[38;5;124mVict Age bucket\u001b[39m\u001b[38;5;124m'\u001b[39m, columns\u001b[38;5;241m=\u001b[39m[\u001b[38;5;124m'\u001b[39m\u001b[38;5;124mVict descent\u001b[39m\u001b[38;5;124m'\u001b[39m, \u001b[38;5;124m'\u001b[39m\u001b[38;5;124mVict sex\u001b[39m\u001b[38;5;124m'\u001b[39m], values\u001b[38;5;241m=\u001b[39m\u001b[38;5;124m'\u001b[39m\u001b[38;5;124mcount\u001b[39m\u001b[38;5;124m'\u001b[39m, fill_value\u001b[38;5;241m=\u001b[39m\u001b[38;5;241m0\u001b[39m)\n\u001b[0;32m      7\u001b[0m \u001b[38;5;66;03m# Rysowanie heatmapy\u001b[39;00m\n\u001b[0;32m      8\u001b[0m plt\u001b[38;5;241m.\u001b[39mfigure(figsize\u001b[38;5;241m=\u001b[39m(\u001b[38;5;241m12\u001b[39m, \u001b[38;5;241m8\u001b[39m))\n",
      "File \u001b[1;32mc:\\Projekty\\Flat\\venv\\Lib\\site-packages\\pyspark\\sql\\dataframe.py:3127\u001b[0m, in \u001b[0;36mDataFrame.__getattr__\u001b[1;34m(self, name)\u001b[0m\n\u001b[0;32m   3094\u001b[0m \u001b[38;5;250m\u001b[39m\u001b[38;5;124;03m\"\"\"Returns the :class:`Column` denoted by ``name``.\u001b[39;00m\n\u001b[0;32m   3095\u001b[0m \n\u001b[0;32m   3096\u001b[0m \u001b[38;5;124;03m.. versionadded:: 1.3.0\u001b[39;00m\n\u001b[1;32m   (...)\u001b[0m\n\u001b[0;32m   3124\u001b[0m \u001b[38;5;124;03m+---+\u001b[39;00m\n\u001b[0;32m   3125\u001b[0m \u001b[38;5;124;03m\"\"\"\u001b[39;00m\n\u001b[0;32m   3126\u001b[0m \u001b[38;5;28;01mif\u001b[39;00m name \u001b[38;5;129;01mnot\u001b[39;00m \u001b[38;5;129;01min\u001b[39;00m \u001b[38;5;28mself\u001b[39m\u001b[38;5;241m.\u001b[39mcolumns:\n\u001b[1;32m-> 3127\u001b[0m     \u001b[38;5;28;01mraise\u001b[39;00m \u001b[38;5;167;01mAttributeError\u001b[39;00m(\n\u001b[0;32m   3128\u001b[0m         \u001b[38;5;124m\"\u001b[39m\u001b[38;5;124m'\u001b[39m\u001b[38;5;132;01m%s\u001b[39;00m\u001b[38;5;124m'\u001b[39m\u001b[38;5;124m object has no attribute \u001b[39m\u001b[38;5;124m'\u001b[39m\u001b[38;5;132;01m%s\u001b[39;00m\u001b[38;5;124m'\u001b[39m\u001b[38;5;124m\"\u001b[39m \u001b[38;5;241m%\u001b[39m (\u001b[38;5;28mself\u001b[39m\u001b[38;5;241m.\u001b[39m\u001b[38;5;18m__class__\u001b[39m\u001b[38;5;241m.\u001b[39m\u001b[38;5;18m__name__\u001b[39m, name)\n\u001b[0;32m   3129\u001b[0m     )\n\u001b[0;32m   3130\u001b[0m jc \u001b[38;5;241m=\u001b[39m \u001b[38;5;28mself\u001b[39m\u001b[38;5;241m.\u001b[39m_jdf\u001b[38;5;241m.\u001b[39mapply(name)\n\u001b[0;32m   3131\u001b[0m \u001b[38;5;28;01mreturn\u001b[39;00m Column(jc)\n",
      "\u001b[1;31mAttributeError\u001b[0m: 'DataFrame' object has no attribute 'pivot_table'"
     ]
    }
   ],
   "source": [
    "import seaborn as sns\n",
    "import matplotlib.pyplot as plt\n",
    "\n",
    "# Tworzenie pivot table\n",
    "pivot_df = combined_df.pivot_table(index='Vict Age bucket', columns=['Vict descent', 'Vict sex'], values='count', fill_value=0)\n",
    "\n",
    "# Rysowanie heatmapy\n",
    "plt.figure(figsize=(12, 8))\n",
    "sns.heatmap(pivot_df, cmap='YlGnBu', annot=True, fmt='d', linewidths=.5)\n",
    "plt.title('Liczba zdarzeń w zależności od wieku, pochodzenia i płci')\n",
    "plt.xlabel('Pochodzenie i płeć')\n",
    "plt.ylabel('Wiek')\n",
    "plt.show()"
   ]
  },
  {
   "cell_type": "code",
   "execution_count": null,
   "metadata": {},
   "outputs": [],
   "source": [
    "# Visualizing 5-D mix data using bubble charts\n",
    "# leveraging the concepts of hue, size and depth\n",
    "fig = plt.figure(figsize=(8, 6))\n",
    "ax = fig.add_subplot(111, projection='3d')\n",
    "t = fig.suptitle('Wine Residual Sugar - Alcohol Content - Acidity - Total Sulfur Dioxide - Type', fontsize=14)\n",
    "\n",
    "xs = list(wines['residual sugar'])\n",
    "ys = list(wines['alcohol'])\n",
    "zs = list(wines['fixed acidity'])\n",
    "data_points = [(x, y, z) for x, y, z in zip(xs, ys, zs)]\n",
    "\n",
    "ss = list(wines['total sulfur dioxide'])\n",
    "colors = ['red' if wt == 'red' else 'yellow' for wt in list(wines['wine_type'])]\n",
    "\n",
    "for data, color, size in zip(data_points, colors, ss):\n",
    "    x, y, z = data\n",
    "    ax.scatter(x, y, z, alpha=0.4, c=color, edgecolors='none', s=size)\n",
    "\n",
    "ax.set_xlabel('Residual Sugar')\n",
    "ax.set_ylabel('Alcohol')\n",
    "ax.set_zlabel('Fixed Acidity')"
   ]
  },
  {
   "cell_type": "code",
   "execution_count": 35,
   "metadata": {},
   "outputs": [],
   "source": [
    "#kostka\n",
    "\n",
    "# Import libraries\n",
    "import matplotlib.pyplot as plt\n",
    "from mpl_toolkits.mplot3d import Axes3D\n",
    "import numpy as np\n",
    " \n",
    " \n",
    "# Create axis\n",
    "axes = [5, 5, 5]\n",
    " \n",
    "# Create Data\n",
    "data = np.ones(axes, dtype=np.bool)\n",
    " \n",
    "# Control Transparency\n",
    "alpha = 0.9\n",
    " \n",
    "# Control colour\n",
    "colors = np.empty(axes + [4], dtype=np.float32)\n",
    " \n",
    "colors[0] = [1, 0, 0, alpha]  # red\n",
    "colors[1] = [0, 1, 0, alpha]  # green\n",
    "colors[2] = [0, 0, 1, alpha]  # blue\n",
    "colors[3] = [1, 1, 0, alpha]  # yellow\n",
    "colors[4] = [1, 1, 1, alpha]  # grey\n",
    " \n",
    "# Plot figure\n",
    "fig = plt.figure()\n",
    "ax = fig.add_subplot(111, projection='3d')\n",
    " \n",
    "# Voxels is used to customizations of\n",
    "# the sizes, positions and colors.\n",
    "ax.voxels(data, facecolors=colors, edgecolors='grey')"
   ]
  }
 ],
 "metadata": {
  "kernelspec": {
   "display_name": "env",
   "language": "python",
   "name": "python3"
  },
  "language_info": {
   "codemirror_mode": {
    "name": "ipython",
    "version": 3
   },
   "file_extension": ".py",
   "mimetype": "text/x-python",
   "name": "python",
   "nbconvert_exporter": "python",
   "pygments_lexer": "ipython3",
   "version": "3.11.9"
  }
 },
 "nbformat": 4,
 "nbformat_minor": 2
}
